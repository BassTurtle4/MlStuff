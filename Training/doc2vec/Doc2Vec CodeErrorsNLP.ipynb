{
 "cells": [
  {
   "cell_type": "markdown",
   "metadata": {
    "id": "5J9DQdbFkxLS"
   },
   "source": []
  },
  {
   "cell_type": "code",
   "execution_count": 1,
   "metadata": {
    "executionInfo": {
     "elapsed": 2358,
     "status": "ok",
     "timestamp": 1696095325242,
     "user": {
      "displayName": "Eduardo Ceh",
      "userId": "10908898085356262650"
     },
     "user_tz": 360
    },
    "id": "3sNbd4DKkuTX"
   },
   "outputs": [],
   "source": [
    "import re\n",
    "import math\n",
    "import pandas as pd\n",
    "import numpy as np\n",
    "from sklearn.feature_extraction.text import CountVectorizer\n",
    "\n",
    "from wordcloud import WordCloud, STOPWORDS, ImageColorGenerator\n",
    "import matplotlib.pyplot as plt\n",
    "%matplotlib inline\n",
    "\n",
    "from gensim.models import Word2Vec\n",
    "from matplotlib.ticker import MaxNLocator\n"
   ]
  },
  {
   "cell_type": "code",
   "execution_count": 2,
   "metadata": {
    "executionInfo": {
     "elapsed": 8,
     "status": "ok",
     "timestamp": 1696095325242,
     "user": {
      "displayName": "Eduardo Ceh",
      "userId": "10908898085356262650"
     },
     "user_tz": 360
    },
    "id": "pyzIidrH538E"
   },
   "outputs": [],
   "source": [
    "#### wordcloud\n",
    "MAX_WORDS = 20\n",
    "COLLOCATION = 1 #5\n",
    "COLLOCATIONS = False"
   ]
  },
  {
   "cell_type": "code",
   "execution_count": null,
   "metadata": {
    "colab": {
     "base_uri": "https://localhost:8080/"
    },
    "executionInfo": {
     "elapsed": 22599,
     "status": "ok",
     "timestamp": 1696095347836,
     "user": {
      "displayName": "Eduardo Ceh",
      "userId": "10908898085356262650"
     },
     "user_tz": 360
    },
    "id": "RdLxhJsNlraH",
    "outputId": "cd00af3e-ec23-46ba-8322-e7cadb1afef0"
   },
   "outputs": [],
   "source": []
  },
  {
   "cell_type": "code",
   "execution_count": 4,
   "metadata": {
    "executionInfo": {
     "elapsed": 11,
     "status": "ok",
     "timestamp": 1696095347836,
     "user": {
      "displayName": "Eduardo Ceh",
      "userId": "10908898085356262650"
     },
     "user_tz": 360
    },
    "id": "7xvuUZQwk2Uw"
   },
   "outputs": [],
   "source": [
    "DATA = \"../Errors_data.csv\""
   ]
  },
  {
   "cell_type": "markdown",
   "metadata": {
    "id": "e8tcYM201nd1"
   },
   "source": [
    "## Loading the data"
   ]
  },
  {
   "cell_type": "code",
   "execution_count": 5,
   "metadata": {
    "colab": {
     "base_uri": "https://localhost:8080/",
     "height": 352
    },
    "executionInfo": {
     "elapsed": 1927,
     "status": "ok",
     "timestamp": 1696095349757,
     "user": {
      "displayName": "Eduardo Ceh",
      "userId": "10908898085356262650"
     },
     "user_tz": 360
    },
    "id": "K49_7vx7CatN",
    "outputId": "7ab77399-ff7d-4f0a-8af3-a38f81e2694a"
   },
   "outputs": [
    {
     "data": {
      "text/html": [
       "<div>\n",
       "<style scoped>\n",
       "    .dataframe tbody tr th:only-of-type {\n",
       "        vertical-align: middle;\n",
       "    }\n",
       "\n",
       "    .dataframe tbody tr th {\n",
       "        vertical-align: top;\n",
       "    }\n",
       "\n",
       "    .dataframe thead th {\n",
       "        text-align: right;\n",
       "    }\n",
       "</style>\n",
       "<table border=\"1\" class=\"dataframe\">\n",
       "  <thead>\n",
       "    <tr style=\"text-align: right;\">\n",
       "      <th></th>\n",
       "      <th>Error</th>\n",
       "      <th>Category</th>\n",
       "    </tr>\n",
       "  </thead>\n",
       "  <tbody>\n",
       "    <tr>\n",
       "      <th>0</th>\n",
       "      <td>Missing package-info java file</td>\n",
       "      <td>JavadocPackage</td>\n",
       "    </tr>\n",
       "    <tr>\n",
       "      <th>1</th>\n",
       "      <td>Utility classes should not have a public or de...</td>\n",
       "      <td>HideUtilityClassConstructor</td>\n",
       "    </tr>\n",
       "    <tr>\n",
       "      <th>2</th>\n",
       "      <td>Missing a Javadoc comment</td>\n",
       "      <td>MissingJavadocMethod</td>\n",
       "    </tr>\n",
       "    <tr>\n",
       "      <th>3</th>\n",
       "      <td>Parameter args should be final</td>\n",
       "      <td>FinalParameters</td>\n",
       "    </tr>\n",
       "    <tr>\n",
       "      <th>4</th>\n",
       "      <td>File contains tab characters (this is the firs...</td>\n",
       "      <td>FileTabCharacter</td>\n",
       "    </tr>\n",
       "    <tr>\n",
       "      <th>5</th>\n",
       "      <td>Line has trailing spaces</td>\n",
       "      <td>RegexpSingleline</td>\n",
       "    </tr>\n",
       "    <tr>\n",
       "      <th>6</th>\n",
       "      <td>Line has trailing spaces</td>\n",
       "      <td>RegexpSingleline</td>\n",
       "    </tr>\n",
       "    <tr>\n",
       "      <th>7</th>\n",
       "      <td>Line is longer than characters (found )</td>\n",
       "      <td>LineLength</td>\n",
       "    </tr>\n",
       "    <tr>\n",
       "      <th>8</th>\n",
       "      <td>Line has trailing spaces</td>\n",
       "      <td>RegexpSingleline</td>\n",
       "    </tr>\n",
       "    <tr>\n",
       "      <th>9</th>\n",
       "      <td>Line is longer than characters (found )</td>\n",
       "      <td>LineLength</td>\n",
       "    </tr>\n",
       "  </tbody>\n",
       "</table>\n",
       "</div>"
      ],
      "text/plain": [
       "                                               Error  \\\n",
       "0                     Missing package-info java file   \n",
       "1  Utility classes should not have a public or de...   \n",
       "2                          Missing a Javadoc comment   \n",
       "3                     Parameter args should be final   \n",
       "4  File contains tab characters (this is the firs...   \n",
       "5                           Line has trailing spaces   \n",
       "6                           Line has trailing spaces   \n",
       "7            Line is longer than characters (found )   \n",
       "8                           Line has trailing spaces   \n",
       "9            Line is longer than characters (found )   \n",
       "\n",
       "                       Category  \n",
       "0               JavadocPackage   \n",
       "1  HideUtilityClassConstructor   \n",
       "2         MissingJavadocMethod   \n",
       "3              FinalParameters   \n",
       "4             FileTabCharacter   \n",
       "5             RegexpSingleline   \n",
       "6             RegexpSingleline   \n",
       "7                   LineLength   \n",
       "8             RegexpSingleline   \n",
       "9                   LineLength   "
      ]
     },
     "execution_count": 5,
     "metadata": {},
     "output_type": "execute_result"
    }
   ],
   "source": [
    "df = pd.read_csv(DATA,header=None, names=['Error', 'Category','x','y'])\n",
    "df = df.drop(['x','y'], axis=1)\n",
    "df.head(10)\n"
   ]
  },
  {
   "cell_type": "code",
   "execution_count": 6,
   "metadata": {
    "colab": {
     "base_uri": "https://localhost:8080/"
    },
    "executionInfo": {
     "elapsed": 135,
     "status": "ok",
     "timestamp": 1696095349757,
     "user": {
      "displayName": "Eduardo Ceh",
      "userId": "10908898085356262650"
     },
     "user_tz": 360
    },
    "id": "9gsmqjdSDVS8",
    "outputId": "01ac8f8b-1291-41cc-e263-fab22ef61ed0"
   },
   "outputs": [
    {
     "data": {
      "text/plain": [
       "(13993, 2)"
      ]
     },
     "execution_count": 6,
     "metadata": {},
     "output_type": "execute_result"
    }
   ],
   "source": [
    "df.shape"
   ]
  },
  {
   "cell_type": "code",
   "execution_count": 7,
   "metadata": {
    "colab": {
     "base_uri": "https://localhost:8080/"
    },
    "executionInfo": {
     "elapsed": 134,
     "status": "ok",
     "timestamp": 1696095349758,
     "user": {
      "displayName": "Eduardo Ceh",
      "userId": "10908898085356262650"
     },
     "user_tz": 360
    },
    "id": "L_V6UiQeKX6F",
    "outputId": "cd673c25-e847-4cc2-a041-ac2335be0b33"
   },
   "outputs": [
    {
     "name": "stdout",
     "output_type": "stream",
     "text": [
      "Total unique categories: 65\n"
     ]
    }
   ],
   "source": [
    "print(\"Total unique categories:\", df['Category'].nunique())"
   ]
  },
  {
   "cell_type": "code",
   "execution_count": 8,
   "metadata": {
    "colab": {
     "base_uri": "https://localhost:8080/"
    },
    "executionInfo": {
     "elapsed": 120,
     "status": "ok",
     "timestamp": 1696095349758,
     "user": {
      "displayName": "Eduardo Ceh",
      "userId": "10908898085356262650"
     },
     "user_tz": 360
    },
    "id": "gXMGQW2VK2wz",
    "outputId": "81ff87ef-e25b-4e00-da6a-16b84d70d7fa"
   },
   "outputs": [
    {
     "data": {
      "text/plain": [
       "8.06225774829855"
      ]
     },
     "execution_count": 8,
     "metadata": {},
     "output_type": "execute_result"
    }
   ],
   "source": [
    "math.sqrt(df['Category'].nunique())"
   ]
  },
  {
   "cell_type": "code",
   "execution_count": 9,
   "metadata": {
    "colab": {
     "base_uri": "https://localhost:8080/",
     "height": 34
    },
    "executionInfo": {
     "elapsed": 108,
     "status": "ok",
     "timestamp": 1696095349758,
     "user": {
      "displayName": "Eduardo Ceh",
      "userId": "10908898085356262650"
     },
     "user_tz": 360
    },
    "id": "h7TWlNUuQLdl",
    "outputId": "9b5ff33c-aa5b-4860-d380-17c098333345"
   },
   "outputs": [
    {
     "data": {
      "text/plain": [
       "\"'||' is not preceded with whitespace\""
      ]
     },
     "execution_count": 9,
     "metadata": {},
     "output_type": "execute_result"
    }
   ],
   "source": [
    "df.iloc[182]['Error']"
   ]
  },
  {
   "cell_type": "code",
   "execution_count": 10,
   "metadata": {
    "colab": {
     "base_uri": "https://localhost:8080/",
     "height": 592
    },
    "executionInfo": {
     "elapsed": 979,
     "status": "ok",
     "timestamp": 1696095350630,
     "user": {
      "displayName": "Eduardo Ceh",
      "userId": "10908898085356262650"
     },
     "user_tz": 360
    },
    "id": "o7iwyZ9UsdwK",
    "outputId": "70964be6-5d3a-4805-f60b-90427f94245e"
   },
   "outputs": [
    {
     "data": {
      "image/png": "[encoded data removed]",
      "text/plain": [
       "<Figure size 640x480 with 1 Axes>"
      ]
     },
     "metadata": {},
     "output_type": "display_data"
    }
   ],
   "source": [
    "# df['Ctegory'].value_counts().plot.bar()\n",
    "\n",
    "ax = df['Category'].value_counts().head(5).plot.bar()\n",
    "\n",
    "ax.set_title('Top-5 Categories')\n",
    "ax.set_xlabel('Category')\n",
    "ax.set_ylabel('Count')\n",
    "\n",
    "plt.show()"
   ]
  },
  {
   "cell_type": "code",
   "execution_count": 14,
   "metadata": {
    "executionInfo": {
     "elapsed": 1651,
     "status": "ok",
     "timestamp": 1696095352277,
     "user": {
      "displayName": "Eduardo Ceh",
      "userId": "10908898085356262650"
     },
     "user_tz": 360
    },
    "id": "Jw6f9Q11xxHI"
   },
   "outputs": [],
   "source": [
    "# Remove whitespace around plot\n",
    "fig = ax.get_figure()\n",
    "fig.tight_layout()\n",
    "\n",
    "# Save just the plot area to PDF\n",
    "fig.savefig('./top5_category.pdf', bbox_inches='tight')"
   ]
  },
  {
   "cell_type": "code",
   "execution_count": 15,
   "metadata": {
    "colab": {
     "base_uri": "https://localhost:8080/",
     "height": 567
    },
    "executionInfo": {
     "elapsed": 450,
     "status": "ok",
     "timestamp": 1696095352719,
     "user": {
      "displayName": "Eduardo Ceh",
      "userId": "10908898085356262650"
     },
     "user_tz": 360
    },
    "id": "lrNEXN7ltKvj",
    "outputId": "fbf4c46d-90a4-4a7b-bf96-90b5f9b6483a"
   },
   "outputs": [
    {
     "data": {
      "text/plain": [
       "<Axes: xlabel='Category'>"
      ]
     },
     "execution_count": 15,
     "metadata": {},
     "output_type": "execute_result"
    },
    {
     "data": {
      "image/png": "[encoded data removed]",
      "text/plain": [
       "<Figure size 640x480 with 1 Axes>"
      ]
     },
     "metadata": {},
     "output_type": "display_data"
    }
   ],
   "source": [
    "df['Category'].value_counts().head(5).plot.bar()"
   ]
  },
  {
   "cell_type": "code",
   "execution_count": 16,
   "metadata": {
    "colab": {
     "base_uri": "https://localhost:8080/",
     "height": 1000
    },
    "executionInfo": {
     "elapsed": 945,
     "status": "ok",
     "timestamp": 1696095353525,
     "user": {
      "displayName": "Eduardo Ceh",
      "userId": "10908898085356262650"
     },
     "user_tz": 360
    },
    "id": "RuYKBgiXtQVu",
    "outputId": "84251201-65d2-4c30-dd4f-166ed26b5c57"
   },
   "outputs": [
    {
     "data": {
      "text/plain": [
       "<Axes: xlabel='Category'>"
      ]
     },
     "execution_count": 16,
     "metadata": {},
     "output_type": "execute_result"
    },
    {
     "data": {
      "image/png": "[encoded data removed]",
      "text/plain": [
       "<Figure size 640x480 with 1 Axes>"
      ]
     },
     "metadata": {},
     "output_type": "display_data"
    }
   ],
   "source": [
    "df['Category'].value_counts().tail(5).plot.bar()"
   ]
  },
  {
   "cell_type": "code",
   "execution_count": 17,
   "metadata": {
    "colab": {
     "base_uri": "https://localhost:8080/",
     "height": 761
    },
    "executionInfo": {
     "elapsed": 577,
     "status": "ok",
     "timestamp": 1696095353970,
     "user": {
      "displayName": "Eduardo Ceh",
      "userId": "10908898085356262650"
     },
     "user_tz": 360
    },
    "id": "MllUlMYCvRTy",
    "outputId": "cda3344d-da5e-46c8-a6c6-dad0c6177dda"
   },
   "outputs": [
    {
     "data": {
      "image/png": "[encoded data removed]",
      "text/plain": [
       "<Figure size 640x480 with 1 Axes>"
      ]
     },
     "metadata": {},
     "output_type": "display_data"
    }
   ],
   "source": [
    "# df['Ctegory'].value_counts().plot.bar()\n",
    "\n",
    "ax = df['Error'].value_counts().head(5).plot.bar()\n",
    "\n",
    "ax.set_title('Top-5 Errors')\n",
    "ax.set_xlabel('Error')\n",
    "ax.set_ylabel('Count')\n",
    "\n",
    "plt.show()"
   ]
  },
  {
   "cell_type": "code",
   "execution_count": 18,
   "metadata": {
    "executionInfo": {
     "elapsed": 658,
     "status": "ok",
     "timestamp": 1696095354495,
     "user": {
      "displayName": "Eduardo Ceh",
      "userId": "10908898085356262650"
     },
     "user_tz": 360
    },
    "id": "psiFWZf9yfBQ"
   },
   "outputs": [],
   "source": [
    "# Remove whitespace around plot\n",
    "fig = ax.get_figure()\n",
    "# fig.tight_layout()\n",
    "\n",
    "# Save just the plot area to PDF\n",
    "fig.savefig('./top5_error.pdf', bbox_inches='tight')"
   ]
  },
  {
   "cell_type": "markdown",
   "metadata": {
    "id": "wQT8mDW31q_1"
   },
   "source": [
    "## Preprocessing the data"
   ]
  },
  {
   "cell_type": "code",
   "execution_count": 19,
   "metadata": {
    "executionInfo": {
     "elapsed": 19,
     "status": "ok",
     "timestamp": 1696095354496,
     "user": {
      "displayName": "Eduardo Ceh",
      "userId": "10908898085356262650"
     },
     "user_tz": 360
    },
    "id": "f9CV940unTtU"
   },
   "outputs": [],
   "source": [
    "def preprocessing(text):\n",
    "\n",
    "    # text = text.replace(\"/home/imhmede/workspace/hello.java:\", \"\")\n",
    "    # text = text.split()\n",
    "    # text = [txt for i, txt in enumerate(text) if i!= 1]\n",
    "    # print(text)\n",
    "    # text = \" \".join(text)\n",
    "    # text = change_construct(text)\n",
    "    # text = re.sub(r'[^\\w\\s\\<\\>]', '', text)\n",
    "    # text = [txt.strip() for txt in text.split() if not txt.isdigit()]\n",
    "    # text = \" \".join(text)\n",
    "    # text = text.replace('_', '')\n",
    "    # text = text.lower()\n",
    "    # text = text.replace(\"error\", \"<ERROR>\")\n",
    "    # text = text.replace(\"warn\", \"<WARN>\")\n",
    "    # # txt = re.sub(' +', ' ', text)\n",
    "    # text = text.split()\n",
    "    # text = \" \".join(text)\n",
    "    text = change_name_next(text)\n",
    "    # text = change_def_next(text)\n",
    "    text = change_class_next(text)\n",
    "    text = change_method_next(text)\n",
    "    text = change_brackets(text)\n",
    "    text = change_isnot(text)\n",
    "    text = change_construct(text)\n",
    "    text = change_use_brackets(text)\n",
    "    text = change_shouldbe(text)\n",
    "    text = change_parameter_next(text)\n",
    "\n",
    "    text = text.lower()\n",
    "    return text\n"
   ]
  },
  {
   "cell_type": "code",
   "execution_count": 20,
   "metadata": {
    "executionInfo": {
     "elapsed": 13,
     "status": "ok",
     "timestamp": 1696095354497,
     "user": {
      "displayName": "Eduardo Ceh",
      "userId": "10908898085356262650"
     },
     "user_tz": 360
    },
    "id": "3HHqx1oUynRN"
   },
   "outputs": [],
   "source": [
    "def change_name_next(text):\n",
    "    l = text.split()\n",
    "    j = ['<A_NAME>' if i>0 and l[i-1] in [\"Name\"] else l[i] for i in range(len(l))]\n",
    "    return ' '.join(j)\n"
   ]
  },
  {
   "cell_type": "code",
   "execution_count": 21,
   "metadata": {
    "executionInfo": {
     "elapsed": 366,
     "status": "ok",
     "timestamp": 1696095354852,
     "user": {
      "displayName": "Eduardo Ceh",
      "userId": "10908898085356262650"
     },
     "user_tz": 360
    },
    "id": "kaEK6HLY0z9u"
   },
   "outputs": [],
   "source": [
    "def change_def_next(text):\n",
    "    l = text.split()\n",
    "    j = ['<A_FUNC_NAME>' if i>0 and l[i-1] in [\"def\"] else l[i] for i in range(len(l))]\n",
    "    return ' '.join(j)\n"
   ]
  },
  {
   "cell_type": "code",
   "execution_count": 22,
   "metadata": {
    "executionInfo": {
     "elapsed": 22,
     "status": "ok",
     "timestamp": 1696095354852,
     "user": {
      "displayName": "Eduardo Ceh",
      "userId": "10908898085356262650"
     },
     "user_tz": 360
    },
    "id": "3tx-IT54rCqB"
   },
   "outputs": [],
   "source": [
    "def change_class_next(text):\n",
    "    l = text.split()\n",
    "    j = ['<A_CLASS_NAME>' if i>0 and l[i-1] in [\"Class\"] else l[i] for i in range(len(l))]\n",
    "    return ' '.join(j)\n"
   ]
  },
  {
   "cell_type": "code",
   "execution_count": 23,
   "metadata": {
    "executionInfo": {
     "elapsed": 19,
     "status": "ok",
     "timestamp": 1696095354852,
     "user": {
      "displayName": "Eduardo Ceh",
      "userId": "10908898085356262650"
     },
     "user_tz": 360
    },
    "id": "x7fSsqrKdRnl"
   },
   "outputs": [],
   "source": [
    "def change_parameter_next(text):\n",
    "    l = text.split()\n",
    "    j = ['<A_PARAMETER_NAME>' if i>0 and l[i-1] in [\"Parameter\"] else l[i] for i in range(len(l))]\n",
    "    return ' '.join(j)\n"
   ]
  },
  {
   "cell_type": "code",
   "execution_count": 24,
   "metadata": {
    "executionInfo": {
     "elapsed": 18,
     "status": "ok",
     "timestamp": 1696095354853,
     "user": {
      "displayName": "Eduardo Ceh",
      "userId": "10908898085356262650"
     },
     "user_tz": 360
    },
    "id": "hz4nlaSdZ_YL"
   },
   "outputs": [],
   "source": [
    "def change_method_next(text):\n",
    "    l = text.split()\n",
    "    j = ['<A_METHOD_NAME>' if i>0 and l[i-1] in [\"method\"] else l[i] for i in range(len(l))]\n",
    "    return ' '.join(j)\n"
   ]
  },
  {
   "cell_type": "code",
   "execution_count": 25,
   "metadata": {
    "executionInfo": {
     "elapsed": 17,
     "status": "ok",
     "timestamp": 1696095354853,
     "user": {
      "displayName": "Eduardo Ceh",
      "userId": "10908898085356262650"
     },
     "user_tz": 360
    },
    "id": "WeUoSFrArauh"
   },
   "outputs": [],
   "source": [
    "def change_brackets(text):\n",
    "    return re.sub(r\"'[{()}]'\", \"<BRAKET>\", text)"
   ]
  },
  {
   "cell_type": "code",
   "execution_count": 26,
   "metadata": {
    "executionInfo": {
     "elapsed": 16,
     "status": "ok",
     "timestamp": 1696095354853,
     "user": {
      "displayName": "Eduardo Ceh",
      "userId": "10908898085356262650"
     },
     "user_tz": 360
    },
    "id": "stsyipkmzkjf"
   },
   "outputs": [],
   "source": [
    "def change_construct(text):\n",
    "    return re.sub(r\"'[a-zA-Z]+'\", \"<CONSTRUCT>\", text)"
   ]
  },
  {
   "cell_type": "code",
   "execution_count": 27,
   "metadata": {
    "executionInfo": {
     "elapsed": 15,
     "status": "ok",
     "timestamp": 1696095354853,
     "user": {
      "displayName": "Eduardo Ceh",
      "userId": "10908898085356262650"
     },
     "user_tz": 360
    },
    "id": "HSW9ji0EWYxU"
   },
   "outputs": [],
   "source": [
    "def change_isnot(text):\n",
    "  if \" is not\" in text:\n",
    "    new_text = re.sub(r'(^.*) is not', r'<OPERATOR> is not', text)\n",
    "  else:\n",
    "    new_text = text\n",
    "\n",
    "  return new_text"
   ]
  },
  {
   "cell_type": "code",
   "execution_count": 28,
   "metadata": {
    "executionInfo": {
     "elapsed": 15,
     "status": "ok",
     "timestamp": 1696095354854,
     "user": {
      "displayName": "Eduardo Ceh",
      "userId": "10908898085356262650"
     },
     "user_tz": 360
    },
    "id": "HNFaEN39czhz"
   },
   "outputs": [],
   "source": [
    "def change_shouldbe(text):\n",
    "  if \" should be on\" in text:\n",
    "    new_text = re.sub(r'(^.*) should be on', r'<OPERATOR> should be on', text)\n",
    "  else:\n",
    "    new_text = text\n",
    "\n",
    "  return new_text"
   ]
  },
  {
   "cell_type": "code",
   "execution_count": 29,
   "metadata": {
    "executionInfo": {
     "elapsed": 15,
     "status": "ok",
     "timestamp": 1696095354854,
     "user": {
      "displayName": "Eduardo Ceh",
      "userId": "10908898085356262650"
     },
     "user_tz": 360
    },
    "id": "pjhhP1nxacMc"
   },
   "outputs": [],
   "source": [
    "def change_construct(text):\n",
    "  if \" construct must use\" in text:\n",
    "    new_text = re.sub(r'(^.*) construct must use', r'<OPERATOR> construct must use', text)\n",
    "  else:\n",
    "    new_text = text\n",
    "\n",
    "  return new_text"
   ]
  },
  {
   "cell_type": "code",
   "execution_count": 30,
   "metadata": {
    "executionInfo": {
     "elapsed": 15,
     "status": "ok",
     "timestamp": 1696095354855,
     "user": {
      "displayName": "Eduardo Ceh",
      "userId": "10908898085356262650"
     },
     "user_tz": 360
    },
    "id": "8fIvo0C6a7Ja"
   },
   "outputs": [],
   "source": [
    "def change_use_brackets(text):\n",
    "  if \"'{}'s\" in text:\n",
    "    new_text = re.sub(r\"'{}'s\", r\"<BRACKET>\", text)\n",
    "  else:\n",
    "    new_text = text\n",
    "\n",
    "  return new_text"
   ]
  },
  {
   "cell_type": "code",
   "execution_count": 31,
   "metadata": {
    "executionInfo": {
     "elapsed": 15,
     "status": "ok",
     "timestamp": 1696095354855,
     "user": {
      "displayName": "Eduardo Ceh",
      "userId": "10908898085356262650"
     },
     "user_tz": 360
    },
    "id": "2tIClDpvoT36"
   },
   "outputs": [],
   "source": [
    "# n_text = preprocessing(content_list[160])\n",
    "# print(n_text)\n"
   ]
  },
  {
   "cell_type": "code",
   "execution_count": 32,
   "metadata": {
    "colab": {
     "base_uri": "https://localhost:8080/"
    },
    "executionInfo": {
     "elapsed": 14,
     "status": "ok",
     "timestamp": 1696095354855,
     "user": {
      "displayName": "Eduardo Ceh",
      "userId": "10908898085356262650"
     },
     "user_tz": 360
    },
    "id": "S6fo6mwYzXuH",
    "outputId": "da4a6aba-190c-498e-c028-e38baa935912"
   },
   "outputs": [
    {
     "name": "stdout",
     "output_type": "stream",
     "text": [
      "'*' is not followed by whitespace\n",
      "<operator> is not followed by whitespace\n"
     ]
    }
   ],
   "source": [
    "# id_ = 1002\n",
    "id_ = 103\n",
    "print(df.iloc[id_]['Error'])\n",
    "\n",
    "n_text = preprocessing(df.iloc[id_]['Error'])\n",
    "print(n_text)"
   ]
  },
  {
   "cell_type": "markdown",
   "metadata": {
    "id": "3JKmxZJ01x1X"
   },
   "source": [
    "## Create a dataframe"
   ]
  },
  {
   "cell_type": "code",
   "execution_count": 33,
   "metadata": {
    "executionInfo": {
     "elapsed": 431,
     "status": "ok",
     "timestamp": 1696095355277,
     "user": {
      "displayName": "Eduardo Ceh",
      "userId": "10908898085356262650"
     },
     "user_tz": 360
    },
    "id": "KQBvWp_WoYbK"
   },
   "outputs": [],
   "source": [
    "df['clean'] = df['Error'].apply(preprocessing)"
   ]
  },
  {
   "cell_type": "code",
   "execution_count": 34,
   "metadata": {
    "colab": {
     "base_uri": "https://localhost:8080/",
     "height": 201
    },
    "executionInfo": {
     "elapsed": 594,
     "status": "ok",
     "timestamp": 1696095355729,
     "user": {
      "displayName": "Eduardo Ceh",
      "userId": "10908898085356262650"
     },
     "user_tz": 360
    },
    "id": "8UvuhPSbrGE4",
    "outputId": "26455cf6-212f-45c5-fc08-e5f3a6208086"
   },
   "outputs": [
    {
     "data": {
      "text/html": [
       "<div>\n",
       "<style scoped>\n",
       "    .dataframe tbody tr th:only-of-type {\n",
       "        vertical-align: middle;\n",
       "    }\n",
       "\n",
       "    .dataframe tbody tr th {\n",
       "        vertical-align: top;\n",
       "    }\n",
       "\n",
       "    .dataframe thead th {\n",
       "        text-align: right;\n",
       "    }\n",
       "</style>\n",
       "<table border=\"1\" class=\"dataframe\">\n",
       "  <thead>\n",
       "    <tr style=\"text-align: right;\">\n",
       "      <th></th>\n",
       "      <th>Error</th>\n",
       "      <th>Category</th>\n",
       "      <th>clean</th>\n",
       "    </tr>\n",
       "  </thead>\n",
       "  <tbody>\n",
       "    <tr>\n",
       "      <th>0</th>\n",
       "      <td>Missing package-info java file</td>\n",
       "      <td>JavadocPackage</td>\n",
       "      <td>missing package-info java file</td>\n",
       "    </tr>\n",
       "    <tr>\n",
       "      <th>1</th>\n",
       "      <td>Utility classes should not have a public or de...</td>\n",
       "      <td>HideUtilityClassConstructor</td>\n",
       "      <td>utility classes should not have a public or de...</td>\n",
       "    </tr>\n",
       "    <tr>\n",
       "      <th>2</th>\n",
       "      <td>Missing a Javadoc comment</td>\n",
       "      <td>MissingJavadocMethod</td>\n",
       "      <td>missing a javadoc comment</td>\n",
       "    </tr>\n",
       "    <tr>\n",
       "      <th>3</th>\n",
       "      <td>Parameter args should be final</td>\n",
       "      <td>FinalParameters</td>\n",
       "      <td>parameter &lt;a_parameter_name&gt; should be final</td>\n",
       "    </tr>\n",
       "    <tr>\n",
       "      <th>4</th>\n",
       "      <td>File contains tab characters (this is the firs...</td>\n",
       "      <td>FileTabCharacter</td>\n",
       "      <td>file contains tab characters (this is the firs...</td>\n",
       "    </tr>\n",
       "  </tbody>\n",
       "</table>\n",
       "</div>"
      ],
      "text/plain": [
       "                                               Error  \\\n",
       "0                     Missing package-info java file   \n",
       "1  Utility classes should not have a public or de...   \n",
       "2                          Missing a Javadoc comment   \n",
       "3                     Parameter args should be final   \n",
       "4  File contains tab characters (this is the firs...   \n",
       "\n",
       "                       Category  \\\n",
       "0               JavadocPackage    \n",
       "1  HideUtilityClassConstructor    \n",
       "2         MissingJavadocMethod    \n",
       "3              FinalParameters    \n",
       "4             FileTabCharacter    \n",
       "\n",
       "                                               clean  \n",
       "0                     missing package-info java file  \n",
       "1  utility classes should not have a public or de...  \n",
       "2                          missing a javadoc comment  \n",
       "3       parameter <a_parameter_name> should be final  \n",
       "4  file contains tab characters (this is the firs...  "
      ]
     },
     "execution_count": 34,
     "metadata": {},
     "output_type": "execute_result"
    }
   ],
   "source": [
    "df.head()"
   ]
  },
  {
   "cell_type": "code",
   "execution_count": 35,
   "metadata": {
    "colab": {
     "base_uri": "https://localhost:8080/",
     "height": 34
    },
    "executionInfo": {
     "elapsed": 305,
     "status": "ok",
     "timestamp": 1696095355729,
     "user": {
      "displayName": "Eduardo Ceh",
      "userId": "10908898085356262650"
     },
     "user_tz": 360
    },
    "id": "nrle-MCIrVMF",
    "outputId": "fc2780ec-4764-48d2-9c2d-0270eb206d45"
   },
   "outputs": [
    {
     "data": {
      "text/plain": [
       "'utility classes should not have a public or default constructor'"
      ]
     },
     "execution_count": 35,
     "metadata": {},
     "output_type": "execute_result"
    }
   ],
   "source": [
    "df.iloc[1][\"clean\"]"
   ]
  },
  {
   "cell_type": "code",
   "execution_count": 36,
   "metadata": {
    "colab": {
     "base_uri": "https://localhost:8080/",
     "height": 34
    },
    "executionInfo": {
     "elapsed": 304,
     "status": "ok",
     "timestamp": 1696095355729,
     "user": {
      "displayName": "Eduardo Ceh",
      "userId": "10908898085356262650"
     },
     "user_tz": 360
    },
    "id": "kdTdOfPnuy1h",
    "outputId": "e5fd3b92-610e-4ffe-d0cc-1264cc90afe2"
   },
   "outputs": [
    {
     "data": {
      "text/plain": [
       "'<operator> is not preceded with whitespace'"
      ]
     },
     "execution_count": 36,
     "metadata": {},
     "output_type": "execute_result"
    }
   ],
   "source": [
    "df.iloc[114][\"clean\"]"
   ]
  },
  {
   "cell_type": "code",
   "execution_count": 37,
   "metadata": {
    "colab": {
     "base_uri": "https://localhost:8080/",
     "height": 34
    },
    "executionInfo": {
     "elapsed": 303,
     "status": "ok",
     "timestamp": 1696095355729,
     "user": {
      "displayName": "Eduardo Ceh",
      "userId": "10908898085356262650"
     },
     "user_tz": 360
    },
    "id": "UI3Ia8Jk1wjW",
    "outputId": "3ac42829-af74-4d18-fe21-784c6d761030"
   },
   "outputs": [
    {
     "data": {
      "text/plain": [
       "'<operator> is not preceded with whitespace'"
      ]
     },
     "execution_count": 37,
     "metadata": {},
     "output_type": "execute_result"
    }
   ],
   "source": [
    "df.iloc[114][\"clean\"]"
   ]
  },
  {
   "cell_type": "markdown",
   "metadata": {
    "id": "Y_25SWOc6fc9"
   },
   "source": [
    "## Create a Word Cloud"
   ]
  },
  {
   "cell_type": "code",
   "execution_count": 38,
   "metadata": {
    "colab": {
     "base_uri": "https://localhost:8080/",
     "height": 329
    },
    "executionInfo": {
     "elapsed": 2134,
     "status": "ok",
     "timestamp": 1696095357561,
     "user": {
      "displayName": "Eduardo Ceh",
      "userId": "10908898085356262650"
     },
     "user_tz": 360
    },
    "id": "Ly7OP9ql6h7S",
    "outputId": "059e3afb-4e80-4eec-a34e-a4aabdde81fe"
   },
   "outputs": [
    {
     "data": {
      "image/png": "[encoded data removed]",
      "text/plain": [
       "<Figure size 700x500 with 1 Axes>"
      ]
     },
     "metadata": {},
     "output_type": "display_data"
    }
   ],
   "source": [
    "all_text = []\n",
    "def get_all_text(text):\n",
    "    all_text.append(text)\n",
    "\n",
    "df[\"clean\"].apply(get_all_text)\n",
    "text = \"\\n\".join(all_text)\n",
    "# print(text)\n",
    "\n",
    "# wordcloud = WordCloud(background_color=\"white\").generate(text)\n",
    "\n",
    "#Create the wordcloud object\n",
    "wordcloud = WordCloud(collocations= False,\n",
    "                        background_color=\"white\",\n",
    "                        collocation_threshold = 100,\n",
    "                        max_words = 10,\n",
    "                        relative_scaling = 1).generate(text)\n",
    "#plot\n",
    "plt.figure(figsize=(7,5), dpi=100)\n",
    "plt.imshow(wordcloud, interpolation='bilInear')\n",
    "plt.axis('off')\n",
    "plt.title(\"Word Cloud for Error Descriptions\")\n",
    "plt.savefig(\"./wordcloud.pdf\", bbox_inches='tight')\n",
    "plt.show()"
   ]
  },
  {
   "cell_type": "code",
   "execution_count": 39,
   "metadata": {
    "colab": {
     "base_uri": "https://localhost:8080/"
    },
    "executionInfo": {
     "elapsed": 324,
     "status": "ok",
     "timestamp": 1696095357756,
     "user": {
      "displayName": "Eduardo Ceh",
      "userId": "10908898085356262650"
     },
     "user_tz": 360
    },
    "id": "23iGLFMT6b82",
    "outputId": "2ed9e580-1dc7-4649-a592-7a0d83c5a2f6"
   },
   "outputs": [
    {
     "name": "stdout",
     "output_type": "stream",
     "text": [
      "{'missing': 890, 'package': 395, 'info': 390, 'java': 453, 'file': 650, 'utility': 378, 'classes': 378, 'public': 378, 'default': 380, 'constructor': 378, 'javadoc': 713, 'comment': 691, 'parameter': 1080, 'a_parameter_name': 1080, 'final': 1080, 'contains': 370, 'tab': 72, 'characters': 1582, 'first': 279, 'instance': 72, 'line': 4668, 'trailing': 1624, 'spaces': 1624, 'longer': 1510, 'found': 1510, 'magic': 711, 'number': 711, 'operator': 6039, 'preceded': 1853, 'whitespace': 4656, 'previous': 1193, 'followed': 2803, 'end': 394, 'newline': 187, 'array': 49, 'illegal': 47, 'position': 47, 'construct': 131, 'must': 508, 'use': 131, 'bracket': 178, 'placed': 191, 'wrong': 191, 'location': 191, 'next': 298, 'part': 298, 'multi': 298, 'block': 600, 'statement': 341, 'one': 300, 'directly': 298, 'multiple': 298, 'try': 298, 'catch': 298, 'finally': 298, 'unused': 92, 'import': 65, 'io': 12, 'name': 317, 'a_name': 316, 'match': 315, 'pattern': 315, 'za': 627, 'z': 315, \"int'\": 26, 'sentence': 207, 'period': 207, 'expected': 93, 'param': 165, 'tag': 213, \"list'\": 2, 'return': 42, 'present': 39, 'description': 39, 'braket': 229, 'conditional': 45, 'logic': 45, 'removed': 45, 'expression': 35, 'simplified': 35, 'variable': 61, 'declaration': 36, 'using': 41, 'form': 41, 'avoided': 43, \"variables'\": 2, \"variable'\": 2, \"scanner'\": 1, \"array'\": 9, \"args'\": 26, \"a'\": 5, 'redundant': 5, 'lang': 18, 'math': 11, \"x'\": 12, \"y'\": 12, \"z'\": 12, \"input'\": 10, 'private': 24, 'accessor': 24, 'definition': 3, 'per': 1, 'allowed': 1, 'util': 35, 'javax': 6, 'swing': 4, 'column': 25, 'break': 20, 'new': 17, 'class': 22, 'a_class_name': 21, 'looks': 21, 'designed': 21, 'extension': 21, 'subclassed': 21, 'method': 46, 'a_method_name': 26, 'explains': 21, 'safely': 21, \"double'\": 16, \"rand'\": 1, 'inner': 2, 'assignments': 2, \"values'\": 1, \"arr'\": 12, \"b'\": 4, \"length'\": 2, \"tempformat'\": 1, \"temp'\": 1, \"allthesame'\": 1, 'alone': 5, 'empty': 6, \"sequencereader'\": 1, 'z_': 3, 'w': 3, 'abs': 1, 'input': 1, \"order'\": 1, \"success'\": 1, \"failure'\": 1, \"method_stack_index'\": 2, \"firstarray'\": 2, \"secondarray'\": 2, 'duplicate': 3, \"random'\": 1, \"teachersexample'\": 1, \"three'\": 4, \"str'\": 5, 'stream': 2, \"grademap'\": 1, \"grades'\": 1, \"pass_status'\": 1, \"fail_status'\": 1, \"inta'\": 2, \"intb'\": 2, \"string'\": 8, 'inputmismatchexception': 1, 'least': 1, \"n'\": 2, \"filename'\": 1, 'scanner': 4, 'evenindex': 1, 'time': 1, \"time'\": 2, 'hides': 4, 'field': 4, \"timedifference'\": 1, 'avoid': 4, 'nested': 4, 'unknown': 5, \"date'\": 2, \"return'\": 3, \"firstnumber'\": 3, \"secondnumber'\": 3, \"thirdnumber'\": 3, \"result'\": 3, \"first'\": 2, \"second'\": 2, 'without': 3, 'corresponding': 1, 'hashcode': 1, 'model': 2, 'element': 1, 'variableelement': 1, 'org': 1, 'wc': 1, 'dom': 1, 'range': 2, 'random': 1, 'filenotfoundexception': 1, \"assignemnt'\": 1, \"author'\": 1, \"purpose'\": 1, 'equal': 2, 'enclosing': 1, 'switch': 2, 'clause': 2, 'elementscanner': 1, \"laba'\": 1}\n"
     ]
    }
   ],
   "source": [
    "# Process text\n",
    "frequencies = wordcloud.process_text(text)\n",
    "\n",
    "print(frequencies)"
   ]
  },
  {
   "cell_type": "markdown",
   "metadata": {
    "id": "d6ch5e3o0oac"
   },
   "source": [
    "## Using Doc2Vec"
   ]
  },
  {
   "cell_type": "code",
   "execution_count": 40,
   "metadata": {
    "executionInfo": {
     "elapsed": 804,
     "status": "ok",
     "timestamp": 1696095358558,
     "user": {
      "displayName": "Eduardo Ceh",
      "userId": "10908898085356262650"
     },
     "user_tz": 360
    },
    "id": "S_J2D25H0qiO"
   },
   "outputs": [],
   "source": [
    "from gensim.models.doc2vec import Doc2Vec, TaggedDocument\n",
    "from nltk.tokenize import word_tokenize"
   ]
  },
  {
   "cell_type": "code",
   "execution_count": 41,
   "metadata": {
    "executionInfo": {
     "elapsed": 152,
     "status": "ok",
     "timestamp": 1696095358559,
     "user": {
      "displayName": "Eduardo Ceh",
      "userId": "10908898085356262650"
     },
     "user_tz": 360
    },
    "id": "4GkMf5j4DgDw"
   },
   "outputs": [],
   "source": [
    "DIMENSIONS = 64\n",
    "WINDOW = 5"
   ]
  },
  {
   "cell_type": "code",
   "execution_count": 42,
   "metadata": {
    "colab": {
     "base_uri": "https://localhost:8080/"
    },
    "executionInfo": {
     "elapsed": 148,
     "status": "ok",
     "timestamp": 1696095358559,
     "user": {
      "displayName": "Eduardo Ceh",
      "userId": "10908898085356262650"
     },
     "user_tz": 360
    },
    "id": "9fagMxPcDGMp",
    "outputId": "def369e7-2d0f-484b-d586-0687c693dfaa"
   },
   "outputs": [
    {
     "name": "stdout",
     "output_type": "stream",
     "text": [
      "13993\n"
     ]
    }
   ],
   "source": [
    "all_texts = df['clean'].tolist()\n",
    "all_texts = [text.split() for text in all_texts]\n",
    "print(len(all_texts))"
   ]
  },
  {
   "cell_type": "code",
   "execution_count": 43,
   "metadata": {
    "colab": {
     "base_uri": "https://localhost:8080/"
    },
    "executionInfo": {
     "elapsed": 145,
     "status": "ok",
     "timestamp": 1696095358559,
     "user": {
      "displayName": "Eduardo Ceh",
      "userId": "10908898085356262650"
     },
     "user_tz": 360
    },
    "id": "Mb-_HKScDPZM",
    "outputId": "caf38c24-7faf-40bc-8de8-109aeaea42dd"
   },
   "outputs": [
    {
     "name": "stdout",
     "output_type": "stream",
     "text": [
      "[['missing', 'package-info', 'java', 'file'], ['utility', 'classes', 'should', 'not', 'have', 'a', 'public', 'or', 'default', 'constructor']]\n",
      "[['line', 'has', 'trailing', 'spaces'], ['line', 'has', 'trailing', 'spaces']]\n"
     ]
    }
   ],
   "source": [
    "print(all_texts[:2])\n",
    "print(all_texts[-2:])"
   ]
  },
  {
   "cell_type": "code",
   "execution_count": 44,
   "metadata": {
    "executionInfo": {
     "elapsed": 124,
     "status": "ok",
     "timestamp": 1696095358559,
     "user": {
      "displayName": "Eduardo Ceh",
      "userId": "10908898085356262650"
     },
     "user_tz": 360
    },
    "id": "fKfLHyDaDZGF"
   },
   "outputs": [],
   "source": [
    "df[\"textList\"] = all_texts"
   ]
  },
  {
   "cell_type": "code",
   "execution_count": 45,
   "metadata": {
    "colab": {
     "base_uri": "https://localhost:8080/",
     "height": 411
    },
    "executionInfo": {
     "elapsed": 123,
     "status": "ok",
     "timestamp": 1696095358559,
     "user": {
      "displayName": "Eduardo Ceh",
      "userId": "10908898085356262650"
     },
     "user_tz": 360
    },
    "id": "kTNtjrjr01x-",
    "outputId": "52b16576-4dbb-42cd-a85c-1085c5f5d34a"
   },
   "outputs": [
    {
     "data": {
      "text/html": [
       "<div>\n",
       "<style scoped>\n",
       "    .dataframe tbody tr th:only-of-type {\n",
       "        vertical-align: middle;\n",
       "    }\n",
       "\n",
       "    .dataframe tbody tr th {\n",
       "        vertical-align: top;\n",
       "    }\n",
       "\n",
       "    .dataframe thead th {\n",
       "        text-align: right;\n",
       "    }\n",
       "</style>\n",
       "<table border=\"1\" class=\"dataframe\">\n",
       "  <thead>\n",
       "    <tr style=\"text-align: right;\">\n",
       "      <th></th>\n",
       "      <th>Error</th>\n",
       "      <th>Category</th>\n",
       "      <th>clean</th>\n",
       "      <th>textList</th>\n",
       "    </tr>\n",
       "  </thead>\n",
       "  <tbody>\n",
       "    <tr>\n",
       "      <th>0</th>\n",
       "      <td>Missing package-info java file</td>\n",
       "      <td>JavadocPackage</td>\n",
       "      <td>missing package-info java file</td>\n",
       "      <td>[missing, package-info, java, file]</td>\n",
       "    </tr>\n",
       "    <tr>\n",
       "      <th>1</th>\n",
       "      <td>Utility classes should not have a public or de...</td>\n",
       "      <td>HideUtilityClassConstructor</td>\n",
       "      <td>utility classes should not have a public or de...</td>\n",
       "      <td>[utility, classes, should, not, have, a, publi...</td>\n",
       "    </tr>\n",
       "    <tr>\n",
       "      <th>2</th>\n",
       "      <td>Missing a Javadoc comment</td>\n",
       "      <td>MissingJavadocMethod</td>\n",
       "      <td>missing a javadoc comment</td>\n",
       "      <td>[missing, a, javadoc, comment]</td>\n",
       "    </tr>\n",
       "    <tr>\n",
       "      <th>3</th>\n",
       "      <td>Parameter args should be final</td>\n",
       "      <td>FinalParameters</td>\n",
       "      <td>parameter &lt;a_parameter_name&gt; should be final</td>\n",
       "      <td>[parameter, &lt;a_parameter_name&gt;, should, be, fi...</td>\n",
       "    </tr>\n",
       "    <tr>\n",
       "      <th>4</th>\n",
       "      <td>File contains tab characters (this is the firs...</td>\n",
       "      <td>FileTabCharacter</td>\n",
       "      <td>file contains tab characters (this is the firs...</td>\n",
       "      <td>[file, contains, tab, characters, (this, is, t...</td>\n",
       "    </tr>\n",
       "    <tr>\n",
       "      <th>...</th>\n",
       "      <td>...</td>\n",
       "      <td>...</td>\n",
       "      <td>...</td>\n",
       "      <td>...</td>\n",
       "    </tr>\n",
       "    <tr>\n",
       "      <th>13988</th>\n",
       "      <td>Parameter args should be final</td>\n",
       "      <td>FinalParameters</td>\n",
       "      <td>parameter &lt;a_parameter_name&gt; should be final</td>\n",
       "      <td>[parameter, &lt;a_parameter_name&gt;, should, be, fi...</td>\n",
       "    </tr>\n",
       "    <tr>\n",
       "      <th>13989</th>\n",
       "      <td>Line has trailing spaces</td>\n",
       "      <td>RegexpSingleline</td>\n",
       "      <td>line has trailing spaces</td>\n",
       "      <td>[line, has, trailing, spaces]</td>\n",
       "    </tr>\n",
       "    <tr>\n",
       "      <th>13990</th>\n",
       "      <td>Line has trailing spaces</td>\n",
       "      <td>RegexpSingleline</td>\n",
       "      <td>line has trailing spaces</td>\n",
       "      <td>[line, has, trailing, spaces]</td>\n",
       "    </tr>\n",
       "    <tr>\n",
       "      <th>13991</th>\n",
       "      <td>Line has trailing spaces</td>\n",
       "      <td>RegexpSingleline</td>\n",
       "      <td>line has trailing spaces</td>\n",
       "      <td>[line, has, trailing, spaces]</td>\n",
       "    </tr>\n",
       "    <tr>\n",
       "      <th>13992</th>\n",
       "      <td>Line has trailing spaces</td>\n",
       "      <td>RegexpSingleline</td>\n",
       "      <td>line has trailing spaces</td>\n",
       "      <td>[line, has, trailing, spaces]</td>\n",
       "    </tr>\n",
       "  </tbody>\n",
       "</table>\n",
       "<p>13993 rows × 4 columns</p>\n",
       "</div>"
      ],
      "text/plain": [
       "                                                   Error  \\\n",
       "0                         Missing package-info java file   \n",
       "1      Utility classes should not have a public or de...   \n",
       "2                              Missing a Javadoc comment   \n",
       "3                         Parameter args should be final   \n",
       "4      File contains tab characters (this is the firs...   \n",
       "...                                                  ...   \n",
       "13988                     Parameter args should be final   \n",
       "13989                           Line has trailing spaces   \n",
       "13990                           Line has trailing spaces   \n",
       "13991                           Line has trailing spaces   \n",
       "13992                           Line has trailing spaces   \n",
       "\n",
       "                           Category  \\\n",
       "0                   JavadocPackage    \n",
       "1      HideUtilityClassConstructor    \n",
       "2             MissingJavadocMethod    \n",
       "3                  FinalParameters    \n",
       "4                 FileTabCharacter    \n",
       "...                             ...   \n",
       "13988              FinalParameters    \n",
       "13989             RegexpSingleline    \n",
       "13990             RegexpSingleline    \n",
       "13991             RegexpSingleline    \n",
       "13992             RegexpSingleline    \n",
       "\n",
       "                                                   clean  \\\n",
       "0                         missing package-info java file   \n",
       "1      utility classes should not have a public or de...   \n",
       "2                              missing a javadoc comment   \n",
       "3           parameter <a_parameter_name> should be final   \n",
       "4      file contains tab characters (this is the firs...   \n",
       "...                                                  ...   \n",
       "13988       parameter <a_parameter_name> should be final   \n",
       "13989                           line has trailing spaces   \n",
       "13990                           line has trailing spaces   \n",
       "13991                           line has trailing spaces   \n",
       "13992                           line has trailing spaces   \n",
       "\n",
       "                                                textList  \n",
       "0                    [missing, package-info, java, file]  \n",
       "1      [utility, classes, should, not, have, a, publi...  \n",
       "2                         [missing, a, javadoc, comment]  \n",
       "3      [parameter, <a_parameter_name>, should, be, fi...  \n",
       "4      [file, contains, tab, characters, (this, is, t...  \n",
       "...                                                  ...  \n",
       "13988  [parameter, <a_parameter_name>, should, be, fi...  \n",
       "13989                      [line, has, trailing, spaces]  \n",
       "13990                      [line, has, trailing, spaces]  \n",
       "13991                      [line, has, trailing, spaces]  \n",
       "13992                      [line, has, trailing, spaces]  \n",
       "\n",
       "[13993 rows x 4 columns]"
      ]
     },
     "execution_count": 45,
     "metadata": {},
     "output_type": "execute_result"
    }
   ],
   "source": [
    "df"
   ]
  },
  {
   "cell_type": "code",
   "execution_count": 46,
   "metadata": {
    "executionInfo": {
     "elapsed": 122,
     "status": "ok",
     "timestamp": 1696095358559,
     "user": {
      "displayName": "Eduardo Ceh",
      "userId": "10908898085356262650"
     },
     "user_tz": 360
    },
    "id": "LBBHeHrt1U7u"
   },
   "outputs": [],
   "source": [
    "documents = [TaggedDocument(doc, [i]) for i, doc in enumerate(all_texts)]"
   ]
  },
  {
   "cell_type": "markdown",
   "metadata": {
    "id": "By7XWDAVLStm"
   },
   "source": [
    "### Get embeddings for multiple dimensions"
   ]
  },
  {
   "cell_type": "code",
   "execution_count": 47,
   "metadata": {
    "colab": {
     "base_uri": "https://localhost:8080/"
    },
    "executionInfo": {
     "elapsed": 117760,
     "status": "ok",
     "timestamp": 1696095476198,
     "user": {
      "displayName": "Eduardo Ceh",
      "userId": "10908898085356262650"
     },
     "user_tz": 360
    },
    "id": "SZ9_heqiLSCH",
    "outputId": "6c2b448c-0d08-43f4-f774-66c9c3c359a8"
   },
   "outputs": [
    {
     "name": "stdout",
     "output_type": "stream",
     "text": [
      "Doc2Vec for 16 dimensions\n",
      "Doc2Vec for 32 dimensions\n",
      "Doc2Vec for 64 dimensions\n",
      "Doc2Vec for 128 dimensions\n",
      "Doc2Vec for 256 dimensions\n",
      "Doc2Vec for 512 dimensions\n"
     ]
    }
   ],
   "source": [
    "dims = [16, 32, 64, 128, 256, 512]\n",
    "\n",
    "for dim in dims:\n",
    "    print(f\"Doc2Vec for {dim} dimensions\")\n",
    "    # Init model\n",
    "    doc2_vec_model = Doc2Vec(documents, vector_size=dim, epochs=20, window=WINDOW, min_count=5, seed=0)\n",
    "\n",
    "    # Get vectors\n",
    "    all_d2v_vecs = [doc2_vec_model.dv[i] for i in range(len(doc2_vec_model.dv))]\n",
    "\n",
    "    # Add to df\n",
    "    col_name = 'embedding_' + str(dim)\n",
    "    df[col_name] = all_d2v_vecs"
   ]
  },
  {
   "cell_type": "code",
   "execution_count": 48,
   "metadata": {
    "colab": {
     "base_uri": "https://localhost:8080/",
     "height": 365
    },
    "executionInfo": {
     "elapsed": 136,
     "status": "ok",
     "timestamp": 1696095476202,
     "user": {
      "displayName": "Eduardo Ceh",
      "userId": "10908898085356262650"
     },
     "user_tz": 360
    },
    "id": "-IgpiDgFNYdi",
    "outputId": "19c3f165-a7cf-4fdb-ddcf-6fd6e5588a41"
   },
   "outputs": [
    {
     "data": {
      "text/html": [
       "<div>\n",
       "<style scoped>\n",
       "    .dataframe tbody tr th:only-of-type {\n",
       "        vertical-align: middle;\n",
       "    }\n",
       "\n",
       "    .dataframe tbody tr th {\n",
       "        vertical-align: top;\n",
       "    }\n",
       "\n",
       "    .dataframe thead th {\n",
       "        text-align: right;\n",
       "    }\n",
       "</style>\n",
       "<table border=\"1\" class=\"dataframe\">\n",
       "  <thead>\n",
       "    <tr style=\"text-align: right;\">\n",
       "      <th></th>\n",
       "      <th>Error</th>\n",
       "      <th>Category</th>\n",
       "      <th>clean</th>\n",
       "      <th>textList</th>\n",
       "      <th>embedding_16</th>\n",
       "      <th>embedding_32</th>\n",
       "      <th>embedding_64</th>\n",
       "      <th>embedding_128</th>\n",
       "      <th>embedding_256</th>\n",
       "      <th>embedding_512</th>\n",
       "    </tr>\n",
       "  </thead>\n",
       "  <tbody>\n",
       "    <tr>\n",
       "      <th>0</th>\n",
       "      <td>Missing package-info java file</td>\n",
       "      <td>JavadocPackage</td>\n",
       "      <td>missing package-info java file</td>\n",
       "      <td>[missing, package-info, java, file]</td>\n",
       "      <td>[-0.020786954, 0.10096427, 0.06689861, 0.02786...</td>\n",
       "      <td>[0.08983533, 0.16259053, 0.0379792, 0.02052337...</td>\n",
       "      <td>[0.0051400485, 0.015249636, -0.018411381, -0.0...</td>\n",
       "      <td>[0.046530757, -0.028003024, 0.017651016, 0.025...</td>\n",
       "      <td>[0.033999085, -0.00010671813, -0.026917968, -0...</td>\n",
       "      <td>[0.0044744536, 0.0027532997, -0.022001958, 0.0...</td>\n",
       "    </tr>\n",
       "    <tr>\n",
       "      <th>1</th>\n",
       "      <td>Utility classes should not have a public or de...</td>\n",
       "      <td>HideUtilityClassConstructor</td>\n",
       "      <td>utility classes should not have a public or de...</td>\n",
       "      <td>[utility, classes, should, not, have, a, publi...</td>\n",
       "      <td>[-0.056484606, 0.10655956, -0.016981056, 0.001...</td>\n",
       "      <td>[0.03642323, 0.04437619, -0.026060775, -0.0057...</td>\n",
       "      <td>[-0.012755864, -0.06158496, 0.041035652, -0.02...</td>\n",
       "      <td>[0.0071776947, -0.014533329, -0.0030333663, 0....</td>\n",
       "      <td>[0.0049930178, -0.015992474, -0.022407476, 0.0...</td>\n",
       "      <td>[-0.0024499148, -0.0003389456, -0.0054792454, ...</td>\n",
       "    </tr>\n",
       "    <tr>\n",
       "      <th>2</th>\n",
       "      <td>Missing a Javadoc comment</td>\n",
       "      <td>MissingJavadocMethod</td>\n",
       "      <td>missing a javadoc comment</td>\n",
       "      <td>[missing, a, javadoc, comment]</td>\n",
       "      <td>[0.042097162, 0.19575374, -0.065909825, 0.0889...</td>\n",
       "      <td>[0.11360577, 0.12294841, 0.08685094, 0.0617528...</td>\n",
       "      <td>[0.07775649, -0.007812605, 0.060900353, -0.045...</td>\n",
       "      <td>[0.017690511, -0.019954056, 0.023757454, 0.033...</td>\n",
       "      <td>[0.027701082, -0.0130960485, -0.030088408, -0....</td>\n",
       "      <td>[-0.0051536667, -0.0058729155, -0.013779759, 0...</td>\n",
       "    </tr>\n",
       "    <tr>\n",
       "      <th>3</th>\n",
       "      <td>Parameter args should be final</td>\n",
       "      <td>FinalParameters</td>\n",
       "      <td>parameter &lt;a_parameter_name&gt; should be final</td>\n",
       "      <td>[parameter, &lt;a_parameter_name&gt;, should, be, fi...</td>\n",
       "      <td>[0.022309009, -0.021507645, 0.0430508, -0.0671...</td>\n",
       "      <td>[0.078750394, 0.091248944, 0.029156758, 0.0082...</td>\n",
       "      <td>[0.033342227, 0.01531933, 0.054551654, -0.0610...</td>\n",
       "      <td>[0.027908793, -0.039979167, 0.004942894, 0.061...</td>\n",
       "      <td>[0.0014062958, -0.014850111, -0.022861613, 0.0...</td>\n",
       "      <td>[0.0018124045, 0.008401314, 0.00438754, 0.0244...</td>\n",
       "    </tr>\n",
       "    <tr>\n",
       "      <th>4</th>\n",
       "      <td>File contains tab characters (this is the firs...</td>\n",
       "      <td>FileTabCharacter</td>\n",
       "      <td>file contains tab characters (this is the firs...</td>\n",
       "      <td>[file, contains, tab, characters, (this, is, t...</td>\n",
       "      <td>[0.04316136, -0.015873155, 0.045204766, 0.1130...</td>\n",
       "      <td>[0.025382416, 0.017307987, -0.0369536, 0.02463...</td>\n",
       "      <td>[0.015964692, 0.0057203234, 0.024125999, 0.019...</td>\n",
       "      <td>[0.022641249, -0.0057162303, -0.02730995, 0.00...</td>\n",
       "      <td>[0.026538406, 0.010333137, -0.003303986, 0.001...</td>\n",
       "      <td>[0.019207833, 0.0074250023, -0.021491263, 0.01...</td>\n",
       "    </tr>\n",
       "  </tbody>\n",
       "</table>\n",
       "</div>"
      ],
      "text/plain": [
       "                                               Error  \\\n",
       "0                     Missing package-info java file   \n",
       "1  Utility classes should not have a public or de...   \n",
       "2                          Missing a Javadoc comment   \n",
       "3                     Parameter args should be final   \n",
       "4  File contains tab characters (this is the firs...   \n",
       "\n",
       "                       Category  \\\n",
       "0               JavadocPackage    \n",
       "1  HideUtilityClassConstructor    \n",
       "2         MissingJavadocMethod    \n",
       "3              FinalParameters    \n",
       "4             FileTabCharacter    \n",
       "\n",
       "                                               clean  \\\n",
       "0                     missing package-info java file   \n",
       "1  utility classes should not have a public or de...   \n",
       "2                          missing a javadoc comment   \n",
       "3       parameter <a_parameter_name> should be final   \n",
       "4  file contains tab characters (this is the firs...   \n",
       "\n",
       "                                            textList  \\\n",
       "0                [missing, package-info, java, file]   \n",
       "1  [utility, classes, should, not, have, a, publi...   \n",
       "2                     [missing, a, javadoc, comment]   \n",
       "3  [parameter, <a_parameter_name>, should, be, fi...   \n",
       "4  [file, contains, tab, characters, (this, is, t...   \n",
       "\n",
       "                                        embedding_16  \\\n",
       "0  [-0.020786954, 0.10096427, 0.06689861, 0.02786...   \n",
       "1  [-0.056484606, 0.10655956, -0.016981056, 0.001...   \n",
       "2  [0.042097162, 0.19575374, -0.065909825, 0.0889...   \n",
       "3  [0.022309009, -0.021507645, 0.0430508, -0.0671...   \n",
       "4  [0.04316136, -0.015873155, 0.045204766, 0.1130...   \n",
       "\n",
       "                                        embedding_32  \\\n",
       "0  [0.08983533, 0.16259053, 0.0379792, 0.02052337...   \n",
       "1  [0.03642323, 0.04437619, -0.026060775, -0.0057...   \n",
       "2  [0.11360577, 0.12294841, 0.08685094, 0.0617528...   \n",
       "3  [0.078750394, 0.091248944, 0.029156758, 0.0082...   \n",
       "4  [0.025382416, 0.017307987, -0.0369536, 0.02463...   \n",
       "\n",
       "                                        embedding_64  \\\n",
       "0  [0.0051400485, 0.015249636, -0.018411381, -0.0...   \n",
       "1  [-0.012755864, -0.06158496, 0.041035652, -0.02...   \n",
       "2  [0.07775649, -0.007812605, 0.060900353, -0.045...   \n",
       "3  [0.033342227, 0.01531933, 0.054551654, -0.0610...   \n",
       "4  [0.015964692, 0.0057203234, 0.024125999, 0.019...   \n",
       "\n",
       "                                       embedding_128  \\\n",
       "0  [0.046530757, -0.028003024, 0.017651016, 0.025...   \n",
       "1  [0.0071776947, -0.014533329, -0.0030333663, 0....   \n",
       "2  [0.017690511, -0.019954056, 0.023757454, 0.033...   \n",
       "3  [0.027908793, -0.039979167, 0.004942894, 0.061...   \n",
       "4  [0.022641249, -0.0057162303, -0.02730995, 0.00...   \n",
       "\n",
       "                                       embedding_256  \\\n",
       "0  [0.033999085, -0.00010671813, -0.026917968, -0...   \n",
       "1  [0.0049930178, -0.015992474, -0.022407476, 0.0...   \n",
       "2  [0.027701082, -0.0130960485, -0.030088408, -0....   \n",
       "3  [0.0014062958, -0.014850111, -0.022861613, 0.0...   \n",
       "4  [0.026538406, 0.010333137, -0.003303986, 0.001...   \n",
       "\n",
       "                                       embedding_512  \n",
       "0  [0.0044744536, 0.0027532997, -0.022001958, 0.0...  \n",
       "1  [-0.0024499148, -0.0003389456, -0.0054792454, ...  \n",
       "2  [-0.0051536667, -0.0058729155, -0.013779759, 0...  \n",
       "3  [0.0018124045, 0.008401314, 0.00438754, 0.0244...  \n",
       "4  [0.019207833, 0.0074250023, -0.021491263, 0.01...  "
      ]
     },
     "execution_count": 48,
     "metadata": {},
     "output_type": "execute_result"
    }
   ],
   "source": [
    "df.head()"
   ]
  },
  {
   "cell_type": "code",
   "execution_count": 49,
   "metadata": {
    "executionInfo": {
     "elapsed": 131,
     "status": "ok",
     "timestamp": 1696095476202,
     "user": {
      "displayName": "Eduardo Ceh",
      "userId": "10908898085356262650"
     },
     "user_tz": 360
    },
    "id": "7nNZRi8MDloS"
   },
   "outputs": [],
   "source": [
    "#doc2_vec_model = Doc2Vec(documents, vector_size=DIMENSIONS, window=WINDOW, min_count=5, seed=0)"
   ]
  },
  {
   "cell_type": "code",
   "execution_count": 50,
   "metadata": {
    "executionInfo": {
     "elapsed": 130,
     "status": "ok",
     "timestamp": 1696095476202,
     "user": {
      "displayName": "Eduardo Ceh",
      "userId": "10908898085356262650"
     },
     "user_tz": 360
    },
    "id": "tRCUXw0gDzSy"
   },
   "outputs": [],
   "source": [
    "#len(doc2_vec_model.dv)"
   ]
  },
  {
   "cell_type": "code",
   "execution_count": 51,
   "metadata": {
    "executionInfo": {
     "elapsed": 130,
     "status": "ok",
     "timestamp": 1696095476203,
     "user": {
      "displayName": "Eduardo Ceh",
      "userId": "10908898085356262650"
     },
     "user_tz": 360
    },
    "id": "F82cv4t3D0eD"
   },
   "outputs": [],
   "source": [
    "#doc2_vec_model.dv[0]"
   ]
  },
  {
   "cell_type": "code",
   "execution_count": 52,
   "metadata": {
    "executionInfo": {
     "elapsed": 130,
     "status": "ok",
     "timestamp": 1696095476203,
     "user": {
      "displayName": "Eduardo Ceh",
      "userId": "10908898085356262650"
     },
     "user_tz": 360
    },
    "id": "rXdGfsjEECa5"
   },
   "outputs": [],
   "source": [
    "#all_d2v_vecs = [doc2_vec_model.dv[i] for i in range(len(doc2_vec_model.dv))]\n",
    "#print(len(all_d2v_vecs))"
   ]
  },
  {
   "cell_type": "code",
   "execution_count": 53,
   "metadata": {
    "executionInfo": {
     "elapsed": 130,
     "status": "ok",
     "timestamp": 1696095476203,
     "user": {
      "displayName": "Eduardo Ceh",
      "userId": "10908898085356262650"
     },
     "user_tz": 360
    },
    "id": "j4_dgkgJEP35"
   },
   "outputs": [],
   "source": [
    "#df[\"d2v\"] = all_d2v_vecs"
   ]
  },
  {
   "cell_type": "code",
   "execution_count": 54,
   "metadata": {
    "executionInfo": {
     "elapsed": 129,
     "status": "ok",
     "timestamp": 1696095476203,
     "user": {
      "displayName": "Eduardo Ceh",
      "userId": "10908898085356262650"
     },
     "user_tz": 360
    },
    "id": "Yi8u0iCuEXMd"
   },
   "outputs": [],
   "source": [
    "#df.head()"
   ]
  },
  {
   "cell_type": "code",
   "execution_count": 64,
   "metadata": {
    "colab": {
     "base_uri": "https://localhost:8080/"
    },
    "executionInfo": {
     "elapsed": 129,
     "status": "ok",
     "timestamp": 1696095476203,
     "user": {
      "displayName": "Eduardo Ceh",
      "userId": "10908898085356262650"
     },
     "user_tz": 360
    },
    "id": "3nzAsYCRNrMf",
    "outputId": "6cfc1105-8c4c-4867-aa7b-9573046df9d2"
   },
   "outputs": [
    {
     "name": "stdout",
     "output_type": "stream",
     "text": [
      "(13993,)\n",
      "(64,)\n"
     ]
    }
   ],
   "source": [
    "print(df['embedding_64'].shape)\n",
    "print(df['embedding_64'][0].shape)"
   ]
  },
  {
   "cell_type": "markdown",
   "metadata": {
    "id": "8IMS3NNiOEEw"
   },
   "source": [
    "### Get the explained variance"
   ]
  },
  {
   "cell_type": "code",
   "execution_count": 65,
   "metadata": {
    "executionInfo": {
     "elapsed": 120,
     "status": "ok",
     "timestamp": 1696095476203,
     "user": {
      "displayName": "Eduardo Ceh",
      "userId": "10908898085356262650"
     },
     "user_tz": 360
    },
    "id": "Xq8kI0PcOTeD"
   },
   "outputs": [],
   "source": [
    "from sklearn.decomposition import PCA"
   ]
  },
  {
   "cell_type": "code",
   "execution_count": 66,
   "metadata": {
    "executionInfo": {
     "elapsed": 120,
     "status": "ok",
     "timestamp": 1696095476203,
     "user": {
      "displayName": "Eduardo Ceh",
      "userId": "10908898085356262650"
     },
     "user_tz": 360
    },
    "id": "Xq8kI0PcOTeD"
   },
   "outputs": [
    {
     "name": "stdout",
     "output_type": "stream",
     "text": [
      "embedding_16\n",
      "embedding_32\n",
      "embedding_64\n",
      "embedding_128\n",
      "embedding_256\n",
      "embedding_512\n"
     ]
    }
   ],
   "source": [
    "# PCA analysis\n",
    "variance_explained = []\n",
    "for dim in dims:\n",
    "    col = 'embedding_'+str(dim)\n",
    "    print(col)\n",
    "    embeddings=df[col].tolist()\n",
    "    pca = PCA(n_components=2)\n",
    "    pca.fit(embeddings)\n",
    "    variance_explained.append(pca.explained_variance_ratio_.sum().round(2))"
   ]
  },
  {
   "cell_type": "code",
   "execution_count": 67,
   "metadata": {
    "executionInfo": {
     "elapsed": 120,
     "status": "ok",
     "timestamp": 1696095476203,
     "user": {
      "displayName": "Eduardo Ceh",
      "userId": "10908898085356262650"
     },
     "user_tz": 360
    },
    "id": "Xq8kI0PcOTeD"
   },
   "outputs": [
    {
     "name": "stdout",
     "output_type": "stream",
     "text": [
      "[0.38, 0.4, 0.42, 0.43, 0.45, 0.47]\n"
     ]
    }
   ],
   "source": [
    "print(variance_explained)"
   ]
  },
  {
   "cell_type": "code",
   "execution_count": 68,
   "metadata": {
    "executionInfo": {
     "elapsed": 120,
     "status": "ok",
     "timestamp": 1696095476203,
     "user": {
      "displayName": "Eduardo Ceh",
      "userId": "10908898085356262650"
     },
     "user_tz": 360
    },
    "id": "Xq8kI0PcOTeD"
   },
   "outputs": [
    {
     "data": {
      "image/png": "[encoded data removed]",
      "text/plain": [
       "<Figure size 640x480 with 1 Axes>"
      ]
     },
     "metadata": {},
     "output_type": "display_data"
    }
   ],
   "source": [
    "# Plot variance explained\n",
    "import matplotlib.pyplot as plt\n",
    "plt.plot(dims, variance_explained)\n",
    "# Set x ticks\n",
    "plt.xticks(dims,rotation=90)\n",
    "\n",
    "plt.title('Variance Explained vs Dimensionality')\n",
    "plt.xlabel('Dimensions')\n",
    "plt.ylabel('Variance Explained')\n",
    "plt.savefig(\"./embeddings_variance.pdf\", bbox_inches='tight')\n",
    "plt.show()"
   ]
  },
  {
   "cell_type": "markdown",
   "metadata": {
    "id": "VpxdwBOiU0hI"
   },
   "source": [
    "Best Doc2Vec dimension seems to be 128"
   ]
  },
  {
   "cell_type": "markdown",
   "metadata": {
    "id": "5UI881DGYxc0"
   },
   "source": [
    "## Let's find the best k for clustering"
   ]
  },
  {
   "cell_type": "code",
   "execution_count": 69,
   "metadata": {
    "executionInfo": {
     "elapsed": 106,
     "status": "ok",
     "timestamp": 1696095478479,
     "user": {
      "displayName": "Eduardo Ceh",
      "userId": "10908898085356262650"
     },
     "user_tz": 360
    },
    "id": "O1j5gGVXYwpv"
   },
   "outputs": [],
   "source": [
    "from sklearn.cluster import KMeans\n",
    "from sklearn.metrics import silhouette_score, calinski_harabasz_score\n"
   ]
  },
  {
   "cell_type": "code",
   "execution_count": 70,
   "metadata": {
    "colab": {
     "base_uri": "https://localhost:8080/"
    },
    "executionInfo": {
     "elapsed": 192902,
     "status": "ok",
     "timestamp": 1696095671275,
     "user": {
      "displayName": "Eduardo Ceh",
      "userId": "10908898085356262650"
     },
     "user_tz": 360
    },
    "id": "w674-1SrOVEC",
    "outputId": "42775061-ba22-45f8-8b07-bda1572ed50b"
   },
   "outputs": [
    {
     "name": "stderr",
     "output_type": "stream",
     "text": [
      "/home/bassturtle4/Desktop/SynologyDrive/2023yearproject/Training/env/lib/python3.10/site-packages/sklearn/cluster/_kmeans.py:1416: FutureWarning: The default value of `n_init` will change from 10 to 'auto' in 1.4. Set the value of `n_init` explicitly to suppress the warning\n",
      "  super()._check_params_vs_input(X, default_n_init=10)\n",
      "/home/bassturtle4/Desktop/SynologyDrive/2023yearproject/Training/env/lib/python3.10/site-packages/sklearn/cluster/_kmeans.py:1416: FutureWarning: The default value of `n_init` will change from 10 to 'auto' in 1.4. Set the value of `n_init` explicitly to suppress the warning\n",
      "  super()._check_params_vs_input(X, default_n_init=10)\n",
      "/home/bassturtle4/Desktop/SynologyDrive/2023yearproject/Training/env/lib/python3.10/site-packages/sklearn/cluster/_kmeans.py:1416: FutureWarning: The default value of `n_init` will change from 10 to 'auto' in 1.4. Set the value of `n_init` explicitly to suppress the warning\n",
      "  super()._check_params_vs_input(X, default_n_init=10)\n",
      "/home/bassturtle4/Desktop/SynologyDrive/2023yearproject/Training/env/lib/python3.10/site-packages/sklearn/cluster/_kmeans.py:1416: FutureWarning: The default value of `n_init` will change from 10 to 'auto' in 1.4. Set the value of `n_init` explicitly to suppress the warning\n",
      "  super()._check_params_vs_input(X, default_n_init=10)\n",
      "/home/bassturtle4/Desktop/SynologyDrive/2023yearproject/Training/env/lib/python3.10/site-packages/sklearn/cluster/_kmeans.py:1416: FutureWarning: The default value of `n_init` will change from 10 to 'auto' in 1.4. Set the value of `n_init` explicitly to suppress the warning\n",
      "  super()._check_params_vs_input(X, default_n_init=10)\n",
      "/home/bassturtle4/Desktop/SynologyDrive/2023yearproject/Training/env/lib/python3.10/site-packages/sklearn/cluster/_kmeans.py:1416: FutureWarning: The default value of `n_init` will change from 10 to 'auto' in 1.4. Set the value of `n_init` explicitly to suppress the warning\n",
      "  super()._check_params_vs_input(X, default_n_init=10)\n",
      "/home/bassturtle4/Desktop/SynologyDrive/2023yearproject/Training/env/lib/python3.10/site-packages/sklearn/cluster/_kmeans.py:1416: FutureWarning: The default value of `n_init` will change from 10 to 'auto' in 1.4. Set the value of `n_init` explicitly to suppress the warning\n",
      "  super()._check_params_vs_input(X, default_n_init=10)\n",
      "/home/bassturtle4/Desktop/SynologyDrive/2023yearproject/Training/env/lib/python3.10/site-packages/sklearn/cluster/_kmeans.py:1416: FutureWarning: The default value of `n_init` will change from 10 to 'auto' in 1.4. Set the value of `n_init` explicitly to suppress the warning\n",
      "  super()._check_params_vs_input(X, default_n_init=10)\n",
      "/home/bassturtle4/Desktop/SynologyDrive/2023yearproject/Training/env/lib/python3.10/site-packages/sklearn/cluster/_kmeans.py:1416: FutureWarning: The default value of `n_init` will change from 10 to 'auto' in 1.4. Set the value of `n_init` explicitly to suppress the warning\n",
      "  super()._check_params_vs_input(X, default_n_init=10)\n",
      "/home/bassturtle4/Desktop/SynologyDrive/2023yearproject/Training/env/lib/python3.10/site-packages/sklearn/cluster/_kmeans.py:1416: FutureWarning: The default value of `n_init` will change from 10 to 'auto' in 1.4. Set the value of `n_init` explicitly to suppress the warning\n",
      "  super()._check_params_vs_input(X, default_n_init=10)\n",
      "/home/bassturtle4/Desktop/SynologyDrive/2023yearproject/Training/env/lib/python3.10/site-packages/sklearn/cluster/_kmeans.py:1416: FutureWarning: The default value of `n_init` will change from 10 to 'auto' in 1.4. Set the value of `n_init` explicitly to suppress the warning\n",
      "  super()._check_params_vs_input(X, default_n_init=10)\n",
      "/home/bassturtle4/Desktop/SynologyDrive/2023yearproject/Training/env/lib/python3.10/site-packages/sklearn/cluster/_kmeans.py:1416: FutureWarning: The default value of `n_init` will change from 10 to 'auto' in 1.4. Set the value of `n_init` explicitly to suppress the warning\n",
      "  super()._check_params_vs_input(X, default_n_init=10)\n",
      "/home/bassturtle4/Desktop/SynologyDrive/2023yearproject/Training/env/lib/python3.10/site-packages/sklearn/cluster/_kmeans.py:1416: FutureWarning: The default value of `n_init` will change from 10 to 'auto' in 1.4. Set the value of `n_init` explicitly to suppress the warning\n",
      "  super()._check_params_vs_input(X, default_n_init=10)\n",
      "/home/bassturtle4/Desktop/SynologyDrive/2023yearproject/Training/env/lib/python3.10/site-packages/sklearn/cluster/_kmeans.py:1416: FutureWarning: The default value of `n_init` will change from 10 to 'auto' in 1.4. Set the value of `n_init` explicitly to suppress the warning\n",
      "  super()._check_params_vs_input(X, default_n_init=10)\n",
      "/home/bassturtle4/Desktop/SynologyDrive/2023yearproject/Training/env/lib/python3.10/site-packages/sklearn/cluster/_kmeans.py:1416: FutureWarning: The default value of `n_init` will change from 10 to 'auto' in 1.4. Set the value of `n_init` explicitly to suppress the warning\n",
      "  super()._check_params_vs_input(X, default_n_init=10)\n",
      "/home/bassturtle4/Desktop/SynologyDrive/2023yearproject/Training/env/lib/python3.10/site-packages/sklearn/cluster/_kmeans.py:1416: FutureWarning: The default value of `n_init` will change from 10 to 'auto' in 1.4. Set the value of `n_init` explicitly to suppress the warning\n",
      "  super()._check_params_vs_input(X, default_n_init=10)\n",
      "/home/bassturtle4/Desktop/SynologyDrive/2023yearproject/Training/env/lib/python3.10/site-packages/sklearn/cluster/_kmeans.py:1416: FutureWarning: The default value of `n_init` will change from 10 to 'auto' in 1.4. Set the value of `n_init` explicitly to suppress the warning\n",
      "  super()._check_params_vs_input(X, default_n_init=10)\n",
      "/home/bassturtle4/Desktop/SynologyDrive/2023yearproject/Training/env/lib/python3.10/site-packages/sklearn/cluster/_kmeans.py:1416: FutureWarning: The default value of `n_init` will change from 10 to 'auto' in 1.4. Set the value of `n_init` explicitly to suppress the warning\n",
      "  super()._check_params_vs_input(X, default_n_init=10)\n"
     ]
    }
   ],
   "source": [
    "# Range of k to check\n",
    "k_range = range(2, 20)\n",
    "\n",
    "sil_scores = []\n",
    "cal_scores = []\n",
    "\n",
    "for k in k_range:\n",
    "  # Cluster data into k clusters\n",
    "  kmeans = KMeans(n_clusters=k)\n",
    "  clusters = kmeans.fit_predict(df['embedding_128'].tolist())\n",
    "\n",
    "  # Score with metrics\n",
    "  sil_score = silhouette_score(df['embedding_128'].tolist(), clusters)\n",
    "  sil_scores.append(sil_score)\n",
    "\n",
    "  cal_score = calinski_harabasz_score(df['embedding_128'].tolist(), clusters)\n",
    "  cal_scores.append(cal_score)\n"
   ]
  },
  {
   "cell_type": "code",
   "execution_count": 72,
   "metadata": {
    "colab": {
     "base_uri": "https://localhost:8080/",
     "height": 471
    },
    "executionInfo": {
     "elapsed": 1848,
     "status": "ok",
     "timestamp": 1696095673118,
     "user": {
      "displayName": "Eduardo Ceh",
      "userId": "10908898085356262650"
     },
     "user_tz": 360
    },
    "id": "XQbw7qRXOVCG",
    "outputId": "a7e92848-fe0c-4f46-ee4b-c0bec623828b"
   },
   "outputs": [
    {
     "data": {
      "image/png": "[encoded data removed]",
      "text/plain": [
       "<Figure size 640x480 with 1 Axes>"
      ]
     },
     "metadata": {},
     "output_type": "display_data"
    }
   ],
   "source": [
    "# Plot scores\n",
    "plt.plot(k_range, sil_scores, label='Silhouette')\n",
    "new_list = range(math.floor(min(k_range)), math.ceil(max(k_range))+1)\n",
    "plt.xticks(new_list)\n",
    "plt.title('Silhouette Cluster Evaluation Scores')\n",
    "plt.xlabel('Size of k')\n",
    "plt.ylabel('Score')\n",
    "#plt.legend()\n",
    "plt.savefig(\"./shilouette_k.pdf\", bbox_inches='tight')\n",
    "plt.show()"
   ]
  },
  {
   "cell_type": "code",
   "execution_count": 73,
   "metadata": {
    "colab": {
     "base_uri": "https://localhost:8080/"
    },
    "executionInfo": {
     "elapsed": 119,
     "status": "ok",
     "timestamp": 1696095673118,
     "user": {
      "displayName": "Eduardo Ceh",
      "userId": "10908898085356262650"
     },
     "user_tz": 360
    },
    "id": "AKOwwqpvalkQ",
    "outputId": "56d9d402-3205-485e-9eec-91728ad85a51"
   },
   "outputs": [
    {
     "name": "stdout",
     "output_type": "stream",
     "text": [
      "[0.16881429, 0.16907611, 0.19731712, 0.21840046, 0.23191269, 0.2465758, 0.24100184, 0.20690852, 0.21261531, 0.18408589, 0.1733538, 0.16196842, 0.16101746, 0.15096292, 0.13697748, 0.13367565, 0.12990345, 0.12836157]\n"
     ]
    }
   ],
   "source": [
    "print(sil_scores)"
   ]
  },
  {
   "cell_type": "code",
   "execution_count": 74,
   "metadata": {
    "colab": {
     "base_uri": "https://localhost:8080/",
     "height": 471
    },
    "executionInfo": {
     "elapsed": 580,
     "status": "ok",
     "timestamp": 1696095673588,
     "user": {
      "displayName": "Eduardo Ceh",
      "userId": "10908898085356262650"
     },
     "user_tz": 360
    },
    "id": "-usoKzuoOU_R",
    "outputId": "a9ffd237-6fb2-42f1-c1e4-ed44b38987a4"
   },
   "outputs": [
    {
     "data": {
      "image/png": "[encoded data removed]",
      "text/plain": [
       "<Figure size 640x480 with 1 Axes>"
      ]
     },
     "metadata": {},
     "output_type": "display_data"
    }
   ],
   "source": [
    "# Plot scores\n",
    "plt.plot(k_range, cal_scores, label='Calinski-Harabasz')\n",
    "new_list = range(math.floor(min(k_range)), math.ceil(max(k_range))+1)\n",
    "plt.xticks(new_list)\n",
    "plt.title('Cluster Evaluation Scores')\n",
    "plt.xlabel('k')\n",
    "plt.legend()\n",
    "plt.show()"
   ]
  },
  {
   "cell_type": "markdown",
   "metadata": {
    "id": "0PQhdBq_bKCg"
   },
   "source": [
    "It looks that k=7 is fine"
   ]
  },
  {
   "cell_type": "markdown",
   "metadata": {
    "id": "3CH-eKKGcvLp"
   },
   "source": [
    "### Lets use the 128 dimensions and 7 clusters"
   ]
  },
  {
   "cell_type": "code",
   "execution_count": 75,
   "metadata": {
    "executionInfo": {
     "elapsed": 119,
     "status": "ok",
     "timestamp": 1696095673588,
     "user": {
      "displayName": "Eduardo Ceh",
      "userId": "10908898085356262650"
     },
     "user_tz": 360
    },
    "id": "Euoo-StyOU2S"
   },
   "outputs": [],
   "source": [
    "all_d2v_vecs = df['embedding_128'].tolist()"
   ]
  },
  {
   "cell_type": "code",
   "execution_count": 76,
   "metadata": {
    "colab": {
     "base_uri": "https://localhost:8080/"
    },
    "executionInfo": {
     "elapsed": 119,
     "status": "ok",
     "timestamp": 1696095673589,
     "user": {
      "displayName": "Eduardo Ceh",
      "userId": "10908898085356262650"
     },
     "user_tz": 360
    },
    "id": "wEtGkT6xdXUw",
    "outputId": "62a9272c-fb49-4306-ab2d-bc4b65e448e2"
   },
   "outputs": [
    {
     "data": {
      "text/plain": [
       "(13993, 128)"
      ]
     },
     "execution_count": 76,
     "metadata": {},
     "output_type": "execute_result"
    }
   ],
   "source": [
    "np.shape(all_d2v_vecs)"
   ]
  },
  {
   "cell_type": "code",
   "execution_count": 77,
   "metadata": {
    "colab": {
     "base_uri": "https://localhost:8080/"
    },
    "executionInfo": {
     "elapsed": 111,
     "status": "ok",
     "timestamp": 1696095673589,
     "user": {
      "displayName": "Eduardo Ceh",
      "userId": "10908898085356262650"
     },
     "user_tz": 360
    },
    "id": "HZEQEkC5diwB",
    "outputId": "99e64023-0f22-4cc3-cb48-6f084e218872"
   },
   "outputs": [
    {
     "data": {
      "text/plain": [
       "array([ 4.65307571e-02, -2.80030239e-02,  1.76510159e-02,  2.58537810e-02,\n",
       "       -8.44368618e-03,  2.02793069e-02, -4.96759340e-02, -3.55212055e-02,\n",
       "        4.72903671e-03, -2.31678989e-02,  4.53469269e-02,  2.84631941e-02,\n",
       "       -3.78148444e-02, -3.49228643e-02,  2.19352432e-02, -9.06574540e-03,\n",
       "        2.98964907e-03,  1.70572493e-02,  1.85984913e-02, -1.66763403e-02,\n",
       "        1.62759516e-03,  1.28895938e-02,  5.23671359e-02, -4.18915339e-02,\n",
       "       -2.26227101e-02, -1.00380061e-02,  8.69263196e-04,  4.77367043e-02,\n",
       "        9.43654217e-03, -2.98446529e-02, -3.17643443e-03, -5.32218069e-02,\n",
       "       -1.91425700e-02,  2.51342766e-02, -2.85559483e-02,  1.45901199e-02,\n",
       "       -1.95088014e-02, -3.92069742e-02,  1.67359393e-02,  9.00169183e-03,\n",
       "        3.35937068e-02, -1.91695131e-02, -2.83634942e-02,  1.28412507e-02,\n",
       "        6.98833319e-05, -6.87235547e-03,  4.77441661e-02,  2.65697222e-02,\n",
       "       -1.18336519e-02,  1.01395594e-02, -1.35812303e-02, -3.04339193e-02,\n",
       "        1.44260116e-02,  4.84800786e-02, -4.08071168e-02, -6.47936482e-03,\n",
       "       -2.31718794e-02,  1.22028752e-03,  3.97776812e-02,  4.66824323e-02,\n",
       "        1.50174517e-02, -4.73745689e-02,  1.32589415e-02,  4.19602990e-02,\n",
       "       -1.53421899e-02,  3.76067460e-02,  4.44523990e-02, -1.98076386e-03,\n",
       "        3.29445638e-02,  9.30313673e-03, -8.42359737e-02,  1.36789875e-02,\n",
       "        2.13331170e-02, -5.31194471e-02, -1.90822706e-02, -1.32000772e-03,\n",
       "       -2.36423314e-02, -1.47646535e-02, -3.11427191e-02, -3.67088728e-02,\n",
       "        2.74506174e-02,  1.04532065e-02, -3.33919302e-02,  2.00659391e-02,\n",
       "       -4.43224646e-02, -1.83637924e-02, -1.43860290e-02, -2.67892741e-02,\n",
       "        1.67804174e-02, -1.87152214e-02,  5.17907217e-02,  6.55304864e-02,\n",
       "        3.08965072e-02, -6.24337196e-02, -4.84567694e-03,  3.27992477e-02,\n",
       "        3.64208370e-02, -5.92330657e-03,  1.40499203e-02, -2.02379823e-02,\n",
       "        1.43367555e-02,  2.19209753e-02,  1.26405191e-02,  1.29838996e-02,\n",
       "        5.28334975e-02, -8.21347785e-05,  9.22810845e-03, -4.10805233e-02,\n",
       "       -2.36674808e-02,  4.43431847e-02, -2.78191105e-03,  8.39682948e-03,\n",
       "        4.50235121e-02,  2.77565923e-02,  2.72908043e-02,  7.22505106e-03,\n",
       "       -3.09870150e-02, -2.02273880e-03,  1.57511998e-02, -3.52594033e-02,\n",
       "        8.16905871e-03, -3.21978368e-02, -1.56922881e-02,  3.99370212e-03,\n",
       "        1.91617161e-02,  1.81679837e-02, -3.53139825e-02,  4.98630852e-02],\n",
       "      dtype=float32)"
      ]
     },
     "execution_count": 77,
     "metadata": {},
     "output_type": "execute_result"
    }
   ],
   "source": [
    "all_d2v_vecs[0]"
   ]
  },
  {
   "cell_type": "code",
   "execution_count": 78,
   "metadata": {
    "colab": {
     "base_uri": "https://localhost:8080/"
    },
    "executionInfo": {
     "elapsed": 3103,
     "status": "ok",
     "timestamp": 1696095676589,
     "user": {
      "displayName": "Eduardo Ceh",
      "userId": "10908898085356262650"
     },
     "user_tz": 360
    },
    "id": "Jb6hpr4pc8zr",
    "outputId": "a73098f4-3294-4c0b-90a9-ecd103454115"
   },
   "outputs": [
    {
     "name": "stderr",
     "output_type": "stream",
     "text": [
      "/home/bassturtle4/Desktop/SynologyDrive/2023yearproject/Training/env/lib/python3.10/site-packages/sklearn/cluster/_kmeans.py:1416: FutureWarning: The default value of `n_init` will change from 10 to 'auto' in 1.4. Set the value of `n_init` explicitly to suppress the warning\n",
      "  super()._check_params_vs_input(X, default_n_init=10)\n"
     ]
    }
   ],
   "source": [
    "kmeans = KMeans(n_clusters=7, random_state=0).fit(all_d2v_vecs)"
   ]
  },
  {
   "cell_type": "code",
   "execution_count": 79,
   "metadata": {
    "colab": {
     "base_uri": "https://localhost:8080/"
    },
    "executionInfo": {
     "elapsed": 117,
     "status": "ok",
     "timestamp": 1696095676589,
     "user": {
      "displayName": "Eduardo Ceh",
      "userId": "10908898085356262650"
     },
     "user_tz": 360
    },
    "id": "FES_UFEPc8vG",
    "outputId": "985b9031-0dc9-4675-dfbc-e2b7a59d7339"
   },
   "outputs": [
    {
     "data": {
      "text/plain": [
       "array([3, 4, 3, ..., 1, 1, 1], dtype=int32)"
      ]
     },
     "execution_count": 79,
     "metadata": {},
     "output_type": "execute_result"
    }
   ],
   "source": [
    "kmeans.labels_"
   ]
  },
  {
   "cell_type": "code",
   "execution_count": 80,
   "metadata": {
    "colab": {
     "base_uri": "https://localhost:8080/",
     "height": 889
    },
    "executionInfo": {
     "elapsed": 115,
     "status": "ok",
     "timestamp": 1696095676589,
     "user": {
      "displayName": "Eduardo Ceh",
      "userId": "10908898085356262650"
     },
     "user_tz": 360
    },
    "id": "tcX5k8kcc8jI",
    "outputId": "a6198aac-57eb-4661-c76b-e0f523cb5033"
   },
   "outputs": [
    {
     "data": {
      "text/html": [
       "<div>\n",
       "<style scoped>\n",
       "    .dataframe tbody tr th:only-of-type {\n",
       "        vertical-align: middle;\n",
       "    }\n",
       "\n",
       "    .dataframe tbody tr th {\n",
       "        vertical-align: top;\n",
       "    }\n",
       "\n",
       "    .dataframe thead th {\n",
       "        text-align: right;\n",
       "    }\n",
       "</style>\n",
       "<table border=\"1\" class=\"dataframe\">\n",
       "  <thead>\n",
       "    <tr style=\"text-align: right;\">\n",
       "      <th></th>\n",
       "      <th>Error</th>\n",
       "      <th>Category</th>\n",
       "      <th>clean</th>\n",
       "      <th>textList</th>\n",
       "      <th>embedding_16</th>\n",
       "      <th>embedding_32</th>\n",
       "      <th>embedding_64</th>\n",
       "      <th>embedding_128</th>\n",
       "      <th>embedding_256</th>\n",
       "      <th>embedding_512</th>\n",
       "      <th>d2v_clusters</th>\n",
       "    </tr>\n",
       "  </thead>\n",
       "  <tbody>\n",
       "    <tr>\n",
       "      <th>0</th>\n",
       "      <td>Missing package-info java file</td>\n",
       "      <td>JavadocPackage</td>\n",
       "      <td>missing package-info java file</td>\n",
       "      <td>[missing, package-info, java, file]</td>\n",
       "      <td>[-0.020786954, 0.10096427, 0.06689861, 0.02786...</td>\n",
       "      <td>[0.08983533, 0.16259053, 0.0379792, 0.02052337...</td>\n",
       "      <td>[0.0051400485, 0.015249636, -0.018411381, -0.0...</td>\n",
       "      <td>[0.046530757, -0.028003024, 0.017651016, 0.025...</td>\n",
       "      <td>[0.033999085, -0.00010671813, -0.026917968, -0...</td>\n",
       "      <td>[0.0044744536, 0.0027532997, -0.022001958, 0.0...</td>\n",
       "      <td>3</td>\n",
       "    </tr>\n",
       "    <tr>\n",
       "      <th>1</th>\n",
       "      <td>Utility classes should not have a public or de...</td>\n",
       "      <td>HideUtilityClassConstructor</td>\n",
       "      <td>utility classes should not have a public or de...</td>\n",
       "      <td>[utility, classes, should, not, have, a, publi...</td>\n",
       "      <td>[-0.056484606, 0.10655956, -0.016981056, 0.001...</td>\n",
       "      <td>[0.03642323, 0.04437619, -0.026060775, -0.0057...</td>\n",
       "      <td>[-0.012755864, -0.06158496, 0.041035652, -0.02...</td>\n",
       "      <td>[0.0071776947, -0.014533329, -0.0030333663, 0....</td>\n",
       "      <td>[0.0049930178, -0.015992474, -0.022407476, 0.0...</td>\n",
       "      <td>[-0.0024499148, -0.0003389456, -0.0054792454, ...</td>\n",
       "      <td>4</td>\n",
       "    </tr>\n",
       "    <tr>\n",
       "      <th>2</th>\n",
       "      <td>Missing a Javadoc comment</td>\n",
       "      <td>MissingJavadocMethod</td>\n",
       "      <td>missing a javadoc comment</td>\n",
       "      <td>[missing, a, javadoc, comment]</td>\n",
       "      <td>[0.042097162, 0.19575374, -0.065909825, 0.0889...</td>\n",
       "      <td>[0.11360577, 0.12294841, 0.08685094, 0.0617528...</td>\n",
       "      <td>[0.07775649, -0.007812605, 0.060900353, -0.045...</td>\n",
       "      <td>[0.017690511, -0.019954056, 0.023757454, 0.033...</td>\n",
       "      <td>[0.027701082, -0.0130960485, -0.030088408, -0....</td>\n",
       "      <td>[-0.0051536667, -0.0058729155, -0.013779759, 0...</td>\n",
       "      <td>3</td>\n",
       "    </tr>\n",
       "    <tr>\n",
       "      <th>3</th>\n",
       "      <td>Parameter args should be final</td>\n",
       "      <td>FinalParameters</td>\n",
       "      <td>parameter &lt;a_parameter_name&gt; should be final</td>\n",
       "      <td>[parameter, &lt;a_parameter_name&gt;, should, be, fi...</td>\n",
       "      <td>[0.022309009, -0.021507645, 0.0430508, -0.0671...</td>\n",
       "      <td>[0.078750394, 0.091248944, 0.029156758, 0.0082...</td>\n",
       "      <td>[0.033342227, 0.01531933, 0.054551654, -0.0610...</td>\n",
       "      <td>[0.027908793, -0.039979167, 0.004942894, 0.061...</td>\n",
       "      <td>[0.0014062958, -0.014850111, -0.022861613, 0.0...</td>\n",
       "      <td>[0.0018124045, 0.008401314, 0.00438754, 0.0244...</td>\n",
       "      <td>6</td>\n",
       "    </tr>\n",
       "    <tr>\n",
       "      <th>4</th>\n",
       "      <td>File contains tab characters (this is the firs...</td>\n",
       "      <td>FileTabCharacter</td>\n",
       "      <td>file contains tab characters (this is the firs...</td>\n",
       "      <td>[file, contains, tab, characters, (this, is, t...</td>\n",
       "      <td>[0.04316136, -0.015873155, 0.045204766, 0.1130...</td>\n",
       "      <td>[0.025382416, 0.017307987, -0.0369536, 0.02463...</td>\n",
       "      <td>[0.015964692, 0.0057203234, 0.024125999, 0.019...</td>\n",
       "      <td>[0.022641249, -0.0057162303, -0.02730995, 0.00...</td>\n",
       "      <td>[0.026538406, 0.010333137, -0.003303986, 0.001...</td>\n",
       "      <td>[0.019207833, 0.0074250023, -0.021491263, 0.01...</td>\n",
       "      <td>4</td>\n",
       "    </tr>\n",
       "    <tr>\n",
       "      <th>...</th>\n",
       "      <td>...</td>\n",
       "      <td>...</td>\n",
       "      <td>...</td>\n",
       "      <td>...</td>\n",
       "      <td>...</td>\n",
       "      <td>...</td>\n",
       "      <td>...</td>\n",
       "      <td>...</td>\n",
       "      <td>...</td>\n",
       "      <td>...</td>\n",
       "      <td>...</td>\n",
       "    </tr>\n",
       "    <tr>\n",
       "      <th>13988</th>\n",
       "      <td>Parameter args should be final</td>\n",
       "      <td>FinalParameters</td>\n",
       "      <td>parameter &lt;a_parameter_name&gt; should be final</td>\n",
       "      <td>[parameter, &lt;a_parameter_name&gt;, should, be, fi...</td>\n",
       "      <td>[-0.04472071, -0.052653395, 0.10609175, -0.044...</td>\n",
       "      <td>[0.052218057, 0.1568526, 0.08087563, 0.0440476...</td>\n",
       "      <td>[0.052102022, -0.016374646, 0.031454097, -0.05...</td>\n",
       "      <td>[0.018056268, -0.036576446, 0.00044487783, 0.0...</td>\n",
       "      <td>[-0.0102502545, 0.012521232, -0.027437862, 0.0...</td>\n",
       "      <td>[0.0039928337, 0.0041400385, -0.008404234, 0.0...</td>\n",
       "      <td>6</td>\n",
       "    </tr>\n",
       "    <tr>\n",
       "      <th>13989</th>\n",
       "      <td>Line has trailing spaces</td>\n",
       "      <td>RegexpSingleline</td>\n",
       "      <td>line has trailing spaces</td>\n",
       "      <td>[line, has, trailing, spaces]</td>\n",
       "      <td>[0.07011451, -0.018463802, -0.11870359, 0.0200...</td>\n",
       "      <td>[0.08190379, 0.12500623, 0.07286869, 0.0691072...</td>\n",
       "      <td>[0.047725607, -0.043557685, 0.06741346, -0.029...</td>\n",
       "      <td>[0.009279226, -0.0344831, -0.0132594295, -0.02...</td>\n",
       "      <td>[0.016380074, -0.018516699, -0.0336498, 0.0246...</td>\n",
       "      <td>[-0.0038286257, -0.0009190942, -0.004244009, 0...</td>\n",
       "      <td>1</td>\n",
       "    </tr>\n",
       "    <tr>\n",
       "      <th>13990</th>\n",
       "      <td>Line has trailing spaces</td>\n",
       "      <td>RegexpSingleline</td>\n",
       "      <td>line has trailing spaces</td>\n",
       "      <td>[line, has, trailing, spaces]</td>\n",
       "      <td>[0.064582996, 0.004800853, -0.057709534, -0.03...</td>\n",
       "      <td>[0.020510986, 0.13509709, 0.105639316, 0.11950...</td>\n",
       "      <td>[0.057278935, -0.031364985, 0.04351981, -0.055...</td>\n",
       "      <td>[-0.003117432, -0.029711382, 0.0009364558, -0....</td>\n",
       "      <td>[0.0142743355, -0.021172138, -0.052057106, 0.0...</td>\n",
       "      <td>[-0.0032363767, 0.0024782657, -0.010697833, -0...</td>\n",
       "      <td>1</td>\n",
       "    </tr>\n",
       "    <tr>\n",
       "      <th>13991</th>\n",
       "      <td>Line has trailing spaces</td>\n",
       "      <td>RegexpSingleline</td>\n",
       "      <td>line has trailing spaces</td>\n",
       "      <td>[line, has, trailing, spaces]</td>\n",
       "      <td>[0.13132797, -0.0952668, -0.1321964, -0.112697...</td>\n",
       "      <td>[0.048927214, 0.11106054, 0.050291013, 0.11606...</td>\n",
       "      <td>[0.09185143, -0.057518605, 0.07014413, -0.0271...</td>\n",
       "      <td>[0.007880964, -0.042361125, -0.01480125, -0.02...</td>\n",
       "      <td>[0.016249483, -0.010373586, -0.060711894, 0.02...</td>\n",
       "      <td>[-0.0073067434, 0.00257762, -0.006570643, 0.00...</td>\n",
       "      <td>1</td>\n",
       "    </tr>\n",
       "    <tr>\n",
       "      <th>13992</th>\n",
       "      <td>Line has trailing spaces</td>\n",
       "      <td>RegexpSingleline</td>\n",
       "      <td>line has trailing spaces</td>\n",
       "      <td>[line, has, trailing, spaces]</td>\n",
       "      <td>[0.09808983, -0.026911814, -0.052481923, -0.06...</td>\n",
       "      <td>[0.049535807, 0.16268076, 0.07223968, 0.125740...</td>\n",
       "      <td>[0.044115443, -0.05250032, 0.05129053, -0.0135...</td>\n",
       "      <td>[-0.0058131786, -0.02231738, -0.016393619, -0....</td>\n",
       "      <td>[0.026737597, -0.014378901, -0.0614627, 0.0377...</td>\n",
       "      <td>[-0.0016778258, 0.005727346, -0.021448158, -0....</td>\n",
       "      <td>1</td>\n",
       "    </tr>\n",
       "  </tbody>\n",
       "</table>\n",
       "<p>13993 rows × 11 columns</p>\n",
       "</div>"
      ],
      "text/plain": [
       "                                                   Error  \\\n",
       "0                         Missing package-info java file   \n",
       "1      Utility classes should not have a public or de...   \n",
       "2                              Missing a Javadoc comment   \n",
       "3                         Parameter args should be final   \n",
       "4      File contains tab characters (this is the firs...   \n",
       "...                                                  ...   \n",
       "13988                     Parameter args should be final   \n",
       "13989                           Line has trailing spaces   \n",
       "13990                           Line has trailing spaces   \n",
       "13991                           Line has trailing spaces   \n",
       "13992                           Line has trailing spaces   \n",
       "\n",
       "                           Category  \\\n",
       "0                   JavadocPackage    \n",
       "1      HideUtilityClassConstructor    \n",
       "2             MissingJavadocMethod    \n",
       "3                  FinalParameters    \n",
       "4                 FileTabCharacter    \n",
       "...                             ...   \n",
       "13988              FinalParameters    \n",
       "13989             RegexpSingleline    \n",
       "13990             RegexpSingleline    \n",
       "13991             RegexpSingleline    \n",
       "13992             RegexpSingleline    \n",
       "\n",
       "                                                   clean  \\\n",
       "0                         missing package-info java file   \n",
       "1      utility classes should not have a public or de...   \n",
       "2                              missing a javadoc comment   \n",
       "3           parameter <a_parameter_name> should be final   \n",
       "4      file contains tab characters (this is the firs...   \n",
       "...                                                  ...   \n",
       "13988       parameter <a_parameter_name> should be final   \n",
       "13989                           line has trailing spaces   \n",
       "13990                           line has trailing spaces   \n",
       "13991                           line has trailing spaces   \n",
       "13992                           line has trailing spaces   \n",
       "\n",
       "                                                textList  \\\n",
       "0                    [missing, package-info, java, file]   \n",
       "1      [utility, classes, should, not, have, a, publi...   \n",
       "2                         [missing, a, javadoc, comment]   \n",
       "3      [parameter, <a_parameter_name>, should, be, fi...   \n",
       "4      [file, contains, tab, characters, (this, is, t...   \n",
       "...                                                  ...   \n",
       "13988  [parameter, <a_parameter_name>, should, be, fi...   \n",
       "13989                      [line, has, trailing, spaces]   \n",
       "13990                      [line, has, trailing, spaces]   \n",
       "13991                      [line, has, trailing, spaces]   \n",
       "13992                      [line, has, trailing, spaces]   \n",
       "\n",
       "                                            embedding_16  \\\n",
       "0      [-0.020786954, 0.10096427, 0.06689861, 0.02786...   \n",
       "1      [-0.056484606, 0.10655956, -0.016981056, 0.001...   \n",
       "2      [0.042097162, 0.19575374, -0.065909825, 0.0889...   \n",
       "3      [0.022309009, -0.021507645, 0.0430508, -0.0671...   \n",
       "4      [0.04316136, -0.015873155, 0.045204766, 0.1130...   \n",
       "...                                                  ...   \n",
       "13988  [-0.04472071, -0.052653395, 0.10609175, -0.044...   \n",
       "13989  [0.07011451, -0.018463802, -0.11870359, 0.0200...   \n",
       "13990  [0.064582996, 0.004800853, -0.057709534, -0.03...   \n",
       "13991  [0.13132797, -0.0952668, -0.1321964, -0.112697...   \n",
       "13992  [0.09808983, -0.026911814, -0.052481923, -0.06...   \n",
       "\n",
       "                                            embedding_32  \\\n",
       "0      [0.08983533, 0.16259053, 0.0379792, 0.02052337...   \n",
       "1      [0.03642323, 0.04437619, -0.026060775, -0.0057...   \n",
       "2      [0.11360577, 0.12294841, 0.08685094, 0.0617528...   \n",
       "3      [0.078750394, 0.091248944, 0.029156758, 0.0082...   \n",
       "4      [0.025382416, 0.017307987, -0.0369536, 0.02463...   \n",
       "...                                                  ...   \n",
       "13988  [0.052218057, 0.1568526, 0.08087563, 0.0440476...   \n",
       "13989  [0.08190379, 0.12500623, 0.07286869, 0.0691072...   \n",
       "13990  [0.020510986, 0.13509709, 0.105639316, 0.11950...   \n",
       "13991  [0.048927214, 0.11106054, 0.050291013, 0.11606...   \n",
       "13992  [0.049535807, 0.16268076, 0.07223968, 0.125740...   \n",
       "\n",
       "                                            embedding_64  \\\n",
       "0      [0.0051400485, 0.015249636, -0.018411381, -0.0...   \n",
       "1      [-0.012755864, -0.06158496, 0.041035652, -0.02...   \n",
       "2      [0.07775649, -0.007812605, 0.060900353, -0.045...   \n",
       "3      [0.033342227, 0.01531933, 0.054551654, -0.0610...   \n",
       "4      [0.015964692, 0.0057203234, 0.024125999, 0.019...   \n",
       "...                                                  ...   \n",
       "13988  [0.052102022, -0.016374646, 0.031454097, -0.05...   \n",
       "13989  [0.047725607, -0.043557685, 0.06741346, -0.029...   \n",
       "13990  [0.057278935, -0.031364985, 0.04351981, -0.055...   \n",
       "13991  [0.09185143, -0.057518605, 0.07014413, -0.0271...   \n",
       "13992  [0.044115443, -0.05250032, 0.05129053, -0.0135...   \n",
       "\n",
       "                                           embedding_128  \\\n",
       "0      [0.046530757, -0.028003024, 0.017651016, 0.025...   \n",
       "1      [0.0071776947, -0.014533329, -0.0030333663, 0....   \n",
       "2      [0.017690511, -0.019954056, 0.023757454, 0.033...   \n",
       "3      [0.027908793, -0.039979167, 0.004942894, 0.061...   \n",
       "4      [0.022641249, -0.0057162303, -0.02730995, 0.00...   \n",
       "...                                                  ...   \n",
       "13988  [0.018056268, -0.036576446, 0.00044487783, 0.0...   \n",
       "13989  [0.009279226, -0.0344831, -0.0132594295, -0.02...   \n",
       "13990  [-0.003117432, -0.029711382, 0.0009364558, -0....   \n",
       "13991  [0.007880964, -0.042361125, -0.01480125, -0.02...   \n",
       "13992  [-0.0058131786, -0.02231738, -0.016393619, -0....   \n",
       "\n",
       "                                           embedding_256  \\\n",
       "0      [0.033999085, -0.00010671813, -0.026917968, -0...   \n",
       "1      [0.0049930178, -0.015992474, -0.022407476, 0.0...   \n",
       "2      [0.027701082, -0.0130960485, -0.030088408, -0....   \n",
       "3      [0.0014062958, -0.014850111, -0.022861613, 0.0...   \n",
       "4      [0.026538406, 0.010333137, -0.003303986, 0.001...   \n",
       "...                                                  ...   \n",
       "13988  [-0.0102502545, 0.012521232, -0.027437862, 0.0...   \n",
       "13989  [0.016380074, -0.018516699, -0.0336498, 0.0246...   \n",
       "13990  [0.0142743355, -0.021172138, -0.052057106, 0.0...   \n",
       "13991  [0.016249483, -0.010373586, -0.060711894, 0.02...   \n",
       "13992  [0.026737597, -0.014378901, -0.0614627, 0.0377...   \n",
       "\n",
       "                                           embedding_512  d2v_clusters  \n",
       "0      [0.0044744536, 0.0027532997, -0.022001958, 0.0...             3  \n",
       "1      [-0.0024499148, -0.0003389456, -0.0054792454, ...             4  \n",
       "2      [-0.0051536667, -0.0058729155, -0.013779759, 0...             3  \n",
       "3      [0.0018124045, 0.008401314, 0.00438754, 0.0244...             6  \n",
       "4      [0.019207833, 0.0074250023, -0.021491263, 0.01...             4  \n",
       "...                                                  ...           ...  \n",
       "13988  [0.0039928337, 0.0041400385, -0.008404234, 0.0...             6  \n",
       "13989  [-0.0038286257, -0.0009190942, -0.004244009, 0...             1  \n",
       "13990  [-0.0032363767, 0.0024782657, -0.010697833, -0...             1  \n",
       "13991  [-0.0073067434, 0.00257762, -0.006570643, 0.00...             1  \n",
       "13992  [-0.0016778258, 0.005727346, -0.021448158, -0....             1  \n",
       "\n",
       "[13993 rows x 11 columns]"
      ]
     },
     "execution_count": 80,
     "metadata": {},
     "output_type": "execute_result"
    }
   ],
   "source": [
    "df[\"d2v_clusters\"] = kmeans.labels_\n",
    "df"
   ]
  },
  {
   "cell_type": "code",
   "execution_count": 81,
   "metadata": {
    "colab": {
     "base_uri": "https://localhost:8080/",
     "height": 467
    },
    "executionInfo": {
     "elapsed": 731,
     "status": "ok",
     "timestamp": 1696095868116,
     "user": {
      "displayName": "Eduardo Ceh",
      "userId": "10908898085356262650"
     },
     "user_tz": 360
    },
    "id": "OquXmKQyeyMY",
    "outputId": "192d1850-7f0a-4d09-8696-1f2a3fac28f1"
   },
   "outputs": [
    {
     "data": {
      "image/png": "[encoded data removed]",
      "text/plain": [
       "<Figure size 640x480 with 1 Axes>"
      ]
     },
     "metadata": {},
     "output_type": "display_data"
    }
   ],
   "source": [
    "ax = df['d2v_clusters'].value_counts().plot.bar()\n",
    "\n",
    "ax.set_title('Distribution of Clusters')\n",
    "ax.set_xlabel('Clusters')\n",
    "ax.set_ylabel('Number of Errors')\n",
    "\n",
    "plt.show()"
   ]
  },
  {
   "cell_type": "code",
   "execution_count": 82,
   "metadata": {
    "executionInfo": {
     "elapsed": 433,
     "status": "ok",
     "timestamp": 1696095880494,
     "user": {
      "displayName": "Eduardo Ceh",
      "userId": "10908898085356262650"
     },
     "user_tz": 360
    },
    "id": "ClTkCgw-MSYN"
   },
   "outputs": [],
   "source": [
    "# Remove whitespace around plot\n",
    "fig = ax.get_figure()\n",
    "# fig.tight_layout()\n",
    "\n",
    "# Save just the plot area to PDF\n",
    "fig.savefig('./hist_clusters.pdf', bbox_inches='tight')"
   ]
  },
  {
   "cell_type": "code",
   "execution_count": 83,
   "metadata": {
    "colab": {
     "base_uri": "https://localhost:8080/"
    },
    "executionInfo": {
     "elapsed": 163,
     "status": "ok",
     "timestamp": 1696095677054,
     "user": {
      "displayName": "Eduardo Ceh",
      "userId": "10908898085356262650"
     },
     "user_tz": 360
    },
    "id": "nyN6GpoAdzt6",
    "outputId": "36696597-98ef-4090-e9d2-9f45da2a3647"
   },
   "outputs": [
    {
     "name": "stdout",
     "output_type": "stream",
     "text": [
      "7         line is longer than characters (found )\n",
      "9         line is longer than characters (found )\n",
      "19                 missing package-info java file\n",
      "28        line is longer than characters (found )\n",
      "29        line is longer than characters (found )\n",
      "                           ...                   \n",
      "13941    <operator> is not followed by whitespace\n",
      "13946     line is longer than characters (found )\n",
      "13952     line is longer than characters (found )\n",
      "13954     line is longer than characters (found )\n",
      "13964     line is longer than characters (found )\n",
      "Name: clean, Length: 1539, dtype: object\n",
      "1539\n"
     ]
    }
   ],
   "source": [
    "clust_number = 2\n",
    "print(df[df['d2v_clusters'] == clust_number]['clean'])\n",
    "print(df[df['d2v_clusters'] == clust_number]['clean'].count())"
   ]
  },
  {
   "cell_type": "code",
   "execution_count": 84,
   "metadata": {
    "colab": {
     "base_uri": "https://localhost:8080/"
    },
    "executionInfo": {
     "elapsed": 156,
     "status": "ok",
     "timestamp": 1696095677054,
     "user": {
      "displayName": "Eduardo Ceh",
      "userId": "10908898085356262650"
     },
     "user_tz": 360
    },
    "id": "BdH6J1bCdzg6",
    "outputId": "1d631d4c-704a-42cd-e619-030e9f42b2ed"
   },
   "outputs": [
    {
     "name": "stdout",
     "output_type": "stream",
     "text": [
      "18          line is longer than characters (found )\n",
      "21       <operator> is not preceded with whitespace\n",
      "27          line is longer than characters (found )\n",
      "31         <operator> is not followed by whitespace\n",
      "32       <operator> is not preceded with whitespace\n",
      "                            ...                    \n",
      "13957      <operator> is not followed by whitespace\n",
      "13958      <operator> is not followed by whitespace\n",
      "13973      <operator> is not followed by whitespace\n",
      "13974      <operator> is not followed by whitespace\n",
      "13976    <operator> is not preceded with whitespace\n",
      "Name: clean, Length: 4507, dtype: object\n",
      "4507\n"
     ]
    }
   ],
   "source": [
    "clust_number = 0\n",
    "print(df[df['d2v_clusters'] == clust_number]['clean'])\n",
    "print(df[df['d2v_clusters'] == clust_number]['clean'].count())"
   ]
  },
  {
   "cell_type": "code",
   "execution_count": 85,
   "metadata": {
    "colab": {
     "base_uri": "https://localhost:8080/"
    },
    "executionInfo": {
     "elapsed": 148,
     "status": "ok",
     "timestamp": 1696095677054,
     "user": {
      "displayName": "Eduardo Ceh",
      "userId": "10908898085356262650"
     },
     "user_tz": 360
    },
    "id": "Tf7fp77keK4t",
    "outputId": "89c438e2-fb41-4cfa-9efa-1159ba03505f"
   },
   "outputs": [
    {
     "name": "stdout",
     "output_type": "stream",
     "text": [
      "296      <operator> should be on the same line as the n...\n",
      "331                        'int' is followed by whitespace\n",
      "384                        'int' is followed by whitespace\n",
      "402                        'int' is followed by whitespace\n",
      "405                        'int' is followed by whitespace\n",
      "                               ...                        \n",
      "13880    class <a_class_name> looks like designed for e...\n",
      "13916    <operator> should be on the same line as the n...\n",
      "13942                      ';' is preceded with whitespace\n",
      "13970                 <braket> is preceded with whitespace\n",
      "13975                 <braket> is preceded with whitespace\n",
      "Name: clean, Length: 546, dtype: object\n",
      "546\n"
     ]
    }
   ],
   "source": [
    "clust_number = 5\n",
    "print(df[df['d2v_clusters'] == clust_number]['clean'])\n",
    "print(df[df['d2v_clusters'] == clust_number]['clean'].count())"
   ]
  },
  {
   "cell_type": "code",
   "execution_count": 86,
   "metadata": {
    "colab": {
     "base_uri": "https://localhost:8080/"
    },
    "executionInfo": {
     "elapsed": 387,
     "status": "ok",
     "timestamp": 1696097229635,
     "user": {
      "displayName": "Eduardo Ceh",
      "userId": "10908898085356262650"
     },
     "user_tz": 360
    },
    "id": "4Bi6AGIBfETB",
    "outputId": "b7b59dce-0b3b-4866-ee4d-5883c6d00d1c"
   },
   "outputs": [
    {
     "name": "stdout",
     "output_type": "stream",
     "text": [
      "5        line has trailing spaces\n",
      "6        line has trailing spaces\n",
      "8        line has trailing spaces\n",
      "22       line has trailing spaces\n",
      "23       line has trailing spaces\n",
      "                   ...           \n",
      "13968    line has trailing spaces\n",
      "13989    line has trailing spaces\n",
      "13990    line has trailing spaces\n",
      "13991    line has trailing spaces\n",
      "13992    line has trailing spaces\n",
      "Name: clean, Length: 1568, dtype: object\n",
      "1568\n"
     ]
    }
   ],
   "source": [
    "clust_number = 1\n",
    "print(df[df['d2v_clusters'] == clust_number]['clean'])\n",
    "print(df[df['d2v_clusters'] == clust_number]['clean'].count())"
   ]
  },
  {
   "cell_type": "code",
   "execution_count": 87,
   "metadata": {
    "colab": {
     "base_uri": "https://localhost:8080/"
    },
    "executionInfo": {
     "elapsed": 133,
     "status": "ok",
     "timestamp": 1696095677055,
     "user": {
      "displayName": "Eduardo Ceh",
      "userId": "10908898085356262650"
     },
     "user_tz": 360
    },
    "id": "wspncWVtfD07",
    "outputId": "624c3ecf-cdbc-41b3-96b1-cebc99dace17"
   },
   "outputs": [
    {
     "name": "stdout",
     "output_type": "stream",
     "text": [
      "3             parameter <a_parameter_name> should be final\n",
      "11       utility classes should not have a public or de...\n",
      "13            parameter <a_parameter_name> should be final\n",
      "25            parameter <a_parameter_name> should be final\n",
      "26               <operator> should be on the previous line\n",
      "                               ...                        \n",
      "13981            <operator> should be on the previous line\n",
      "13982            <operator> should be on the previous line\n",
      "13984                       missing package-info java file\n",
      "13986            <operator> should be on the previous line\n",
      "13988         parameter <a_parameter_name> should be final\n",
      "Name: clean, Length: 2325, dtype: object\n",
      "2325\n"
     ]
    }
   ],
   "source": [
    "clust_number = 6\n",
    "print(df[df['d2v_clusters'] == clust_number]['clean'])\n",
    "print(df[df['d2v_clusters'] == clust_number]['clean'].count())"
   ]
  },
  {
   "cell_type": "code",
   "execution_count": null,
   "metadata": {
    "colab": {
     "base_uri": "https://localhost:8080/"
    },
    "executionInfo": {
     "elapsed": 125,
     "status": "ok",
     "timestamp": 1696095677055,
     "user": {
      "displayName": "Eduardo Ceh",
      "userId": "10908898085356262650"
     },
     "user_tz": 360
    },
    "id": "FychPO5_fPCp",
    "outputId": "aae19850-f869-4d37-aa34-21ca333120ce"
   },
   "outputs": [],
   "source": [
    "clust_number = 3\n",
    "print(df[df['d2v_clusters'] == clust_number]['clean'])\n",
    "print(df[df['d2v_clusters'] == clust_number]['clean'].count())"
   ]
  },
  {
   "cell_type": "code",
   "execution_count": null,
   "metadata": {
    "colab": {
     "base_uri": "https://localhost:8080/"
    },
    "executionInfo": {
     "elapsed": 118,
     "status": "ok",
     "timestamp": 1696095677055,
     "user": {
      "displayName": "Eduardo Ceh",
      "userId": "10908898085356262650"
     },
     "user_tz": 360
    },
    "id": "wdLFUuiXfO3Q",
    "outputId": "fb809362-1361-4d67-eeaa-813e73653398"
   },
   "outputs": [],
   "source": [
    "clust_number = 4\n",
    "print(df[df['d2v_clusters'] == clust_number]['clean'])\n",
    "print(df[df['d2v_clusters'] == clust_number]['clean'].count())"
   ]
  },
  {
   "cell_type": "markdown",
   "metadata": {
    "id": "c0KRj4ptNAYG"
   },
   "source": [
    "### Silhouette Score"
   ]
  },
  {
   "cell_type": "code",
   "execution_count": null,
   "metadata": {
    "colab": {
     "base_uri": "https://localhost:8080/",
     "height": 540
    },
    "executionInfo": {
     "elapsed": 12836,
     "status": "ok",
     "timestamp": 1696103734154,
     "user": {
      "displayName": "Eduardo Ceh",
      "userId": "10908898085356262650"
     },
     "user_tz": 360
    },
    "id": "MKHhxxu8ZmHI",
    "outputId": "fb60888d-3395-4970-9c65-7fac89de5c41"
   },
   "outputs": [],
   "source": [
    "\n",
    "from yellowbrick.cluster import SilhouetteVisualizer\n",
    "\n",
    "\n",
    "# Assuming 'embedding128' is your pandas Series containing embeddings\n",
    "# Convert the Series to a list of lists\n",
    "embedding_list = df['embedding_128'].tolist()\n",
    "embedding_list_of_lists = np.array([embedding.tolist() for embedding in embedding_list])\n",
    "\n",
    "# Create a SilhouetteVisualizer instance\n",
    "title = \"Silhouette Plot of k-means Clustering\"\n",
    "visualizer = SilhouetteVisualizer(kmeans, colors='yellowbrick', title=title)\n",
    "\n",
    "\n",
    "# Fit the visualizer with the standardized embedding data\n",
    "visualizer.fit(embedding_list_of_lists)\n",
    "# Export the plot to a PDF with a tight layout\n",
    "visualizer.show(outpath=\"./silhouette_plot.pdf\")\n",
    "\n",
    "# Display the visualization\n",
    "visualizer.poof()"
   ]
  },
  {
   "cell_type": "markdown",
   "metadata": {
    "id": "e9yLUuZxc6IJ"
   },
   "source": [
    "### Let's use UMAP to plot the clusters\n"
   ]
  },
  {
   "cell_type": "code",
   "execution_count": null,
   "metadata": {
    "colab": {
     "base_uri": "https://localhost:8080/"
    },
    "executionInfo": {
     "elapsed": 266,
     "status": "ok",
     "timestamp": 1696097773721,
     "user": {
      "displayName": "Eduardo Ceh",
      "userId": "10908898085356262650"
     },
     "user_tz": 360
    },
    "id": "kna9N5v_EdU0",
    "outputId": "82bbb30e-289b-4bb2-f775-5d62a482e753"
   },
   "outputs": [],
   "source": [
    "data_embeds = pd.DataFrame()\n",
    "data_embeds['embeds'] = df[\"embedding_128\"]\n",
    "print(data_embeds.head())\n",
    "print(data_embeds.shape)\n"
   ]
  },
  {
   "cell_type": "code",
   "execution_count": null,
   "metadata": {
    "colab": {
     "base_uri": "https://localhost:8080/"
    },
    "executionInfo": {
     "elapsed": 2944,
     "status": "ok",
     "timestamp": 1696096931080,
     "user": {
      "displayName": "Eduardo Ceh",
      "userId": "10908898085356262650"
     },
     "user_tz": 360
    },
    "id": "-KFRPWbGE-dX",
    "outputId": "62411604-1e8f-4ec4-d205-d800c386b84b"
   },
   "outputs": [],
   "source": [
    "!pip install --quiet umap-learn\n"
   ]
  },
  {
   "cell_type": "code",
   "execution_count": null,
   "metadata": {
    "colab": {
     "base_uri": "https://localhost:8080/",
     "height": 75
    },
    "executionInfo": {
     "elapsed": 452,
     "status": "ok",
     "timestamp": 1696097744342,
     "user": {
      "displayName": "Eduardo Ceh",
      "userId": "10908898085356262650"
     },
     "user_tz": 360
    },
    "id": "pBj2-_f-FEn2",
    "outputId": "38e02e56-57fa-4b25-9cad-a4b4c0f4a9a3"
   },
   "outputs": [],
   "source": [
    "import umap # REDUCE DIMENSIONALITY\n",
    "import seaborn as sns\n",
    "sns.color_palette('colorblind')"
   ]
  },
  {
   "cell_type": "code",
   "execution_count": null,
   "metadata": {
    "executionInfo": {
     "elapsed": 38971,
     "status": "ok",
     "timestamp": 1696096999295,
     "user": {
      "displayName": "Eduardo Ceh",
      "userId": "10908898085356262650"
     },
     "user_tz": 360
    },
    "id": "XKDdfKZ-FMM9"
   },
   "outputs": [],
   "source": [
    "X_umap = umap.UMAP().fit_transform(data_embeds['embeds'].tolist())"
   ]
  },
  {
   "cell_type": "code",
   "execution_count": null,
   "metadata": {
    "colab": {
     "base_uri": "https://localhost:8080/"
    },
    "executionInfo": {
     "elapsed": 384,
     "status": "ok",
     "timestamp": 1696097778299,
     "user": {
      "displayName": "Eduardo Ceh",
      "userId": "10908898085356262650"
     },
     "user_tz": 360
    },
    "id": "g1TDTv4FFZVf",
    "outputId": "b744649f-3e90-497d-d1eb-f1e1aa63c2e0"
   },
   "outputs": [],
   "source": [
    "X_umap"
   ]
  },
  {
   "cell_type": "code",
   "execution_count": null,
   "metadata": {
    "executionInfo": {
     "elapsed": 271,
     "status": "ok",
     "timestamp": 1696097780744,
     "user": {
      "displayName": "Eduardo Ceh",
      "userId": "10908898085356262650"
     },
     "user_tz": 360
    },
    "id": "DdxL-0meHYty"
   },
   "outputs": [],
   "source": [
    "data_df = pd.DataFrame()\n",
    "data_df['x'] = X_umap[:,0]\n",
    "data_df['y'] = X_umap[:, 1]\n",
    "data_df['cluster'] = df['d2v_clusters']"
   ]
  },
  {
   "cell_type": "code",
   "execution_count": null,
   "metadata": {
    "colab": {
     "base_uri": "https://localhost:8080/",
     "height": 411
    },
    "executionInfo": {
     "elapsed": 108,
     "status": "ok",
     "timestamp": 1696097782202,
     "user": {
      "displayName": "Eduardo Ceh",
      "userId": "10908898085356262650"
     },
     "user_tz": 360
    },
    "id": "CaZA99f2IgaH",
    "outputId": "0202496c-5b1d-4d51-aa71-68cf84882219"
   },
   "outputs": [],
   "source": [
    "data_df"
   ]
  },
  {
   "cell_type": "code",
   "execution_count": null,
   "metadata": {
    "colab": {
     "base_uri": "https://localhost:8080/",
     "height": 411
    },
    "executionInfo": {
     "elapsed": 643,
     "status": "ok",
     "timestamp": 1696097785228,
     "user": {
      "displayName": "Eduardo Ceh",
      "userId": "10908898085356262650"
     },
     "user_tz": 360
    },
    "id": "4FUmEubHnh0M",
    "outputId": "53a21cca-2840-41b1-c9fa-0598b1b56480"
   },
   "outputs": [],
   "source": [
    "data_df['clus'] = data_df['cluster'].apply(lambda x: str(x))\n",
    "data_df"
   ]
  },
  {
   "cell_type": "code",
   "execution_count": null,
   "metadata": {
    "colab": {
     "base_uri": "https://localhost:8080/",
     "height": 618
    },
    "executionInfo": {
     "elapsed": 1575,
     "status": "ok",
     "timestamp": 1696097787922,
     "user": {
      "displayName": "Eduardo Ceh",
      "userId": "10908898085356262650"
     },
     "user_tz": 360
    },
    "id": "ERAFd4I0IjAh",
    "outputId": "7652b0ba-6b70-48b6-8110-cb8e7472e6ea"
   },
   "outputs": [],
   "source": [
    "plt.figure(figsize=(7,7))\n",
    "sns.scatterplot(data=data_df, x=\"x\", y=\"y\", hue='clus')\n",
    "plt.show()"
   ]
  },
  {
   "cell_type": "markdown",
   "metadata": {
    "id": "pUStjig8Q8VW"
   },
   "source": [
    "What about PCA and Doc2Vec?"
   ]
  },
  {
   "cell_type": "code",
   "execution_count": null,
   "metadata": {
    "colab": {
     "base_uri": "https://localhost:8080/"
    },
    "executionInfo": {
     "elapsed": 266,
     "status": "ok",
     "timestamp": 1696097028753,
     "user": {
      "displayName": "Eduardo Ceh",
      "userId": "10908898085356262650"
     },
     "user_tz": 360
    },
    "id": "g8SOLd9BQ6H1",
    "outputId": "df27b7c8-83ec-497f-9352-06dc7beee895"
   },
   "outputs": [],
   "source": [
    "#Getting unique labels\n",
    "pca = PCA(2)\n",
    "#Transform the data\n",
    "X_pca = pca.fit_transform(data_embeds['embeds'].tolist())\n",
    "X_pca"
   ]
  },
  {
   "cell_type": "code",
   "execution_count": null,
   "metadata": {
    "executionInfo": {
     "elapsed": 269,
     "status": "ok",
     "timestamp": 1696098112590,
     "user": {
      "displayName": "Eduardo Ceh",
      "userId": "10908898085356262650"
     },
     "user_tz": 360
    },
    "id": "naPOurLCRgf-"
   },
   "outputs": [],
   "source": [
    "data_df = pd.DataFrame()\n",
    "data_df['x'] = X_pca[:,0]\n",
    "data_df['y'] = X_pca[:, 1]\n",
    "data_df['cluster'] = df['d2v_clusters']"
   ]
  },
  {
   "cell_type": "code",
   "execution_count": null,
   "metadata": {
    "colab": {
     "base_uri": "https://localhost:8080/",
     "height": 411
    },
    "executionInfo": {
     "elapsed": 113,
     "status": "ok",
     "timestamp": 1696098115032,
     "user": {
      "displayName": "Eduardo Ceh",
      "userId": "10908898085356262650"
     },
     "user_tz": 360
    },
    "id": "dzp-yMqhRrma",
    "outputId": "2943b641-4610-44b0-e648-800bd7a7e755"
   },
   "outputs": [],
   "source": [
    "data_df"
   ]
  },
  {
   "cell_type": "code",
   "execution_count": null,
   "metadata": {
    "colab": {
     "base_uri": "https://localhost:8080/",
     "height": 411
    },
    "executionInfo": {
     "elapsed": 485,
     "status": "ok",
     "timestamp": 1696098117771,
     "user": {
      "displayName": "Eduardo Ceh",
      "userId": "10908898085356262650"
     },
     "user_tz": 360
    },
    "id": "eWP0LjAxRsjT",
    "outputId": "815ef51d-e393-427e-85f0-22447d31e0e8"
   },
   "outputs": [],
   "source": [
    "data_df['clus'] = data_df['cluster'].apply(lambda x: str(x))\n",
    "data_df"
   ]
  },
  {
   "cell_type": "code",
   "execution_count": null,
   "metadata": {
    "colab": {
     "base_uri": "https://localhost:8080/",
     "height": 638
    },
    "executionInfo": {
     "elapsed": 4531,
     "status": "ok",
     "timestamp": 1696098124148,
     "user": {
      "displayName": "Eduardo Ceh",
      "userId": "10908898085356262650"
     },
     "user_tz": 360
    },
    "id": "UbE2yhZeRwN2",
    "outputId": "aa3d974e-b59a-4ee0-f8fa-7c17f31ef938"
   },
   "outputs": [],
   "source": [
    "plt.figure(figsize=(7,7))\n",
    "sns.scatterplot(data=data_df, x=\"x\", y=\"y\", hue='clus')\n",
    "\n",
    "plt.title(\"Clusters of errors\")\n",
    "plt.savefig(\"./cluster_errors.pdf\", bbox_inches='tight')\n",
    "plt.show()"
   ]
  },
  {
   "cell_type": "markdown",
   "metadata": {
    "id": "Kvph0IizUWyy"
   },
   "source": [
    "### t-SNE"
   ]
  },
  {
   "cell_type": "markdown",
   "metadata": {
    "id": "4HxUyGD_h7gT"
   },
   "source": [
    "## Let's get error closest to the centroid in each cluster"
   ]
  },
  {
   "cell_type": "code",
   "execution_count": null,
   "metadata": {
    "executionInfo": {
     "elapsed": 3,
     "status": "ok",
     "timestamp": 1696097054485,
     "user": {
      "displayName": "Eduardo Ceh",
      "userId": "10908898085356262650"
     },
     "user_tz": 360
    },
    "id": "u93tphYMh7Hn"
   },
   "outputs": [],
   "source": [
    "centroids = kmeans.cluster_centers_"
   ]
  },
  {
   "cell_type": "code",
   "execution_count": null,
   "metadata": {
    "colab": {
     "base_uri": "https://localhost:8080/"
    },
    "executionInfo": {
     "elapsed": 401,
     "status": "ok",
     "timestamp": 1696097056753,
     "user": {
      "displayName": "Eduardo Ceh",
      "userId": "10908898085356262650"
     },
     "user_tz": 360
    },
    "id": "6yMrhH8NRy9Z",
    "outputId": "24ff4fbf-bf54-4645-b9bc-e84e1d6761da"
   },
   "outputs": [],
   "source": [
    "len(centroids)"
   ]
  },
  {
   "cell_type": "code",
   "execution_count": null,
   "metadata": {
    "executionInfo": {
     "elapsed": 114,
     "status": "ok",
     "timestamp": 1696095805775,
     "user": {
      "displayName": "Eduardo Ceh",
      "userId": "10908898085356262650"
     },
     "user_tz": 360
    },
    "id": "ECGf42HKi3XT"
   },
   "outputs": [],
   "source": [
    "from sklearn.neighbors import NearestNeighbors"
   ]
  },
  {
   "cell_type": "code",
   "execution_count": null,
   "metadata": {
    "executionInfo": {
     "elapsed": 114,
     "status": "ok",
     "timestamp": 1696095805775,
     "user": {
      "displayName": "Eduardo Ceh",
      "userId": "10908898085356262650"
     },
     "user_tz": 360
    },
    "id": "EI1rZkZniQth"
   },
   "outputs": [],
   "source": [
    "# Find closest to each centroid\n",
    "closest_docs = []\n",
    "for c, centroid in enumerate(centroids):\n",
    "    nbrs = NearestNeighbors(n_neighbors=1).fit(df[df['d2v_clusters']==c]['embedding_128'].tolist())\n",
    "    distances, indices = nbrs.kneighbors(centroid.reshape(1,-1))\n",
    "    closest_doc = df[df['d2v_clusters']==c]['clean'].iloc[indices[0,0]]\n",
    "    closest_doc_cat = df[df['d2v_clusters']==c]['Category'].iloc[indices[0,0]]\n",
    "    closest_docs.append({c:[closest_doc, closest_doc_cat]})"
   ]
  },
  {
   "cell_type": "code",
   "execution_count": null,
   "metadata": {
    "colab": {
     "base_uri": "https://localhost:8080/"
    },
    "executionInfo": {
     "elapsed": 113,
     "status": "ok",
     "timestamp": 1696095805775,
     "user": {
      "displayName": "Eduardo Ceh",
      "userId": "10908898085356262650"
     },
     "user_tz": 360
    },
    "id": "15zGuglUjj_M",
    "outputId": "aea226e5-67d8-43a2-97bf-cbea0c42c533"
   },
   "outputs": [],
   "source": [
    "closest_docs"
   ]
  },
  {
   "cell_type": "markdown",
   "metadata": {
    "id": "3y61LJg1KcmK"
   },
   "source": [
    "### Checking the XML file\n",
    "\n",
    "* {0: ['parameter <a_parameter_name> should be final', 'FinalParameters ']}, Miscellaneous other checks.\n",
    "* {1: ['<operator> is not preceded with whitespace', 'WhitespaceAround ']}, Checks for whitespace.\n",
    "* {2: ['line is longer than characters (found )', 'LineLength ']},Checks for Size Violations\n",
    "* {3: ['<braket> is followed by whitespace', 'ParenPad ']},Checks for whitespace    \n",
    "* {4: ['line has trailing spaces', 'RegexpSingleline ']},Miscellaneous other checks.\n",
    "*  {5: [\"name <a_name> must match pattern '^a-za-za-z-*$'\", 'TypeName ']},Checks for Naming Conventions.\n",
    "* {6: ['missing a javadoc comment', 'MissingJavadocMethod ']},Checks for Javadoc comments\n"
   ]
  },
  {
   "cell_type": "markdown",
   "metadata": {
    "id": "7MaJ3fhfkJRv"
   },
   "source": [
    "## Let's try summarizing the whole cluster"
   ]
  },
  {
   "cell_type": "code",
   "execution_count": null,
   "metadata": {
    "colab": {
     "base_uri": "https://localhost:8080/",
     "height": 423
    },
    "executionInfo": {
     "elapsed": 56388,
     "status": "ok",
     "timestamp": 1696095862058,
     "user": {
      "displayName": "Eduardo Ceh",
      "userId": "10908898085356262650"
     },
     "user_tz": 360
    },
    "id": "lwmfmTZ1klcS",
    "outputId": "d199cc3c-0a1f-4f6b-c963-100d806a3dc8"
   },
   "outputs": [],
   "source": [
    "!pip3 install gensim==3.6.0 # summarization was deprecated from 4.0"
   ]
  },
  {
   "cell_type": "code",
   "execution_count": null,
   "metadata": {
    "executionInfo": {
     "elapsed": 131,
     "status": "ok",
     "timestamp": 1696095862059,
     "user": {
      "displayName": "Eduardo Ceh",
      "userId": "10908898085356262650"
     },
     "user_tz": 360
    },
    "id": "2EDUHTIrjj4T"
   },
   "outputs": [],
   "source": [
    "from gensim.summarization import summarize"
   ]
  },
  {
   "cell_type": "code",
   "execution_count": null,
   "metadata": {
    "executionInfo": {
     "elapsed": 126,
     "status": "ok",
     "timestamp": 1696095862059,
     "user": {
      "displayName": "Eduardo Ceh",
      "userId": "10908898085356262650"
     },
     "user_tz": 360
    },
    "id": "dqM1zihejj0V"
   },
   "outputs": [],
   "source": [
    "# Group docs by cluster\n",
    "docs_by_cluster = df.groupby('d2v_clusters')['Error']"
   ]
  },
  {
   "cell_type": "code",
   "execution_count": null,
   "metadata": {
    "executionInfo": {
     "elapsed": 125,
     "status": "ok",
     "timestamp": 1696095862059,
     "user": {
      "displayName": "Eduardo Ceh",
      "userId": "10908898085356262650"
     },
     "user_tz": 360
    },
    "id": "WreqmV_jnORy"
   },
   "outputs": [],
   "source": [
    "texts = []\n",
    "for d in docs_by_cluster:\n",
    "    #print(d[1].values)\n",
    "    text = \".\".join(txt for txt in d[1].values)\n",
    "    texts.append(text)"
   ]
  },
  {
   "cell_type": "code",
   "execution_count": null,
   "metadata": {
    "colab": {
     "base_uri": "https://localhost:8080/"
    },
    "executionInfo": {
     "elapsed": 552,
     "status": "ok",
     "timestamp": 1696095862486,
     "user": {
      "displayName": "Eduardo Ceh",
      "userId": "10908898085356262650"
     },
     "user_tz": 360
    },
    "id": "wNaKHlISoYgj",
    "outputId": "c4814880-bca7-437f-f068-42d1a18a6f4c"
   },
   "outputs": [],
   "source": [
    "len(texts)"
   ]
  },
  {
   "cell_type": "code",
   "execution_count": null,
   "metadata": {
    "executionInfo": {
     "elapsed": 131,
     "status": "ok",
     "timestamp": 1696095862486,
     "user": {
      "displayName": "Eduardo Ceh",
      "userId": "10908898085356262650"
     },
     "user_tz": 360
    },
    "id": "fEudAkj0lD-r"
   },
   "outputs": [],
   "source": [
    "# Generate summary for each cluster (didn't work well)\n",
    "#cluster_summaries = {}\n",
    "#for cluster_id, cluster_docs in enumerate(texts):\n",
    "#    #all_text = \" \".join(cluster_docs.values)\n",
    "#    #print(cluster_docs)\n",
    "#    summary = summarize(cluster_docs, word_count=10)\n",
    "#    cluster_summaries[cluster_id] = summary"
   ]
  },
  {
   "cell_type": "code",
   "execution_count": null,
   "metadata": {
    "colab": {
     "base_uri": "https://localhost:8080/",
     "height": 100
    },
    "executionInfo": {
     "elapsed": 132,
     "status": "ok",
     "timestamp": 1696095862487,
     "user": {
      "displayName": "Eduardo Ceh",
      "userId": "10908898085356262650"
     },
     "user_tz": 360
    },
    "id": "lqt9VmvslHMr",
    "outputId": "5112ea6c-c6ec-4779-b69b-5402b81d8b67"
   },
   "outputs": [],
   "source": [
    "texts[0]"
   ]
  },
  {
   "cell_type": "code",
   "execution_count": null,
   "metadata": {
    "colab": {
     "base_uri": "https://localhost:8080/",
     "height": 307
    },
    "executionInfo": {
     "elapsed": 660,
     "status": "ok",
     "timestamp": 1696095863017,
     "user": {
      "displayName": "Eduardo Ceh",
      "userId": "10908898085356262650"
     },
     "user_tz": 360
    },
    "id": "NIcN3JnZMWYV",
    "outputId": "295c467d-52d4-4691-e58a-6464a3f4f0bb"
   },
   "outputs": [],
   "source": [
    "\n",
    "#Create the wordcloud object\n",
    "wordcloud = WordCloud(collocations= COLLOCATIONS,\n",
    "                        background_color=\"white\",\n",
    "                        collocation_threshold = COLLOCATION,\n",
    "                        max_words = MAX_WORDS,\n",
    "                        relative_scaling = 1).generate(texts[0])\n",
    "#plot\n",
    "plt.figure(figsize=(7,5), dpi=100)\n",
    "plt.imshow(wordcloud, interpolation='bilInear')\n",
    "plt.axis('off')\n",
    "\n",
    "plt.show()"
   ]
  },
  {
   "cell_type": "code",
   "execution_count": null,
   "metadata": {
    "colab": {
     "base_uri": "https://localhost:8080/"
    },
    "executionInfo": {
     "elapsed": 210,
     "status": "ok",
     "timestamp": 1696095863018,
     "user": {
      "displayName": "Eduardo Ceh",
      "userId": "10908898085356262650"
     },
     "user_tz": 360
    },
    "id": "1HWWHQ3lPHgH",
    "outputId": "5a546c83-94cc-4023-8f27-47372f048cf5"
   },
   "outputs": [],
   "source": [
    "# Process text\n",
    "frequencies = wordcloud.process_text(texts[0])\n",
    "\n",
    "print(frequencies)"
   ]
  },
  {
   "cell_type": "code",
   "execution_count": null,
   "metadata": {
    "colab": {
     "base_uri": "https://localhost:8080/",
     "height": 100
    },
    "executionInfo": {
     "elapsed": 203,
     "status": "ok",
     "timestamp": 1696095863018,
     "user": {
      "displayName": "Eduardo Ceh",
      "userId": "10908898085356262650"
     },
     "user_tz": 360
    },
    "id": "UNkc4MDPrPsM",
    "outputId": "bde5ecfc-1ee5-45ad-8e12-a3b4e1d3930e"
   },
   "outputs": [],
   "source": [
    "texts[1]"
   ]
  },
  {
   "cell_type": "code",
   "execution_count": null,
   "metadata": {
    "colab": {
     "base_uri": "https://localhost:8080/",
     "height": 307
    },
    "executionInfo": {
     "elapsed": 667,
     "status": "ok",
     "timestamp": 1696095863483,
     "user": {
      "displayName": "Eduardo Ceh",
      "userId": "10908898085356262650"
     },
     "user_tz": 360
    },
    "id": "s_AFPpefMk5r",
    "outputId": "69fab068-93f8-4dc2-d815-1ff52ba1e65e"
   },
   "outputs": [],
   "source": [
    "\n",
    "#Create the wordcloud object\n",
    "wordcloud = WordCloud(collocations= COLLOCATIONS,\n",
    "                        background_color=\"white\",\n",
    "                        collocation_threshold = COLLOCATION,\n",
    "                        max_words = MAX_WORDS,\n",
    "                        relative_scaling = 1).generate(texts[1])\n",
    "#plot\n",
    "plt.figure(figsize=(7,5), dpi=100)\n",
    "plt.imshow(wordcloud, interpolation='bilInear')\n",
    "plt.axis('off')\n",
    "\n",
    "plt.show()"
   ]
  },
  {
   "cell_type": "code",
   "execution_count": null,
   "metadata": {
    "colab": {
     "base_uri": "https://localhost:8080/"
    },
    "executionInfo": {
     "elapsed": 208,
     "status": "ok",
     "timestamp": 1696095863484,
     "user": {
      "displayName": "Eduardo Ceh",
      "userId": "10908898085356262650"
     },
     "user_tz": 360
    },
    "id": "1chhHOJsPNU_",
    "outputId": "915ee7e4-c518-44b6-b710-4b627ad02b3a"
   },
   "outputs": [],
   "source": [
    "# Process text\n",
    "frequencies = wordcloud.process_text(texts[1])\n",
    "\n",
    "print(frequencies)"
   ]
  },
  {
   "cell_type": "code",
   "execution_count": null,
   "metadata": {
    "colab": {
     "base_uri": "https://localhost:8080/",
     "height": 100
    },
    "executionInfo": {
     "elapsed": 202,
     "status": "ok",
     "timestamp": 1696095863484,
     "user": {
      "displayName": "Eduardo Ceh",
      "userId": "10908898085356262650"
     },
     "user_tz": 360
    },
    "id": "-YskHrv8te4L",
    "outputId": "a9b6b57f-7b5d-4b5f-fab8-9ddca292635f"
   },
   "outputs": [],
   "source": [
    "texts[2]"
   ]
  },
  {
   "cell_type": "code",
   "execution_count": null,
   "metadata": {
    "colab": {
     "base_uri": "https://localhost:8080/",
     "height": 307
    },
    "executionInfo": {
     "elapsed": 1113,
     "status": "ok",
     "timestamp": 1696095864396,
     "user": {
      "displayName": "Eduardo Ceh",
      "userId": "10908898085356262650"
     },
     "user_tz": 360
    },
    "id": "3Xt0I6O9Mn6d",
    "outputId": "c00284ff-3a0f-4e57-b13b-54e320085a2b"
   },
   "outputs": [],
   "source": [
    "\n",
    "#Create the wordcloud object\n",
    "wordcloud = WordCloud(collocations= COLLOCATIONS,\n",
    "                        background_color=\"white\",\n",
    "                        collocation_threshold = COLLOCATION,\n",
    "                        max_words = MAX_WORDS,\n",
    "                        relative_scaling = 1).generate(texts[2])\n",
    "#plot\n",
    "plt.figure(figsize=(7,5), dpi=100)\n",
    "plt.imshow(wordcloud, interpolation='bilInear')\n",
    "plt.axis('off')\n",
    "\n",
    "plt.show()"
   ]
  },
  {
   "cell_type": "code",
   "execution_count": null,
   "metadata": {
    "colab": {
     "base_uri": "https://localhost:8080/"
    },
    "executionInfo": {
     "elapsed": 314,
     "status": "ok",
     "timestamp": 1696095864396,
     "user": {
      "displayName": "Eduardo Ceh",
      "userId": "10908898085356262650"
     },
     "user_tz": 360
    },
    "id": "RX38UIoZPP9N",
    "outputId": "1c0fb3c9-1093-46ce-f914-dabad8b185ea"
   },
   "outputs": [],
   "source": [
    "# Process text\n",
    "frequencies = wordcloud.process_text(texts[2])\n",
    "\n",
    "print(frequencies)"
   ]
  },
  {
   "cell_type": "code",
   "execution_count": null,
   "metadata": {
    "colab": {
     "base_uri": "https://localhost:8080/",
     "height": 100
    },
    "executionInfo": {
     "elapsed": 304,
     "status": "ok",
     "timestamp": 1696095864396,
     "user": {
      "displayName": "Eduardo Ceh",
      "userId": "10908898085356262650"
     },
     "user_tz": 360
    },
    "id": "RJe3yeU0tgPI",
    "outputId": "0e924e1f-83e6-497a-824e-4450e3b83508"
   },
   "outputs": [],
   "source": [
    "texts[3]"
   ]
  },
  {
   "cell_type": "code",
   "execution_count": null,
   "metadata": {
    "colab": {
     "base_uri": "https://localhost:8080/",
     "height": 307
    },
    "executionInfo": {
     "elapsed": 1198,
     "status": "ok",
     "timestamp": 1696095865292,
     "user": {
      "displayName": "Eduardo Ceh",
      "userId": "10908898085356262650"
     },
     "user_tz": 360
    },
    "id": "Ry6ym6fpMtHE",
    "outputId": "389a3768-653e-4ec7-c1af-a35e2a09fc97"
   },
   "outputs": [],
   "source": [
    "\n",
    "#Create the wordcloud object\n",
    "wordcloud = WordCloud(collocations= COLLOCATIONS,\n",
    "                        background_color=\"white\",\n",
    "                        collocation_threshold = COLLOCATION,\n",
    "                        max_words = MAX_WORDS,\n",
    "                        relative_scaling = 1).generate(texts[3])\n",
    "#plot\n",
    "plt.figure(figsize=(7,5), dpi=100)\n",
    "plt.imshow(wordcloud, interpolation='bilInear')\n",
    "plt.axis('off')\n",
    "\n",
    "plt.show()"
   ]
  },
  {
   "cell_type": "code",
   "execution_count": null,
   "metadata": {
    "colab": {
     "base_uri": "https://localhost:8080/"
    },
    "executionInfo": {
     "elapsed": 421,
     "status": "ok",
     "timestamp": 1696095865293,
     "user": {
      "displayName": "Eduardo Ceh",
      "userId": "10908898085356262650"
     },
     "user_tz": 360
    },
    "id": "UStg7LEtPTqM",
    "outputId": "dad76e10-4428-4792-8c77-68423e24f661"
   },
   "outputs": [],
   "source": [
    "# Process text\n",
    "frequencies = wordcloud.process_text(texts[3])\n",
    "\n",
    "print(frequencies)"
   ]
  },
  {
   "cell_type": "code",
   "execution_count": null,
   "metadata": {
    "colab": {
     "base_uri": "https://localhost:8080/",
     "height": 100
    },
    "executionInfo": {
     "elapsed": 419,
     "status": "ok",
     "timestamp": 1696095865293,
     "user": {
      "displayName": "Eduardo Ceh",
      "userId": "10908898085356262650"
     },
     "user_tz": 360
    },
    "id": "wTQmS7uWthwy",
    "outputId": "bcf2b48d-709f-4b96-c43c-aa67b849ce89"
   },
   "outputs": [],
   "source": [
    "texts[4]"
   ]
  },
  {
   "cell_type": "code",
   "execution_count": null,
   "metadata": {
    "colab": {
     "base_uri": "https://localhost:8080/",
     "height": 307
    },
    "executionInfo": {
     "elapsed": 418,
     "status": "ok",
     "timestamp": 1696095865293,
     "user": {
      "displayName": "Eduardo Ceh",
      "userId": "10908898085356262650"
     },
     "user_tz": 360
    },
    "id": "gRKVKmNLMw5Z",
    "outputId": "58e956cc-df50-416b-ac5e-38733db6f14a"
   },
   "outputs": [],
   "source": [
    "\n",
    "#Create the wordcloud object\n",
    "wordcloud = WordCloud(collocations= COLLOCATIONS,\n",
    "                        background_color=\"white\",\n",
    "                        collocation_threshold = COLLOCATION,\n",
    "                        max_words = MAX_WORDS,\n",
    "                        relative_scaling = 1).generate(texts[4])\n",
    "#plot\n",
    "plt.figure(figsize=(7,5), dpi=100)\n",
    "plt.imshow(wordcloud, interpolation='bilInear')\n",
    "plt.axis('off')\n",
    "\n",
    "plt.show()"
   ]
  },
  {
   "cell_type": "code",
   "execution_count": null,
   "metadata": {
    "colab": {
     "base_uri": "https://localhost:8080/"
    },
    "executionInfo": {
     "elapsed": 417,
     "status": "ok",
     "timestamp": 1696095865293,
     "user": {
      "displayName": "Eduardo Ceh",
      "userId": "10908898085356262650"
     },
     "user_tz": 360
    },
    "id": "P_5Hyu-ZPWq9",
    "outputId": "2f3143da-99af-4a6d-9907-1d47eb25b94e"
   },
   "outputs": [],
   "source": [
    "# Process text\n",
    "frequencies = wordcloud.process_text(texts[4])\n",
    "\n",
    "print(frequencies)"
   ]
  },
  {
   "cell_type": "code",
   "execution_count": null,
   "metadata": {
    "colab": {
     "base_uri": "https://localhost:8080/",
     "height": 100
    },
    "executionInfo": {
     "elapsed": 409,
     "status": "ok",
     "timestamp": 1696095865293,
     "user": {
      "displayName": "Eduardo Ceh",
      "userId": "10908898085356262650"
     },
     "user_tz": 360
    },
    "id": "ZnJ2ywQbtlwB",
    "outputId": "9860b462-d3f4-43ad-d798-7bde3d4a87d7"
   },
   "outputs": [],
   "source": [
    "texts[5]"
   ]
  },
  {
   "cell_type": "code",
   "execution_count": null,
   "metadata": {
    "colab": {
     "base_uri": "https://localhost:8080/",
     "height": 307
    },
    "executionInfo": {
     "elapsed": 408,
     "status": "ok",
     "timestamp": 1696095865293,
     "user": {
      "displayName": "Eduardo Ceh",
      "userId": "10908898085356262650"
     },
     "user_tz": 360
    },
    "id": "fn4EbIb3M6Bf",
    "outputId": "c93267d8-0f24-4e74-d07c-cb09873cd09d"
   },
   "outputs": [],
   "source": [
    "\n",
    "#Create the wordcloud object\n",
    "wordcloud = WordCloud(collocations= COLLOCATIONS,\n",
    "                        background_color=\"white\",\n",
    "                        collocation_threshold = COLLOCATION,\n",
    "                        max_words = MAX_WORDS,\n",
    "                        relative_scaling = 1).generate(texts[5])\n",
    "#plot\n",
    "plt.figure(figsize=(7,5), dpi=100)\n",
    "plt.imshow(wordcloud, interpolation='bilInear')\n",
    "plt.axis('off')\n",
    "\n",
    "plt.show()"
   ]
  },
  {
   "cell_type": "code",
   "execution_count": null,
   "metadata": {
    "colab": {
     "base_uri": "https://localhost:8080/"
    },
    "executionInfo": {
     "elapsed": 408,
     "status": "ok",
     "timestamp": 1696095865293,
     "user": {
      "displayName": "Eduardo Ceh",
      "userId": "10908898085356262650"
     },
     "user_tz": 360
    },
    "id": "C0-8WRrnPZYE",
    "outputId": "9f2f33ad-7ee8-41b0-9629-f63120a70000"
   },
   "outputs": [],
   "source": [
    "# Process text\n",
    "frequencies = wordcloud.process_text(texts[5])\n",
    "\n",
    "print(frequencies)"
   ]
  },
  {
   "cell_type": "code",
   "execution_count": null,
   "metadata": {
    "colab": {
     "base_uri": "https://localhost:8080/",
     "height": 100
    },
    "executionInfo": {
     "elapsed": 856,
     "status": "ok",
     "timestamp": 1696095865749,
     "user": {
      "displayName": "Eduardo Ceh",
      "userId": "10908898085356262650"
     },
     "user_tz": 360
    },
    "id": "_MMAa9sJpNJ8",
    "outputId": "69f7c0a9-a754-4b09-c2a8-d754d70a041a"
   },
   "outputs": [],
   "source": [
    "texts[6]"
   ]
  },
  {
   "cell_type": "code",
   "execution_count": null,
   "metadata": {
    "colab": {
     "base_uri": "https://localhost:8080/",
     "height": 307
    },
    "executionInfo": {
     "elapsed": 212,
     "status": "ok",
     "timestamp": 1696095865750,
     "user": {
      "displayName": "Eduardo Ceh",
      "userId": "10908898085356262650"
     },
     "user_tz": 360
    },
    "id": "n2_RrAv8M-gQ",
    "outputId": "99c5ee78-817b-4475-c815-a5af4e60d624"
   },
   "outputs": [],
   "source": [
    "\n",
    "#Create the wordcloud object\n",
    "wordcloud = WordCloud(collocations= COLLOCATIONS,\n",
    "                        background_color=\"white\",\n",
    "                        collocation_threshold = COLLOCATION,\n",
    "                        max_words = MAX_WORDS,\n",
    "                        relative_scaling = 1).generate(texts[6])\n",
    "#plot\n",
    "plt.figure(figsize=(7,5), dpi=100)\n",
    "plt.imshow(wordcloud, interpolation='bilInear')\n",
    "plt.axis('off')\n",
    "\n",
    "plt.show()"
   ]
  },
  {
   "cell_type": "code",
   "execution_count": null,
   "metadata": {
    "colab": {
     "base_uri": "https://localhost:8080/"
    },
    "executionInfo": {
     "elapsed": 211,
     "status": "ok",
     "timestamp": 1696095865750,
     "user": {
      "displayName": "Eduardo Ceh",
      "userId": "10908898085356262650"
     },
     "user_tz": 360
    },
    "id": "7RkWhALyPczF",
    "outputId": "b20fb420-dce5-4f70-ba57-aa167f565e52"
   },
   "outputs": [],
   "source": [
    " # Process text\n",
    "frequencies = wordcloud.process_text(texts[6])\n",
    "\n",
    "print(frequencies)"
   ]
  }
 ],
 "metadata": {
  "colab": {
   "authorship_tag": "ABX9TyMgyDrzwqr3qnXwNsNM/ZTt",
   "provenance": [],
   "toc_visible": true
  },
  "kernelspec": {
   "display_name": "Python 3 (ipykernel)",
   "language": "python",
   "name": "python3"
  },
  "language_info": {
   "codemirror_mode": {
    "name": "ipython",
    "version": 3
   },
   "file_extension": ".py",
   "mimetype": "text/x-python",
   "name": "python",
   "nbconvert_exporter": "python",
   "pygments_lexer": "ipython3",
   "version": "3.10.12"
  }
 },
 "nbformat": 4,
 "nbformat_minor": 4
}
