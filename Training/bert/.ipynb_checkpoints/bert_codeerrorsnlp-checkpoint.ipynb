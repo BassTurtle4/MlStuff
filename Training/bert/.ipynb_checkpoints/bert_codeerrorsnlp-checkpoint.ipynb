{
 "cells": [
  {
   "cell_type": "markdown",
   "metadata": {
    "id": "e8tcYM201nd1"
   },
   "source": [
    "## Installing"
   ]
  },
  {
   "cell_type": "code",
   "execution_count": 1,
   "metadata": {
    "colab": {
     "base_uri": "https://localhost:8080/"
    },
    "id": "VN7xffG6kJn5",
    "outputId": "5c77e826-9a58-4e97-bc34-d28dfb887496"
   },
   "outputs": [
    {
     "name": "stdout",
     "output_type": "stream",
     "text": [
      "Requirement already satisfied: regex in /home/bassturtle4/Desktop/SynologyDrive/2023yearproject/Training/env/lib/python3.10/site-packages (2023.10.3)\n",
      "Requirement already satisfied: pandas in /home/bassturtle4/Desktop/SynologyDrive/2023yearproject/Training/env/lib/python3.10/site-packages (2.1.2)\n",
      "Requirement already satisfied: numpy in /home/bassturtle4/Desktop/SynologyDrive/2023yearproject/Training/env/lib/python3.10/site-packages (1.26.1)\n",
      "Requirement already satisfied: scikit-learn in /home/bassturtle4/Desktop/SynologyDrive/2023yearproject/Training/env/lib/python3.10/site-packages (1.3.2)\n",
      "Requirement already satisfied: wordcloud in /home/bassturtle4/Desktop/SynologyDrive/2023yearproject/Training/env/lib/python3.10/site-packages (1.9.2)\n",
      "Requirement already satisfied: matplotlib in /home/bassturtle4/Desktop/SynologyDrive/2023yearproject/Training/env/lib/python3.10/site-packages (3.8.1)\n",
      "Requirement already satisfied: gensim in /home/bassturtle4/Desktop/SynologyDrive/2023yearproject/Training/env/lib/python3.10/site-packages (4.3.2)\n",
      "Requirement already satisfied: transformers in /home/bassturtle4/Desktop/SynologyDrive/2023yearproject/Training/env/lib/python3.10/site-packages (4.35.0)\n",
      "Requirement already satisfied: nltk in /home/bassturtle4/Desktop/SynologyDrive/2023yearproject/Training/env/lib/python3.10/site-packages (3.8.1)\n",
      "Requirement already satisfied: yellowbrick in /home/bassturtle4/Desktop/SynologyDrive/2023yearproject/Training/env/lib/python3.10/site-packages (1.5)\n",
      "Requirement already satisfied: umap in /home/bassturtle4/Desktop/SynologyDrive/2023yearproject/Training/env/lib/python3.10/site-packages (0.1.1)\n",
      "Requirement already satisfied: seaborn in /home/bassturtle4/Desktop/SynologyDrive/2023yearproject/Training/env/lib/python3.10/site-packages (0.13.0)\n",
      "Requirement already satisfied: torch in /home/bassturtle4/Desktop/SynologyDrive/2023yearproject/Training/env/lib/python3.10/site-packages (2.2.0.dev20231031+rocm5.7)\n",
      "Requirement already satisfied: torchvision in /home/bassturtle4/Desktop/SynologyDrive/2023yearproject/Training/env/lib/python3.10/site-packages (0.17.0.dev20231031+rocm5.7)\n",
      "Requirement already satisfied: torchaudio in /home/bassturtle4/Desktop/SynologyDrive/2023yearproject/Training/env/lib/python3.10/site-packages (2.2.0.dev20231031+rocm5.7)\n",
      "Requirement already satisfied: sentence-transformers in /home/bassturtle4/Desktop/SynologyDrive/2023yearproject/Training/env/lib/python3.10/site-packages (2.2.2)\n",
      "Requirement already satisfied: tzdata>=2022.1 in /home/bassturtle4/Desktop/SynologyDrive/2023yearproject/Training/env/lib/python3.10/site-packages (from pandas) (2023.3)\n",
      "Requirement already satisfied: pytz>=2020.1 in /home/bassturtle4/Desktop/SynologyDrive/2023yearproject/Training/env/lib/python3.10/site-packages (from pandas) (2023.3.post1)\n",
      "Requirement already satisfied: python-dateutil>=2.8.2 in /home/bassturtle4/Desktop/SynologyDrive/2023yearproject/Training/env/lib/python3.10/site-packages (from pandas) (2.8.2)\n",
      "Requirement already satisfied: joblib>=1.1.1 in /home/bassturtle4/Desktop/SynologyDrive/2023yearproject/Training/env/lib/python3.10/site-packages (from scikit-learn) (1.3.2)\n",
      "Requirement already satisfied: threadpoolctl>=2.0.0 in /home/bassturtle4/Desktop/SynologyDrive/2023yearproject/Training/env/lib/python3.10/site-packages (from scikit-learn) (3.2.0)\n",
      "Requirement already satisfied: scipy>=1.5.0 in /home/bassturtle4/Desktop/SynologyDrive/2023yearproject/Training/env/lib/python3.10/site-packages (from scikit-learn) (1.11.3)\n",
      "Requirement already satisfied: pillow in /home/bassturtle4/Desktop/SynologyDrive/2023yearproject/Training/env/lib/python3.10/site-packages (from wordcloud) (10.1.0)\n",
      "Requirement already satisfied: packaging>=20.0 in /home/bassturtle4/Desktop/SynologyDrive/2023yearproject/Training/env/lib/python3.10/site-packages (from matplotlib) (23.2)\n",
      "Requirement already satisfied: pyparsing>=2.3.1 in /home/bassturtle4/Desktop/SynologyDrive/2023yearproject/Training/env/lib/python3.10/site-packages (from matplotlib) (3.1.1)\n",
      "Requirement already satisfied: contourpy>=1.0.1 in /home/bassturtle4/Desktop/SynologyDrive/2023yearproject/Training/env/lib/python3.10/site-packages (from matplotlib) (1.1.1)\n",
      "Requirement already satisfied: fonttools>=4.22.0 in /home/bassturtle4/Desktop/SynologyDrive/2023yearproject/Training/env/lib/python3.10/site-packages (from matplotlib) (4.43.1)\n",
      "Requirement already satisfied: kiwisolver>=1.3.1 in /home/bassturtle4/Desktop/SynologyDrive/2023yearproject/Training/env/lib/python3.10/site-packages (from matplotlib) (1.4.5)\n",
      "Requirement already satisfied: cycler>=0.10 in /home/bassturtle4/Desktop/SynologyDrive/2023yearproject/Training/env/lib/python3.10/site-packages (from matplotlib) (0.12.1)\n",
      "Requirement already satisfied: smart-open>=1.8.1 in /home/bassturtle4/Desktop/SynologyDrive/2023yearproject/Training/env/lib/python3.10/site-packages (from gensim) (6.4.0)\n",
      "Requirement already satisfied: filelock in /home/bassturtle4/Desktop/SynologyDrive/2023yearproject/Training/env/lib/python3.10/site-packages (from transformers) (3.9.0)\n",
      "Requirement already satisfied: huggingface-hub<1.0,>=0.16.4 in /home/bassturtle4/Desktop/SynologyDrive/2023yearproject/Training/env/lib/python3.10/site-packages (from transformers) (0.17.3)\n",
      "Requirement already satisfied: tokenizers<0.15,>=0.14 in /home/bassturtle4/Desktop/SynologyDrive/2023yearproject/Training/env/lib/python3.10/site-packages (from transformers) (0.14.1)\n",
      "Requirement already satisfied: pyyaml>=5.1 in /home/bassturtle4/Desktop/SynologyDrive/2023yearproject/Training/env/lib/python3.10/site-packages (from transformers) (6.0.1)\n",
      "Requirement already satisfied: requests in /home/bassturtle4/Desktop/SynologyDrive/2023yearproject/Training/env/lib/python3.10/site-packages (from transformers) (2.31.0)\n",
      "Requirement already satisfied: safetensors>=0.3.1 in /home/bassturtle4/Desktop/SynologyDrive/2023yearproject/Training/env/lib/python3.10/site-packages (from transformers) (0.4.0)\n",
      "Requirement already satisfied: tqdm>=4.27 in /home/bassturtle4/Desktop/SynologyDrive/2023yearproject/Training/env/lib/python3.10/site-packages (from transformers) (4.66.1)\n",
      "Requirement already satisfied: click in /home/bassturtle4/Desktop/SynologyDrive/2023yearproject/Training/env/lib/python3.10/site-packages (from nltk) (8.1.7)\n",
      "Requirement already satisfied: pytorch-triton-rocm==2.1.0+34f8189eae in /home/bassturtle4/Desktop/SynologyDrive/2023yearproject/Training/env/lib/python3.10/site-packages (from torch) (2.1.0+34f8189eae)\n",
      "Requirement already satisfied: sympy in /home/bassturtle4/Desktop/SynologyDrive/2023yearproject/Training/env/lib/python3.10/site-packages (from torch) (1.12)\n",
      "Requirement already satisfied: typing-extensions in /home/bassturtle4/Desktop/SynologyDrive/2023yearproject/Training/env/lib/python3.10/site-packages (from torch) (4.8.0)\n",
      "Requirement already satisfied: networkx in /home/bassturtle4/Desktop/SynologyDrive/2023yearproject/Training/env/lib/python3.10/site-packages (from torch) (3.0)\n",
      "Requirement already satisfied: jinja2 in /home/bassturtle4/Desktop/SynologyDrive/2023yearproject/Training/env/lib/python3.10/site-packages (from torch) (3.1.2)\n",
      "Requirement already satisfied: fsspec in /home/bassturtle4/Desktop/SynologyDrive/2023yearproject/Training/env/lib/python3.10/site-packages (from torch) (2023.10.0)\n",
      "Requirement already satisfied: sentencepiece in /home/bassturtle4/Desktop/SynologyDrive/2023yearproject/Training/env/lib/python3.10/site-packages (from sentence-transformers) (0.1.99)\n",
      "Requirement already satisfied: six>=1.5 in /home/bassturtle4/Desktop/SynologyDrive/2023yearproject/Training/env/lib/python3.10/site-packages (from python-dateutil>=2.8.2->pandas) (1.16.0)\n",
      "Requirement already satisfied: MarkupSafe>=2.0 in /home/bassturtle4/Desktop/SynologyDrive/2023yearproject/Training/env/lib/python3.10/site-packages (from jinja2->torch) (2.1.3)\n",
      "Requirement already satisfied: idna<4,>=2.5 in /home/bassturtle4/Desktop/SynologyDrive/2023yearproject/Training/env/lib/python3.10/site-packages (from requests->transformers) (3.4)\n",
      "Requirement already satisfied: urllib3<3,>=1.21.1 in /home/bassturtle4/Desktop/SynologyDrive/2023yearproject/Training/env/lib/python3.10/site-packages (from requests->transformers) (2.0.7)\n",
      "Requirement already satisfied: charset-normalizer<4,>=2 in /home/bassturtle4/Desktop/SynologyDrive/2023yearproject/Training/env/lib/python3.10/site-packages (from requests->transformers) (3.3.1)\n",
      "Requirement already satisfied: certifi>=2017.4.17 in /home/bassturtle4/Desktop/SynologyDrive/2023yearproject/Training/env/lib/python3.10/site-packages (from requests->transformers) (2023.7.22)\n",
      "Requirement already satisfied: mpmath>=0.19 in /home/bassturtle4/Desktop/SynologyDrive/2023yearproject/Training/env/lib/python3.10/site-packages (from sympy->torch) (1.3.0)\n"
     ]
    }
   ],
   "source": [
    "!pip3 install regex pandas numpy scikit-learn wordcloud matplotlib '''gensim''' transformers nltk yellowbrick '''umap''' seaborn torch torchvision torchaudio --upgrade sentence-transformers"
   ]
  },
  {
   "cell_type": "code",
   "execution_count": 2,
   "metadata": {
    "id": "3sNbd4DKkuTX"
   },
   "outputs": [],
   "source": [
    "import re\n",
    "import math\n",
    "import pandas as pd\n",
    "import numpy as np\n",
    "from sklearn.feature_extraction.text import CountVectorizer\n",
    "\n",
    "from wordcloud import WordCloud, STOPWORDS, ImageColorGenerator\n",
    "import matplotlib.pyplot as plt\n",
    "%matplotlib inline\n",
    "\n",
    "from matplotlib.ticker import MaxNLocator\n"
   ]
  },
  {
   "cell_type": "markdown",
   "metadata": {
    "id": "-eZbat0OkJn6"
   },
   "source": [
    "## Loading the data"
   ]
  },
  {
   "cell_type": "code",
   "execution_count": 3,
   "metadata": {
    "id": "pyzIidrH538E"
   },
   "outputs": [],
   "source": [
    "#### wordcloud\n",
    "MAX_WORDS = 20\n",
    "COLLOCATION = 1 #5\n",
    "COLLOCATIONS = False"
   ]
  },
  {
   "cell_type": "code",
   "execution_count": 4,
   "metadata": {
    "colab": {
     "base_uri": "https://localhost:8080/",
     "height": 363
    },
    "id": "K49_7vx7CatN",
    "outputId": "2102b429-9b47-4fe0-8580-52acf6c10291"
   },
   "outputs": [
    {
     "data": {
      "text/html": [
       "<div>\n",
       "<style scoped>\n",
       "    .dataframe tbody tr th:only-of-type {\n",
       "        vertical-align: middle;\n",
       "    }\n",
       "\n",
       "    .dataframe tbody tr th {\n",
       "        vertical-align: top;\n",
       "    }\n",
       "\n",
       "    .dataframe thead th {\n",
       "        text-align: right;\n",
       "    }\n",
       "</style>\n",
       "<table border=\"1\" class=\"dataframe\">\n",
       "  <thead>\n",
       "    <tr style=\"text-align: right;\">\n",
       "      <th></th>\n",
       "      <th>Error</th>\n",
       "      <th>Category</th>\n",
       "    </tr>\n",
       "  </thead>\n",
       "  <tbody>\n",
       "    <tr>\n",
       "      <th>0</th>\n",
       "      <td>Missing package-info java file</td>\n",
       "      <td>JavadocPackage</td>\n",
       "    </tr>\n",
       "    <tr>\n",
       "      <th>1</th>\n",
       "      <td>Utility classes should not have a public or de...</td>\n",
       "      <td>HideUtilityClassConstructor</td>\n",
       "    </tr>\n",
       "    <tr>\n",
       "      <th>2</th>\n",
       "      <td>Missing a Javadoc comment</td>\n",
       "      <td>MissingJavadocMethod</td>\n",
       "    </tr>\n",
       "    <tr>\n",
       "      <th>3</th>\n",
       "      <td>Parameter args should be final</td>\n",
       "      <td>FinalParameters</td>\n",
       "    </tr>\n",
       "    <tr>\n",
       "      <th>4</th>\n",
       "      <td>File contains tab characters (this is the firs...</td>\n",
       "      <td>FileTabCharacter</td>\n",
       "    </tr>\n",
       "    <tr>\n",
       "      <th>5</th>\n",
       "      <td>Line has trailing spaces</td>\n",
       "      <td>RegexpSingleline</td>\n",
       "    </tr>\n",
       "    <tr>\n",
       "      <th>6</th>\n",
       "      <td>Line has trailing spaces</td>\n",
       "      <td>RegexpSingleline</td>\n",
       "    </tr>\n",
       "    <tr>\n",
       "      <th>7</th>\n",
       "      <td>Line is longer than characters (found )</td>\n",
       "      <td>LineLength</td>\n",
       "    </tr>\n",
       "    <tr>\n",
       "      <th>8</th>\n",
       "      <td>Line has trailing spaces</td>\n",
       "      <td>RegexpSingleline</td>\n",
       "    </tr>\n",
       "    <tr>\n",
       "      <th>9</th>\n",
       "      <td>Line is longer than characters (found )</td>\n",
       "      <td>LineLength</td>\n",
       "    </tr>\n",
       "  </tbody>\n",
       "</table>\n",
       "</div>"
      ],
      "text/plain": [
       "                                               Error  \\\n",
       "0                     Missing package-info java file   \n",
       "1  Utility classes should not have a public or de...   \n",
       "2                          Missing a Javadoc comment   \n",
       "3                     Parameter args should be final   \n",
       "4  File contains tab characters (this is the firs...   \n",
       "5                           Line has trailing spaces   \n",
       "6                           Line has trailing spaces   \n",
       "7            Line is longer than characters (found )   \n",
       "8                           Line has trailing spaces   \n",
       "9            Line is longer than characters (found )   \n",
       "\n",
       "                       Category  \n",
       "0               JavadocPackage   \n",
       "1  HideUtilityClassConstructor   \n",
       "2         MissingJavadocMethod   \n",
       "3              FinalParameters   \n",
       "4             FileTabCharacter   \n",
       "5             RegexpSingleline   \n",
       "6             RegexpSingleline   \n",
       "7                   LineLength   \n",
       "8             RegexpSingleline   \n",
       "9                   LineLength   "
      ]
     },
     "execution_count": 4,
     "metadata": {},
     "output_type": "execute_result"
    }
   ],
   "source": [
    "DATA = \"../Errors_data.csv\"\n",
    "\n",
    "df = pd.read_csv(DATA,header=None, names=['Error', 'Category','x','y'])\n",
    "df = df.drop(['x','y'], axis=1)\n",
    "df.head(10)\n"
   ]
  },
  {
   "cell_type": "code",
   "execution_count": 5,
   "metadata": {
    "colab": {
     "base_uri": "https://localhost:8080/"
    },
    "id": "9gsmqjdSDVS8",
    "outputId": "2b9e142e-0cf8-49f8-ccf4-d77877fb3ef1"
   },
   "outputs": [
    {
     "data": {
      "text/plain": [
       "(13993, 2)"
      ]
     },
     "execution_count": 5,
     "metadata": {},
     "output_type": "execute_result"
    }
   ],
   "source": [
    "df.shape"
   ]
  },
  {
   "cell_type": "code",
   "execution_count": 6,
   "metadata": {
    "colab": {
     "base_uri": "https://localhost:8080/"
    },
    "id": "L_V6UiQeKX6F",
    "outputId": "444bcfb3-ccab-4b45-eca6-21b9dbffe83e"
   },
   "outputs": [
    {
     "name": "stdout",
     "output_type": "stream",
     "text": [
      "Total unique categories: 65\n"
     ]
    }
   ],
   "source": [
    "print(\"Total unique categories:\", df['Category'].nunique())"
   ]
  },
  {
   "cell_type": "code",
   "execution_count": 7,
   "metadata": {
    "colab": {
     "base_uri": "https://localhost:8080/"
    },
    "id": "gXMGQW2VK2wz",
    "outputId": "68d95715-fa7f-4391-982f-629824125116"
   },
   "outputs": [
    {
     "data": {
      "text/plain": [
       "8.06225774829855"
      ]
     },
     "execution_count": 7,
     "metadata": {},
     "output_type": "execute_result"
    }
   ],
   "source": [
    "math.sqrt(df['Category'].nunique())"
   ]
  },
  {
   "cell_type": "code",
   "execution_count": 8,
   "metadata": {
    "colab": {
     "base_uri": "https://localhost:8080/",
     "height": 35
    },
    "id": "h7TWlNUuQLdl",
    "outputId": "52fe0c57-8718-442a-81d0-d10115c86bfd"
   },
   "outputs": [
    {
     "data": {
      "text/plain": [
       "\"'||' is not preceded with whitespace\""
      ]
     },
     "execution_count": 8,
     "metadata": {},
     "output_type": "execute_result"
    }
   ],
   "source": [
    "df.iloc[182]['Error']"
   ]
  },
  {
   "cell_type": "code",
   "execution_count": 9,
   "metadata": {
    "colab": {
     "base_uri": "https://localhost:8080/",
     "height": 593
    },
    "id": "o7iwyZ9UsdwK",
    "outputId": "0541f71c-da40-4de2-c5c9-d0e4ab9d2e0f"
   },
   "outputs": [
    {
     "data": {
      "image/png": "[encoded data removed]",
      "text/plain": [
       "<Figure size 640x480 with 1 Axes>"
      ]
     },
     "metadata": {},
     "output_type": "display_data"
    }
   ],
   "source": [
    "# df['Ctegory'].value_counts().plot.bar()\n",
    "\n",
    "ax = df['Category'].value_counts().head(5).plot.bar()\n",
    "\n",
    "ax.set_title('Top-5 Categories')\n",
    "ax.set_xlabel('Category')\n",
    "ax.set_ylabel('Count')\n",
    "\n",
    "plt.show()"
   ]
  },
  {
   "cell_type": "code",
   "execution_count": 10,
   "metadata": {
    "id": "Jw6f9Q11xxHI"
   },
   "outputs": [],
   "source": [
    "# Remove whitespace around plot\n",
    "fig = ax.get_figure()\n",
    "fig.tight_layout()\n",
    "\n",
    "# Save just the plot area to PDF\n",
    "fig.savefig('./top5_category.pdf', bbox_inches='tight')"
   ]
  },
  {
   "cell_type": "code",
   "execution_count": 11,
   "metadata": {
    "colab": {
     "base_uri": "https://localhost:8080/",
     "height": 568
    },
    "id": "lrNEXN7ltKvj",
    "outputId": "e5adcba6-b5fb-46d3-ff4b-15d9be0128ad"
   },
   "outputs": [
    {
     "data": {
      "text/plain": [
       "<Axes: xlabel='Category'>"
      ]
     },
     "execution_count": 11,
     "metadata": {},
     "output_type": "execute_result"
    },
    {
     "data": {
      "image/png": "[encoded data removed]",
      "text/plain": [
       "<Figure size 640x480 with 1 Axes>"
      ]
     },
     "metadata": {},
     "output_type": "display_data"
    }
   ],
   "source": [
    "df['Category'].value_counts().head(5).plot.bar()"
   ]
  },
  {
   "cell_type": "code",
   "execution_count": 12,
   "metadata": {
    "colab": {
     "base_uri": "https://localhost:8080/",
     "height": 1000
    },
    "id": "RuYKBgiXtQVu",
    "outputId": "9a50f99b-fbdc-4a94-8089-b03a16e29ec4"
   },
   "outputs": [
    {
     "data": {
      "text/plain": [
       "<Axes: xlabel='Category'>"
      ]
     },
     "execution_count": 12,
     "metadata": {},
     "output_type": "execute_result"
    },
    {
     "data": {
      "image/png": "[encoded data removed]",
      "text/plain": [
       "<Figure size 640x480 with 1 Axes>"
      ]
     },
     "metadata": {},
     "output_type": "display_data"
    }
   ],
   "source": [
    "df['Category'].value_counts().tail(5).plot.bar()"
   ]
  },
  {
   "cell_type": "code",
   "execution_count": 13,
   "metadata": {
    "colab": {
     "base_uri": "https://localhost:8080/",
     "height": 762
    },
    "id": "MllUlMYCvRTy",
    "outputId": "1f2d07f4-ba53-4c57-b95e-6a500897300b"
   },
   "outputs": [
    {
     "data": {
      "image/png": "[encoded data removed]",
      "text/plain": [
       "<Figure size 640x480 with 1 Axes>"
      ]
     },
     "metadata": {},
     "output_type": "display_data"
    }
   ],
   "source": [
    "# df['Ctegory'].value_counts().plot.bar()\n",
    "\n",
    "ax = df['Error'].value_counts().head(5).plot.bar()\n",
    "\n",
    "ax.set_title('Top-5 Errors')\n",
    "ax.set_xlabel('Error')\n",
    "ax.set_ylabel('Count')\n",
    "\n",
    "plt.show()"
   ]
  },
  {
   "cell_type": "code",
   "execution_count": 14,
   "metadata": {
    "id": "psiFWZf9yfBQ"
   },
   "outputs": [],
   "source": [
    "# Remove whitespace around plot\n",
    "fig = ax.get_figure()\n",
    "# fig.tight_layout()\n",
    "\n",
    "# Save just the plot area to PDF\n",
    "fig.savefig('./top5_error.pdf', bbox_inches='tight')"
   ]
  },
  {
   "cell_type": "markdown",
   "metadata": {
    "id": "wQT8mDW31q_1"
   },
   "source": [
    "## Preprocessing the data"
   ]
  },
  {
   "cell_type": "code",
   "execution_count": 15,
   "metadata": {
    "id": "f9CV940unTtU"
   },
   "outputs": [],
   "source": [
    "def preprocessing(text):\n",
    "\n",
    "    # text = text.replace(\"/home/imhmede/workspace/hello.java:\", \"\")\n",
    "    # text = text.split()\n",
    "    # text = [txt for i, txt in enumerate(text) if i!= 1]\n",
    "    # print(text)\n",
    "    # text = \" \".join(text)\n",
    "    # text = change_construct(text)\n",
    "    # text = re.sub(r'[^\\w\\s\\<\\>]', '', text)\n",
    "    # text = [txt.strip() for txt in text.split() if not txt.isdigit()]\n",
    "    # text = \" \".join(text)\n",
    "    # text = text.replace('_', '')\n",
    "    # text = text.lower()\n",
    "    # text = text.replace(\"error\", \"<ERROR>\")\n",
    "    # text = text.replace(\"warn\", \"<WARN>\")\n",
    "    # # txt = re.sub(' +', ' ', text)\n",
    "    # text = text.split()\n",
    "    # text = \" \".join(text)\n",
    "    text = change_name_next(text)\n",
    "    # text = change_def_next(text)\n",
    "    text = change_class_next(text)\n",
    "    text = change_method_next(text)\n",
    "    text = change_brackets(text)\n",
    "    text = change_isnot(text)\n",
    "    text = change_construct(text)\n",
    "    text = change_use_brackets(text)\n",
    "    text = change_shouldbe(text)\n",
    "    text = change_parameter_next(text)\n",
    "\n",
    "    text = text.lower()\n",
    "    return text\n"
   ]
  },
  {
   "cell_type": "code",
   "execution_count": 16,
   "metadata": {
    "id": "3HHqx1oUynRN"
   },
   "outputs": [],
   "source": [
    "def change_name_next(text):\n",
    "    l = text.split()\n",
    "    j = ['<A_NAME>' if i>0 and l[i-1] in [\"Name\"] else l[i] for i in range(len(l))]\n",
    "    return ' '.join(j)\n"
   ]
  },
  {
   "cell_type": "code",
   "execution_count": 17,
   "metadata": {
    "id": "kaEK6HLY0z9u"
   },
   "outputs": [],
   "source": [
    "def change_def_next(text):\n",
    "    l = text.split()\n",
    "    j = ['<A_FUNC_NAME>' if i>0 and l[i-1] in [\"def\"] else l[i] for i in range(len(l))]\n",
    "    return ' '.join(j)\n"
   ]
  },
  {
   "cell_type": "code",
   "execution_count": 18,
   "metadata": {
    "id": "3tx-IT54rCqB"
   },
   "outputs": [],
   "source": [
    "def change_class_next(text):\n",
    "    l = text.split()\n",
    "    j = ['<A_CLASS_NAME>' if i>0 and l[i-1] in [\"Class\"] else l[i] for i in range(len(l))]\n",
    "    return ' '.join(j)\n"
   ]
  },
  {
   "cell_type": "code",
   "execution_count": 19,
   "metadata": {
    "id": "x7fSsqrKdRnl"
   },
   "outputs": [],
   "source": [
    "def change_parameter_next(text):\n",
    "    l = text.split()\n",
    "    j = ['<A_PARAMETER_NAME>' if i>0 and l[i-1] in [\"Parameter\"] else l[i] for i in range(len(l))]\n",
    "    return ' '.join(j)\n"
   ]
  },
  {
   "cell_type": "code",
   "execution_count": 20,
   "metadata": {
    "id": "hz4nlaSdZ_YL"
   },
   "outputs": [],
   "source": [
    "def change_method_next(text):\n",
    "    l = text.split()\n",
    "    j = ['<A_METHOD_NAME>' if i>0 and l[i-1] in [\"method\"] else l[i] for i in range(len(l))]\n",
    "    return ' '.join(j)\n"
   ]
  },
  {
   "cell_type": "code",
   "execution_count": 21,
   "metadata": {
    "id": "WeUoSFrArauh"
   },
   "outputs": [],
   "source": [
    "def change_brackets(text):\n",
    "    return re.sub(r\"'[{()}]'\", \"<BRAKET>\", text)"
   ]
  },
  {
   "cell_type": "code",
   "execution_count": 22,
   "metadata": {
    "id": "stsyipkmzkjf"
   },
   "outputs": [],
   "source": [
    "def change_construct(text):\n",
    "    return re.sub(r\"'[a-zA-Z]+'\", \"<CONSTRUCT>\", text)"
   ]
  },
  {
   "cell_type": "code",
   "execution_count": 23,
   "metadata": {
    "id": "HSW9ji0EWYxU"
   },
   "outputs": [],
   "source": [
    "def change_isnot(text):\n",
    "  if \" is not\" in text:\n",
    "    new_text = re.sub(r'(^.*) is not', r'<OPERATOR> is not', text)\n",
    "  else:\n",
    "    new_text = text\n",
    "\n",
    "  return new_text"
   ]
  },
  {
   "cell_type": "code",
   "execution_count": 24,
   "metadata": {
    "id": "HNFaEN39czhz"
   },
   "outputs": [],
   "source": [
    "def change_shouldbe(text):\n",
    "  if \" should be on\" in text:\n",
    "    new_text = re.sub(r'(^.*) should be on', r'<OPERATOR> should be on', text)\n",
    "  else:\n",
    "    new_text = text\n",
    "\n",
    "  return new_text"
   ]
  },
  {
   "cell_type": "code",
   "execution_count": 25,
   "metadata": {
    "id": "pjhhP1nxacMc"
   },
   "outputs": [],
   "source": [
    "def change_construct(text):\n",
    "  if \" construct must use\" in text:\n",
    "    new_text = re.sub(r'(^.*) construct must use', r'<OPERATOR> construct must use', text)\n",
    "  else:\n",
    "    new_text = text\n",
    "\n",
    "  return new_text"
   ]
  },
  {
   "cell_type": "code",
   "execution_count": 26,
   "metadata": {
    "id": "8fIvo0C6a7Ja"
   },
   "outputs": [],
   "source": [
    "def change_use_brackets(text):\n",
    "  if \"'{}'s\" in text:\n",
    "    new_text = re.sub(r\"'{}'s\", r\"<BRACKET>\", text)\n",
    "  else:\n",
    "    new_text = text\n",
    "\n",
    "  return new_text"
   ]
  },
  {
   "cell_type": "code",
   "execution_count": 27,
   "metadata": {
    "id": "2tIClDpvoT36"
   },
   "outputs": [],
   "source": [
    "# n_text = preprocessing(content_list[160])\n",
    "# print(n_text)\n"
   ]
  },
  {
   "cell_type": "code",
   "execution_count": 28,
   "metadata": {
    "colab": {
     "base_uri": "https://localhost:8080/"
    },
    "id": "S6fo6mwYzXuH",
    "outputId": "1136d593-4787-4584-cc7b-cd207d3bbb82"
   },
   "outputs": [
    {
     "name": "stdout",
     "output_type": "stream",
     "text": [
      "'*' is not followed by whitespace\n",
      "<operator> is not followed by whitespace\n"
     ]
    }
   ],
   "source": [
    "# id_ = 1002\n",
    "id_ = 103\n",
    "print(df.iloc[id_]['Error'])\n",
    "\n",
    "n_text = preprocessing(df.iloc[id_]['Error'])\n",
    "print(n_text)"
   ]
  },
  {
   "cell_type": "markdown",
   "metadata": {
    "id": "3JKmxZJ01x1X"
   },
   "source": [
    "## Create a dataframe"
   ]
  },
  {
   "cell_type": "code",
   "execution_count": 29,
   "metadata": {
    "id": "KQBvWp_WoYbK"
   },
   "outputs": [],
   "source": [
    "df['clean'] = df['Error'].apply(preprocessing)"
   ]
  },
  {
   "cell_type": "code",
   "execution_count": 30,
   "metadata": {
    "colab": {
     "base_uri": "https://localhost:8080/",
     "height": 206
    },
    "id": "8UvuhPSbrGE4",
    "outputId": "de5c9b89-22f6-4a4b-f6e6-5979bfe6c1f1"
   },
   "outputs": [
    {
     "data": {
      "text/html": [
       "<div>\n",
       "<style scoped>\n",
       "    .dataframe tbody tr th:only-of-type {\n",
       "        vertical-align: middle;\n",
       "    }\n",
       "\n",
       "    .dataframe tbody tr th {\n",
       "        vertical-align: top;\n",
       "    }\n",
       "\n",
       "    .dataframe thead th {\n",
       "        text-align: right;\n",
       "    }\n",
       "</style>\n",
       "<table border=\"1\" class=\"dataframe\">\n",
       "  <thead>\n",
       "    <tr style=\"text-align: right;\">\n",
       "      <th></th>\n",
       "      <th>Error</th>\n",
       "      <th>Category</th>\n",
       "      <th>clean</th>\n",
       "    </tr>\n",
       "  </thead>\n",
       "  <tbody>\n",
       "    <tr>\n",
       "      <th>0</th>\n",
       "      <td>Missing package-info java file</td>\n",
       "      <td>JavadocPackage</td>\n",
       "      <td>missing package-info java file</td>\n",
       "    </tr>\n",
       "    <tr>\n",
       "      <th>1</th>\n",
       "      <td>Utility classes should not have a public or de...</td>\n",
       "      <td>HideUtilityClassConstructor</td>\n",
       "      <td>utility classes should not have a public or de...</td>\n",
       "    </tr>\n",
       "    <tr>\n",
       "      <th>2</th>\n",
       "      <td>Missing a Javadoc comment</td>\n",
       "      <td>MissingJavadocMethod</td>\n",
       "      <td>missing a javadoc comment</td>\n",
       "    </tr>\n",
       "    <tr>\n",
       "      <th>3</th>\n",
       "      <td>Parameter args should be final</td>\n",
       "      <td>FinalParameters</td>\n",
       "      <td>parameter &lt;a_parameter_name&gt; should be final</td>\n",
       "    </tr>\n",
       "    <tr>\n",
       "      <th>4</th>\n",
       "      <td>File contains tab characters (this is the firs...</td>\n",
       "      <td>FileTabCharacter</td>\n",
       "      <td>file contains tab characters (this is the firs...</td>\n",
       "    </tr>\n",
       "  </tbody>\n",
       "</table>\n",
       "</div>"
      ],
      "text/plain": [
       "                                               Error  \\\n",
       "0                     Missing package-info java file   \n",
       "1  Utility classes should not have a public or de...   \n",
       "2                          Missing a Javadoc comment   \n",
       "3                     Parameter args should be final   \n",
       "4  File contains tab characters (this is the firs...   \n",
       "\n",
       "                       Category  \\\n",
       "0               JavadocPackage    \n",
       "1  HideUtilityClassConstructor    \n",
       "2         MissingJavadocMethod    \n",
       "3              FinalParameters    \n",
       "4             FileTabCharacter    \n",
       "\n",
       "                                               clean  \n",
       "0                     missing package-info java file  \n",
       "1  utility classes should not have a public or de...  \n",
       "2                          missing a javadoc comment  \n",
       "3       parameter <a_parameter_name> should be final  \n",
       "4  file contains tab characters (this is the firs...  "
      ]
     },
     "execution_count": 30,
     "metadata": {},
     "output_type": "execute_result"
    }
   ],
   "source": [
    "df.head()"
   ]
  },
  {
   "cell_type": "code",
   "execution_count": 31,
   "metadata": {
    "colab": {
     "base_uri": "https://localhost:8080/",
     "height": 35
    },
    "id": "nrle-MCIrVMF",
    "outputId": "b2f6b0c6-005f-4efd-aa11-5e35055fc106"
   },
   "outputs": [
    {
     "data": {
      "text/plain": [
       "'utility classes should not have a public or default constructor'"
      ]
     },
     "execution_count": 31,
     "metadata": {},
     "output_type": "execute_result"
    }
   ],
   "source": [
    "df.iloc[1][\"clean\"]"
   ]
  },
  {
   "cell_type": "code",
   "execution_count": 32,
   "metadata": {
    "colab": {
     "base_uri": "https://localhost:8080/",
     "height": 35
    },
    "id": "kdTdOfPnuy1h",
    "outputId": "449fff84-e7c2-409f-b02d-fb7487a3db3b"
   },
   "outputs": [
    {
     "data": {
      "text/plain": [
       "'<operator> is not preceded with whitespace'"
      ]
     },
     "execution_count": 32,
     "metadata": {},
     "output_type": "execute_result"
    }
   ],
   "source": [
    "df.iloc[114][\"clean\"]"
   ]
  },
  {
   "cell_type": "code",
   "execution_count": 33,
   "metadata": {
    "colab": {
     "base_uri": "https://localhost:8080/",
     "height": 35
    },
    "id": "UI3Ia8Jk1wjW",
    "outputId": "77723d93-5541-4107-fc4b-1ffee8885b70"
   },
   "outputs": [
    {
     "data": {
      "text/plain": [
       "'<operator> is not preceded with whitespace'"
      ]
     },
     "execution_count": 33,
     "metadata": {},
     "output_type": "execute_result"
    }
   ],
   "source": [
    "df.iloc[114][\"clean\"]"
   ]
  },
  {
   "cell_type": "markdown",
   "metadata": {
    "id": "Y_25SWOc6fc9"
   },
   "source": [
    "## Create a Word Cloud"
   ]
  },
  {
   "cell_type": "code",
   "execution_count": 34,
   "metadata": {
    "colab": {
     "base_uri": "https://localhost:8080/",
     "height": 330
    },
    "id": "Ly7OP9ql6h7S",
    "outputId": "79d5270c-2a22-4ec3-f4a8-a59b79ac6f74"
   },
   "outputs": [
    {
     "data": {
      "image/png": "[encoded data removed]",
      "text/plain": [
       "<Figure size 700x500 with 1 Axes>"
      ]
     },
     "metadata": {},
     "output_type": "display_data"
    }
   ],
   "source": [
    "all_text = []\n",
    "def get_all_text(text):\n",
    "    all_text.append(text)\n",
    "\n",
    "df[\"clean\"].apply(get_all_text)\n",
    "text = \"\\n\".join(all_text)\n",
    "# print(text)\n",
    "\n",
    "# wordcloud = WordCloud(background_color=\"white\").generate(text)\n",
    "\n",
    "#Create the wordcloud object\n",
    "wordcloud = WordCloud(collocations= False,\n",
    "                        background_color=\"white\",\n",
    "                        collocation_threshold = 100,\n",
    "                        max_words = 10,\n",
    "                        relative_scaling = 1).generate(text)\n",
    "#plot\n",
    "plt.figure(figsize=(7,5), dpi=100)\n",
    "plt.imshow(wordcloud, interpolation='bilInear')\n",
    "plt.axis('off')\n",
    "plt.title(\"Word Cloud for Error Descriptions\")\n",
    "plt.savefig(\"./wordcloud.pdf\", bbox_inches='tight')\n",
    "plt.show()"
   ]
  },
  {
   "cell_type": "code",
   "execution_count": 35,
   "metadata": {
    "colab": {
     "base_uri": "https://localhost:8080/"
    },
    "id": "23iGLFMT6b82",
    "outputId": "99f3043f-3b16-48ac-878a-3faa14414a86"
   },
   "outputs": [
    {
     "name": "stdout",
     "output_type": "stream",
     "text": [
      "{'missing': 890, 'package': 395, 'info': 390, 'java': 453, 'file': 650, 'utility': 378, 'classes': 378, 'public': 378, 'default': 380, 'constructor': 378, 'javadoc': 713, 'comment': 691, 'parameter': 1080, 'a_parameter_name': 1080, 'final': 1080, 'contains': 370, 'tab': 72, 'characters': 1582, 'first': 279, 'instance': 72, 'line': 4668, 'trailing': 1624, 'spaces': 1624, 'longer': 1510, 'found': 1510, 'magic': 711, 'number': 711, 'operator': 6039, 'preceded': 1853, 'whitespace': 4656, 'previous': 1193, 'followed': 2803, 'end': 394, 'newline': 187, 'array': 49, 'illegal': 47, 'position': 47, 'construct': 131, 'must': 508, 'use': 131, 'bracket': 178, 'placed': 191, 'wrong': 191, 'location': 191, 'next': 298, 'part': 298, 'multi': 298, 'block': 600, 'statement': 341, 'one': 300, 'directly': 298, 'multiple': 298, 'try': 298, 'catch': 298, 'finally': 298, 'unused': 92, 'import': 65, 'io': 12, 'name': 317, 'a_name': 316, 'match': 315, 'pattern': 315, 'za': 627, 'z': 315, \"int'\": 26, 'sentence': 207, 'period': 207, 'expected': 93, 'param': 165, 'tag': 213, \"list'\": 2, 'return': 42, 'present': 39, 'description': 39, 'braket': 229, 'conditional': 45, 'logic': 45, 'removed': 45, 'expression': 35, 'simplified': 35, 'variable': 61, 'declaration': 36, 'using': 41, 'form': 41, 'avoided': 43, \"variables'\": 2, \"variable'\": 2, \"scanner'\": 1, \"array'\": 9, \"args'\": 26, \"a'\": 5, 'redundant': 5, 'lang': 18, 'math': 11, \"x'\": 12, \"y'\": 12, \"z'\": 12, \"input'\": 10, 'private': 24, 'accessor': 24, 'definition': 3, 'per': 1, 'allowed': 1, 'util': 35, 'javax': 6, 'swing': 4, 'column': 25, 'break': 20, 'new': 17, 'class': 22, 'a_class_name': 21, 'looks': 21, 'designed': 21, 'extension': 21, 'subclassed': 21, 'method': 46, 'a_method_name': 26, 'explains': 21, 'safely': 21, \"double'\": 16, \"rand'\": 1, 'inner': 2, 'assignments': 2, \"values'\": 1, \"arr'\": 12, \"b'\": 4, \"length'\": 2, \"tempformat'\": 1, \"temp'\": 1, \"allthesame'\": 1, 'alone': 5, 'empty': 6, \"sequencereader'\": 1, 'z_': 3, 'w': 3, 'abs': 1, 'input': 1, \"order'\": 1, \"success'\": 1, \"failure'\": 1, \"method_stack_index'\": 2, \"firstarray'\": 2, \"secondarray'\": 2, 'duplicate': 3, \"random'\": 1, \"teachersexample'\": 1, \"three'\": 4, \"str'\": 5, 'stream': 2, \"grademap'\": 1, \"grades'\": 1, \"pass_status'\": 1, \"fail_status'\": 1, \"inta'\": 2, \"intb'\": 2, \"string'\": 8, 'inputmismatchexception': 1, 'least': 1, \"n'\": 2, \"filename'\": 1, 'scanner': 4, 'evenindex': 1, 'time': 1, \"time'\": 2, 'hides': 4, 'field': 4, \"timedifference'\": 1, 'avoid': 4, 'nested': 4, 'unknown': 5, \"date'\": 2, \"return'\": 3, \"firstnumber'\": 3, \"secondnumber'\": 3, \"thirdnumber'\": 3, \"result'\": 3, \"first'\": 2, \"second'\": 2, 'without': 3, 'corresponding': 1, 'hashcode': 1, 'model': 2, 'element': 1, 'variableelement': 1, 'org': 1, 'wc': 1, 'dom': 1, 'range': 2, 'random': 1, 'filenotfoundexception': 1, \"assignemnt'\": 1, \"author'\": 1, \"purpose'\": 1, 'equal': 2, 'enclosing': 1, 'switch': 2, 'clause': 2, 'elementscanner': 1, \"laba'\": 1}\n"
     ]
    }
   ],
   "source": [
    "# Process text\n",
    "frequencies = wordcloud.process_text(text)\n",
    "\n",
    "print(frequencies)"
   ]
  },
  {
   "cell_type": "markdown",
   "metadata": {
    "id": "d6ch5e3o0oac"
   },
   "source": [
    "## Using Bert"
   ]
  },
  {
   "cell_type": "code",
   "execution_count": 36,
   "metadata": {
    "id": "S_J2D25H0qiO"
   },
   "outputs": [],
   "source": [
    "from gensim.models.doc2vec import Doc2Vec, TaggedDocument\n",
    "from nltk.tokenize import word_tokenize"
   ]
  },
  {
   "cell_type": "code",
   "execution_count": 37,
   "metadata": {
    "id": "4GkMf5j4DgDw"
   },
   "outputs": [],
   "source": [
    "DIMENSIONS = 64\n",
    "WINDOW = 5"
   ]
  },
  {
   "cell_type": "code",
   "execution_count": 38,
   "metadata": {
    "colab": {
     "base_uri": "https://localhost:8080/"
    },
    "id": "9fagMxPcDGMp",
    "outputId": "6202e1a8-7153-4dd5-a221-981c0f29890e"
   },
   "outputs": [
    {
     "name": "stdout",
     "output_type": "stream",
     "text": [
      "13993\n"
     ]
    }
   ],
   "source": [
    "all_texts = df['clean'].tolist()\n",
    "all_texts = [text.split() for text in all_texts]\n",
    "print(len(all_texts))"
   ]
  },
  {
   "cell_type": "code",
   "execution_count": 39,
   "metadata": {
    "colab": {
     "base_uri": "https://localhost:8080/"
    },
    "id": "Mb-_HKScDPZM",
    "outputId": "65419e3b-7c58-4fda-deb9-10cf095c1e37"
   },
   "outputs": [
    {
     "name": "stdout",
     "output_type": "stream",
     "text": [
      "[['missing', 'package-info', 'java', 'file'], ['utility', 'classes', 'should', 'not', 'have', 'a', 'public', 'or', 'default', 'constructor']]\n",
      "[['line', 'has', 'trailing', 'spaces'], ['line', 'has', 'trailing', 'spaces']]\n"
     ]
    }
   ],
   "source": [
    "print(all_texts[:2])\n",
    "print(all_texts[-2:])"
   ]
  },
  {
   "cell_type": "code",
   "execution_count": 40,
   "metadata": {
    "id": "fKfLHyDaDZGF"
   },
   "outputs": [],
   "source": [
    "df[\"textList\"] = all_texts"
   ]
  },
  {
   "cell_type": "code",
   "execution_count": 41,
   "metadata": {
    "colab": {
     "base_uri": "https://localhost:8080/",
     "height": 493
    },
    "id": "kTNtjrjr01x-",
    "outputId": "6ce9ae01-67fa-4dc4-d639-bed8ddbd1037"
   },
   "outputs": [
    {
     "data": {
      "text/html": [
       "<div>\n",
       "<style scoped>\n",
       "    .dataframe tbody tr th:only-of-type {\n",
       "        vertical-align: middle;\n",
       "    }\n",
       "\n",
       "    .dataframe tbody tr th {\n",
       "        vertical-align: top;\n",
       "    }\n",
       "\n",
       "    .dataframe thead th {\n",
       "        text-align: right;\n",
       "    }\n",
       "</style>\n",
       "<table border=\"1\" class=\"dataframe\">\n",
       "  <thead>\n",
       "    <tr style=\"text-align: right;\">\n",
       "      <th></th>\n",
       "      <th>Error</th>\n",
       "      <th>Category</th>\n",
       "      <th>clean</th>\n",
       "      <th>textList</th>\n",
       "    </tr>\n",
       "  </thead>\n",
       "  <tbody>\n",
       "    <tr>\n",
       "      <th>0</th>\n",
       "      <td>Missing package-info java file</td>\n",
       "      <td>JavadocPackage</td>\n",
       "      <td>missing package-info java file</td>\n",
       "      <td>[missing, package-info, java, file]</td>\n",
       "    </tr>\n",
       "    <tr>\n",
       "      <th>1</th>\n",
       "      <td>Utility classes should not have a public or de...</td>\n",
       "      <td>HideUtilityClassConstructor</td>\n",
       "      <td>utility classes should not have a public or de...</td>\n",
       "      <td>[utility, classes, should, not, have, a, publi...</td>\n",
       "    </tr>\n",
       "    <tr>\n",
       "      <th>2</th>\n",
       "      <td>Missing a Javadoc comment</td>\n",
       "      <td>MissingJavadocMethod</td>\n",
       "      <td>missing a javadoc comment</td>\n",
       "      <td>[missing, a, javadoc, comment]</td>\n",
       "    </tr>\n",
       "    <tr>\n",
       "      <th>3</th>\n",
       "      <td>Parameter args should be final</td>\n",
       "      <td>FinalParameters</td>\n",
       "      <td>parameter &lt;a_parameter_name&gt; should be final</td>\n",
       "      <td>[parameter, &lt;a_parameter_name&gt;, should, be, fi...</td>\n",
       "    </tr>\n",
       "    <tr>\n",
       "      <th>4</th>\n",
       "      <td>File contains tab characters (this is the firs...</td>\n",
       "      <td>FileTabCharacter</td>\n",
       "      <td>file contains tab characters (this is the firs...</td>\n",
       "      <td>[file, contains, tab, characters, (this, is, t...</td>\n",
       "    </tr>\n",
       "    <tr>\n",
       "      <th>...</th>\n",
       "      <td>...</td>\n",
       "      <td>...</td>\n",
       "      <td>...</td>\n",
       "      <td>...</td>\n",
       "    </tr>\n",
       "    <tr>\n",
       "      <th>13988</th>\n",
       "      <td>Parameter args should be final</td>\n",
       "      <td>FinalParameters</td>\n",
       "      <td>parameter &lt;a_parameter_name&gt; should be final</td>\n",
       "      <td>[parameter, &lt;a_parameter_name&gt;, should, be, fi...</td>\n",
       "    </tr>\n",
       "    <tr>\n",
       "      <th>13989</th>\n",
       "      <td>Line has trailing spaces</td>\n",
       "      <td>RegexpSingleline</td>\n",
       "      <td>line has trailing spaces</td>\n",
       "      <td>[line, has, trailing, spaces]</td>\n",
       "    </tr>\n",
       "    <tr>\n",
       "      <th>13990</th>\n",
       "      <td>Line has trailing spaces</td>\n",
       "      <td>RegexpSingleline</td>\n",
       "      <td>line has trailing spaces</td>\n",
       "      <td>[line, has, trailing, spaces]</td>\n",
       "    </tr>\n",
       "    <tr>\n",
       "      <th>13991</th>\n",
       "      <td>Line has trailing spaces</td>\n",
       "      <td>RegexpSingleline</td>\n",
       "      <td>line has trailing spaces</td>\n",
       "      <td>[line, has, trailing, spaces]</td>\n",
       "    </tr>\n",
       "    <tr>\n",
       "      <th>13992</th>\n",
       "      <td>Line has trailing spaces</td>\n",
       "      <td>RegexpSingleline</td>\n",
       "      <td>line has trailing spaces</td>\n",
       "      <td>[line, has, trailing, spaces]</td>\n",
       "    </tr>\n",
       "  </tbody>\n",
       "</table>\n",
       "<p>13993 rows × 4 columns</p>\n",
       "</div>"
      ],
      "text/plain": [
       "                                                   Error  \\\n",
       "0                         Missing package-info java file   \n",
       "1      Utility classes should not have a public or de...   \n",
       "2                              Missing a Javadoc comment   \n",
       "3                         Parameter args should be final   \n",
       "4      File contains tab characters (this is the firs...   \n",
       "...                                                  ...   \n",
       "13988                     Parameter args should be final   \n",
       "13989                           Line has trailing spaces   \n",
       "13990                           Line has trailing spaces   \n",
       "13991                           Line has trailing spaces   \n",
       "13992                           Line has trailing spaces   \n",
       "\n",
       "                           Category  \\\n",
       "0                   JavadocPackage    \n",
       "1      HideUtilityClassConstructor    \n",
       "2             MissingJavadocMethod    \n",
       "3                  FinalParameters    \n",
       "4                 FileTabCharacter    \n",
       "...                             ...   \n",
       "13988              FinalParameters    \n",
       "13989             RegexpSingleline    \n",
       "13990             RegexpSingleline    \n",
       "13991             RegexpSingleline    \n",
       "13992             RegexpSingleline    \n",
       "\n",
       "                                                   clean  \\\n",
       "0                         missing package-info java file   \n",
       "1      utility classes should not have a public or de...   \n",
       "2                              missing a javadoc comment   \n",
       "3           parameter <a_parameter_name> should be final   \n",
       "4      file contains tab characters (this is the firs...   \n",
       "...                                                  ...   \n",
       "13988       parameter <a_parameter_name> should be final   \n",
       "13989                           line has trailing spaces   \n",
       "13990                           line has trailing spaces   \n",
       "13991                           line has trailing spaces   \n",
       "13992                           line has trailing spaces   \n",
       "\n",
       "                                                textList  \n",
       "0                    [missing, package-info, java, file]  \n",
       "1      [utility, classes, should, not, have, a, publi...  \n",
       "2                         [missing, a, javadoc, comment]  \n",
       "3      [parameter, <a_parameter_name>, should, be, fi...  \n",
       "4      [file, contains, tab, characters, (this, is, t...  \n",
       "...                                                  ...  \n",
       "13988  [parameter, <a_parameter_name>, should, be, fi...  \n",
       "13989                      [line, has, trailing, spaces]  \n",
       "13990                      [line, has, trailing, spaces]  \n",
       "13991                      [line, has, trailing, spaces]  \n",
       "13992                      [line, has, trailing, spaces]  \n",
       "\n",
       "[13993 rows x 4 columns]"
      ]
     },
     "execution_count": 41,
     "metadata": {},
     "output_type": "execute_result"
    }
   ],
   "source": [
    "df"
   ]
  },
  {
   "cell_type": "code",
   "execution_count": 42,
   "metadata": {
    "id": "LBBHeHrt1U7u"
   },
   "outputs": [],
   "source": [
    "documents = [TaggedDocument(doc, [i]) for i, doc in enumerate(all_texts)]"
   ]
  },
  {
   "cell_type": "markdown",
   "metadata": {
    "id": "By7XWDAVLStm"
   },
   "source": [
    "### Get embeddings for multiple dimensions"
   ]
  },
  {
   "cell_type": "code",
   "execution_count": 43,
   "metadata": {
    "id": "-IgpiDgFNYdi"
   },
   "outputs": [
    {
     "name": "stdout",
     "output_type": "stream",
     "text": [
      "Cuda??? True\n",
      "Using GPU: AMD Radeon RX 6700 XT\n"
     ]
    }
   ],
   "source": [
    "from transformers import BertTokenizer, BertModel\n",
    "import torch\n",
    "from tqdm import tqdm\n",
    "tqdm.pandas()\n",
    "\n",
    "print(\"Cuda??? \" + str(torch.cuda.is_available()))\n",
    "\n",
    "if torch.cuda.is_available():\n",
    "    device = torch.device(\"cpu\")\n",
    "    # device = torch.device(\"cuda:0\")\n",
    "    print(\"Using GPU:\", torch.cuda.get_device_name(0))\n",
    "else:\n",
    "    device = torch.device(\"cpu\")\n",
    "    print(\"Using CPU\")"
   ]
  },
  {
   "cell_type": "code",
   "execution_count": 44,
   "metadata": {
    "id": "vsPmeHtLkJoJ"
   },
   "outputs": [
    {
     "name": "stdout",
     "output_type": "stream",
     "text": [
      "Failure is the best path to success\n"
     ]
    }
   ],
   "source": [
    "from sentence_transformers import SentenceTransformer, util\n",
    "\n",
    "model = SentenceTransformer(\"sentence-transformers/all-MiniLM-L6-v2\")\n",
    "tokenizer = BertTokenizer.from_pretrained('bert-base-uncased')\n",
    "model_bert = BertModel.from_pretrained('bert-base-uncased')\n",
    "model.to(device)\n",
    "# tokenizer.to(device)\n",
    "model_bert.to(device)\n",
    "print(\"Failure is the best path to success\")### Added a little note because i didn't want to keep seeing the entire bert layout get printed"
   ]
  },
  {
   "cell_type": "code",
   "execution_count": 45,
   "metadata": {
    "id": "vsPmeHtLkJoJ"
   },
   "outputs": [],
   "source": [
    "# Create a function to get BERT embeddings\n",
    "def get_bert_embeddings(text):\n",
    "    # Ensure the text is a string\n",
    "    if isinstance(text, torch.Tensor):\n",
    "        text = str(text.item())  # Convert the tensor to a string\n",
    "\n",
    "    inputs = tokenizer(text, return_tensors='pt', padding=True, truncation=True).to(device)\n",
    "\n",
    "    with torch.no_grad():\n",
    "        output = model_bert(**inputs)\n",
    "\n",
    "    embeddings = output.last_hidden_state.cpu().numpy()\n",
    "    return embeddings"
   ]
  },
  {
   "cell_type": "code",
   "execution_count": null,
   "metadata": {
    "id": "vsPmeHtLkJoJ"
   },
   "outputs": [
    {
     "name": "stderr",
     "output_type": "stream",
     "text": [
      "100%|██████████████████████████████████████████████████████████████████████████████████████████████████████████████████████████████████████████████████████████████| 13993/13993 [00:00<00:00, 816126.15it/s]\n",
      "  5%|███████▉                                                                                                                                                            | 678/13993 [00:49<16:18, 13.61it/s]"
     ]
    }
   ],
   "source": [
    "df['cleanV2'] = df['clean'].progress_apply(lambda x: str(x) if isinstance(x, torch.Tensor) else x)\n",
    "df['embedding_bert'] = df['cleanV2'].progress_apply(get_bert_embeddings)\n",
    "\n",
    "df.to_pickle(\"Pickled\")"
   ]
  },
  {
   "cell_type": "code",
   "execution_count": null,
   "metadata": {
    "id": "mOR3COOSkJoK"
   },
   "outputs": [],
   "source": [
    "import pandas as pd"
   ]
  },
  {
   "cell_type": "code",
   "execution_count": null,
   "metadata": {
    "id": "bzQVPKAnkJoL"
   },
   "outputs": [],
   "source": [
    "df = pd.read_pickle(\"Pickled\")"
   ]
  },
  {
   "cell_type": "code",
   "execution_count": null,
   "metadata": {
    "colab": {
     "base_uri": "https://localhost:8080/"
    },
    "id": "nMzzSWonkJoL",
    "outputId": "29b7b2ac-f5d1-4118-fc9d-fe8f80e9c907"
   },
   "outputs": [],
   "source": [
    "print(df.head())"
   ]
  },
  {
   "cell_type": "code",
   "execution_count": null,
   "metadata": {
    "colab": {
     "base_uri": "https://localhost:8080/"
    },
    "id": "j5boGOJSkJoL",
    "outputId": "dada88a8-2021-4d2d-8098-905ff91c7c2f"
   },
   "outputs": [],
   "source": [
    "def extract_value(embedding_list):\n",
    "    return embedding_list[0][0]\n",
    "\n",
    "print(df['embedding_bert'].shape)\n",
    "print(df['embedding_bert'][0].shape)\n",
    "print(df['embedding_bert'][0][0].shape)\n",
    "print(df['embedding_bert'][0][0][0].shape)\n",
    "\n",
    "df['embedding']=df['embedding_bert'].apply(extract_value)\n",
    "\n",
    "print(\"\\nAfter\")\n",
    "print(df['embedding'].shape)\n",
    "print(df['embedding'][0].shape)"
   ]
  },
  {
   "cell_type": "markdown",
   "metadata": {
    "id": "8IMS3NNiOEEw"
   },
   "source": [
    "### Get the explained variance"
   ]
  },
  {
   "cell_type": "code",
   "execution_count": null,
   "metadata": {
    "id": "lWIHQqgtkJoL"
   },
   "outputs": [],
   "source": [
    "from sklearn.decomposition import PCA"
   ]
  },
  {
   "cell_type": "code",
   "execution_count": null,
   "metadata": {
    "colab": {
     "base_uri": "https://localhost:8080/"
    },
    "id": "qpWCo8lWkJoM",
    "outputId": "84a8d9a8-5326-411d-de86-6029b4c6e029"
   },
   "outputs": [],
   "source": [
    "# PCA analysis\n",
    "variance_explained = []\n",
    "col = 'embedding'\n",
    "print(col)\n",
    "embeddings=df[col].tolist()\n",
    "pca = PCA(n_components=2)\n",
    "pca.fit(embeddings)\n",
    "variance_explained.append(pca.explained_variance_ratio_.sum().round(2))"
   ]
  },
  {
   "cell_type": "code",
   "execution_count": null,
   "metadata": {
    "colab": {
     "base_uri": "https://localhost:8080/"
    },
    "id": "NM4o5H95kJoM",
    "outputId": "4b4dc299-049d-47ec-8e6f-a6f299dbf889"
   },
   "outputs": [],
   "source": [
    "print(variance_explained)"
   ]
  },
  {
   "cell_type": "code",
   "execution_count": null,
   "metadata": {
    "id": "Jcb1l43-kJoM"
   },
   "outputs": [],
   "source": [
    "# # Plot variance explained\n",
    "# import matplotlib.pyplot as plt\n",
    "# plt.plot(dims, variance_explained)\n",
    "# # Set x ticks\n",
    "# plt.xticks(dims,rotation=90)\n",
    "\n",
    "# plt.title('Variance Explained vs Dimensionality')\n",
    "# plt.xlabel('Dimensions')\n",
    "# plt.ylabel('Variance Explained')\n",
    "# plt.savefig(\"./embeddings_variance.pdf\", bbox_inches='tight')\n",
    "# plt.show()"
   ]
  },
  {
   "cell_type": "markdown",
   "metadata": {
    "id": "5UI881DGYxc0"
   },
   "source": [
    "## Let's find the best k for clustering"
   ]
  },
  {
   "cell_type": "code",
   "execution_count": null,
   "metadata": {
    "id": "O1j5gGVXYwpv"
   },
   "outputs": [],
   "source": [
    "from sklearn.cluster import KMeans\n",
    "from sklearn.metrics import silhouette_score, calinski_harabasz_score\n"
   ]
  },
  {
   "cell_type": "code",
   "execution_count": null,
   "metadata": {
    "colab": {
     "base_uri": "https://localhost:8080/"
    },
    "id": "w674-1SrOVEC",
    "outputId": "93a06213-bcac-47c3-96e0-6018cffb338a"
   },
   "outputs": [],
   "source": [
    "# Range of k to check\n",
    "k_range = range(2, 30)\n",
    "\n",
    "sil_scores = []\n",
    "cal_scores = []\n",
    "\n",
    "for k in k_range:\n",
    "  # Cluster data into k clusters\n",
    "  kmeans = KMeans(n_clusters=k)\n",
    "  clusters = kmeans.fit_predict(df['embedding'][0].reshape(-1, 1).tolist())\n",
    "\n",
    "  # Score with metrics\n",
    "  sil_score = silhouette_score(df['embedding'][0].reshape(-1, 1).tolist(), clusters)\n",
    "  sil_scores.append(sil_score)\n",
    "\n",
    "  cal_score = calinski_harabasz_score(df['embedding'][0].reshape(-1, 1).tolist(), clusters)\n",
    "  cal_scores.append(cal_score)\n"
   ]
  },
  {
   "cell_type": "code",
   "execution_count": null,
   "metadata": {
    "colab": {
     "base_uri": "https://localhost:8080/",
     "height": 472
    },
    "id": "XQbw7qRXOVCG",
    "outputId": "72509d2b-44b4-4204-a750-797fe296f011"
   },
   "outputs": [],
   "source": [
    "# Plot scores\n",
    "plt.plot(k_range, sil_scores, label='Silhouette')\n",
    "new_list = range(math.floor(min(k_range)), math.ceil(max(k_range))+1)\n",
    "plt.xticks(new_list)\n",
    "plt.title('Silhouette Cluster Evaluation Scores')\n",
    "plt.xlabel('Size of k')\n",
    "plt.ylabel('Score')\n",
    "#plt.legend()\n",
    "plt.savefig(\"./shilouette_k.pdf\", bbox_inches='tight')\n",
    "plt.show()"
   ]
  },
  {
   "cell_type": "code",
   "execution_count": null,
   "metadata": {
    "colab": {
     "base_uri": "https://localhost:8080/"
    },
    "id": "AKOwwqpvalkQ",
    "outputId": "5a229665-68f4-4291-9e3a-71272c01bb4b"
   },
   "outputs": [],
   "source": [
    "print(sil_scores)"
   ]
  },
  {
   "cell_type": "code",
   "execution_count": null,
   "metadata": {
    "colab": {
     "base_uri": "https://localhost:8080/",
     "height": 472
    },
    "id": "-usoKzuoOU_R",
    "outputId": "48b779b0-da75-4da1-8e65-b38044a118b9"
   },
   "outputs": [],
   "source": [
    "# Plot scores\n",
    "plt.plot(k_range, cal_scores, label='Calinski-Harabasz')\n",
    "new_list = range(math.floor(min(k_range)), math.ceil(max(k_range))+1)\n",
    "plt.xticks(new_list)\n",
    "plt.title('Cluster Evaluation Scores')\n",
    "plt.xlabel('k')\n",
    "plt.legend()\n",
    "plt.show()"
   ]
  },
  {
   "cell_type": "markdown",
   "metadata": {
    "id": "0PQhdBq_bKCg"
   },
   "source": [
    "It looks that k=7 is fine"
   ]
  },
  {
   "cell_type": "markdown",
   "metadata": {
    "id": "3CH-eKKGcvLp"
   },
   "source": [
    "### Lets use the 128 dimensions and 7 clusters"
   ]
  },
  {
   "cell_type": "code",
   "execution_count": null,
   "metadata": {
    "id": "Euoo-StyOU2S"
   },
   "outputs": [],
   "source": [
    "all_d2v_vecs = df['embedding'].tolist()"
   ]
  },
  {
   "cell_type": "code",
   "execution_count": null,
   "metadata": {
    "colab": {
     "base_uri": "https://localhost:8080/"
    },
    "id": "wEtGkT6xdXUw",
    "outputId": "a8d88a35-4e9b-49e3-9a50-51de481dc609"
   },
   "outputs": [],
   "source": [
    "np.shape(all_d2v_vecs)"
   ]
  },
  {
   "cell_type": "code",
   "execution_count": null,
   "metadata": {
    "colab": {
     "base_uri": "https://localhost:8080/"
    },
    "id": "HZEQEkC5diwB",
    "outputId": "35cb1d3c-be06-435f-9aec-1897159b785b"
   },
   "outputs": [],
   "source": [
    "all_d2v_vecs[0]"
   ]
  },
  {
   "cell_type": "code",
   "execution_count": null,
   "metadata": {
    "id": "j74cUlPekJoP"
   },
   "outputs": [],
   "source": [
    "CLUSTER_COUNT=13"
   ]
  },
  {
   "cell_type": "code",
   "execution_count": null,
   "metadata": {
    "colab": {
     "base_uri": "https://localhost:8080/"
    },
    "id": "Jb6hpr4pc8zr",
    "outputId": "a781b87e-4f7a-484a-829d-e66d82971c42"
   },
   "outputs": [],
   "source": [
    "kmeans = KMeans(n_clusters=CLUSTER_COUNT, random_state=0).fit(all_d2v_vecs)"
   ]
  },
  {
   "cell_type": "code",
   "execution_count": null,
   "metadata": {
    "colab": {
     "base_uri": "https://localhost:8080/"
    },
    "id": "FES_UFEPc8vG",
    "outputId": "759cda43-887a-4365-d4a5-f82967061fcd"
   },
   "outputs": [],
   "source": [
    "kmeans.labels_"
   ]
  },
  {
   "cell_type": "code",
   "execution_count": null,
   "metadata": {
    "colab": {
     "base_uri": "https://localhost:8080/",
     "height": 1000
    },
    "id": "tcX5k8kcc8jI",
    "outputId": "deb820e1-d486-40f3-ec8a-4f80fd488d7c"
   },
   "outputs": [],
   "source": [
    "df[\"d2v_clusters\"] = kmeans.labels_\n",
    "df"
   ]
  },
  {
   "cell_type": "code",
   "execution_count": null,
   "metadata": {
    "colab": {
     "base_uri": "https://localhost:8080/",
     "height": 475
    },
    "id": "OquXmKQyeyMY",
    "outputId": "c92e1edc-8d10-41ed-b7fc-75430fab3b22"
   },
   "outputs": [],
   "source": [
    "ax = df['d2v_clusters'].value_counts().plot.bar()\n",
    "\n",
    "ax.set_title('Distribution of Clusters')\n",
    "ax.set_xlabel('Clusters')\n",
    "ax.set_ylabel('Number of Errors')\n",
    "\n",
    "plt.show()"
   ]
  },
  {
   "cell_type": "code",
   "execution_count": null,
   "metadata": {
    "id": "ClTkCgw-MSYN"
   },
   "outputs": [],
   "source": [
    "# Remove whitespace around plot\n",
    "fig = ax.get_figure()\n",
    "# fig.tight_layout()\n",
    "\n",
    "# Save just the plot area to PDF\n",
    "fig.savefig('./hist_clusters.pdf', bbox_inches='tight')"
   ]
  },
  {
   "cell_type": "code",
   "execution_count": null,
   "metadata": {
    "colab": {
     "base_uri": "https://localhost:8080/"
    },
    "id": "nyN6GpoAdzt6",
    "outputId": "efd0a770-dbf8-461b-ef15-90f4e4d99582"
   },
   "outputs": [],
   "source": [
    "clust_number = 2\n",
    "print(df[df['d2v_clusters'] == clust_number]['clean'])\n",
    "print(df[df['d2v_clusters'] == clust_number]['clean'].count())"
   ]
  },
  {
   "cell_type": "code",
   "execution_count": null,
   "metadata": {
    "colab": {
     "base_uri": "https://localhost:8080/"
    },
    "id": "BdH6J1bCdzg6",
    "outputId": "4258a147-69cc-4e52-fa29-6caeda9b0ae7"
   },
   "outputs": [],
   "source": [
    "clust_number = 0\n",
    "print(df[df['d2v_clusters'] == clust_number]['clean'])\n",
    "print(df[df['d2v_clusters'] == clust_number]['clean'].count())"
   ]
  },
  {
   "cell_type": "code",
   "execution_count": null,
   "metadata": {
    "colab": {
     "base_uri": "https://localhost:8080/"
    },
    "id": "Tf7fp77keK4t",
    "outputId": "0ab24762-c168-4e1e-ad3f-8d135d5aaa18"
   },
   "outputs": [],
   "source": [
    "clust_number = 5\n",
    "print(df[df['d2v_clusters'] == clust_number]['clean'])\n",
    "print(df[df['d2v_clusters'] == clust_number]['clean'].count())"
   ]
  },
  {
   "cell_type": "code",
   "execution_count": null,
   "metadata": {
    "colab": {
     "base_uri": "https://localhost:8080/"
    },
    "id": "4Bi6AGIBfETB",
    "outputId": "a4274b52-8c12-41e1-e34a-bfb74add6e88"
   },
   "outputs": [],
   "source": [
    "clust_number = 1\n",
    "print(df[df['d2v_clusters'] == clust_number]['clean'])\n",
    "print(df[df['d2v_clusters'] == clust_number]['clean'].count())"
   ]
  },
  {
   "cell_type": "code",
   "execution_count": null,
   "metadata": {
    "colab": {
     "base_uri": "https://localhost:8080/"
    },
    "id": "wspncWVtfD07",
    "outputId": "8a47fce9-aa50-46ea-ab7e-9e608c11ba48"
   },
   "outputs": [],
   "source": [
    "clust_number = 6\n",
    "print(df[df['d2v_clusters'] == clust_number]['clean'])\n",
    "print(df[df['d2v_clusters'] == clust_number]['clean'].count())"
   ]
  },
  {
   "cell_type": "code",
   "execution_count": null,
   "metadata": {
    "colab": {
     "base_uri": "https://localhost:8080/"
    },
    "id": "FychPO5_fPCp",
    "outputId": "312f48dc-c70f-44ed-b674-c24a9e6b52e4"
   },
   "outputs": [],
   "source": [
    "clust_number = 3\n",
    "print(df[df['d2v_clusters'] == clust_number]['clean'])\n",
    "print(df[df['d2v_clusters'] == clust_number]['clean'].count())"
   ]
  },
  {
   "cell_type": "code",
   "execution_count": null,
   "metadata": {
    "colab": {
     "base_uri": "https://localhost:8080/"
    },
    "id": "wdLFUuiXfO3Q",
    "outputId": "931458a1-f034-4e04-cb2a-07d1970cd7c3"
   },
   "outputs": [],
   "source": [
    "clust_number = 4\n",
    "print(df[df['d2v_clusters'] == clust_number]['clean'])\n",
    "print(df[df['d2v_clusters'] == clust_number]['clean'].count())"
   ]
  },
  {
   "cell_type": "markdown",
   "metadata": {
    "id": "c0KRj4ptNAYG"
   },
   "source": [
    "### Silhouette Score"
   ]
  },
  {
   "cell_type": "code",
   "execution_count": null,
   "metadata": {
    "colab": {
     "base_uri": "https://localhost:8080/",
     "height": 541
    },
    "id": "MKHhxxu8ZmHI",
    "outputId": "14c079e4-70c7-4e92-e432-b4902fa1ede2"
   },
   "outputs": [],
   "source": [
    "\n",
    "from yellowbrick.cluster import SilhouetteVisualizer\n",
    "\n",
    "\n",
    "# Assuming 'embedding128' is your pandas Series containing embeddings\n",
    "# Convert the Series to a list of lists\n",
    "embedding_list = df['embedding'].tolist()\n",
    "embedding_list_of_lists = np.array([embedding.tolist() for embedding in embedding_list])\n",
    "\n",
    "# Create a SilhouetteVisualizer instance\n",
    "title = \"Silhouette Plot of k-means Clustering\"\n",
    "visualizer = SilhouetteVisualizer(kmeans, colors='yellowbrick', title=title)\n",
    "\n",
    "\n",
    "# Fit the visualizer with the standardized embedding data\n",
    "visualizer.fit(embedding_list_of_lists)\n",
    "# Export the plot to a PDF with a tight layout\n",
    "visualizer.show(outpath=\"./silhouette_plot.pdf\")\n",
    "\n",
    "# Display the visualization\n",
    "visualizer.poof()"
   ]
  },
  {
   "cell_type": "markdown",
   "metadata": {
    "id": "e9yLUuZxc6IJ"
   },
   "source": [
    "### Let's use UMAP to plot the clusters\n"
   ]
  },
  {
   "cell_type": "code",
   "execution_count": null,
   "metadata": {
    "colab": {
     "base_uri": "https://localhost:8080/"
    },
    "id": "kna9N5v_EdU0",
    "outputId": "d4e2c5cf-75af-4a61-a3e5-f84186b4f73f"
   },
   "outputs": [],
   "source": [
    "data_embeds = pd.DataFrame()\n",
    "data_embeds['embeds'] = df[\"embedding\"]\n",
    "print(data_embeds.head())\n",
    "print(data_embeds.shape)\n"
   ]
  },
  {
   "cell_type": "code",
   "execution_count": null,
   "metadata": {
    "colab": {
     "base_uri": "https://localhost:8080/"
    },
    "id": "-KFRPWbGE-dX",
    "outputId": "4d936fe2-7ccc-4cee-9a9a-898ae9fa21e6"
   },
   "outputs": [],
   "source": [
    "!pip install --quiet umap-learn\n"
   ]
  },
  {
   "cell_type": "code",
   "execution_count": null,
   "metadata": {
    "colab": {
     "base_uri": "https://localhost:8080/",
     "height": 76
    },
    "id": "pBj2-_f-FEn2",
    "outputId": "4c04baa3-45f9-4e90-faf2-794d0f33c318"
   },
   "outputs": [],
   "source": [
    "import umap.umap_ as umap # REDUCE DIMENSIONALITY\n",
    "import seaborn as sns\n",
    "sns.color_palette('colorblind')"
   ]
  },
  {
   "cell_type": "code",
   "execution_count": null,
   "metadata": {
    "id": "XKDdfKZ-FMM9"
   },
   "outputs": [],
   "source": [
    "X_umap = umap.UMAP().fit_transform(data_embeds['embeds'].tolist())"
   ]
  },
  {
   "cell_type": "code",
   "execution_count": null,
   "metadata": {
    "colab": {
     "base_uri": "https://localhost:8080/"
    },
    "id": "g1TDTv4FFZVf",
    "outputId": "c3605afd-dfd6-4a46-ada3-040973b9084c"
   },
   "outputs": [],
   "source": [
    "X_umap"
   ]
  },
  {
   "cell_type": "code",
   "execution_count": null,
   "metadata": {
    "id": "DdxL-0meHYty"
   },
   "outputs": [],
   "source": [
    "data_df = pd.DataFrame()\n",
    "data_df['x'] = X_umap[:,0]\n",
    "data_df['y'] = X_umap[:, 1]\n",
    "data_df['cluster'] = df['d2v_clusters']"
   ]
  },
  {
   "cell_type": "code",
   "execution_count": null,
   "metadata": {
    "colab": {
     "base_uri": "https://localhost:8080/",
     "height": 424
    },
    "id": "CaZA99f2IgaH",
    "outputId": "cd1dbed9-9768-4b6b-8bc0-27ad1cfb8a71"
   },
   "outputs": [],
   "source": [
    "data_df"
   ]
  },
  {
   "cell_type": "code",
   "execution_count": null,
   "metadata": {
    "colab": {
     "base_uri": "https://localhost:8080/",
     "height": 424
    },
    "id": "4FUmEubHnh0M",
    "outputId": "1a6327d5-025a-4293-8c54-b43a81518777"
   },
   "outputs": [],
   "source": [
    "data_df['clus'] = data_df['cluster'].apply(lambda x: str(x))\n",
    "data_df"
   ]
  },
  {
   "cell_type": "code",
   "execution_count": null,
   "metadata": {
    "colab": {
     "base_uri": "https://localhost:8080/",
     "height": 850
    },
    "id": "ERAFd4I0IjAh",
    "outputId": "a0ea1d15-4964-4298-b17d-d6732019a4b8"
   },
   "outputs": [],
   "source": [
    "plt.figure(figsize=(10,10))\n",
    "sns.scatterplot(data=data_df, x=\"x\", y=\"y\", hue='clus')\n",
    "plt.show()"
   ]
  },
  {
   "cell_type": "markdown",
   "metadata": {
    "id": "pUStjig8Q8VW"
   },
   "source": [
    "What about PCA and Doc2Vec?"
   ]
  },
  {
   "cell_type": "code",
   "execution_count": null,
   "metadata": {
    "colab": {
     "base_uri": "https://localhost:8080/"
    },
    "id": "g8SOLd9BQ6H1",
    "outputId": "c0d86899-b060-408f-ce84-b55dc39cac89"
   },
   "outputs": [],
   "source": [
    "#Getting unique labels\n",
    "pca = PCA(2)\n",
    "#Transform the data\n",
    "X_pca = pca.fit_transform(data_embeds['embeds'].tolist())\n",
    "X_pca"
   ]
  },
  {
   "cell_type": "code",
   "execution_count": null,
   "metadata": {
    "id": "naPOurLCRgf-"
   },
   "outputs": [],
   "source": [
    "data_df = pd.DataFrame()\n",
    "data_df['x'] = X_pca[:,0]\n",
    "data_df['y'] = X_pca[:, 1]\n",
    "data_df['cluster'] = df['d2v_clusters']"
   ]
  },
  {
   "cell_type": "code",
   "execution_count": null,
   "metadata": {
    "colab": {
     "base_uri": "https://localhost:8080/",
     "height": 424
    },
    "id": "dzp-yMqhRrma",
    "outputId": "fb249b36-a166-4fdb-fc2c-f2af894abc1f"
   },
   "outputs": [],
   "source": [
    "data_df"
   ]
  },
  {
   "cell_type": "code",
   "execution_count": null,
   "metadata": {
    "colab": {
     "base_uri": "https://localhost:8080/",
     "height": 424
    },
    "id": "eWP0LjAxRsjT",
    "outputId": "fff84006-f65f-4984-dfa3-e9c34805ea6a"
   },
   "outputs": [],
   "source": [
    "data_df['clus'] = data_df['cluster'].apply(lambda x: str(x))\n",
    "data_df"
   ]
  },
  {
   "cell_type": "code",
   "execution_count": null,
   "metadata": {
    "colab": {
     "base_uri": "https://localhost:8080/",
     "height": 639
    },
    "id": "UbE2yhZeRwN2",
    "outputId": "1de7a0f8-aed3-4397-8b18-649d39bbc4c8"
   },
   "outputs": [],
   "source": [
    "plt.figure(figsize=(7,7))\n",
    "sns.scatterplot(data=data_df, x=\"x\", y=\"y\", hue='clus')\n",
    "\n",
    "plt.title(\"Clusters of errors\")\n",
    "plt.savefig(\"./cluster_errors.pdf\", bbox_inches='tight')\n",
    "plt.show()"
   ]
  },
  {
   "cell_type": "markdown",
   "metadata": {
    "id": "Kvph0IizUWyy"
   },
   "source": [
    "### t-SNE"
   ]
  },
  {
   "cell_type": "markdown",
   "metadata": {
    "id": "4HxUyGD_h7gT"
   },
   "source": [
    "## Let's get error closest to the centroid in each cluster"
   ]
  },
  {
   "cell_type": "code",
   "execution_count": null,
   "metadata": {
    "id": "u93tphYMh7Hn"
   },
   "outputs": [],
   "source": [
    "centroids = kmeans.cluster_centers_"
   ]
  },
  {
   "cell_type": "code",
   "execution_count": null,
   "metadata": {
    "colab": {
     "base_uri": "https://localhost:8080/"
    },
    "id": "6yMrhH8NRy9Z",
    "outputId": "27588efd-f9c7-4e32-b640-33beb26cbe42"
   },
   "outputs": [],
   "source": [
    "len(centroids)"
   ]
  },
  {
   "cell_type": "code",
   "execution_count": null,
   "metadata": {
    "id": "ECGf42HKi3XT"
   },
   "outputs": [],
   "source": [
    "from sklearn.neighbors import NearestNeighbors"
   ]
  },
  {
   "cell_type": "code",
   "execution_count": null,
   "metadata": {
    "id": "EI1rZkZniQth"
   },
   "outputs": [],
   "source": [
    "# Find closest to each centroid\n",
    "closest_docs = []\n",
    "for c, centroid in enumerate(centroids):\n",
    "    nbrs = NearestNeighbors(n_neighbors=1).fit(df[df['d2v_clusters']==c]['embedding'].tolist())\n",
    "    distances, indices = nbrs.kneighbors(centroid.reshape(1,-1))\n",
    "    closest_doc = df[df['d2v_clusters']==c]['clean'].iloc[indices[0,0]]\n",
    "    closest_doc_cat = df[df['d2v_clusters']==c]['Category'].iloc[indices[0,0]]\n",
    "    closest_docs.append({c:[closest_doc, closest_doc_cat]})"
   ]
  },
  {
   "cell_type": "code",
   "execution_count": null,
   "metadata": {
    "colab": {
     "base_uri": "https://localhost:8080/"
    },
    "id": "15zGuglUjj_M",
    "outputId": "2baad09a-ca0c-48ef-a8a5-4608c3b0a4fe"
   },
   "outputs": [],
   "source": [
    "closest_docs"
   ]
  },
  {
   "cell_type": "markdown",
   "metadata": {
    "id": "3y61LJg1KcmK"
   },
   "source": [
    "### Checking the XML file\n",
    "\n",
    "* {0: ['parameter <a_parameter_name> should be final', 'FinalParameters ']}, Miscellaneous other checks.\n",
    "* {1: ['<operator> is not preceded with whitespace', 'WhitespaceAround ']}, Checks for whitespace.\n",
    "* {2: ['line is longer than characters (found )', 'LineLength ']},Checks for Size Violations\n",
    "* {3: ['<braket> is followed by whitespace', 'ParenPad ']},Checks for whitespace    \n",
    "* {4: ['line has trailing spaces', 'RegexpSingleline ']},Miscellaneous other checks.\n",
    "*  {5: [\"name <a_name> must match pattern '^a-za-za-z-*$'\", 'TypeName ']},Checks for Naming Conventions.\n",
    "* {6: ['missing a javadoc comment', 'MissingJavadocMethod ']},Checks for Javadoc comments\n"
   ]
  },
  {
   "cell_type": "markdown",
   "metadata": {
    "id": "7MaJ3fhfkJRv"
   },
   "source": [
    "## Let's try summarizing the whole cluster"
   ]
  },
  {
   "cell_type": "code",
   "execution_count": null,
   "metadata": {
    "colab": {
     "base_uri": "https://localhost:8080/",
     "height": 465
    },
    "id": "lwmfmTZ1klcS",
    "outputId": "41069ca2-f19e-4d53-9adf-285a9e945c86"
   },
   "outputs": [],
   "source": [
    "!pip3 install gensim==3.6.0 # summarization was deprecated from 4.0"
   ]
  },
  {
   "cell_type": "code",
   "execution_count": null,
   "metadata": {
    "id": "2EDUHTIrjj4T"
   },
   "outputs": [],
   "source": [
    "from gensim.summarization import summarize"
   ]
  },
  {
   "cell_type": "code",
   "execution_count": null,
   "metadata": {
    "id": "dqM1zihejj0V"
   },
   "outputs": [],
   "source": [
    "# Group docs by cluster\n",
    "docs_by_cluster = df.groupby('d2v_clusters')['Error']"
   ]
  },
  {
   "cell_type": "code",
   "execution_count": null,
   "metadata": {
    "id": "WreqmV_jnORy"
   },
   "outputs": [],
   "source": [
    "texts = []\n",
    "for d in docs_by_cluster:\n",
    "    #print(d[1].values)\n",
    "    text = \".\".join(txt for txt in d[1].values)\n",
    "    texts.append(text)"
   ]
  },
  {
   "cell_type": "code",
   "execution_count": null,
   "metadata": {
    "colab": {
     "base_uri": "https://localhost:8080/"
    },
    "id": "wNaKHlISoYgj",
    "outputId": "7f08c1e6-c04e-4aa9-da83-9085d8db84b3"
   },
   "outputs": [],
   "source": [
    "len(texts)"
   ]
  },
  {
   "cell_type": "code",
   "execution_count": null,
   "metadata": {
    "id": "fEudAkj0lD-r"
   },
   "outputs": [],
   "source": [
    "# Generate summary for each cluster (didn't work well)\n",
    "#cluster_summaries = {}\n",
    "#for cluster_id, cluster_docs in enumerate(texts):\n",
    "#    #all_text = \" \".join(cluster_docs.values)\n",
    "#    #print(cluster_docs)\n",
    "#    summary = summarize(cluster_docs, word_count=10)\n",
    "#    cluster_summaries[cluster_id] = summary"
   ]
  },
  {
   "cell_type": "code",
   "execution_count": null,
   "metadata": {
    "colab": {
     "base_uri": "https://localhost:8080/",
     "height": 139
    },
    "id": "lqt9VmvslHMr",
    "outputId": "bab48f5c-9049-4eb9-e6cb-be0abb518d35"
   },
   "outputs": [],
   "source": [
    "texts[0]"
   ]
  },
  {
   "cell_type": "code",
   "execution_count": null,
   "metadata": {
    "colab": {
     "base_uri": "https://localhost:8080/",
     "height": 308
    },
    "id": "NIcN3JnZMWYV",
    "outputId": "e9180ae0-31ab-403a-cc26-0b1b1488c572"
   },
   "outputs": [],
   "source": [
    "\n",
    "#Create the wordcloud object\n",
    "wordcloud = WordCloud(collocations= COLLOCATIONS,\n",
    "                        background_color=\"white\",\n",
    "                        collocation_threshold = COLLOCATION,\n",
    "                        max_words = MAX_WORDS,\n",
    "                        relative_scaling = 1).generate(texts[0])\n",
    "#plot\n",
    "plt.figure(figsize=(7,5), dpi=100)\n",
    "plt.imshow(wordcloud, interpolation='bilInear')\n",
    "plt.axis('off')\n",
    "\n",
    "plt.show()"
   ]
  },
  {
   "cell_type": "code",
   "execution_count": null,
   "metadata": {
    "colab": {
     "base_uri": "https://localhost:8080/"
    },
    "id": "1HWWHQ3lPHgH",
    "outputId": "48922125-418c-43f7-85af-e9875128f7dd"
   },
   "outputs": [],
   "source": [
    "# Process text\n",
    "frequencies = wordcloud.process_text(texts[0])\n",
    "\n",
    "print(frequencies)"
   ]
  },
  {
   "cell_type": "code",
   "execution_count": null,
   "metadata": {
    "colab": {
     "base_uri": "https://localhost:8080/",
     "height": 139
    },
    "id": "UNkc4MDPrPsM",
    "outputId": "b12bd066-9ecc-4633-de93-7fde2d252363"
   },
   "outputs": [],
   "source": [
    "texts[1]"
   ]
  },
  {
   "cell_type": "code",
   "execution_count": null,
   "metadata": {
    "colab": {
     "base_uri": "https://localhost:8080/",
     "height": 308
    },
    "id": "s_AFPpefMk5r",
    "outputId": "c12b1642-26b3-442b-bf65-76f035073fd8"
   },
   "outputs": [],
   "source": [
    "\n",
    "#Create the wordcloud object\n",
    "wordcloud = WordCloud(collocations= COLLOCATIONS,\n",
    "                        background_color=\"white\",\n",
    "                        collocation_threshold = COLLOCATION,\n",
    "                        max_words = MAX_WORDS,\n",
    "                        relative_scaling = 1).generate(texts[1])\n",
    "#plot\n",
    "plt.figure(figsize=(7,5), dpi=100)\n",
    "plt.imshow(wordcloud, interpolation='bilInear')\n",
    "plt.axis('off')\n",
    "\n",
    "plt.show()"
   ]
  },
  {
   "cell_type": "code",
   "execution_count": null,
   "metadata": {
    "colab": {
     "base_uri": "https://localhost:8080/"
    },
    "id": "1chhHOJsPNU_",
    "outputId": "606cb04b-295f-4dac-c7e8-24ec8f165e7d"
   },
   "outputs": [],
   "source": [
    "# Process text\n",
    "frequencies = wordcloud.process_text(texts[1])\n",
    "\n",
    "print(frequencies)"
   ]
  },
  {
   "cell_type": "code",
   "execution_count": null,
   "metadata": {
    "colab": {
     "base_uri": "https://localhost:8080/",
     "height": 139
    },
    "id": "-YskHrv8te4L",
    "outputId": "4ed6c00b-0108-4c48-bc89-ddacaee7a9e6"
   },
   "outputs": [],
   "source": [
    "texts[2]"
   ]
  },
  {
   "cell_type": "code",
   "execution_count": null,
   "metadata": {
    "colab": {
     "base_uri": "https://localhost:8080/",
     "height": 308
    },
    "id": "3Xt0I6O9Mn6d",
    "outputId": "44cee603-a22d-4733-99e3-42bb730088df"
   },
   "outputs": [],
   "source": [
    "\n",
    "#Create the wordcloud object\n",
    "wordcloud = WordCloud(collocations= COLLOCATIONS,\n",
    "                        background_color=\"white\",\n",
    "                        collocation_threshold = COLLOCATION,\n",
    "                        max_words = MAX_WORDS,\n",
    "                        relative_scaling = 1).generate(texts[2])\n",
    "#plot\n",
    "plt.figure(figsize=(7,5), dpi=100)\n",
    "plt.imshow(wordcloud, interpolation='bilInear')\n",
    "plt.axis('off')\n",
    "\n",
    "plt.show()"
   ]
  },
  {
   "cell_type": "code",
   "execution_count": null,
   "metadata": {
    "colab": {
     "base_uri": "https://localhost:8080/"
    },
    "id": "RX38UIoZPP9N",
    "outputId": "43eea195-1b10-427e-c9d0-8f14dc9c9f31"
   },
   "outputs": [],
   "source": [
    "# Process text\n",
    "frequencies = wordcloud.process_text(texts[2])\n",
    "\n",
    "print(frequencies)"
   ]
  },
  {
   "cell_type": "code",
   "execution_count": null,
   "metadata": {
    "colab": {
     "base_uri": "https://localhost:8080/",
     "height": 139
    },
    "id": "RJe3yeU0tgPI",
    "outputId": "3a5d5f94-02dc-4f07-9602-f55ed511a504"
   },
   "outputs": [],
   "source": [
    "texts[3]"
   ]
  },
  {
   "cell_type": "code",
   "execution_count": null,
   "metadata": {
    "colab": {
     "base_uri": "https://localhost:8080/",
     "height": 308
    },
    "id": "Ry6ym6fpMtHE",
    "outputId": "bf1d8ba5-d021-4c45-8206-dfce63d01798"
   },
   "outputs": [],
   "source": [
    "\n",
    "#Create the wordcloud object\n",
    "wordcloud = WordCloud(collocations= COLLOCATIONS,\n",
    "                        background_color=\"white\",\n",
    "                        collocation_threshold = COLLOCATION,\n",
    "                        max_words = MAX_WORDS,\n",
    "                        relative_scaling = 1).generate(texts[3])\n",
    "#plot\n",
    "plt.figure(figsize=(7,5), dpi=100)\n",
    "plt.imshow(wordcloud, interpolation='bilInear')\n",
    "plt.axis('off')\n",
    "\n",
    "plt.show()"
   ]
  },
  {
   "cell_type": "code",
   "execution_count": null,
   "metadata": {
    "colab": {
     "base_uri": "https://localhost:8080/"
    },
    "id": "UStg7LEtPTqM",
    "outputId": "a9a59eae-ddf6-4f38-97ca-69c2954325a6"
   },
   "outputs": [],
   "source": [
    "# Process text\n",
    "frequencies = wordcloud.process_text(texts[3])\n",
    "\n",
    "print(frequencies)"
   ]
  },
  {
   "cell_type": "code",
   "execution_count": null,
   "metadata": {
    "colab": {
     "base_uri": "https://localhost:8080/",
     "height": 139
    },
    "id": "wTQmS7uWthwy",
    "outputId": "8db88610-7c11-4456-c508-728a8c435b99"
   },
   "outputs": [],
   "source": [
    "texts[4]"
   ]
  },
  {
   "cell_type": "code",
   "execution_count": null,
   "metadata": {
    "colab": {
     "base_uri": "https://localhost:8080/",
     "height": 308
    },
    "id": "gRKVKmNLMw5Z",
    "outputId": "2612bb9f-3597-4785-98f1-9db678b18f53"
   },
   "outputs": [],
   "source": [
    "\n",
    "#Create the wordcloud object\n",
    "wordcloud = WordCloud(collocations= COLLOCATIONS,\n",
    "                        background_color=\"white\",\n",
    "                        collocation_threshold = COLLOCATION,\n",
    "                        max_words = MAX_WORDS,\n",
    "                        relative_scaling = 1).generate(texts[4])\n",
    "#plot\n",
    "plt.figure(figsize=(7,5), dpi=100)\n",
    "plt.imshow(wordcloud, interpolation='bilInear')\n",
    "plt.axis('off')\n",
    "\n",
    "plt.show()"
   ]
  },
  {
   "cell_type": "code",
   "execution_count": null,
   "metadata": {
    "colab": {
     "base_uri": "https://localhost:8080/"
    },
    "id": "P_5Hyu-ZPWq9",
    "outputId": "f166a747-0cb8-4c3a-c48e-6418a78769dd"
   },
   "outputs": [],
   "source": [
    "# Process text\n",
    "frequencies = wordcloud.process_text(texts[4])\n",
    "\n",
    "print(frequencies)"
   ]
  },
  {
   "cell_type": "code",
   "execution_count": null,
   "metadata": {
    "colab": {
     "base_uri": "https://localhost:8080/",
     "height": 139
    },
    "id": "ZnJ2ywQbtlwB",
    "outputId": "359b310c-5337-493a-f60c-8de97e36dbc5"
   },
   "outputs": [],
   "source": [
    "texts[5]"
   ]
  },
  {
   "cell_type": "code",
   "execution_count": null,
   "metadata": {
    "colab": {
     "base_uri": "https://localhost:8080/",
     "height": 308
    },
    "id": "fn4EbIb3M6Bf",
    "outputId": "f2f5dda7-a7a3-4b93-d08a-3a24f12bcae0"
   },
   "outputs": [],
   "source": [
    "\n",
    "#Create the wordcloud object\n",
    "wordcloud = WordCloud(collocations= COLLOCATIONS,\n",
    "                        background_color=\"white\",\n",
    "                        collocation_threshold = COLLOCATION,\n",
    "                        max_words = MAX_WORDS,\n",
    "                        relative_scaling = 1).generate(texts[5])\n",
    "#plot\n",
    "plt.figure(figsize=(7,5), dpi=100)\n",
    "plt.imshow(wordcloud, interpolation='bilInear')\n",
    "plt.axis('off')\n",
    "\n",
    "plt.show()"
   ]
  },
  {
   "cell_type": "code",
   "execution_count": null,
   "metadata": {
    "colab": {
     "base_uri": "https://localhost:8080/"
    },
    "id": "C0-8WRrnPZYE",
    "outputId": "b5aaf310-8d6e-4a85-f835-bca118863a66"
   },
   "outputs": [],
   "source": [
    "# Process text\n",
    "frequencies = wordcloud.process_text(texts[5])\n",
    "\n",
    "print(frequencies)"
   ]
  },
  {
   "cell_type": "code",
   "execution_count": null,
   "metadata": {
    "colab": {
     "base_uri": "https://localhost:8080/",
     "height": 139
    },
    "id": "_MMAa9sJpNJ8",
    "outputId": "60b72b6c-c152-4a8b-8884-78678294821d"
   },
   "outputs": [],
   "source": [
    "texts[6]"
   ]
  },
  {
   "cell_type": "code",
   "execution_count": null,
   "metadata": {
    "colab": {
     "base_uri": "https://localhost:8080/",
     "height": 308
    },
    "id": "n2_RrAv8M-gQ",
    "outputId": "52493698-27d6-47e1-f5fe-bd115c6d6d70"
   },
   "outputs": [],
   "source": [
    "\n",
    "#Create the wordcloud object\n",
    "wordcloud = WordCloud(collocations= COLLOCATIONS,\n",
    "                        background_color=\"white\",\n",
    "                        collocation_threshold = COLLOCATION,\n",
    "                        max_words = MAX_WORDS,\n",
    "                        relative_scaling = 1).generate(texts[6])\n",
    "#plot\n",
    "plt.figure(figsize=(7,5), dpi=100)\n",
    "plt.imshow(wordcloud, interpolation='bilInear')\n",
    "plt.axis('off')\n",
    "\n",
    "plt.show()"
   ]
  },
  {
   "cell_type": "code",
   "execution_count": null,
   "metadata": {
    "colab": {
     "base_uri": "https://localhost:8080/"
    },
    "id": "7RkWhALyPczF",
    "outputId": "86e93459-0487-4a3f-cc9f-3f1e56f4343a"
   },
   "outputs": [],
   "source": [
    " # Process text\n",
    "frequencies = wordcloud.process_text(texts[6])\n",
    "\n",
    "print(frequencies)"
   ]
  }
 ],
 "metadata": {
  "accelerator": "GPU",
  "colab": {
   "gpuType": "T4",
   "provenance": []
  },
  "kernelspec": {
   "display_name": "Python 3 (ipykernel)",
   "language": "python",
   "name": "python3"
  },
  "language_info": {
   "codemirror_mode": {
    "name": "ipython",
    "version": 3
   },
   "file_extension": ".py",
   "mimetype": "text/x-python",
   "name": "python",
   "nbconvert_exporter": "python",
   "pygments_lexer": "ipython3",
   "version": "3.10.12"
  }
 },
 "nbformat": 4,
 "nbformat_minor": 4
}
