{
 "cells": [
  {
   "cell_type": "markdown",
   "metadata": {
    "id": "e8tcYM201nd1"
   },
   "source": [
    "## Installing"
   ]
  },
  {
   "cell_type": "code",
   "execution_count": 1,
   "metadata": {
    "colab": {
     "base_uri": "https://localhost:8080/"
    },
    "id": "VN7xffG6kJn5",
    "outputId": "a7a5dc73-2482-4fd9-983b-f4a466686b57"
   },
   "outputs": [
    {
     "name": "stdout",
     "output_type": "stream",
     "text": [
      "Requirement already satisfied: regex in /home/bassturtle4/Desktop/SynologyDrive/2023yearproject/Training/env/lib/python3.10/site-packages (2023.10.3)\n",
      "Requirement already satisfied: pandas in /home/bassturtle4/Desktop/SynologyDrive/2023yearproject/Training/env/lib/python3.10/site-packages (2.1.2)\n",
      "Requirement already satisfied: numpy in /home/bassturtle4/Desktop/SynologyDrive/2023yearproject/Training/env/lib/python3.10/site-packages (1.26.1)\n",
      "Requirement already satisfied: scikit-learn in /home/bassturtle4/Desktop/SynologyDrive/2023yearproject/Training/env/lib/python3.10/site-packages (1.3.2)\n",
      "Requirement already satisfied: wordcloud in /home/bassturtle4/Desktop/SynologyDrive/2023yearproject/Training/env/lib/python3.10/site-packages (1.9.2)\n",
      "Requirement already satisfied: matplotlib in /home/bassturtle4/Desktop/SynologyDrive/2023yearproject/Training/env/lib/python3.10/site-packages (3.8.1)\n",
      "Requirement already satisfied: gensim in /home/bassturtle4/Desktop/SynologyDrive/2023yearproject/Training/env/lib/python3.10/site-packages (4.3.2)\n",
      "Requirement already satisfied: transformers in /home/bassturtle4/Desktop/SynologyDrive/2023yearproject/Training/env/lib/python3.10/site-packages (4.35.0)\n",
      "Requirement already satisfied: nltk in /home/bassturtle4/Desktop/SynologyDrive/2023yearproject/Training/env/lib/python3.10/site-packages (3.8.1)\n",
      "Requirement already satisfied: yellowbrick in /home/bassturtle4/Desktop/SynologyDrive/2023yearproject/Training/env/lib/python3.10/site-packages (1.5)\n",
      "Requirement already satisfied: seaborn in /home/bassturtle4/Desktop/SynologyDrive/2023yearproject/Training/env/lib/python3.10/site-packages (0.13.0)\n",
      "Requirement already satisfied: sentence-transformers in /home/bassturtle4/Desktop/SynologyDrive/2023yearproject/Training/env/lib/python3.10/site-packages (2.2.2)\n",
      "Requirement already satisfied: tensorflow>=1.7.0 in /home/bassturtle4/Desktop/SynologyDrive/2023yearproject/Training/env/lib/python3.10/site-packages (2.14.0)\n",
      "Requirement already satisfied: tensorflow-hub in /home/bassturtle4/Desktop/SynologyDrive/2023yearproject/Training/env/lib/python3.10/site-packages (0.15.0)\n",
      "Requirement already satisfied: umap-learn in /home/bassturtle4/Desktop/SynologyDrive/2023yearproject/Training/env/lib/python3.10/site-packages (0.5.4)\n",
      "Requirement already satisfied: tzdata>=2022.1 in /home/bassturtle4/Desktop/SynologyDrive/2023yearproject/Training/env/lib/python3.10/site-packages (from pandas) (2023.3)\n",
      "Requirement already satisfied: pytz>=2020.1 in /home/bassturtle4/Desktop/SynologyDrive/2023yearproject/Training/env/lib/python3.10/site-packages (from pandas) (2023.3.post1)\n",
      "Requirement already satisfied: python-dateutil>=2.8.2 in /home/bassturtle4/Desktop/SynologyDrive/2023yearproject/Training/env/lib/python3.10/site-packages (from pandas) (2.8.2)\n",
      "Requirement already satisfied: joblib>=1.1.1 in /home/bassturtle4/Desktop/SynologyDrive/2023yearproject/Training/env/lib/python3.10/site-packages (from scikit-learn) (1.3.2)\n",
      "Requirement already satisfied: scipy>=1.5.0 in /home/bassturtle4/Desktop/SynologyDrive/2023yearproject/Training/env/lib/python3.10/site-packages (from scikit-learn) (1.11.3)\n",
      "Requirement already satisfied: threadpoolctl>=2.0.0 in /home/bassturtle4/Desktop/SynologyDrive/2023yearproject/Training/env/lib/python3.10/site-packages (from scikit-learn) (3.2.0)\n",
      "Requirement already satisfied: pillow in /home/bassturtle4/Desktop/SynologyDrive/2023yearproject/Training/env/lib/python3.10/site-packages (from wordcloud) (10.1.0)\n",
      "Requirement already satisfied: kiwisolver>=1.3.1 in /home/bassturtle4/Desktop/SynologyDrive/2023yearproject/Training/env/lib/python3.10/site-packages (from matplotlib) (1.4.5)\n",
      "Requirement already satisfied: contourpy>=1.0.1 in /home/bassturtle4/Desktop/SynologyDrive/2023yearproject/Training/env/lib/python3.10/site-packages (from matplotlib) (1.1.1)\n",
      "Requirement already satisfied: packaging>=20.0 in /home/bassturtle4/Desktop/SynologyDrive/2023yearproject/Training/env/lib/python3.10/site-packages (from matplotlib) (23.2)\n",
      "Requirement already satisfied: pyparsing>=2.3.1 in /home/bassturtle4/Desktop/SynologyDrive/2023yearproject/Training/env/lib/python3.10/site-packages (from matplotlib) (3.1.1)\n",
      "Requirement already satisfied: cycler>=0.10 in /home/bassturtle4/Desktop/SynologyDrive/2023yearproject/Training/env/lib/python3.10/site-packages (from matplotlib) (0.12.1)\n",
      "Requirement already satisfied: fonttools>=4.22.0 in /home/bassturtle4/Desktop/SynologyDrive/2023yearproject/Training/env/lib/python3.10/site-packages (from matplotlib) (4.43.1)\n",
      "Requirement already satisfied: smart-open>=1.8.1 in /home/bassturtle4/Desktop/SynologyDrive/2023yearproject/Training/env/lib/python3.10/site-packages (from gensim) (6.4.0)\n",
      "Requirement already satisfied: filelock in /home/bassturtle4/Desktop/SynologyDrive/2023yearproject/Training/env/lib/python3.10/site-packages (from transformers) (3.9.0)\n",
      "Requirement already satisfied: safetensors>=0.3.1 in /home/bassturtle4/Desktop/SynologyDrive/2023yearproject/Training/env/lib/python3.10/site-packages (from transformers) (0.4.0)\n",
      "Requirement already satisfied: requests in /home/bassturtle4/Desktop/SynologyDrive/2023yearproject/Training/env/lib/python3.10/site-packages (from transformers) (2.31.0)\n",
      "Requirement already satisfied: tokenizers<0.15,>=0.14 in /home/bassturtle4/Desktop/SynologyDrive/2023yearproject/Training/env/lib/python3.10/site-packages (from transformers) (0.14.1)\n",
      "Requirement already satisfied: tqdm>=4.27 in /home/bassturtle4/Desktop/SynologyDrive/2023yearproject/Training/env/lib/python3.10/site-packages (from transformers) (4.66.1)\n",
      "Requirement already satisfied: huggingface-hub<1.0,>=0.16.4 in /home/bassturtle4/Desktop/SynologyDrive/2023yearproject/Training/env/lib/python3.10/site-packages (from transformers) (0.17.3)\n",
      "Requirement already satisfied: pyyaml>=5.1 in /home/bassturtle4/Desktop/SynologyDrive/2023yearproject/Training/env/lib/python3.10/site-packages (from transformers) (6.0.1)\n",
      "Requirement already satisfied: click in /home/bassturtle4/Desktop/SynologyDrive/2023yearproject/Training/env/lib/python3.10/site-packages (from nltk) (8.1.7)\n",
      "Requirement already satisfied: sentencepiece in /home/bassturtle4/Desktop/SynologyDrive/2023yearproject/Training/env/lib/python3.10/site-packages (from sentence-transformers) (0.1.99)\n",
      "Requirement already satisfied: torchvision in /home/bassturtle4/Desktop/SynologyDrive/2023yearproject/Training/env/lib/python3.10/site-packages (from sentence-transformers) (0.17.0.dev20231031+rocm5.7)\n",
      "Requirement already satisfied: torch>=1.6.0 in /home/bassturtle4/Desktop/SynologyDrive/2023yearproject/Training/env/lib/python3.10/site-packages (from sentence-transformers) (2.2.0.dev20231031+rocm5.7)\n",
      "Requirement already satisfied: protobuf!=4.21.0,!=4.21.1,!=4.21.2,!=4.21.3,!=4.21.4,!=4.21.5,<5.0.0dev,>=3.20.3 in /home/bassturtle4/Desktop/SynologyDrive/2023yearproject/Training/env/lib/python3.10/site-packages (from tensorflow>=1.7.0) (4.25.0)\n",
      "Requirement already satisfied: six>=1.12.0 in /home/bassturtle4/Desktop/SynologyDrive/2023yearproject/Training/env/lib/python3.10/site-packages (from tensorflow>=1.7.0) (1.16.0)\n",
      "Requirement already satisfied: ml-dtypes==0.2.0 in /home/bassturtle4/Desktop/SynologyDrive/2023yearproject/Training/env/lib/python3.10/site-packages (from tensorflow>=1.7.0) (0.2.0)\n",
      "Requirement already satisfied: google-pasta>=0.1.1 in /home/bassturtle4/Desktop/SynologyDrive/2023yearproject/Training/env/lib/python3.10/site-packages (from tensorflow>=1.7.0) (0.2.0)\n",
      "Requirement already satisfied: tensorflow-io-gcs-filesystem>=0.23.1 in /home/bassturtle4/Desktop/SynologyDrive/2023yearproject/Training/env/lib/python3.10/site-packages (from tensorflow>=1.7.0) (0.34.0)\n",
      "Requirement already satisfied: tensorboard<2.15,>=2.14 in /home/bassturtle4/Desktop/SynologyDrive/2023yearproject/Training/env/lib/python3.10/site-packages (from tensorflow>=1.7.0) (2.14.1)\n",
      "Requirement already satisfied: keras<2.15,>=2.14.0 in /home/bassturtle4/Desktop/SynologyDrive/2023yearproject/Training/env/lib/python3.10/site-packages (from tensorflow>=1.7.0) (2.14.0)\n",
      "Requirement already satisfied: h5py>=2.9.0 in /home/bassturtle4/Desktop/SynologyDrive/2023yearproject/Training/env/lib/python3.10/site-packages (from tensorflow>=1.7.0) (3.10.0)\n",
      "Requirement already satisfied: libclang>=13.0.0 in /home/bassturtle4/Desktop/SynologyDrive/2023yearproject/Training/env/lib/python3.10/site-packages (from tensorflow>=1.7.0) (16.0.6)\n",
      "Requirement already satisfied: gast!=0.5.0,!=0.5.1,!=0.5.2,>=0.2.1 in /home/bassturtle4/Desktop/SynologyDrive/2023yearproject/Training/env/lib/python3.10/site-packages (from tensorflow>=1.7.0) (0.5.4)\n",
      "Requirement already satisfied: typing-extensions>=3.6.6 in /home/bassturtle4/Desktop/SynologyDrive/2023yearproject/Training/env/lib/python3.10/site-packages (from tensorflow>=1.7.0) (4.8.0)\n",
      "Requirement already satisfied: absl-py>=1.0.0 in /home/bassturtle4/Desktop/SynologyDrive/2023yearproject/Training/env/lib/python3.10/site-packages (from tensorflow>=1.7.0) (2.0.0)\n",
      "Requirement already satisfied: flatbuffers>=23.5.26 in /home/bassturtle4/Desktop/SynologyDrive/2023yearproject/Training/env/lib/python3.10/site-packages (from tensorflow>=1.7.0) (23.5.26)\n",
      "Requirement already satisfied: grpcio<2.0,>=1.24.3 in /home/bassturtle4/Desktop/SynologyDrive/2023yearproject/Training/env/lib/python3.10/site-packages (from tensorflow>=1.7.0) (1.59.2)\n",
      "Requirement already satisfied: opt-einsum>=2.3.2 in /home/bassturtle4/Desktop/SynologyDrive/2023yearproject/Training/env/lib/python3.10/site-packages (from tensorflow>=1.7.0) (3.3.0)\n",
      "Requirement already satisfied: termcolor>=1.1.0 in /home/bassturtle4/Desktop/SynologyDrive/2023yearproject/Training/env/lib/python3.10/site-packages (from tensorflow>=1.7.0) (2.3.0)\n",
      "Requirement already satisfied: astunparse>=1.6.0 in /home/bassturtle4/Desktop/SynologyDrive/2023yearproject/Training/env/lib/python3.10/site-packages (from tensorflow>=1.7.0) (1.6.3)\n",
      "Requirement already satisfied: tensorflow-estimator<2.15,>=2.14.0 in /home/bassturtle4/Desktop/SynologyDrive/2023yearproject/Training/env/lib/python3.10/site-packages (from tensorflow>=1.7.0) (2.14.0)\n",
      "Requirement already satisfied: setuptools in /home/bassturtle4/Desktop/SynologyDrive/2023yearproject/Training/env/lib/python3.10/site-packages (from tensorflow>=1.7.0) (59.6.0)\n",
      "Requirement already satisfied: wrapt<1.15,>=1.11.0 in /home/bassturtle4/Desktop/SynologyDrive/2023yearproject/Training/env/lib/python3.10/site-packages (from tensorflow>=1.7.0) (1.14.1)\n",
      "Requirement already satisfied: pynndescent>=0.5 in /home/bassturtle4/Desktop/SynologyDrive/2023yearproject/Training/env/lib/python3.10/site-packages (from umap-learn) (0.5.10)\n",
      "Requirement already satisfied: tbb>=2019.0 in /home/bassturtle4/Desktop/SynologyDrive/2023yearproject/Training/env/lib/python3.10/site-packages (from umap-learn) (2021.10.0)\n",
      "Requirement already satisfied: numba>=0.51.2 in /home/bassturtle4/Desktop/SynologyDrive/2023yearproject/Training/env/lib/python3.10/site-packages (from umap-learn) (0.58.1)\n",
      "Requirement already satisfied: wheel<1.0,>=0.23.0 in /home/bassturtle4/Desktop/SynologyDrive/2023yearproject/Training/env/lib/python3.10/site-packages (from astunparse>=1.6.0->tensorflow>=1.7.0) (0.37.1)\n",
      "Requirement already satisfied: fsspec in /home/bassturtle4/Desktop/SynologyDrive/2023yearproject/Training/env/lib/python3.10/site-packages (from huggingface-hub<1.0,>=0.16.4->transformers) (2023.10.0)\n",
      "Requirement already satisfied: llvmlite<0.42,>=0.41.0dev0 in /home/bassturtle4/Desktop/SynologyDrive/2023yearproject/Training/env/lib/python3.10/site-packages (from numba>=0.51.2->umap-learn) (0.41.1)\n",
      "Requirement already satisfied: markdown>=2.6.8 in /home/bassturtle4/Desktop/SynologyDrive/2023yearproject/Training/env/lib/python3.10/site-packages (from tensorboard<2.15,>=2.14->tensorflow>=1.7.0) (3.5.1)\n",
      "Requirement already satisfied: tensorboard-data-server<0.8.0,>=0.7.0 in /home/bassturtle4/Desktop/SynologyDrive/2023yearproject/Training/env/lib/python3.10/site-packages (from tensorboard<2.15,>=2.14->tensorflow>=1.7.0) (0.7.2)\n",
      "Requirement already satisfied: google-auth-oauthlib<1.1,>=0.5 in /home/bassturtle4/Desktop/SynologyDrive/2023yearproject/Training/env/lib/python3.10/site-packages (from tensorboard<2.15,>=2.14->tensorflow>=1.7.0) (1.0.0)\n",
      "Requirement already satisfied: werkzeug>=1.0.1 in /home/bassturtle4/Desktop/SynologyDrive/2023yearproject/Training/env/lib/python3.10/site-packages (from tensorboard<2.15,>=2.14->tensorflow>=1.7.0) (3.0.1)\n",
      "Requirement already satisfied: google-auth<3,>=1.6.3 in /home/bassturtle4/Desktop/SynologyDrive/2023yearproject/Training/env/lib/python3.10/site-packages (from tensorboard<2.15,>=2.14->tensorflow>=1.7.0) (2.23.4)\n",
      "Requirement already satisfied: charset-normalizer<4,>=2 in /home/bassturtle4/Desktop/SynologyDrive/2023yearproject/Training/env/lib/python3.10/site-packages (from requests->transformers) (3.3.1)\n",
      "Requirement already satisfied: certifi>=2017.4.17 in /home/bassturtle4/Desktop/SynologyDrive/2023yearproject/Training/env/lib/python3.10/site-packages (from requests->transformers) (2023.7.22)\n",
      "Requirement already satisfied: idna<4,>=2.5 in /home/bassturtle4/Desktop/SynologyDrive/2023yearproject/Training/env/lib/python3.10/site-packages (from requests->transformers) (3.4)\n",
      "Requirement already satisfied: urllib3<3,>=1.21.1 in /home/bassturtle4/Desktop/SynologyDrive/2023yearproject/Training/env/lib/python3.10/site-packages (from requests->transformers) (2.0.7)\n",
      "Requirement already satisfied: networkx in /home/bassturtle4/Desktop/SynologyDrive/2023yearproject/Training/env/lib/python3.10/site-packages (from torch>=1.6.0->sentence-transformers) (3.0)\n",
      "Requirement already satisfied: sympy in /home/bassturtle4/Desktop/SynologyDrive/2023yearproject/Training/env/lib/python3.10/site-packages (from torch>=1.6.0->sentence-transformers) (1.12)\n",
      "Requirement already satisfied: jinja2 in /home/bassturtle4/Desktop/SynologyDrive/2023yearproject/Training/env/lib/python3.10/site-packages (from torch>=1.6.0->sentence-transformers) (3.1.2)\n",
      "Requirement already satisfied: pytorch-triton-rocm==2.1.0+34f8189eae in /home/bassturtle4/Desktop/SynologyDrive/2023yearproject/Training/env/lib/python3.10/site-packages (from torch>=1.6.0->sentence-transformers) (2.1.0+34f8189eae)\n",
      "Requirement already satisfied: pyasn1-modules>=0.2.1 in /home/bassturtle4/Desktop/SynologyDrive/2023yearproject/Training/env/lib/python3.10/site-packages (from google-auth<3,>=1.6.3->tensorboard<2.15,>=2.14->tensorflow>=1.7.0) (0.3.0)\n",
      "Requirement already satisfied: rsa<5,>=3.1.4 in /home/bassturtle4/Desktop/SynologyDrive/2023yearproject/Training/env/lib/python3.10/site-packages (from google-auth<3,>=1.6.3->tensorboard<2.15,>=2.14->tensorflow>=1.7.0) (4.9)\n",
      "Requirement already satisfied: cachetools<6.0,>=2.0.0 in /home/bassturtle4/Desktop/SynologyDrive/2023yearproject/Training/env/lib/python3.10/site-packages (from google-auth<3,>=1.6.3->tensorboard<2.15,>=2.14->tensorflow>=1.7.0) (5.3.2)\n",
      "Requirement already satisfied: requests-oauthlib>=0.7.0 in /home/bassturtle4/Desktop/SynologyDrive/2023yearproject/Training/env/lib/python3.10/site-packages (from google-auth-oauthlib<1.1,>=0.5->tensorboard<2.15,>=2.14->tensorflow>=1.7.0) (1.3.1)\n",
      "Requirement already satisfied: MarkupSafe>=2.1.1 in /home/bassturtle4/Desktop/SynologyDrive/2023yearproject/Training/env/lib/python3.10/site-packages (from werkzeug>=1.0.1->tensorboard<2.15,>=2.14->tensorflow>=1.7.0) (2.1.3)\n",
      "Requirement already satisfied: mpmath>=0.19 in /home/bassturtle4/Desktop/SynologyDrive/2023yearproject/Training/env/lib/python3.10/site-packages (from sympy->torch>=1.6.0->sentence-transformers) (1.3.0)\n",
      "Requirement already satisfied: pyasn1<0.6.0,>=0.4.6 in /home/bassturtle4/Desktop/SynologyDrive/2023yearproject/Training/env/lib/python3.10/site-packages (from pyasn1-modules>=0.2.1->google-auth<3,>=1.6.3->tensorboard<2.15,>=2.14->tensorflow>=1.7.0) (0.5.0)\n",
      "Requirement already satisfied: oauthlib>=3.0.0 in /home/bassturtle4/Desktop/SynologyDrive/2023yearproject/Training/env/lib/python3.10/site-packages (from requests-oauthlib>=0.7.0->google-auth-oauthlib<1.1,>=0.5->tensorboard<2.15,>=2.14->tensorflow>=1.7.0) (3.2.2)\n"
     ]
    }
   ],
   "source": [
    "!pip3 install regex pandas numpy scikit-learn wordcloud matplotlib '''gensim''' transformers nltk yellowbrick seaborn --upgrade sentence-transformers \"tensorflow>=1.7.0\" tensorflow-hub umap-learn"
   ]
  },
  {
   "cell_type": "code",
   "execution_count": 2,
   "metadata": {
    "id": "3sNbd4DKkuTX"
   },
   "outputs": [],
   "source": [
    "import re\n",
    "import math\n",
    "import pandas as pd\n",
    "import numpy as np\n",
    "from sklearn.feature_extraction.text import CountVectorizer\n",
    "\n",
    "from wordcloud import WordCloud, STOPWORDS, ImageColorGenerator\n",
    "import matplotlib.pyplot as plt\n",
    "%matplotlib inline\n",
    "\n",
    "from matplotlib.ticker import MaxNLocator\n"
   ]
  },
  {
   "cell_type": "markdown",
   "metadata": {
    "id": "-eZbat0OkJn6"
   },
   "source": [
    "## Loading the data"
   ]
  },
  {
   "cell_type": "code",
   "execution_count": 3,
   "metadata": {
    "id": "pyzIidrH538E"
   },
   "outputs": [],
   "source": [
    "#### wordcloud\n",
    "MAX_WORDS = 20\n",
    "COLLOCATION = 1 #5\n",
    "COLLOCATIONS = False"
   ]
  },
  {
   "cell_type": "code",
   "execution_count": 4,
   "metadata": {
    "colab": {
     "base_uri": "https://localhost:8080/",
     "height": 363
    },
    "id": "K49_7vx7CatN",
    "outputId": "b83f085c-9784-473b-a6be-a408facbeb5f"
   },
   "outputs": [
    {
     "data": {
      "text/html": [
       "<div>\n",
       "<style scoped>\n",
       "    .dataframe tbody tr th:only-of-type {\n",
       "        vertical-align: middle;\n",
       "    }\n",
       "\n",
       "    .dataframe tbody tr th {\n",
       "        vertical-align: top;\n",
       "    }\n",
       "\n",
       "    .dataframe thead th {\n",
       "        text-align: right;\n",
       "    }\n",
       "</style>\n",
       "<table border=\"1\" class=\"dataframe\">\n",
       "  <thead>\n",
       "    <tr style=\"text-align: right;\">\n",
       "      <th></th>\n",
       "      <th>Error</th>\n",
       "      <th>Category</th>\n",
       "    </tr>\n",
       "  </thead>\n",
       "  <tbody>\n",
       "    <tr>\n",
       "      <th>0</th>\n",
       "      <td>Missing package-info java file</td>\n",
       "      <td>JavadocPackage</td>\n",
       "    </tr>\n",
       "    <tr>\n",
       "      <th>1</th>\n",
       "      <td>Utility classes should not have a public or de...</td>\n",
       "      <td>HideUtilityClassConstructor</td>\n",
       "    </tr>\n",
       "    <tr>\n",
       "      <th>2</th>\n",
       "      <td>Missing a Javadoc comment</td>\n",
       "      <td>MissingJavadocMethod</td>\n",
       "    </tr>\n",
       "    <tr>\n",
       "      <th>3</th>\n",
       "      <td>Parameter args should be final</td>\n",
       "      <td>FinalParameters</td>\n",
       "    </tr>\n",
       "    <tr>\n",
       "      <th>4</th>\n",
       "      <td>File contains tab characters (this is the firs...</td>\n",
       "      <td>FileTabCharacter</td>\n",
       "    </tr>\n",
       "    <tr>\n",
       "      <th>5</th>\n",
       "      <td>Line has trailing spaces</td>\n",
       "      <td>RegexpSingleline</td>\n",
       "    </tr>\n",
       "    <tr>\n",
       "      <th>6</th>\n",
       "      <td>Line has trailing spaces</td>\n",
       "      <td>RegexpSingleline</td>\n",
       "    </tr>\n",
       "    <tr>\n",
       "      <th>7</th>\n",
       "      <td>Line is longer than characters (found )</td>\n",
       "      <td>LineLength</td>\n",
       "    </tr>\n",
       "    <tr>\n",
       "      <th>8</th>\n",
       "      <td>Line has trailing spaces</td>\n",
       "      <td>RegexpSingleline</td>\n",
       "    </tr>\n",
       "    <tr>\n",
       "      <th>9</th>\n",
       "      <td>Line is longer than characters (found )</td>\n",
       "      <td>LineLength</td>\n",
       "    </tr>\n",
       "  </tbody>\n",
       "</table>\n",
       "</div>"
      ],
      "text/plain": [
       "                                               Error  \\\n",
       "0                     Missing package-info java file   \n",
       "1  Utility classes should not have a public or de...   \n",
       "2                          Missing a Javadoc comment   \n",
       "3                     Parameter args should be final   \n",
       "4  File contains tab characters (this is the firs...   \n",
       "5                           Line has trailing spaces   \n",
       "6                           Line has trailing spaces   \n",
       "7            Line is longer than characters (found )   \n",
       "8                           Line has trailing spaces   \n",
       "9            Line is longer than characters (found )   \n",
       "\n",
       "                       Category  \n",
       "0               JavadocPackage   \n",
       "1  HideUtilityClassConstructor   \n",
       "2         MissingJavadocMethod   \n",
       "3              FinalParameters   \n",
       "4             FileTabCharacter   \n",
       "5             RegexpSingleline   \n",
       "6             RegexpSingleline   \n",
       "7                   LineLength   \n",
       "8             RegexpSingleline   \n",
       "9                   LineLength   "
      ]
     },
     "execution_count": 4,
     "metadata": {},
     "output_type": "execute_result"
    }
   ],
   "source": [
    "DATA = \"../Errors_data.csv\"\n",
    "\n",
    "df = pd.read_csv(DATA,header=None, names=['Error', 'Category','x','y'])\n",
    "df = df.drop(['x','y'], axis=1)\n",
    "df.head(10)\n"
   ]
  },
  {
   "cell_type": "code",
   "execution_count": 5,
   "metadata": {
    "colab": {
     "base_uri": "https://localhost:8080/"
    },
    "id": "9gsmqjdSDVS8",
    "outputId": "ca3c7097-e0e9-49b1-f5ec-5cd23d166e2a"
   },
   "outputs": [
    {
     "data": {
      "text/plain": [
       "(13993, 2)"
      ]
     },
     "execution_count": 5,
     "metadata": {},
     "output_type": "execute_result"
    }
   ],
   "source": [
    "df.shape"
   ]
  },
  {
   "cell_type": "code",
   "execution_count": 6,
   "metadata": {
    "colab": {
     "base_uri": "https://localhost:8080/"
    },
    "id": "L_V6UiQeKX6F",
    "outputId": "1199cfc1-73b5-46b0-c518-e3c9fb57fdae"
   },
   "outputs": [
    {
     "name": "stdout",
     "output_type": "stream",
     "text": [
      "Total unique categories: 65\n"
     ]
    }
   ],
   "source": [
    "print(\"Total unique categories:\", df['Category'].nunique())"
   ]
  },
  {
   "cell_type": "code",
   "execution_count": 7,
   "metadata": {
    "colab": {
     "base_uri": "https://localhost:8080/"
    },
    "id": "gXMGQW2VK2wz",
    "outputId": "7cf82375-24df-4a65-d0ef-56932907e089"
   },
   "outputs": [
    {
     "data": {
      "text/plain": [
       "8.06225774829855"
      ]
     },
     "execution_count": 7,
     "metadata": {},
     "output_type": "execute_result"
    }
   ],
   "source": [
    "math.sqrt(df['Category'].nunique())"
   ]
  },
  {
   "cell_type": "code",
   "execution_count": 8,
   "metadata": {
    "colab": {
     "base_uri": "https://localhost:8080/",
     "height": 35
    },
    "id": "h7TWlNUuQLdl",
    "outputId": "46befd7d-e7e6-4bde-e600-c8d939d42846"
   },
   "outputs": [
    {
     "data": {
      "text/plain": [
       "\"'||' is not preceded with whitespace\""
      ]
     },
     "execution_count": 8,
     "metadata": {},
     "output_type": "execute_result"
    }
   ],
   "source": [
    "df.iloc[182]['Error']"
   ]
  },
  {
   "cell_type": "code",
   "execution_count": 9,
   "metadata": {
    "colab": {
     "base_uri": "https://localhost:8080/",
     "height": 593
    },
    "id": "o7iwyZ9UsdwK",
    "outputId": "6d2cdb2e-5bd2-4a8b-d5d1-3a40b2751e7c"
   },
   "outputs": [
    {
     "data": {
      "image/png": "[encoded data removed]",
      "text/plain": [
       "<Figure size 640x480 with 1 Axes>"
      ]
     },
     "metadata": {},
     "output_type": "display_data"
    }
   ],
   "source": [
    "# df['Ctegory'].value_counts().plot.bar()\n",
    "\n",
    "ax = df['Category'].value_counts().head(5).plot.bar()\n",
    "\n",
    "ax.set_title('Top-5 Categories')\n",
    "ax.set_xlabel('Category')\n",
    "ax.set_ylabel('Count')\n",
    "\n",
    "plt.show()"
   ]
  },
  {
   "cell_type": "code",
   "execution_count": 10,
   "metadata": {
    "id": "Jw6f9Q11xxHI"
   },
   "outputs": [],
   "source": [
    "# Remove whitespace around plot\n",
    "fig = ax.get_figure()\n",
    "fig.tight_layout()\n",
    "\n",
    "# Save just the plot area to PDF\n",
    "fig.savefig('./top5_category.pdf', bbox_inches='tight')"
   ]
  },
  {
   "cell_type": "code",
   "execution_count": 11,
   "metadata": {
    "colab": {
     "base_uri": "https://localhost:8080/",
     "height": 588
    },
    "id": "lrNEXN7ltKvj",
    "outputId": "4c28705e-e61c-4594-c91f-98823c343ee5"
   },
   "outputs": [
    {
     "data": {
      "text/plain": [
       "<Axes: xlabel='Category'>"
      ]
     },
     "execution_count": 11,
     "metadata": {},
     "output_type": "execute_result"
    },
    {
     "data": {
      "image/png": "[encoded data removed]",
      "text/plain": [
       "<Figure size 640x480 with 1 Axes>"
      ]
     },
     "metadata": {},
     "output_type": "display_data"
    }
   ],
   "source": [
    "df['Category'].value_counts().head(5).plot.bar()"
   ]
  },
  {
   "cell_type": "code",
   "execution_count": 12,
   "metadata": {
    "colab": {
     "base_uri": "https://localhost:8080/",
     "height": 1000
    },
    "id": "RuYKBgiXtQVu",
    "outputId": "328ff2f2-d635-4952-c4d4-e8c5701bbd82"
   },
   "outputs": [
    {
     "data": {
      "text/plain": [
       "<Axes: xlabel='Category'>"
      ]
     },
     "execution_count": 12,
     "metadata": {},
     "output_type": "execute_result"
    },
    {
     "data": {
      "image/png": "[encoded data removed]",
      "text/plain": [
       "<Figure size 640x480 with 1 Axes>"
      ]
     },
     "metadata": {},
     "output_type": "display_data"
    }
   ],
   "source": [
    "df['Category'].value_counts().tail(5).plot.bar()"
   ]
  },
  {
   "cell_type": "code",
   "execution_count": 13,
   "metadata": {
    "colab": {
     "base_uri": "https://localhost:8080/",
     "height": 762
    },
    "id": "MllUlMYCvRTy",
    "outputId": "d512c9c5-a89a-4481-ec5b-1f949d9f55a4"
   },
   "outputs": [
    {
     "data": {
      "image/png": "[encoded data removed]",
      "text/plain": [
       "<Figure size 640x480 with 1 Axes>"
      ]
     },
     "metadata": {},
     "output_type": "display_data"
    }
   ],
   "source": [
    "# df['Ctegory'].value_counts().plot.bar()\n",
    "\n",
    "ax = df['Error'].value_counts().head(5).plot.bar()\n",
    "\n",
    "ax.set_title('Top-5 Errors')\n",
    "ax.set_xlabel('Error')\n",
    "ax.set_ylabel('Count')\n",
    "\n",
    "plt.show()"
   ]
  },
  {
   "cell_type": "code",
   "execution_count": 14,
   "metadata": {
    "id": "psiFWZf9yfBQ"
   },
   "outputs": [],
   "source": [
    "# Remove whitespace around plot\n",
    "fig = ax.get_figure()\n",
    "# fig.tight_layout()\n",
    "\n",
    "# Save just the plot area to PDF\n",
    "fig.savefig('./top5_error.pdf', bbox_inches='tight')"
   ]
  },
  {
   "cell_type": "markdown",
   "metadata": {
    "id": "wQT8mDW31q_1"
   },
   "source": [
    "## Preprocessing the data"
   ]
  },
  {
   "cell_type": "code",
   "execution_count": 15,
   "metadata": {
    "id": "f9CV940unTtU"
   },
   "outputs": [],
   "source": [
    "def preprocessing(text):\n",
    "\n",
    "    # text = text.replace(\"/home/imhmede/workspace/hello.java:\", \"\")\n",
    "    # text = text.split()\n",
    "    # text = [txt for i, txt in enumerate(text) if i!= 1]\n",
    "    # print(text)\n",
    "    # text = \" \".join(text)\n",
    "    # text = change_construct(text)\n",
    "    # text = re.sub(r'[^\\w\\s\\<\\>]', '', text)\n",
    "    # text = [txt.strip() for txt in text.split() if not txt.isdigit()]\n",
    "    # text = \" \".join(text)\n",
    "    # text = text.replace('_', '')\n",
    "    # text = text.lower()\n",
    "    # text = text.replace(\"error\", \"<ERROR>\")\n",
    "    # text = text.replace(\"warn\", \"<WARN>\")\n",
    "    # # txt = re.sub(' +', ' ', text)\n",
    "    # text = text.split()\n",
    "    # text = \" \".join(text)\n",
    "    text = change_name_next(text)\n",
    "    # text = change_def_next(text)\n",
    "    text = change_class_next(text)\n",
    "    text = change_method_next(text)\n",
    "    text = change_brackets(text)\n",
    "    text = change_isnot(text)\n",
    "    text = change_construct(text)\n",
    "    text = change_use_brackets(text)\n",
    "    text = change_shouldbe(text)\n",
    "    text = change_parameter_next(text)\n",
    "\n",
    "    text = text.lower()\n",
    "    return text\n"
   ]
  },
  {
   "cell_type": "code",
   "execution_count": 16,
   "metadata": {
    "id": "3HHqx1oUynRN"
   },
   "outputs": [],
   "source": [
    "def change_name_next(text):\n",
    "    l = text.split()\n",
    "    j = ['<A_NAME>' if i>0 and l[i-1] in [\"Name\"] else l[i] for i in range(len(l))]\n",
    "    return ' '.join(j)\n"
   ]
  },
  {
   "cell_type": "code",
   "execution_count": 17,
   "metadata": {
    "id": "kaEK6HLY0z9u"
   },
   "outputs": [],
   "source": [
    "def change_def_next(text):\n",
    "    l = text.split()\n",
    "    j = ['<A_FUNC_NAME>' if i>0 and l[i-1] in [\"def\"] else l[i] for i in range(len(l))]\n",
    "    return ' '.join(j)\n"
   ]
  },
  {
   "cell_type": "code",
   "execution_count": 18,
   "metadata": {
    "id": "3tx-IT54rCqB"
   },
   "outputs": [],
   "source": [
    "def change_class_next(text):\n",
    "    l = text.split()\n",
    "    j = ['<A_CLASS_NAME>' if i>0 and l[i-1] in [\"Class\"] else l[i] for i in range(len(l))]\n",
    "    return ' '.join(j)\n"
   ]
  },
  {
   "cell_type": "code",
   "execution_count": 19,
   "metadata": {
    "id": "x7fSsqrKdRnl"
   },
   "outputs": [],
   "source": [
    "def change_parameter_next(text):\n",
    "    l = text.split()\n",
    "    j = ['<A_PARAMETER_NAME>' if i>0 and l[i-1] in [\"Parameter\"] else l[i] for i in range(len(l))]\n",
    "    return ' '.join(j)\n"
   ]
  },
  {
   "cell_type": "code",
   "execution_count": 20,
   "metadata": {
    "id": "hz4nlaSdZ_YL"
   },
   "outputs": [],
   "source": [
    "def change_method_next(text):\n",
    "    l = text.split()\n",
    "    j = ['<A_METHOD_NAME>' if i>0 and l[i-1] in [\"method\"] else l[i] for i in range(len(l))]\n",
    "    return ' '.join(j)\n"
   ]
  },
  {
   "cell_type": "code",
   "execution_count": 21,
   "metadata": {
    "id": "WeUoSFrArauh"
   },
   "outputs": [],
   "source": [
    "def change_brackets(text):\n",
    "    return re.sub(r\"'[{()}]'\", \"<BRAKET>\", text)"
   ]
  },
  {
   "cell_type": "code",
   "execution_count": 22,
   "metadata": {
    "id": "stsyipkmzkjf"
   },
   "outputs": [],
   "source": [
    "def change_construct(text):\n",
    "    return re.sub(r\"'[a-zA-Z]+'\", \"<CONSTRUCT>\", text)"
   ]
  },
  {
   "cell_type": "code",
   "execution_count": 23,
   "metadata": {
    "id": "HSW9ji0EWYxU"
   },
   "outputs": [],
   "source": [
    "def change_isnot(text):\n",
    "  if \" is not\" in text:\n",
    "    new_text = re.sub(r'(^.*) is not', r'<OPERATOR> is not', text)\n",
    "  else:\n",
    "    new_text = text\n",
    "\n",
    "  return new_text"
   ]
  },
  {
   "cell_type": "code",
   "execution_count": 24,
   "metadata": {
    "id": "HNFaEN39czhz"
   },
   "outputs": [],
   "source": [
    "def change_shouldbe(text):\n",
    "  if \" should be on\" in text:\n",
    "    new_text = re.sub(r'(^.*) should be on', r'<OPERATOR> should be on', text)\n",
    "  else:\n",
    "    new_text = text\n",
    "\n",
    "  return new_text"
   ]
  },
  {
   "cell_type": "code",
   "execution_count": 25,
   "metadata": {
    "id": "pjhhP1nxacMc"
   },
   "outputs": [],
   "source": [
    "def change_construct(text):\n",
    "  if \" construct must use\" in text:\n",
    "    new_text = re.sub(r'(^.*) construct must use', r'<OPERATOR> construct must use', text)\n",
    "  else:\n",
    "    new_text = text\n",
    "\n",
    "  return new_text"
   ]
  },
  {
   "cell_type": "code",
   "execution_count": 26,
   "metadata": {
    "id": "8fIvo0C6a7Ja"
   },
   "outputs": [],
   "source": [
    "def change_use_brackets(text):\n",
    "  if \"'{}'s\" in text:\n",
    "    new_text = re.sub(r\"'{}'s\", r\"<BRACKET>\", text)\n",
    "  else:\n",
    "    new_text = text\n",
    "\n",
    "  return new_text"
   ]
  },
  {
   "cell_type": "code",
   "execution_count": 27,
   "metadata": {
    "id": "2tIClDpvoT36"
   },
   "outputs": [],
   "source": [
    "# n_text = preprocessing(content_list[160])\n",
    "# print(n_text)\n"
   ]
  },
  {
   "cell_type": "code",
   "execution_count": 28,
   "metadata": {
    "colab": {
     "base_uri": "https://localhost:8080/"
    },
    "id": "S6fo6mwYzXuH",
    "outputId": "18b6ba95-83df-49bc-d90b-49f32b743294"
   },
   "outputs": [
    {
     "name": "stdout",
     "output_type": "stream",
     "text": [
      "'*' is not followed by whitespace\n",
      "<operator> is not followed by whitespace\n"
     ]
    }
   ],
   "source": [
    "# id_ = 1002\n",
    "id_ = 103\n",
    "print(df.iloc[id_]['Error'])\n",
    "\n",
    "n_text = preprocessing(df.iloc[id_]['Error'])\n",
    "print(n_text)"
   ]
  },
  {
   "cell_type": "markdown",
   "metadata": {
    "id": "3JKmxZJ01x1X"
   },
   "source": [
    "## Create a dataframe"
   ]
  },
  {
   "cell_type": "code",
   "execution_count": 29,
   "metadata": {
    "id": "KQBvWp_WoYbK"
   },
   "outputs": [],
   "source": [
    "df['clean'] = df['Error'].apply(preprocessing)"
   ]
  },
  {
   "cell_type": "code",
   "execution_count": 30,
   "metadata": {
    "colab": {
     "base_uri": "https://localhost:8080/",
     "height": 206
    },
    "id": "8UvuhPSbrGE4",
    "outputId": "79339f0a-dea9-461f-8016-037e36ca087f"
   },
   "outputs": [
    {
     "data": {
      "text/html": [
       "<div>\n",
       "<style scoped>\n",
       "    .dataframe tbody tr th:only-of-type {\n",
       "        vertical-align: middle;\n",
       "    }\n",
       "\n",
       "    .dataframe tbody tr th {\n",
       "        vertical-align: top;\n",
       "    }\n",
       "\n",
       "    .dataframe thead th {\n",
       "        text-align: right;\n",
       "    }\n",
       "</style>\n",
       "<table border=\"1\" class=\"dataframe\">\n",
       "  <thead>\n",
       "    <tr style=\"text-align: right;\">\n",
       "      <th></th>\n",
       "      <th>Error</th>\n",
       "      <th>Category</th>\n",
       "      <th>clean</th>\n",
       "    </tr>\n",
       "  </thead>\n",
       "  <tbody>\n",
       "    <tr>\n",
       "      <th>0</th>\n",
       "      <td>Missing package-info java file</td>\n",
       "      <td>JavadocPackage</td>\n",
       "      <td>missing package-info java file</td>\n",
       "    </tr>\n",
       "    <tr>\n",
       "      <th>1</th>\n",
       "      <td>Utility classes should not have a public or de...</td>\n",
       "      <td>HideUtilityClassConstructor</td>\n",
       "      <td>utility classes should not have a public or de...</td>\n",
       "    </tr>\n",
       "    <tr>\n",
       "      <th>2</th>\n",
       "      <td>Missing a Javadoc comment</td>\n",
       "      <td>MissingJavadocMethod</td>\n",
       "      <td>missing a javadoc comment</td>\n",
       "    </tr>\n",
       "    <tr>\n",
       "      <th>3</th>\n",
       "      <td>Parameter args should be final</td>\n",
       "      <td>FinalParameters</td>\n",
       "      <td>parameter &lt;a_parameter_name&gt; should be final</td>\n",
       "    </tr>\n",
       "    <tr>\n",
       "      <th>4</th>\n",
       "      <td>File contains tab characters (this is the firs...</td>\n",
       "      <td>FileTabCharacter</td>\n",
       "      <td>file contains tab characters (this is the firs...</td>\n",
       "    </tr>\n",
       "  </tbody>\n",
       "</table>\n",
       "</div>"
      ],
      "text/plain": [
       "                                               Error  \\\n",
       "0                     Missing package-info java file   \n",
       "1  Utility classes should not have a public or de...   \n",
       "2                          Missing a Javadoc comment   \n",
       "3                     Parameter args should be final   \n",
       "4  File contains tab characters (this is the firs...   \n",
       "\n",
       "                       Category  \\\n",
       "0               JavadocPackage    \n",
       "1  HideUtilityClassConstructor    \n",
       "2         MissingJavadocMethod    \n",
       "3              FinalParameters    \n",
       "4             FileTabCharacter    \n",
       "\n",
       "                                               clean  \n",
       "0                     missing package-info java file  \n",
       "1  utility classes should not have a public or de...  \n",
       "2                          missing a javadoc comment  \n",
       "3       parameter <a_parameter_name> should be final  \n",
       "4  file contains tab characters (this is the firs...  "
      ]
     },
     "execution_count": 30,
     "metadata": {},
     "output_type": "execute_result"
    }
   ],
   "source": [
    "df.head()"
   ]
  },
  {
   "cell_type": "code",
   "execution_count": 31,
   "metadata": {
    "colab": {
     "base_uri": "https://localhost:8080/",
     "height": 35
    },
    "id": "nrle-MCIrVMF",
    "outputId": "0388f503-7c37-4b4d-b1e3-db6bc6bf0971"
   },
   "outputs": [
    {
     "data": {
      "text/plain": [
       "'utility classes should not have a public or default constructor'"
      ]
     },
     "execution_count": 31,
     "metadata": {},
     "output_type": "execute_result"
    }
   ],
   "source": [
    "df.iloc[1][\"clean\"]"
   ]
  },
  {
   "cell_type": "code",
   "execution_count": 32,
   "metadata": {
    "colab": {
     "base_uri": "https://localhost:8080/",
     "height": 35
    },
    "id": "kdTdOfPnuy1h",
    "outputId": "b4d968dc-b758-41c8-b1a8-c3a4784dc3ad"
   },
   "outputs": [
    {
     "data": {
      "text/plain": [
       "'<operator> is not preceded with whitespace'"
      ]
     },
     "execution_count": 32,
     "metadata": {},
     "output_type": "execute_result"
    }
   ],
   "source": [
    "df.iloc[114][\"clean\"]"
   ]
  },
  {
   "cell_type": "code",
   "execution_count": 33,
   "metadata": {
    "colab": {
     "base_uri": "https://localhost:8080/",
     "height": 35
    },
    "id": "UI3Ia8Jk1wjW",
    "outputId": "d7e3d59d-1387-4f98-be77-f153f05b93c8"
   },
   "outputs": [
    {
     "data": {
      "text/plain": [
       "'<operator> is not preceded with whitespace'"
      ]
     },
     "execution_count": 33,
     "metadata": {},
     "output_type": "execute_result"
    }
   ],
   "source": [
    "df.iloc[114][\"clean\"]"
   ]
  },
  {
   "cell_type": "markdown",
   "metadata": {
    "id": "Y_25SWOc6fc9"
   },
   "source": [
    "## Create a Word Cloud"
   ]
  },
  {
   "cell_type": "code",
   "execution_count": 34,
   "metadata": {
    "colab": {
     "base_uri": "https://localhost:8080/",
     "height": 330
    },
    "id": "Ly7OP9ql6h7S",
    "outputId": "078e7a37-e8f9-4780-8741-24547a00c5e3"
   },
   "outputs": [
    {
     "data": {
      "image/png": "[encoded data removed]",
      "text/plain": [
       "<Figure size 700x500 with 1 Axes>"
      ]
     },
     "metadata": {},
     "output_type": "display_data"
    }
   ],
   "source": [
    "all_text = []\n",
    "def get_all_text(text):\n",
    "    all_text.append(text)\n",
    "\n",
    "df[\"clean\"].apply(get_all_text)\n",
    "text = \"\\n\".join(all_text)\n",
    "# print(text)\n",
    "\n",
    "# wordcloud = WordCloud(background_color=\"white\").generate(text)\n",
    "\n",
    "#Create the wordcloud object\n",
    "wordcloud = WordCloud(collocations= False,\n",
    "                        background_color=\"white\",\n",
    "                        collocation_threshold = 100,\n",
    "                        max_words = 10,\n",
    "                        relative_scaling = 1).generate(text)\n",
    "#plot\n",
    "plt.figure(figsize=(7,5), dpi=100)\n",
    "plt.imshow(wordcloud, interpolation='bilInear')\n",
    "plt.axis('off')\n",
    "plt.title(\"Word Cloud for Error Descriptions\")\n",
    "plt.savefig(\"./wordcloud.pdf\", bbox_inches='tight')\n",
    "plt.show()"
   ]
  },
  {
   "cell_type": "code",
   "execution_count": 35,
   "metadata": {
    "colab": {
     "base_uri": "https://localhost:8080/"
    },
    "id": "23iGLFMT6b82",
    "outputId": "3027d767-b5eb-47a7-c059-b81d98bc8275"
   },
   "outputs": [
    {
     "name": "stdout",
     "output_type": "stream",
     "text": [
      "{'missing': 890, 'package': 395, 'info': 390, 'java': 453, 'file': 650, 'utility': 378, 'classes': 378, 'public': 378, 'default': 380, 'constructor': 378, 'javadoc': 713, 'comment': 691, 'parameter': 1080, 'a_parameter_name': 1080, 'final': 1080, 'contains': 370, 'tab': 72, 'characters': 1582, 'first': 279, 'instance': 72, 'line': 4668, 'trailing': 1624, 'spaces': 1624, 'longer': 1510, 'found': 1510, 'magic': 711, 'number': 711, 'operator': 6039, 'preceded': 1853, 'whitespace': 4656, 'previous': 1193, 'followed': 2803, 'end': 394, 'newline': 187, 'array': 49, 'illegal': 47, 'position': 47, 'construct': 131, 'must': 508, 'use': 131, 'bracket': 178, 'placed': 191, 'wrong': 191, 'location': 191, 'next': 298, 'part': 298, 'multi': 298, 'block': 600, 'statement': 341, 'one': 300, 'directly': 298, 'multiple': 298, 'try': 298, 'catch': 298, 'finally': 298, 'unused': 92, 'import': 65, 'io': 12, 'name': 317, 'a_name': 316, 'match': 315, 'pattern': 315, 'za': 627, 'z': 315, \"int'\": 26, 'sentence': 207, 'period': 207, 'expected': 93, 'param': 165, 'tag': 213, \"list'\": 2, 'return': 42, 'present': 39, 'description': 39, 'braket': 229, 'conditional': 45, 'logic': 45, 'removed': 45, 'expression': 35, 'simplified': 35, 'variable': 61, 'declaration': 36, 'using': 41, 'form': 41, 'avoided': 43, \"variables'\": 2, \"variable'\": 2, \"scanner'\": 1, \"array'\": 9, \"args'\": 26, \"a'\": 5, 'redundant': 5, 'lang': 18, 'math': 11, \"x'\": 12, \"y'\": 12, \"z'\": 12, \"input'\": 10, 'private': 24, 'accessor': 24, 'definition': 3, 'per': 1, 'allowed': 1, 'util': 35, 'javax': 6, 'swing': 4, 'column': 25, 'break': 20, 'new': 17, 'class': 22, 'a_class_name': 21, 'looks': 21, 'designed': 21, 'extension': 21, 'subclassed': 21, 'method': 46, 'a_method_name': 26, 'explains': 21, 'safely': 21, \"double'\": 16, \"rand'\": 1, 'inner': 2, 'assignments': 2, \"values'\": 1, \"arr'\": 12, \"b'\": 4, \"length'\": 2, \"tempformat'\": 1, \"temp'\": 1, \"allthesame'\": 1, 'alone': 5, 'empty': 6, \"sequencereader'\": 1, 'z_': 3, 'w': 3, 'abs': 1, 'input': 1, \"order'\": 1, \"success'\": 1, \"failure'\": 1, \"method_stack_index'\": 2, \"firstarray'\": 2, \"secondarray'\": 2, 'duplicate': 3, \"random'\": 1, \"teachersexample'\": 1, \"three'\": 4, \"str'\": 5, 'stream': 2, \"grademap'\": 1, \"grades'\": 1, \"pass_status'\": 1, \"fail_status'\": 1, \"inta'\": 2, \"intb'\": 2, \"string'\": 8, 'inputmismatchexception': 1, 'least': 1, \"n'\": 2, \"filename'\": 1, 'scanner': 4, 'evenindex': 1, 'time': 1, \"time'\": 2, 'hides': 4, 'field': 4, \"timedifference'\": 1, 'avoid': 4, 'nested': 4, 'unknown': 5, \"date'\": 2, \"return'\": 3, \"firstnumber'\": 3, \"secondnumber'\": 3, \"thirdnumber'\": 3, \"result'\": 3, \"first'\": 2, \"second'\": 2, 'without': 3, 'corresponding': 1, 'hashcode': 1, 'model': 2, 'element': 1, 'variableelement': 1, 'org': 1, 'wc': 1, 'dom': 1, 'range': 2, 'random': 1, 'filenotfoundexception': 1, \"assignemnt'\": 1, \"author'\": 1, \"purpose'\": 1, 'equal': 2, 'enclosing': 1, 'switch': 2, 'clause': 2, 'elementscanner': 1, \"laba'\": 1}\n"
     ]
    }
   ],
   "source": [
    "# Process text\n",
    "frequencies = wordcloud.process_text(text)\n",
    "\n",
    "print(frequencies)"
   ]
  },
  {
   "cell_type": "markdown",
   "metadata": {
    "id": "d6ch5e3o0oac"
   },
   "source": [
    "## Using Bert"
   ]
  },
  {
   "cell_type": "code",
   "execution_count": 36,
   "metadata": {
    "id": "S_J2D25H0qiO"
   },
   "outputs": [],
   "source": [
    "from gensim.models.doc2vec import Doc2Vec, TaggedDocument\n",
    "from nltk.tokenize import word_tokenize"
   ]
  },
  {
   "cell_type": "code",
   "execution_count": 37,
   "metadata": {
    "id": "4GkMf5j4DgDw"
   },
   "outputs": [],
   "source": [
    "DIMENSIONS = 64\n",
    "WINDOW = 5"
   ]
  },
  {
   "cell_type": "code",
   "execution_count": 38,
   "metadata": {
    "colab": {
     "base_uri": "https://localhost:8080/"
    },
    "id": "9fagMxPcDGMp",
    "outputId": "8055e6dd-c755-41af-b19f-30c2f407e918"
   },
   "outputs": [
    {
     "name": "stdout",
     "output_type": "stream",
     "text": [
      "13993\n"
     ]
    }
   ],
   "source": [
    "all_texts = df['clean'].tolist()\n",
    "all_texts = [text.split() for text in all_texts]\n",
    "print(len(all_texts))"
   ]
  },
  {
   "cell_type": "code",
   "execution_count": 39,
   "metadata": {
    "colab": {
     "base_uri": "https://localhost:8080/"
    },
    "id": "Mb-_HKScDPZM",
    "outputId": "98d4a6d8-c67f-4775-952e-7fc17c12227d"
   },
   "outputs": [
    {
     "name": "stdout",
     "output_type": "stream",
     "text": [
      "[['missing', 'package-info', 'java', 'file'], ['utility', 'classes', 'should', 'not', 'have', 'a', 'public', 'or', 'default', 'constructor']]\n",
      "[['line', 'has', 'trailing', 'spaces'], ['line', 'has', 'trailing', 'spaces']]\n"
     ]
    }
   ],
   "source": [
    "print(all_texts[:2])\n",
    "print(all_texts[-2:])"
   ]
  },
  {
   "cell_type": "code",
   "execution_count": 40,
   "metadata": {
    "id": "fKfLHyDaDZGF"
   },
   "outputs": [],
   "source": [
    "df[\"textList\"] = all_texts"
   ]
  },
  {
   "cell_type": "code",
   "execution_count": 41,
   "metadata": {
    "colab": {
     "base_uri": "https://localhost:8080/",
     "height": 493
    },
    "id": "kTNtjrjr01x-",
    "outputId": "f8d98030-edbc-4d0f-847f-5c6f21088075"
   },
   "outputs": [
    {
     "data": {
      "text/html": [
       "<div>\n",
       "<style scoped>\n",
       "    .dataframe tbody tr th:only-of-type {\n",
       "        vertical-align: middle;\n",
       "    }\n",
       "\n",
       "    .dataframe tbody tr th {\n",
       "        vertical-align: top;\n",
       "    }\n",
       "\n",
       "    .dataframe thead th {\n",
       "        text-align: right;\n",
       "    }\n",
       "</style>\n",
       "<table border=\"1\" class=\"dataframe\">\n",
       "  <thead>\n",
       "    <tr style=\"text-align: right;\">\n",
       "      <th></th>\n",
       "      <th>Error</th>\n",
       "      <th>Category</th>\n",
       "      <th>clean</th>\n",
       "      <th>textList</th>\n",
       "    </tr>\n",
       "  </thead>\n",
       "  <tbody>\n",
       "    <tr>\n",
       "      <th>0</th>\n",
       "      <td>Missing package-info java file</td>\n",
       "      <td>JavadocPackage</td>\n",
       "      <td>missing package-info java file</td>\n",
       "      <td>[missing, package-info, java, file]</td>\n",
       "    </tr>\n",
       "    <tr>\n",
       "      <th>1</th>\n",
       "      <td>Utility classes should not have a public or de...</td>\n",
       "      <td>HideUtilityClassConstructor</td>\n",
       "      <td>utility classes should not have a public or de...</td>\n",
       "      <td>[utility, classes, should, not, have, a, publi...</td>\n",
       "    </tr>\n",
       "    <tr>\n",
       "      <th>2</th>\n",
       "      <td>Missing a Javadoc comment</td>\n",
       "      <td>MissingJavadocMethod</td>\n",
       "      <td>missing a javadoc comment</td>\n",
       "      <td>[missing, a, javadoc, comment]</td>\n",
       "    </tr>\n",
       "    <tr>\n",
       "      <th>3</th>\n",
       "      <td>Parameter args should be final</td>\n",
       "      <td>FinalParameters</td>\n",
       "      <td>parameter &lt;a_parameter_name&gt; should be final</td>\n",
       "      <td>[parameter, &lt;a_parameter_name&gt;, should, be, fi...</td>\n",
       "    </tr>\n",
       "    <tr>\n",
       "      <th>4</th>\n",
       "      <td>File contains tab characters (this is the firs...</td>\n",
       "      <td>FileTabCharacter</td>\n",
       "      <td>file contains tab characters (this is the firs...</td>\n",
       "      <td>[file, contains, tab, characters, (this, is, t...</td>\n",
       "    </tr>\n",
       "    <tr>\n",
       "      <th>...</th>\n",
       "      <td>...</td>\n",
       "      <td>...</td>\n",
       "      <td>...</td>\n",
       "      <td>...</td>\n",
       "    </tr>\n",
       "    <tr>\n",
       "      <th>13988</th>\n",
       "      <td>Parameter args should be final</td>\n",
       "      <td>FinalParameters</td>\n",
       "      <td>parameter &lt;a_parameter_name&gt; should be final</td>\n",
       "      <td>[parameter, &lt;a_parameter_name&gt;, should, be, fi...</td>\n",
       "    </tr>\n",
       "    <tr>\n",
       "      <th>13989</th>\n",
       "      <td>Line has trailing spaces</td>\n",
       "      <td>RegexpSingleline</td>\n",
       "      <td>line has trailing spaces</td>\n",
       "      <td>[line, has, trailing, spaces]</td>\n",
       "    </tr>\n",
       "    <tr>\n",
       "      <th>13990</th>\n",
       "      <td>Line has trailing spaces</td>\n",
       "      <td>RegexpSingleline</td>\n",
       "      <td>line has trailing spaces</td>\n",
       "      <td>[line, has, trailing, spaces]</td>\n",
       "    </tr>\n",
       "    <tr>\n",
       "      <th>13991</th>\n",
       "      <td>Line has trailing spaces</td>\n",
       "      <td>RegexpSingleline</td>\n",
       "      <td>line has trailing spaces</td>\n",
       "      <td>[line, has, trailing, spaces]</td>\n",
       "    </tr>\n",
       "    <tr>\n",
       "      <th>13992</th>\n",
       "      <td>Line has trailing spaces</td>\n",
       "      <td>RegexpSingleline</td>\n",
       "      <td>line has trailing spaces</td>\n",
       "      <td>[line, has, trailing, spaces]</td>\n",
       "    </tr>\n",
       "  </tbody>\n",
       "</table>\n",
       "<p>13993 rows × 4 columns</p>\n",
       "</div>"
      ],
      "text/plain": [
       "                                                   Error  \\\n",
       "0                         Missing package-info java file   \n",
       "1      Utility classes should not have a public or de...   \n",
       "2                              Missing a Javadoc comment   \n",
       "3                         Parameter args should be final   \n",
       "4      File contains tab characters (this is the firs...   \n",
       "...                                                  ...   \n",
       "13988                     Parameter args should be final   \n",
       "13989                           Line has trailing spaces   \n",
       "13990                           Line has trailing spaces   \n",
       "13991                           Line has trailing spaces   \n",
       "13992                           Line has trailing spaces   \n",
       "\n",
       "                           Category  \\\n",
       "0                   JavadocPackage    \n",
       "1      HideUtilityClassConstructor    \n",
       "2             MissingJavadocMethod    \n",
       "3                  FinalParameters    \n",
       "4                 FileTabCharacter    \n",
       "...                             ...   \n",
       "13988              FinalParameters    \n",
       "13989             RegexpSingleline    \n",
       "13990             RegexpSingleline    \n",
       "13991             RegexpSingleline    \n",
       "13992             RegexpSingleline    \n",
       "\n",
       "                                                   clean  \\\n",
       "0                         missing package-info java file   \n",
       "1      utility classes should not have a public or de...   \n",
       "2                              missing a javadoc comment   \n",
       "3           parameter <a_parameter_name> should be final   \n",
       "4      file contains tab characters (this is the firs...   \n",
       "...                                                  ...   \n",
       "13988       parameter <a_parameter_name> should be final   \n",
       "13989                           line has trailing spaces   \n",
       "13990                           line has trailing spaces   \n",
       "13991                           line has trailing spaces   \n",
       "13992                           line has trailing spaces   \n",
       "\n",
       "                                                textList  \n",
       "0                    [missing, package-info, java, file]  \n",
       "1      [utility, classes, should, not, have, a, publi...  \n",
       "2                         [missing, a, javadoc, comment]  \n",
       "3      [parameter, <a_parameter_name>, should, be, fi...  \n",
       "4      [file, contains, tab, characters, (this, is, t...  \n",
       "...                                                  ...  \n",
       "13988  [parameter, <a_parameter_name>, should, be, fi...  \n",
       "13989                      [line, has, trailing, spaces]  \n",
       "13990                      [line, has, trailing, spaces]  \n",
       "13991                      [line, has, trailing, spaces]  \n",
       "13992                      [line, has, trailing, spaces]  \n",
       "\n",
       "[13993 rows x 4 columns]"
      ]
     },
     "execution_count": 41,
     "metadata": {},
     "output_type": "execute_result"
    }
   ],
   "source": [
    "df"
   ]
  },
  {
   "cell_type": "code",
   "execution_count": 42,
   "metadata": {
    "id": "LBBHeHrt1U7u"
   },
   "outputs": [],
   "source": [
    "documents = [TaggedDocument(doc, [i]) for i, doc in enumerate(all_texts)]"
   ]
  },
  {
   "cell_type": "markdown",
   "metadata": {
    "id": "By7XWDAVLStm"
   },
   "source": [
    "### Get embeddings for multiple dimensions"
   ]
  },
  {
   "cell_type": "code",
   "execution_count": 43,
   "metadata": {
    "colab": {
     "base_uri": "https://localhost:8080/"
    },
    "id": "ZMQlzpH-_GZH",
    "outputId": "1ff5bc32-eb96-499b-abeb-cbbab7a8e1ea"
   },
   "outputs": [
    {
     "name": "stderr",
     "output_type": "stream",
     "text": [
      "2023-11-06 05:01:47.583926: I tensorflow/tsl/cuda/cudart_stub.cc:28] Could not find cuda drivers on your machine, GPU will not be used.\n",
      "2023-11-06 05:01:47.644928: E tensorflow/compiler/xla/stream_executor/cuda/cuda_dnn.cc:9342] Unable to register cuDNN factory: Attempting to register factory for plugin cuDNN when one has already been registered\n",
      "2023-11-06 05:01:47.644962: E tensorflow/compiler/xla/stream_executor/cuda/cuda_fft.cc:609] Unable to register cuFFT factory: Attempting to register factory for plugin cuFFT when one has already been registered\n",
      "2023-11-06 05:01:47.645004: E tensorflow/compiler/xla/stream_executor/cuda/cuda_blas.cc:1518] Unable to register cuBLAS factory: Attempting to register factory for plugin cuBLAS when one has already been registered\n",
      "2023-11-06 05:01:47.658429: I tensorflow/tsl/cuda/cudart_stub.cc:28] Could not find cuda drivers on your machine, GPU will not be used.\n",
      "2023-11-06 05:01:47.659231: I tensorflow/core/platform/cpu_feature_guard.cc:182] This TensorFlow binary is optimized to use available CPU instructions in performance-critical operations.\n",
      "To enable the following instructions: AVX2 FMA, in other operations, rebuild TensorFlow with the appropriate compiler flags.\n",
      "2023-11-06 05:01:49.268723: W tensorflow/compiler/tf2tensorrt/utils/py_utils.cc:38] TF-TRT Warning: Could not find TensorRT\n"
     ]
    },
    {
     "name": "stdout",
     "output_type": "stream",
     "text": [
      "No GPU found\n"
     ]
    }
   ],
   "source": [
    "import tensorflow_hub as hub\n",
    "import tensorflow as tf\n",
    "# elmo = hub.Module(\"https://tfhub.dev/google/elmo/2\", trainable=True) ### Doesn't work on colab\n",
    "\n",
    "elmo = hub.load(\"https://tfhub.dev/google/elmo/2\")\n",
    "\n",
    "from tqdm import tqdm\n",
    "tqdm.pandas()\n",
    "\n",
    "if tf.config.list_physical_devices('GPU'):\n",
    "    print(\"GPU is available\")\n",
    "else:\n",
    "    print(\"No GPU found\")"
   ]
  },
  {
   "cell_type": "code",
   "execution_count": 44,
   "metadata": {
    "id": "qPe8AqWs9dxz"
   },
   "outputs": [],
   "source": [
    "# def elmo_vectors(x):\n",
    "#   embeddings = elmo(x.tolist(), signature=\"default\", as_dict=True)[\"elmo\"]\n",
    "\n",
    "#   with tf.Session() as sess:\n",
    "#     sess.run(tf.global_variables_initializer())\n",
    "#     sess.run(tf.tables_initializer())\n",
    "#     # return average of ELMo features\n",
    "#     return sess.run(tf.reduce_mean(embeddings,1))\n",
    "\n",
    "\n",
    "def elmo_vectors(x):\n",
    "    embeddings = elmo.signatures[\"default\"](tf.constant(x))[\"elmo\"]\n",
    "    return embeddings.numpy()"
   ]
  },
  {
   "cell_type": "code",
   "execution_count": 45,
   "metadata": {
    "id": "ncQxKY4gDH33"
   },
   "outputs": [],
   "source": [
    "def preprocess_text(x):\n",
    "        return x.split(' ')"
   ]
  },
  {
   "cell_type": "code",
   "execution_count": 46,
   "metadata": {
    "id": "EnWLlglW95gl"
   },
   "outputs": [],
   "source": [
    "df['cleanV2'] = df['clean'].progress_apply(preprocess_text)\n",
    "df['embedding_bert'] = df['cleanV2'].progress_apply(elmo_vectors)\n",
    "\n",
    "df.to_pickle(\"Pickled\")"
   ]
  },
  {
   "cell_type": "code",
   "execution_count": 47,
   "metadata": {
    "id": "mOR3COOSkJoK"
   },
   "outputs": [],
   "source": [
    "import pandas as pd"
   ]
  },
  {
   "cell_type": "code",
   "execution_count": 48,
   "metadata": {
    "id": "bzQVPKAnkJoL"
   },
   "outputs": [],
   "source": [
    "df = pd.read_pickle(\"Pickled\")"
   ]
  },
  {
   "cell_type": "code",
   "execution_count": 49,
   "metadata": {
    "colab": {
     "base_uri": "https://localhost:8080/"
    },
    "id": "nMzzSWonkJoL",
    "outputId": "2c71f6cf-3e31-4029-afc7-988cc3746b32"
   },
   "outputs": [
    {
     "name": "stdout",
     "output_type": "stream",
     "text": [
      "                                               Error  \\\n",
      "0                     Missing package-info java file   \n",
      "1  Utility classes should not have a public or de...   \n",
      "2                          Missing a Javadoc comment   \n",
      "3                     Parameter args should be final   \n",
      "4  File contains tab characters (this is the firs...   \n",
      "\n",
      "                       Category  \\\n",
      "0               JavadocPackage    \n",
      "1  HideUtilityClassConstructor    \n",
      "2         MissingJavadocMethod    \n",
      "3              FinalParameters    \n",
      "4             FileTabCharacter    \n",
      "\n",
      "                                               clean  \\\n",
      "0                     missing package-info java file   \n",
      "1  utility classes should not have a public or de...   \n",
      "2                          missing a javadoc comment   \n",
      "3       parameter <a_parameter_name> should be final   \n",
      "4  file contains tab characters (this is the firs...   \n",
      "\n",
      "                                            textList  \\\n",
      "0                [missing, package-info, java, file]   \n",
      "1  [utility, classes, should, not, have, a, publi...   \n",
      "2                     [missing, a, javadoc, comment]   \n",
      "3  [parameter, <a_parameter_name>, should, be, fi...   \n",
      "4  [file, contains, tab, characters, (this, is, t...   \n",
      "\n",
      "                                             cleanV2  \\\n",
      "0                [missing, package-info, java, file]   \n",
      "1  [utility, classes, should, not, have, a, publi...   \n",
      "2                     [missing, a, javadoc, comment]   \n",
      "3  [parameter, <a_parameter_name>, should, be, fi...   \n",
      "4  [file, contains, tab, characters, (this, is, t...   \n",
      "\n",
      "                                      embedding_bert  \n",
      "0  [[[0.5257758, 0.36988783, 0.36865565, -0.46232...  \n",
      "1  [[[0.032336667, 0.1629827, 0.14033367, 0.09708...  \n",
      "2  [[[0.5257758, 0.36988783, 0.36865565, -0.46232...  \n",
      "3  [[[0.47947538, 0.3215189, 0.17466372, -0.19861...  \n",
      "4  [[[1.1413603, 0.11905863, 0.43160695, 0.067859...  \n"
     ]
    }
   ],
   "source": [
    "print(df.head())"
   ]
  },
  {
   "cell_type": "code",
   "execution_count": 50,
   "metadata": {
    "colab": {
     "base_uri": "https://localhost:8080/"
    },
    "id": "j5boGOJSkJoL",
    "outputId": "f1c01632-b201-4e73-c3c7-f3a6cc54fa54"
   },
   "outputs": [
    {
     "name": "stdout",
     "output_type": "stream",
     "text": [
      "(13993,)\n",
      "(4, 1, 1024)\n",
      "(1, 1024)\n",
      "(1024,)\n",
      "\n",
      "After\n",
      "(13993,)\n",
      "(1024,)\n"
     ]
    }
   ],
   "source": [
    "def extract_value(embedding_list):\n",
    "    return embedding_list[0][0]\n",
    "\n",
    "print(df['embedding_bert'].shape)\n",
    "print(df['embedding_bert'][0].shape)\n",
    "print(df['embedding_bert'][0][0].shape)\n",
    "print(df['embedding_bert'][0][0][0].shape)\n",
    "\n",
    "df['embedding']=df['embedding_bert'].apply(extract_value)\n",
    "\n",
    "print(\"\\nAfter\")\n",
    "print(df['embedding'].shape)\n",
    "print(df['embedding'][0].shape)"
   ]
  },
  {
   "cell_type": "markdown",
   "metadata": {
    "id": "8IMS3NNiOEEw"
   },
   "source": [
    "### Get the explained variance"
   ]
  },
  {
   "cell_type": "code",
   "execution_count": 51,
   "metadata": {
    "id": "lWIHQqgtkJoL"
   },
   "outputs": [],
   "source": [
    "from sklearn.decomposition import PCA"
   ]
  },
  {
   "cell_type": "code",
   "execution_count": 52,
   "metadata": {
    "colab": {
     "base_uri": "https://localhost:8080/"
    },
    "id": "qpWCo8lWkJoM",
    "outputId": "7f0976d3-1238-42ac-cdd8-3c46f229248b"
   },
   "outputs": [
    {
     "name": "stdout",
     "output_type": "stream",
     "text": [
      "embedding\n"
     ]
    }
   ],
   "source": [
    "# PCA analysis\n",
    "variance_explained = []\n",
    "col = 'embedding'\n",
    "print(col)\n",
    "embeddings=df[col].tolist()\n",
    "pca = PCA(n_components=2)\n",
    "pca.fit(embeddings)\n",
    "variance_explained.append(pca.explained_variance_ratio_.sum().round(2))"
   ]
  },
  {
   "cell_type": "code",
   "execution_count": 53,
   "metadata": {
    "colab": {
     "base_uri": "https://localhost:8080/"
    },
    "id": "NM4o5H95kJoM",
    "outputId": "5479e3c9-def6-4b9d-96fc-a98df6a45943"
   },
   "outputs": [
    {
     "name": "stdout",
     "output_type": "stream",
     "text": [
      "[0.62]\n"
     ]
    }
   ],
   "source": [
    "print(variance_explained)"
   ]
  },
  {
   "cell_type": "code",
   "execution_count": 54,
   "metadata": {
    "id": "Jcb1l43-kJoM"
   },
   "outputs": [],
   "source": [
    "# # Plot variance explained\n",
    "# import matplotlib.pyplot as plt\n",
    "# plt.plot(dims, variance_explained)\n",
    "# # Set x ticks\n",
    "# plt.xticks(dims,rotation=90)\n",
    "\n",
    "# plt.title('Variance Explained vs Dimensionality')\n",
    "# plt.xlabel('Dimensions')\n",
    "# plt.ylabel('Variance Explained')\n",
    "# plt.savefig(\"./embeddings_variance.pdf\", bbox_inches='tight')\n",
    "# plt.show()"
   ]
  },
  {
   "cell_type": "markdown",
   "metadata": {
    "id": "5UI881DGYxc0"
   },
   "source": [
    "## Let's find the best k for clustering"
   ]
  },
  {
   "cell_type": "code",
   "execution_count": 55,
   "metadata": {
    "id": "O1j5gGVXYwpv"
   },
   "outputs": [],
   "source": [
    "from sklearn.cluster import KMeans\n",
    "from sklearn.metrics import silhouette_score, calinski_harabasz_score\n"
   ]
  },
  {
   "cell_type": "code",
   "execution_count": 56,
   "metadata": {
    "colab": {
     "base_uri": "https://localhost:8080/"
    },
    "id": "w674-1SrOVEC",
    "outputId": "f68ed963-7557-4f5c-a5db-162ed560bc3f"
   },
   "outputs": [
    {
     "name": "stderr",
     "output_type": "stream",
     "text": [
      "/home/bassturtle4/Desktop/SynologyDrive/2023yearproject/Training/env/lib/python3.10/site-packages/sklearn/cluster/_kmeans.py:1416: FutureWarning: The default value of `n_init` will change from 10 to 'auto' in 1.4. Set the value of `n_init` explicitly to suppress the warning\n",
      "  super()._check_params_vs_input(X, default_n_init=10)\n",
      "/home/bassturtle4/Desktop/SynologyDrive/2023yearproject/Training/env/lib/python3.10/site-packages/sklearn/cluster/_kmeans.py:1416: FutureWarning: The default value of `n_init` will change from 10 to 'auto' in 1.4. Set the value of `n_init` explicitly to suppress the warning\n",
      "  super()._check_params_vs_input(X, default_n_init=10)\n",
      "/home/bassturtle4/Desktop/SynologyDrive/2023yearproject/Training/env/lib/python3.10/site-packages/sklearn/cluster/_kmeans.py:1416: FutureWarning: The default value of `n_init` will change from 10 to 'auto' in 1.4. Set the value of `n_init` explicitly to suppress the warning\n",
      "  super()._check_params_vs_input(X, default_n_init=10)\n",
      "/home/bassturtle4/Desktop/SynologyDrive/2023yearproject/Training/env/lib/python3.10/site-packages/sklearn/cluster/_kmeans.py:1416: FutureWarning: The default value of `n_init` will change from 10 to 'auto' in 1.4. Set the value of `n_init` explicitly to suppress the warning\n",
      "  super()._check_params_vs_input(X, default_n_init=10)\n",
      "/home/bassturtle4/Desktop/SynologyDrive/2023yearproject/Training/env/lib/python3.10/site-packages/sklearn/cluster/_kmeans.py:1416: FutureWarning: The default value of `n_init` will change from 10 to 'auto' in 1.4. Set the value of `n_init` explicitly to suppress the warning\n",
      "  super()._check_params_vs_input(X, default_n_init=10)\n",
      "/home/bassturtle4/Desktop/SynologyDrive/2023yearproject/Training/env/lib/python3.10/site-packages/sklearn/cluster/_kmeans.py:1416: FutureWarning: The default value of `n_init` will change from 10 to 'auto' in 1.4. Set the value of `n_init` explicitly to suppress the warning\n",
      "  super()._check_params_vs_input(X, default_n_init=10)\n",
      "/home/bassturtle4/Desktop/SynologyDrive/2023yearproject/Training/env/lib/python3.10/site-packages/sklearn/cluster/_kmeans.py:1416: FutureWarning: The default value of `n_init` will change from 10 to 'auto' in 1.4. Set the value of `n_init` explicitly to suppress the warning\n",
      "  super()._check_params_vs_input(X, default_n_init=10)\n",
      "/home/bassturtle4/Desktop/SynologyDrive/2023yearproject/Training/env/lib/python3.10/site-packages/sklearn/cluster/_kmeans.py:1416: FutureWarning: The default value of `n_init` will change from 10 to 'auto' in 1.4. Set the value of `n_init` explicitly to suppress the warning\n",
      "  super()._check_params_vs_input(X, default_n_init=10)\n",
      "/home/bassturtle4/Desktop/SynologyDrive/2023yearproject/Training/env/lib/python3.10/site-packages/sklearn/cluster/_kmeans.py:1416: FutureWarning: The default value of `n_init` will change from 10 to 'auto' in 1.4. Set the value of `n_init` explicitly to suppress the warning\n",
      "  super()._check_params_vs_input(X, default_n_init=10)\n",
      "/home/bassturtle4/Desktop/SynologyDrive/2023yearproject/Training/env/lib/python3.10/site-packages/sklearn/cluster/_kmeans.py:1416: FutureWarning: The default value of `n_init` will change from 10 to 'auto' in 1.4. Set the value of `n_init` explicitly to suppress the warning\n",
      "  super()._check_params_vs_input(X, default_n_init=10)\n",
      "/home/bassturtle4/Desktop/SynologyDrive/2023yearproject/Training/env/lib/python3.10/site-packages/sklearn/cluster/_kmeans.py:1416: FutureWarning: The default value of `n_init` will change from 10 to 'auto' in 1.4. Set the value of `n_init` explicitly to suppress the warning\n",
      "  super()._check_params_vs_input(X, default_n_init=10)\n",
      "/home/bassturtle4/Desktop/SynologyDrive/2023yearproject/Training/env/lib/python3.10/site-packages/sklearn/cluster/_kmeans.py:1416: FutureWarning: The default value of `n_init` will change from 10 to 'auto' in 1.4. Set the value of `n_init` explicitly to suppress the warning\n",
      "  super()._check_params_vs_input(X, default_n_init=10)\n",
      "/home/bassturtle4/Desktop/SynologyDrive/2023yearproject/Training/env/lib/python3.10/site-packages/sklearn/cluster/_kmeans.py:1416: FutureWarning: The default value of `n_init` will change from 10 to 'auto' in 1.4. Set the value of `n_init` explicitly to suppress the warning\n",
      "  super()._check_params_vs_input(X, default_n_init=10)\n",
      "/home/bassturtle4/Desktop/SynologyDrive/2023yearproject/Training/env/lib/python3.10/site-packages/sklearn/cluster/_kmeans.py:1416: FutureWarning: The default value of `n_init` will change from 10 to 'auto' in 1.4. Set the value of `n_init` explicitly to suppress the warning\n",
      "  super()._check_params_vs_input(X, default_n_init=10)\n",
      "/home/bassturtle4/Desktop/SynologyDrive/2023yearproject/Training/env/lib/python3.10/site-packages/sklearn/cluster/_kmeans.py:1416: FutureWarning: The default value of `n_init` will change from 10 to 'auto' in 1.4. Set the value of `n_init` explicitly to suppress the warning\n",
      "  super()._check_params_vs_input(X, default_n_init=10)\n",
      "/home/bassturtle4/Desktop/SynologyDrive/2023yearproject/Training/env/lib/python3.10/site-packages/sklearn/cluster/_kmeans.py:1416: FutureWarning: The default value of `n_init` will change from 10 to 'auto' in 1.4. Set the value of `n_init` explicitly to suppress the warning\n",
      "  super()._check_params_vs_input(X, default_n_init=10)\n",
      "/home/bassturtle4/Desktop/SynologyDrive/2023yearproject/Training/env/lib/python3.10/site-packages/sklearn/cluster/_kmeans.py:1416: FutureWarning: The default value of `n_init` will change from 10 to 'auto' in 1.4. Set the value of `n_init` explicitly to suppress the warning\n",
      "  super()._check_params_vs_input(X, default_n_init=10)\n",
      "/home/bassturtle4/Desktop/SynologyDrive/2023yearproject/Training/env/lib/python3.10/site-packages/sklearn/cluster/_kmeans.py:1416: FutureWarning: The default value of `n_init` will change from 10 to 'auto' in 1.4. Set the value of `n_init` explicitly to suppress the warning\n",
      "  super()._check_params_vs_input(X, default_n_init=10)\n"
     ]
    }
   ],
   "source": [
    "# Range of k to check\n",
    "k_range = range(2, 20)\n",
    "\n",
    "sil_scores = []\n",
    "cal_scores = []\n",
    "\n",
    "for k in k_range:\n",
    "  # Cluster data into k clusters\n",
    "  kmeans = KMeans(n_clusters=k)\n",
    "  clusters = kmeans.fit_predict(df['embedding'][0].reshape(-1, 1).tolist())\n",
    "\n",
    "  # Score with metrics\n",
    "  sil_score = silhouette_score(df['embedding'][0].reshape(-1, 1).tolist(), clusters)\n",
    "  sil_scores.append(sil_score)\n",
    "\n",
    "  cal_score = calinski_harabasz_score(df['embedding'][0].reshape(-1, 1).tolist(), clusters)\n",
    "  cal_scores.append(cal_score)\n"
   ]
  },
  {
   "cell_type": "code",
   "execution_count": 57,
   "metadata": {
    "colab": {
     "base_uri": "https://localhost:8080/",
     "height": 524
    },
    "id": "XQbw7qRXOVCG",
    "outputId": "286cb8c2-fd1f-4158-fc05-8b6ea5f71576"
   },
   "outputs": [
    {
     "data": {
      "image/png": "[encoded data removed]",
      "text/plain": [
       "<Figure size 640x480 with 1 Axes>"
      ]
     },
     "metadata": {},
     "output_type": "display_data"
    }
   ],
   "source": [
    "# Plot scores\n",
    "plt.plot(k_range, sil_scores, label='Silhouette')\n",
    "new_list = range(math.floor(min(k_range)), math.ceil(max(k_range))+1)\n",
    "plt.xticks(new_list)\n",
    "plt.title('Silhouette Cluster Evaluation Scores')\n",
    "plt.xlabel('Size of k')\n",
    "plt.ylabel('Score')\n",
    "#plt.legend()\n",
    "plt.savefig(\"./shilouette_k.pdf\", bbox_inches='tight')\n",
    "plt.show()"
   ]
  },
  {
   "cell_type": "code",
   "execution_count": 58,
   "metadata": {
    "colab": {
     "base_uri": "https://localhost:8080/"
    },
    "id": "AKOwwqpvalkQ",
    "outputId": "e396320d-3c9e-4022-ffbb-c50391cf9cf2"
   },
   "outputs": [
    {
     "name": "stdout",
     "output_type": "stream",
     "text": [
      "[0.5243877682538325, 0.5280557510549568, 0.5178365762888051, 0.5272522810329437, 0.5282749470252105, 0.5336055858049793, 0.53382072498421, 0.5276741208634073, 0.5260409155981819, 0.5245366709136036, 0.5296139832588502, 0.5263979694553964, 0.5273291160611565, 0.5286451146690958, 0.5301879619348007, 0.5372383982371596, 0.525773563199966, 0.535595088180641]\n"
     ]
    }
   ],
   "source": [
    "print(sil_scores)"
   ]
  },
  {
   "cell_type": "code",
   "execution_count": 59,
   "metadata": {
    "colab": {
     "base_uri": "https://localhost:8080/",
     "height": 524
    },
    "id": "-usoKzuoOU_R",
    "outputId": "26b000b9-bd3d-4767-ef8e-a44281649692"
   },
   "outputs": [
    {
     "data": {
      "image/png": "[encoded data removed]",
      "text/plain": [
       "<Figure size 640x480 with 1 Axes>"
      ]
     },
     "metadata": {},
     "output_type": "display_data"
    }
   ],
   "source": [
    "# Plot scores\n",
    "plt.plot(k_range, cal_scores, label='Calinski-Harabasz')\n",
    "new_list = range(math.floor(min(k_range)), math.ceil(max(k_range))+1)\n",
    "plt.xticks(new_list)\n",
    "plt.title('Cluster Evaluation Scores')\n",
    "plt.xlabel('k')\n",
    "plt.legend()\n",
    "plt.show()"
   ]
  },
  {
   "cell_type": "markdown",
   "metadata": {
    "id": "0PQhdBq_bKCg"
   },
   "source": [
    "It looks that k=7 is fine"
   ]
  },
  {
   "cell_type": "markdown",
   "metadata": {
    "id": "3CH-eKKGcvLp"
   },
   "source": [
    "### Lets use the 128 dimensions and 7 clusters"
   ]
  },
  {
   "cell_type": "code",
   "execution_count": 60,
   "metadata": {
    "id": "Euoo-StyOU2S"
   },
   "outputs": [],
   "source": [
    "all_d2v_vecs = df['embedding'].tolist()"
   ]
  },
  {
   "cell_type": "code",
   "execution_count": 61,
   "metadata": {
    "colab": {
     "base_uri": "https://localhost:8080/"
    },
    "id": "wEtGkT6xdXUw",
    "outputId": "e41f0837-58c3-4f57-aee3-351da23316ee"
   },
   "outputs": [
    {
     "data": {
      "text/plain": [
       "(13993, 1024)"
      ]
     },
     "execution_count": 61,
     "metadata": {},
     "output_type": "execute_result"
    }
   ],
   "source": [
    "np.shape(all_d2v_vecs)"
   ]
  },
  {
   "cell_type": "code",
   "execution_count": 62,
   "metadata": {
    "colab": {
     "base_uri": "https://localhost:8080/"
    },
    "id": "HZEQEkC5diwB",
    "outputId": "eb17b145-8c90-45c0-c2eb-d33cfcab3847"
   },
   "outputs": [
    {
     "data": {
      "text/plain": [
       "array([ 0.5257758 ,  0.36988783,  0.36865565, ..., -0.06693879,\n",
       "       -0.5480849 ,  0.03799212], dtype=float32)"
      ]
     },
     "execution_count": 62,
     "metadata": {},
     "output_type": "execute_result"
    }
   ],
   "source": [
    "all_d2v_vecs[0]"
   ]
  },
  {
   "cell_type": "code",
   "execution_count": 63,
   "metadata": {
    "id": "j74cUlPekJoP"
   },
   "outputs": [],
   "source": [
    "CLUSTER_COUNT=13"
   ]
  },
  {
   "cell_type": "code",
   "execution_count": 64,
   "metadata": {
    "colab": {
     "base_uri": "https://localhost:8080/"
    },
    "id": "Jb6hpr4pc8zr",
    "outputId": "a2eb82dd-0fe5-4f03-d9c0-f13a6b2cebab"
   },
   "outputs": [
    {
     "name": "stderr",
     "output_type": "stream",
     "text": [
      "/home/bassturtle4/Desktop/SynologyDrive/2023yearproject/Training/env/lib/python3.10/site-packages/sklearn/cluster/_kmeans.py:1416: FutureWarning: The default value of `n_init` will change from 10 to 'auto' in 1.4. Set the value of `n_init` explicitly to suppress the warning\n",
      "  super()._check_params_vs_input(X, default_n_init=10)\n"
     ]
    }
   ],
   "source": [
    "kmeans = KMeans(n_clusters=CLUSTER_COUNT, random_state=0).fit(all_d2v_vecs)"
   ]
  },
  {
   "cell_type": "code",
   "execution_count": 65,
   "metadata": {
    "colab": {
     "base_uri": "https://localhost:8080/"
    },
    "id": "FES_UFEPc8vG",
    "outputId": "b15e2733-a84d-4c26-a20b-8f41dd7ecc6d"
   },
   "outputs": [
    {
     "data": {
      "text/plain": [
       "array([2, 6, 2, ..., 1, 1, 1], dtype=int32)"
      ]
     },
     "execution_count": 65,
     "metadata": {},
     "output_type": "execute_result"
    }
   ],
   "source": [
    "kmeans.labels_"
   ]
  },
  {
   "cell_type": "code",
   "execution_count": 66,
   "metadata": {
    "colab": {
     "base_uri": "https://localhost:8080/",
     "height": 1000
    },
    "id": "tcX5k8kcc8jI",
    "outputId": "abb348e8-c4ad-499d-b6a5-9559c1fe6e7d"
   },
   "outputs": [
    {
     "data": {
      "text/html": [
       "<div>\n",
       "<style scoped>\n",
       "    .dataframe tbody tr th:only-of-type {\n",
       "        vertical-align: middle;\n",
       "    }\n",
       "\n",
       "    .dataframe tbody tr th {\n",
       "        vertical-align: top;\n",
       "    }\n",
       "\n",
       "    .dataframe thead th {\n",
       "        text-align: right;\n",
       "    }\n",
       "</style>\n",
       "<table border=\"1\" class=\"dataframe\">\n",
       "  <thead>\n",
       "    <tr style=\"text-align: right;\">\n",
       "      <th></th>\n",
       "      <th>Error</th>\n",
       "      <th>Category</th>\n",
       "      <th>clean</th>\n",
       "      <th>textList</th>\n",
       "      <th>cleanV2</th>\n",
       "      <th>embedding_bert</th>\n",
       "      <th>embedding</th>\n",
       "      <th>d2v_clusters</th>\n",
       "    </tr>\n",
       "  </thead>\n",
       "  <tbody>\n",
       "    <tr>\n",
       "      <th>0</th>\n",
       "      <td>Missing package-info java file</td>\n",
       "      <td>JavadocPackage</td>\n",
       "      <td>missing package-info java file</td>\n",
       "      <td>[missing, package-info, java, file]</td>\n",
       "      <td>[missing, package-info, java, file]</td>\n",
       "      <td>[[[0.5257758, 0.36988783, 0.36865565, -0.46232...</td>\n",
       "      <td>[0.5257758, 0.36988783, 0.36865565, -0.4623298...</td>\n",
       "      <td>2</td>\n",
       "    </tr>\n",
       "    <tr>\n",
       "      <th>1</th>\n",
       "      <td>Utility classes should not have a public or de...</td>\n",
       "      <td>HideUtilityClassConstructor</td>\n",
       "      <td>utility classes should not have a public or de...</td>\n",
       "      <td>[utility, classes, should, not, have, a, publi...</td>\n",
       "      <td>[utility, classes, should, not, have, a, publi...</td>\n",
       "      <td>[[[0.032336667, 0.1629827, 0.14033367, 0.09708...</td>\n",
       "      <td>[0.032336667, 0.1629827, 0.14033367, 0.0970804...</td>\n",
       "      <td>6</td>\n",
       "    </tr>\n",
       "    <tr>\n",
       "      <th>2</th>\n",
       "      <td>Missing a Javadoc comment</td>\n",
       "      <td>MissingJavadocMethod</td>\n",
       "      <td>missing a javadoc comment</td>\n",
       "      <td>[missing, a, javadoc, comment]</td>\n",
       "      <td>[missing, a, javadoc, comment]</td>\n",
       "      <td>[[[0.5257758, 0.36988783, 0.36865565, -0.46232...</td>\n",
       "      <td>[0.5257758, 0.36988783, 0.36865565, -0.4623298...</td>\n",
       "      <td>2</td>\n",
       "    </tr>\n",
       "    <tr>\n",
       "      <th>3</th>\n",
       "      <td>Parameter args should be final</td>\n",
       "      <td>FinalParameters</td>\n",
       "      <td>parameter &lt;a_parameter_name&gt; should be final</td>\n",
       "      <td>[parameter, &lt;a_parameter_name&gt;, should, be, fi...</td>\n",
       "      <td>[parameter, &lt;a_parameter_name&gt;, should, be, fi...</td>\n",
       "      <td>[[[0.47947538, 0.3215189, 0.17466372, -0.19861...</td>\n",
       "      <td>[0.47947538, 0.3215189, 0.17466372, -0.1986142...</td>\n",
       "      <td>4</td>\n",
       "    </tr>\n",
       "    <tr>\n",
       "      <th>4</th>\n",
       "      <td>File contains tab characters (this is the firs...</td>\n",
       "      <td>FileTabCharacter</td>\n",
       "      <td>file contains tab characters (this is the firs...</td>\n",
       "      <td>[file, contains, tab, characters, (this, is, t...</td>\n",
       "      <td>[file, contains, tab, characters, (this, is, t...</td>\n",
       "      <td>[[[1.1413603, 0.11905863, 0.43160695, 0.067859...</td>\n",
       "      <td>[1.1413603, 0.11905863, 0.43160695, 0.06785958...</td>\n",
       "      <td>7</td>\n",
       "    </tr>\n",
       "    <tr>\n",
       "      <th>...</th>\n",
       "      <td>...</td>\n",
       "      <td>...</td>\n",
       "      <td>...</td>\n",
       "      <td>...</td>\n",
       "      <td>...</td>\n",
       "      <td>...</td>\n",
       "      <td>...</td>\n",
       "      <td>...</td>\n",
       "    </tr>\n",
       "    <tr>\n",
       "      <th>13988</th>\n",
       "      <td>Parameter args should be final</td>\n",
       "      <td>FinalParameters</td>\n",
       "      <td>parameter &lt;a_parameter_name&gt; should be final</td>\n",
       "      <td>[parameter, &lt;a_parameter_name&gt;, should, be, fi...</td>\n",
       "      <td>[parameter, &lt;a_parameter_name&gt;, should, be, fi...</td>\n",
       "      <td>[[[0.47947538, 0.3215189, 0.17466372, -0.19861...</td>\n",
       "      <td>[0.47947538, 0.3215189, 0.17466372, -0.1986142...</td>\n",
       "      <td>4</td>\n",
       "    </tr>\n",
       "    <tr>\n",
       "      <th>13989</th>\n",
       "      <td>Line has trailing spaces</td>\n",
       "      <td>RegexpSingleline</td>\n",
       "      <td>line has trailing spaces</td>\n",
       "      <td>[line, has, trailing, spaces]</td>\n",
       "      <td>[line, has, trailing, spaces]</td>\n",
       "      <td>[[[-0.17230728, 0.32957292, 0.11995581, -0.457...</td>\n",
       "      <td>[-0.17230728, 0.32957292, 0.11995581, -0.45790...</td>\n",
       "      <td>1</td>\n",
       "    </tr>\n",
       "    <tr>\n",
       "      <th>13990</th>\n",
       "      <td>Line has trailing spaces</td>\n",
       "      <td>RegexpSingleline</td>\n",
       "      <td>line has trailing spaces</td>\n",
       "      <td>[line, has, trailing, spaces]</td>\n",
       "      <td>[line, has, trailing, spaces]</td>\n",
       "      <td>[[[-0.17230728, 0.32957292, 0.11995581, -0.457...</td>\n",
       "      <td>[-0.17230728, 0.32957292, 0.11995581, -0.45790...</td>\n",
       "      <td>1</td>\n",
       "    </tr>\n",
       "    <tr>\n",
       "      <th>13991</th>\n",
       "      <td>Line has trailing spaces</td>\n",
       "      <td>RegexpSingleline</td>\n",
       "      <td>line has trailing spaces</td>\n",
       "      <td>[line, has, trailing, spaces]</td>\n",
       "      <td>[line, has, trailing, spaces]</td>\n",
       "      <td>[[[-0.17230728, 0.32957292, 0.11995581, -0.457...</td>\n",
       "      <td>[-0.17230728, 0.32957292, 0.11995581, -0.45790...</td>\n",
       "      <td>1</td>\n",
       "    </tr>\n",
       "    <tr>\n",
       "      <th>13992</th>\n",
       "      <td>Line has trailing spaces</td>\n",
       "      <td>RegexpSingleline</td>\n",
       "      <td>line has trailing spaces</td>\n",
       "      <td>[line, has, trailing, spaces]</td>\n",
       "      <td>[line, has, trailing, spaces]</td>\n",
       "      <td>[[[-0.17230728, 0.32957292, 0.11995581, -0.457...</td>\n",
       "      <td>[-0.17230728, 0.32957292, 0.11995581, -0.45790...</td>\n",
       "      <td>1</td>\n",
       "    </tr>\n",
       "  </tbody>\n",
       "</table>\n",
       "<p>13993 rows × 8 columns</p>\n",
       "</div>"
      ],
      "text/plain": [
       "                                                   Error  \\\n",
       "0                         Missing package-info java file   \n",
       "1      Utility classes should not have a public or de...   \n",
       "2                              Missing a Javadoc comment   \n",
       "3                         Parameter args should be final   \n",
       "4      File contains tab characters (this is the firs...   \n",
       "...                                                  ...   \n",
       "13988                     Parameter args should be final   \n",
       "13989                           Line has trailing spaces   \n",
       "13990                           Line has trailing spaces   \n",
       "13991                           Line has trailing spaces   \n",
       "13992                           Line has trailing spaces   \n",
       "\n",
       "                           Category  \\\n",
       "0                   JavadocPackage    \n",
       "1      HideUtilityClassConstructor    \n",
       "2             MissingJavadocMethod    \n",
       "3                  FinalParameters    \n",
       "4                 FileTabCharacter    \n",
       "...                             ...   \n",
       "13988              FinalParameters    \n",
       "13989             RegexpSingleline    \n",
       "13990             RegexpSingleline    \n",
       "13991             RegexpSingleline    \n",
       "13992             RegexpSingleline    \n",
       "\n",
       "                                                   clean  \\\n",
       "0                         missing package-info java file   \n",
       "1      utility classes should not have a public or de...   \n",
       "2                              missing a javadoc comment   \n",
       "3           parameter <a_parameter_name> should be final   \n",
       "4      file contains tab characters (this is the firs...   \n",
       "...                                                  ...   \n",
       "13988       parameter <a_parameter_name> should be final   \n",
       "13989                           line has trailing spaces   \n",
       "13990                           line has trailing spaces   \n",
       "13991                           line has trailing spaces   \n",
       "13992                           line has trailing spaces   \n",
       "\n",
       "                                                textList  \\\n",
       "0                    [missing, package-info, java, file]   \n",
       "1      [utility, classes, should, not, have, a, publi...   \n",
       "2                         [missing, a, javadoc, comment]   \n",
       "3      [parameter, <a_parameter_name>, should, be, fi...   \n",
       "4      [file, contains, tab, characters, (this, is, t...   \n",
       "...                                                  ...   \n",
       "13988  [parameter, <a_parameter_name>, should, be, fi...   \n",
       "13989                      [line, has, trailing, spaces]   \n",
       "13990                      [line, has, trailing, spaces]   \n",
       "13991                      [line, has, trailing, spaces]   \n",
       "13992                      [line, has, trailing, spaces]   \n",
       "\n",
       "                                                 cleanV2  \\\n",
       "0                    [missing, package-info, java, file]   \n",
       "1      [utility, classes, should, not, have, a, publi...   \n",
       "2                         [missing, a, javadoc, comment]   \n",
       "3      [parameter, <a_parameter_name>, should, be, fi...   \n",
       "4      [file, contains, tab, characters, (this, is, t...   \n",
       "...                                                  ...   \n",
       "13988  [parameter, <a_parameter_name>, should, be, fi...   \n",
       "13989                      [line, has, trailing, spaces]   \n",
       "13990                      [line, has, trailing, spaces]   \n",
       "13991                      [line, has, trailing, spaces]   \n",
       "13992                      [line, has, trailing, spaces]   \n",
       "\n",
       "                                          embedding_bert  \\\n",
       "0      [[[0.5257758, 0.36988783, 0.36865565, -0.46232...   \n",
       "1      [[[0.032336667, 0.1629827, 0.14033367, 0.09708...   \n",
       "2      [[[0.5257758, 0.36988783, 0.36865565, -0.46232...   \n",
       "3      [[[0.47947538, 0.3215189, 0.17466372, -0.19861...   \n",
       "4      [[[1.1413603, 0.11905863, 0.43160695, 0.067859...   \n",
       "...                                                  ...   \n",
       "13988  [[[0.47947538, 0.3215189, 0.17466372, -0.19861...   \n",
       "13989  [[[-0.17230728, 0.32957292, 0.11995581, -0.457...   \n",
       "13990  [[[-0.17230728, 0.32957292, 0.11995581, -0.457...   \n",
       "13991  [[[-0.17230728, 0.32957292, 0.11995581, -0.457...   \n",
       "13992  [[[-0.17230728, 0.32957292, 0.11995581, -0.457...   \n",
       "\n",
       "                                               embedding  d2v_clusters  \n",
       "0      [0.5257758, 0.36988783, 0.36865565, -0.4623298...             2  \n",
       "1      [0.032336667, 0.1629827, 0.14033367, 0.0970804...             6  \n",
       "2      [0.5257758, 0.36988783, 0.36865565, -0.4623298...             2  \n",
       "3      [0.47947538, 0.3215189, 0.17466372, -0.1986142...             4  \n",
       "4      [1.1413603, 0.11905863, 0.43160695, 0.06785958...             7  \n",
       "...                                                  ...           ...  \n",
       "13988  [0.47947538, 0.3215189, 0.17466372, -0.1986142...             4  \n",
       "13989  [-0.17230728, 0.32957292, 0.11995581, -0.45790...             1  \n",
       "13990  [-0.17230728, 0.32957292, 0.11995581, -0.45790...             1  \n",
       "13991  [-0.17230728, 0.32957292, 0.11995581, -0.45790...             1  \n",
       "13992  [-0.17230728, 0.32957292, 0.11995581, -0.45790...             1  \n",
       "\n",
       "[13993 rows x 8 columns]"
      ]
     },
     "execution_count": 66,
     "metadata": {},
     "output_type": "execute_result"
    }
   ],
   "source": [
    "df[\"d2v_clusters\"] = kmeans.labels_\n",
    "df"
   ]
  },
  {
   "cell_type": "code",
   "execution_count": 67,
   "metadata": {
    "colab": {
     "base_uri": "https://localhost:8080/",
     "height": 525
    },
    "id": "OquXmKQyeyMY",
    "outputId": "ff7d2a6e-e963-4d74-a6eb-7c7a388af776"
   },
   "outputs": [
    {
     "data": {
      "image/png": "[encoded data removed]",
      "text/plain": [
       "<Figure size 640x480 with 1 Axes>"
      ]
     },
     "metadata": {},
     "output_type": "display_data"
    }
   ],
   "source": [
    "ax = df['d2v_clusters'].value_counts().plot.bar()\n",
    "\n",
    "ax.set_title('Distribution of Clusters')\n",
    "ax.set_xlabel('Clusters')\n",
    "ax.set_ylabel('Number of Errors')\n",
    "\n",
    "plt.show()"
   ]
  },
  {
   "cell_type": "code",
   "execution_count": 68,
   "metadata": {
    "id": "ClTkCgw-MSYN"
   },
   "outputs": [],
   "source": [
    "# Remove whitespace around plot\n",
    "fig = ax.get_figure()\n",
    "# fig.tight_layout()\n",
    "\n",
    "# Save just the plot area to PDF\n",
    "fig.savefig('./hist_clusters.pdf', bbox_inches='tight')"
   ]
  },
  {
   "cell_type": "code",
   "execution_count": 69,
   "metadata": {
    "colab": {
     "base_uri": "https://localhost:8080/"
    },
    "id": "nyN6GpoAdzt6",
    "outputId": "d8a51c0b-2bb6-4d36-85e9-1317dfbb8219"
   },
   "outputs": [
    {
     "name": "stdout",
     "output_type": "stream",
     "text": [
      "0        missing package-info java file\n",
      "2             missing a javadoc comment\n",
      "10       missing package-info java file\n",
      "12            missing a javadoc comment\n",
      "19       missing package-info java file\n",
      "                      ...              \n",
      "13931         missing a javadoc comment\n",
      "13961    missing package-info java file\n",
      "13969         missing a javadoc comment\n",
      "13984    missing package-info java file\n",
      "13987         missing a javadoc comment\n",
      "Name: clean, Length: 890, dtype: object\n",
      "890\n"
     ]
    }
   ],
   "source": [
    "clust_number = 2\n",
    "print(df[df['d2v_clusters'] == clust_number]['clean'])\n",
    "print(df[df['d2v_clusters'] == clust_number]['clean'].count())"
   ]
  },
  {
   "cell_type": "code",
   "execution_count": 70,
   "metadata": {
    "colab": {
     "base_uri": "https://localhost:8080/"
    },
    "id": "BdH6J1bCdzg6",
    "outputId": "d5f3385b-7bd8-4f8a-e9fa-eec44dd1a8ae"
   },
   "outputs": [
    {
     "name": "stdout",
     "output_type": "stream",
     "text": [
      "21       <operator> is not preceded with whitespace\n",
      "26        <operator> should be on the previous line\n",
      "31         <operator> is not followed by whitespace\n",
      "32       <operator> is not preceded with whitespace\n",
      "45       <operator> is not preceded with whitespace\n",
      "                            ...                    \n",
      "13979     <operator> should be on the previous line\n",
      "13980     <operator> should be on the previous line\n",
      "13981     <operator> should be on the previous line\n",
      "13982     <operator> should be on the previous line\n",
      "13986     <operator> should be on the previous line\n",
      "Name: clean, Length: 6039, dtype: object\n",
      "6039\n"
     ]
    }
   ],
   "source": [
    "clust_number = 0\n",
    "print(df[df['d2v_clusters'] == clust_number]['clean'])\n",
    "print(df[df['d2v_clusters'] == clust_number]['clean'].count())"
   ]
  },
  {
   "cell_type": "code",
   "execution_count": 71,
   "metadata": {
    "colab": {
     "base_uri": "https://localhost:8080/"
    },
    "id": "Tf7fp77keK4t",
    "outputId": "991bd71f-9df6-49da-ab25-8c0218b96faf"
   },
   "outputs": [
    {
     "name": "stdout",
     "output_type": "stream",
     "text": [
      "355      first sentence should end with a period\n",
      "706      first sentence should end with a period\n",
      "710      first sentence should end with a period\n",
      "737      first sentence should end with a period\n",
      "851      first sentence should end with a period\n",
      "                          ...                   \n",
      "11921    first sentence should end with a period\n",
      "12391    first sentence should end with a period\n",
      "12648    first sentence should end with a period\n",
      "12666    first sentence should end with a period\n",
      "12815    first sentence should end with a period\n",
      "Name: clean, Length: 207, dtype: object\n",
      "207\n"
     ]
    }
   ],
   "source": [
    "clust_number = 5\n",
    "print(df[df['d2v_clusters'] == clust_number]['clean'])\n",
    "print(df[df['d2v_clusters'] == clust_number]['clean'].count())"
   ]
  },
  {
   "cell_type": "code",
   "execution_count": 72,
   "metadata": {
    "colab": {
     "base_uri": "https://localhost:8080/"
    },
    "id": "4Bi6AGIBfETB",
    "outputId": "ab57e33c-deff-494b-86ca-362096f81487"
   },
   "outputs": [
    {
     "name": "stdout",
     "output_type": "stream",
     "text": [
      "5                       line has trailing spaces\n",
      "6                       line has trailing spaces\n",
      "7        line is longer than characters (found )\n",
      "8                       line has trailing spaces\n",
      "9        line is longer than characters (found )\n",
      "                          ...                   \n",
      "13968                   line has trailing spaces\n",
      "13989                   line has trailing spaces\n",
      "13990                   line has trailing spaces\n",
      "13991                   line has trailing spaces\n",
      "13992                   line has trailing spaces\n",
      "Name: clean, Length: 3134, dtype: object\n",
      "3134\n"
     ]
    }
   ],
   "source": [
    "clust_number = 1\n",
    "print(df[df['d2v_clusters'] == clust_number]['clean'])\n",
    "print(df[df['d2v_clusters'] == clust_number]['clean'].count())"
   ]
  },
  {
   "cell_type": "code",
   "execution_count": 73,
   "metadata": {
    "colab": {
     "base_uri": "https://localhost:8080/"
    },
    "id": "wspncWVtfD07",
    "outputId": "d277b151-08e2-4f99-9695-450578534497"
   },
   "outputs": [
    {
     "name": "stdout",
     "output_type": "stream",
     "text": [
      "1        utility classes should not have a public or de...\n",
      "11       utility classes should not have a public or de...\n",
      "20       utility classes should not have a public or de...\n",
      "34       utility classes should not have a public or de...\n",
      "41       utility classes should not have a public or de...\n",
      "                               ...                        \n",
      "13899    utility classes should not have a public or de...\n",
      "13905    utility classes should not have a public or de...\n",
      "13929    utility classes should not have a public or de...\n",
      "13965    utility classes should not have a public or de...\n",
      "13985    utility classes should not have a public or de...\n",
      "Name: clean, Length: 378, dtype: object\n",
      "378\n"
     ]
    }
   ],
   "source": [
    "clust_number = 6\n",
    "print(df[df['d2v_clusters'] == clust_number]['clean'])\n",
    "print(df[df['d2v_clusters'] == clust_number]['clean'].count())"
   ]
  },
  {
   "cell_type": "code",
   "execution_count": 74,
   "metadata": {
    "colab": {
     "base_uri": "https://localhost:8080/"
    },
    "id": "FychPO5_fPCp",
    "outputId": "7c3c19ce-76d0-4272-86c2-aa0654557dd6"
   },
   "outputs": [
    {
     "name": "stdout",
     "output_type": "stream",
     "text": [
      "14                  '' is a magic number\n",
      "15                  '' is a magic number\n",
      "16                  '' is a magic number\n",
      "17                  '' is a magic number\n",
      "85                  '' is a magic number\n",
      "                      ...               \n",
      "13894               '' is a magic number\n",
      "13914               '' is a magic number\n",
      "13920               '' is a magic number\n",
      "13922               '' is a magic number\n",
      "13942    ';' is preceded with whitespace\n",
      "Name: clean, Length: 767, dtype: object\n",
      "767\n"
     ]
    }
   ],
   "source": [
    "clust_number = 3\n",
    "print(df[df['d2v_clusters'] == clust_number]['clean'])\n",
    "print(df[df['d2v_clusters'] == clust_number]['clean'].count())"
   ]
  },
  {
   "cell_type": "code",
   "execution_count": 75,
   "metadata": {
    "colab": {
     "base_uri": "https://localhost:8080/"
    },
    "id": "wdLFUuiXfO3Q",
    "outputId": "25870efe-e7c7-499e-87aa-2e3571ce73ba"
   },
   "outputs": [
    {
     "name": "stdout",
     "output_type": "stream",
     "text": [
      "3        parameter <a_parameter_name> should be final\n",
      "13       parameter <a_parameter_name> should be final\n",
      "25       parameter <a_parameter_name> should be final\n",
      "36       parameter <a_parameter_name> should be final\n",
      "44       parameter <a_parameter_name> should be final\n",
      "                             ...                     \n",
      "13901    parameter <a_parameter_name> should be final\n",
      "13908    parameter <a_parameter_name> should be final\n",
      "13932    parameter <a_parameter_name> should be final\n",
      "13971    parameter <a_parameter_name> should be final\n",
      "13988    parameter <a_parameter_name> should be final\n",
      "Name: clean, Length: 1080, dtype: object\n",
      "1080\n"
     ]
    }
   ],
   "source": [
    "clust_number = 4\n",
    "print(df[df['d2v_clusters'] == clust_number]['clean'])\n",
    "print(df[df['d2v_clusters'] == clust_number]['clean'].count())"
   ]
  },
  {
   "cell_type": "markdown",
   "metadata": {
    "id": "c0KRj4ptNAYG"
   },
   "source": [
    "### Silhouette Score"
   ]
  },
  {
   "cell_type": "code",
   "execution_count": 76,
   "metadata": {
    "colab": {
     "base_uri": "https://localhost:8080/",
     "height": 541
    },
    "id": "MKHhxxu8ZmHI",
    "outputId": "98410124-e1bf-4834-bf0d-2fa0ec04459c"
   },
   "outputs": [
    {
     "data": {
      "image/png": "[encoded data removed]",
      "text/plain": [
       "<Figure size 800x550 with 1 Axes>"
      ]
     },
     "metadata": {},
     "output_type": "display_data"
    },
    {
     "data": {
      "text/plain": [
       "<Axes: title={'center': 'Silhouette Plot of k-means Clustering'}, xlabel='silhouette coefficient values', ylabel='cluster label'>"
      ]
     },
     "execution_count": 76,
     "metadata": {},
     "output_type": "execute_result"
    }
   ],
   "source": [
    "\n",
    "from yellowbrick.cluster import SilhouetteVisualizer\n",
    "\n",
    "\n",
    "# Assuming 'embedding128' is your pandas Series containing embeddings\n",
    "# Convert the Series to a list of lists\n",
    "embedding_list = df['embedding'].tolist()\n",
    "embedding_list_of_lists = np.array([embedding.tolist() for embedding in embedding_list])\n",
    "\n",
    "# Create a SilhouetteVisualizer instance\n",
    "title = \"Silhouette Plot of k-means Clustering\"\n",
    "visualizer = SilhouetteVisualizer(kmeans, colors='yellowbrick', title=title)\n",
    "\n",
    "\n",
    "# Fit the visualizer with the standardized embedding data\n",
    "visualizer.fit(embedding_list_of_lists)\n",
    "# Export the plot to a PDF with a tight layout\n",
    "visualizer.show(outpath=\"./silhouette_plot.pdf\")\n",
    "\n",
    "# Display the visualization\n",
    "visualizer.poof()"
   ]
  },
  {
   "cell_type": "markdown",
   "metadata": {
    "id": "e9yLUuZxc6IJ"
   },
   "source": [
    "### Let's use UMAP to plot the clusters\n"
   ]
  },
  {
   "cell_type": "code",
   "execution_count": 77,
   "metadata": {
    "colab": {
     "base_uri": "https://localhost:8080/"
    },
    "id": "kna9N5v_EdU0",
    "outputId": "4c5845ad-9768-40ba-ace9-381156050494"
   },
   "outputs": [
    {
     "name": "stdout",
     "output_type": "stream",
     "text": [
      "                                              embeds\n",
      "0  [0.5257758, 0.36988783, 0.36865565, -0.4623298...\n",
      "1  [0.032336667, 0.1629827, 0.14033367, 0.0970804...\n",
      "2  [0.5257758, 0.36988783, 0.36865565, -0.4623298...\n",
      "3  [0.47947538, 0.3215189, 0.17466372, -0.1986142...\n",
      "4  [1.1413603, 0.11905863, 0.43160695, 0.06785958...\n",
      "(13993, 1)\n"
     ]
    }
   ],
   "source": [
    "data_embeds = pd.DataFrame()\n",
    "data_embeds['embeds'] = df[\"embedding\"]\n",
    "print(data_embeds.head())\n",
    "print(data_embeds.shape)\n"
   ]
  },
  {
   "cell_type": "code",
   "execution_count": 78,
   "metadata": {},
   "outputs": [
    {
     "name": "stdout",
     "output_type": "stream",
     "text": [
      "Requirement already satisfied: umap-learn in /home/bassturtle4/Desktop/SynologyDrive/2023yearproject/Training/env/lib/python3.10/site-packages (0.5.4)\n",
      "Requirement already satisfied: numba>=0.51.2 in /home/bassturtle4/Desktop/SynologyDrive/2023yearproject/Training/env/lib/python3.10/site-packages (from umap-learn) (0.58.1)\n",
      "Requirement already satisfied: tbb>=2019.0 in /home/bassturtle4/Desktop/SynologyDrive/2023yearproject/Training/env/lib/python3.10/site-packages (from umap-learn) (2021.10.0)\n",
      "Requirement already satisfied: scipy>=1.3.1 in /home/bassturtle4/Desktop/SynologyDrive/2023yearproject/Training/env/lib/python3.10/site-packages (from umap-learn) (1.11.3)\n",
      "Requirement already satisfied: scikit-learn>=0.22 in /home/bassturtle4/Desktop/SynologyDrive/2023yearproject/Training/env/lib/python3.10/site-packages (from umap-learn) (1.3.2)\n",
      "Requirement already satisfied: numpy>=1.17 in /home/bassturtle4/Desktop/SynologyDrive/2023yearproject/Training/env/lib/python3.10/site-packages (from umap-learn) (1.26.1)\n",
      "Requirement already satisfied: pynndescent>=0.5 in /home/bassturtle4/Desktop/SynologyDrive/2023yearproject/Training/env/lib/python3.10/site-packages (from umap-learn) (0.5.10)\n",
      "Requirement already satisfied: tqdm in /home/bassturtle4/Desktop/SynologyDrive/2023yearproject/Training/env/lib/python3.10/site-packages (from umap-learn) (4.66.1)\n",
      "Requirement already satisfied: llvmlite<0.42,>=0.41.0dev0 in /home/bassturtle4/Desktop/SynologyDrive/2023yearproject/Training/env/lib/python3.10/site-packages (from numba>=0.51.2->umap-learn) (0.41.1)\n",
      "Requirement already satisfied: joblib>=0.11 in /home/bassturtle4/Desktop/SynologyDrive/2023yearproject/Training/env/lib/python3.10/site-packages (from pynndescent>=0.5->umap-learn) (1.3.2)\n",
      "Requirement already satisfied: threadpoolctl>=2.0.0 in /home/bassturtle4/Desktop/SynologyDrive/2023yearproject/Training/env/lib/python3.10/site-packages (from scikit-learn>=0.22->umap-learn) (3.2.0)\n"
     ]
    }
   ],
   "source": [
    "!pip install umap-learn"
   ]
  },
  {
   "cell_type": "code",
   "execution_count": 81,
   "metadata": {
    "colab": {
     "base_uri": "https://localhost:8080/",
     "height": 76
    },
    "id": "pBj2-_f-FEn2",
    "outputId": "ca025ad8-1cc4-4bc6-c3fa-f94af1f8ca4c"
   },
   "outputs": [
    {
     "data": {
      "text/html": [
       "<svg  width=\"550\" height=\"55\"><rect x=\"0\" y=\"0\" width=\"55\" height=\"55\" style=\"fill:#0173b2;stroke-width:2;stroke:rgb(255,255,255)\"/><rect x=\"55\" y=\"0\" width=\"55\" height=\"55\" style=\"fill:#de8f05;stroke-width:2;stroke:rgb(255,255,255)\"/><rect x=\"110\" y=\"0\" width=\"55\" height=\"55\" style=\"fill:#029e73;stroke-width:2;stroke:rgb(255,255,255)\"/><rect x=\"165\" y=\"0\" width=\"55\" height=\"55\" style=\"fill:#d55e00;stroke-width:2;stroke:rgb(255,255,255)\"/><rect x=\"220\" y=\"0\" width=\"55\" height=\"55\" style=\"fill:#cc78bc;stroke-width:2;stroke:rgb(255,255,255)\"/><rect x=\"275\" y=\"0\" width=\"55\" height=\"55\" style=\"fill:#ca9161;stroke-width:2;stroke:rgb(255,255,255)\"/><rect x=\"330\" y=\"0\" width=\"55\" height=\"55\" style=\"fill:#fbafe4;stroke-width:2;stroke:rgb(255,255,255)\"/><rect x=\"385\" y=\"0\" width=\"55\" height=\"55\" style=\"fill:#949494;stroke-width:2;stroke:rgb(255,255,255)\"/><rect x=\"440\" y=\"0\" width=\"55\" height=\"55\" style=\"fill:#ece133;stroke-width:2;stroke:rgb(255,255,255)\"/><rect x=\"495\" y=\"0\" width=\"55\" height=\"55\" style=\"fill:#56b4e9;stroke-width:2;stroke:rgb(255,255,255)\"/></svg>"
      ],
      "text/plain": [
       "[(0.00392156862745098, 0.45098039215686275, 0.6980392156862745),\n",
       " (0.8705882352941177, 0.5607843137254902, 0.0196078431372549),\n",
       " (0.00784313725490196, 0.6196078431372549, 0.45098039215686275),\n",
       " (0.8352941176470589, 0.3686274509803922, 0.0),\n",
       " (0.8, 0.47058823529411764, 0.7372549019607844),\n",
       " (0.792156862745098, 0.5686274509803921, 0.3803921568627451),\n",
       " (0.984313725490196, 0.6862745098039216, 0.8941176470588236),\n",
       " (0.5803921568627451, 0.5803921568627451, 0.5803921568627451),\n",
       " (0.9254901960784314, 0.8823529411764706, 0.2),\n",
       " (0.33725490196078434, 0.7058823529411765, 0.9137254901960784)]"
      ]
     },
     "execution_count": 81,
     "metadata": {},
     "output_type": "execute_result"
    }
   ],
   "source": [
    "import umap.umap_ as umap # REDUCE DIMENSIONALITY\n",
    "import seaborn as sns\n",
    "sns.color_palette('colorblind')"
   ]
  },
  {
   "cell_type": "code",
   "execution_count": 82,
   "metadata": {
    "id": "XKDdfKZ-FMM9"
   },
   "outputs": [],
   "source": [
    "X_umap = umap.UMAP().fit_transform(data_embeds['embeds'].tolist())"
   ]
  },
  {
   "cell_type": "code",
   "execution_count": 83,
   "metadata": {
    "colab": {
     "base_uri": "https://localhost:8080/"
    },
    "id": "g1TDTv4FFZVf",
    "outputId": "4f1cf032-19d9-4db5-b3fe-726422aaedc5"
   },
   "outputs": [
    {
     "data": {
      "text/plain": [
       "array([[ 8.866354  , 12.81306   ],\n",
       "       [20.417358  ,  4.87738   ],\n",
       "       [ 9.419693  , 12.029616  ],\n",
       "       ...,\n",
       "       [-0.33686346, 13.60102   ],\n",
       "       [-0.5276748 , 13.104103  ],\n",
       "       [-1.0269164 , 13.766361  ]], dtype=float32)"
      ]
     },
     "execution_count": 83,
     "metadata": {},
     "output_type": "execute_result"
    }
   ],
   "source": [
    "X_umap"
   ]
  },
  {
   "cell_type": "code",
   "execution_count": null,
   "metadata": {
    "id": "DdxL-0meHYty"
   },
   "outputs": [],
   "source": [
    "data_df = pd.DataFrame()\n",
    "data_df['x'] = X_umap[:,0]\n",
    "data_df['y'] = X_umap[:, 1]\n",
    "data_df['cluster'] = df['d2v_clusters']"
   ]
  },
  {
   "cell_type": "code",
   "execution_count": null,
   "metadata": {
    "colab": {
     "base_uri": "https://localhost:8080/",
     "height": 424
    },
    "id": "CaZA99f2IgaH",
    "outputId": "60d814c5-bcac-48f9-d255-0318b0f75c64"
   },
   "outputs": [],
   "source": [
    "data_df"
   ]
  },
  {
   "cell_type": "code",
   "execution_count": null,
   "metadata": {
    "colab": {
     "base_uri": "https://localhost:8080/",
     "height": 424
    },
    "id": "4FUmEubHnh0M",
    "outputId": "3d538956-f5b0-4dc1-d6b9-bb076a1740d1"
   },
   "outputs": [],
   "source": [
    "data_df['clus'] = data_df['cluster'].apply(lambda x: str(x))\n",
    "data_df"
   ]
  },
  {
   "cell_type": "code",
   "execution_count": null,
   "metadata": {
    "colab": {
     "base_uri": "https://localhost:8080/",
     "height": 850
    },
    "id": "ERAFd4I0IjAh",
    "outputId": "192e5f54-042f-45a4-d0f0-e1e6e638e16d"
   },
   "outputs": [],
   "source": [
    "plt.figure(figsize=(10,10))\n",
    "sns.scatterplot(data=data_df, x=\"x\", y=\"y\", hue='clus')\n",
    "plt.show()"
   ]
  },
  {
   "cell_type": "markdown",
   "metadata": {
    "id": "pUStjig8Q8VW"
   },
   "source": [
    "What about PCA and Doc2Vec?"
   ]
  },
  {
   "cell_type": "code",
   "execution_count": null,
   "metadata": {
    "colab": {
     "base_uri": "https://localhost:8080/"
    },
    "id": "g8SOLd9BQ6H1",
    "outputId": "263c9ef1-45cd-416b-be88-680185556ec9"
   },
   "outputs": [],
   "source": [
    "#Getting unique labels\n",
    "pca = PCA(2)\n",
    "#Transform the data\n",
    "X_pca = pca.fit_transform(data_embeds['embeds'].tolist())\n",
    "X_pca"
   ]
  },
  {
   "cell_type": "code",
   "execution_count": null,
   "metadata": {
    "id": "naPOurLCRgf-"
   },
   "outputs": [],
   "source": [
    "data_df = pd.DataFrame()\n",
    "data_df['x'] = X_pca[:,0]\n",
    "data_df['y'] = X_pca[:, 1]\n",
    "data_df['cluster'] = df['d2v_clusters']"
   ]
  },
  {
   "cell_type": "code",
   "execution_count": null,
   "metadata": {
    "colab": {
     "base_uri": "https://localhost:8080/",
     "height": 424
    },
    "id": "dzp-yMqhRrma",
    "outputId": "ecedacdc-a472-475b-b303-897c58050cda"
   },
   "outputs": [],
   "source": [
    "data_df"
   ]
  },
  {
   "cell_type": "code",
   "execution_count": null,
   "metadata": {
    "colab": {
     "base_uri": "https://localhost:8080/",
     "height": 424
    },
    "id": "eWP0LjAxRsjT",
    "outputId": "4a0530b2-b5fb-4b50-9904-77c00b59dbf1"
   },
   "outputs": [],
   "source": [
    "data_df['clus'] = data_df['cluster'].apply(lambda x: str(x))\n",
    "data_df"
   ]
  },
  {
   "cell_type": "code",
   "execution_count": null,
   "metadata": {
    "colab": {
     "base_uri": "https://localhost:8080/",
     "height": 639
    },
    "id": "UbE2yhZeRwN2",
    "outputId": "53170f53-9a3e-42f7-bb67-d910b1f509ce"
   },
   "outputs": [],
   "source": [
    "plt.figure(figsize=(7,7))\n",
    "sns.scatterplot(data=data_df, x=\"x\", y=\"y\", hue='clus')\n",
    "\n",
    "plt.title(\"Clusters of errors\")\n",
    "plt.savefig(\"./cluster_errors.pdf\", bbox_inches='tight')\n",
    "plt.show()"
   ]
  },
  {
   "cell_type": "markdown",
   "metadata": {
    "id": "Kvph0IizUWyy"
   },
   "source": [
    "### t-SNE"
   ]
  },
  {
   "cell_type": "markdown",
   "metadata": {
    "id": "4HxUyGD_h7gT"
   },
   "source": [
    "## Let's get error closest to the centroid in each cluster"
   ]
  },
  {
   "cell_type": "code",
   "execution_count": null,
   "metadata": {
    "id": "u93tphYMh7Hn"
   },
   "outputs": [],
   "source": [
    "centroids = kmeans.cluster_centers_"
   ]
  },
  {
   "cell_type": "code",
   "execution_count": null,
   "metadata": {
    "colab": {
     "base_uri": "https://localhost:8080/"
    },
    "id": "6yMrhH8NRy9Z",
    "outputId": "94e3593c-60bd-4263-a4c8-cc6163ba5e4c"
   },
   "outputs": [],
   "source": [
    "len(centroids)"
   ]
  },
  {
   "cell_type": "code",
   "execution_count": null,
   "metadata": {
    "id": "ECGf42HKi3XT"
   },
   "outputs": [],
   "source": [
    "from sklearn.neighbors import NearestNeighbors"
   ]
  },
  {
   "cell_type": "code",
   "execution_count": null,
   "metadata": {
    "id": "EI1rZkZniQth"
   },
   "outputs": [],
   "source": [
    "# Find closest to each centroid\n",
    "closest_docs = []\n",
    "for c, centroid in enumerate(centroids):\n",
    "    nbrs = NearestNeighbors(n_neighbors=1).fit(df[df['d2v_clusters']==c]['embedding'].tolist())\n",
    "    distances, indices = nbrs.kneighbors(centroid.reshape(1,-1))\n",
    "    closest_doc = df[df['d2v_clusters']==c]['clean'].iloc[indices[0,0]]\n",
    "    closest_doc_cat = df[df['d2v_clusters']==c]['Category'].iloc[indices[0,0]]\n",
    "    closest_docs.append({c:[closest_doc, closest_doc_cat]})"
   ]
  },
  {
   "cell_type": "code",
   "execution_count": null,
   "metadata": {
    "colab": {
     "base_uri": "https://localhost:8080/"
    },
    "id": "15zGuglUjj_M",
    "outputId": "6ff1095b-992e-4ca2-a6c2-5803258ebe7b"
   },
   "outputs": [],
   "source": [
    "closest_docs"
   ]
  },
  {
   "cell_type": "markdown",
   "metadata": {
    "id": "3y61LJg1KcmK"
   },
   "source": [
    "### Checking the XML file\n",
    "\n",
    "* {0: ['parameter <a_parameter_name> should be final', 'FinalParameters ']}, Miscellaneous other checks.\n",
    "* {1: ['<operator> is not preceded with whitespace', 'WhitespaceAround ']}, Checks for whitespace.\n",
    "* {2: ['line is longer than characters (found )', 'LineLength ']},Checks for Size Violations\n",
    "* {3: ['<braket> is followed by whitespace', 'ParenPad ']},Checks for whitespace    \n",
    "* {4: ['line has trailing spaces', 'RegexpSingleline ']},Miscellaneous other checks.\n",
    "*  {5: [\"name <a_name> must match pattern '^a-za-za-z-*$'\", 'TypeName ']},Checks for Naming Conventions.\n",
    "* {6: ['missing a javadoc comment', 'MissingJavadocMethod ']},Checks for Javadoc comments\n"
   ]
  },
  {
   "cell_type": "markdown",
   "metadata": {
    "id": "7MaJ3fhfkJRv"
   },
   "source": [
    "## Let's try summarizing the whole cluster"
   ]
  },
  {
   "cell_type": "code",
   "execution_count": null,
   "metadata": {
    "colab": {
     "base_uri": "https://localhost:8080/"
    },
    "id": "lwmfmTZ1klcS",
    "outputId": "3878b732-589a-4838-afec-90d9207104a9"
   },
   "outputs": [],
   "source": [
    "!pip3 install gensim==3.6.0 # summarization was deprecated from 4.0"
   ]
  },
  {
   "cell_type": "code",
   "execution_count": null,
   "metadata": {
    "id": "2EDUHTIrjj4T"
   },
   "outputs": [],
   "source": [
    "from gensim.summarization import summarize"
   ]
  },
  {
   "cell_type": "code",
   "execution_count": null,
   "metadata": {
    "id": "dqM1zihejj0V"
   },
   "outputs": [],
   "source": [
    "# Group docs by cluster\n",
    "docs_by_cluster = df.groupby('d2v_clusters')['Error']"
   ]
  },
  {
   "cell_type": "code",
   "execution_count": null,
   "metadata": {
    "id": "WreqmV_jnORy"
   },
   "outputs": [],
   "source": [
    "texts = []\n",
    "for d in docs_by_cluster:\n",
    "    #print(d[1].values)\n",
    "    text = \".\".join(txt for txt in d[1].values)\n",
    "    texts.append(text)"
   ]
  },
  {
   "cell_type": "code",
   "execution_count": null,
   "metadata": {
    "colab": {
     "base_uri": "https://localhost:8080/"
    },
    "id": "wNaKHlISoYgj",
    "outputId": "80505ff7-046b-45c3-eba7-b2f4bdbaf029"
   },
   "outputs": [],
   "source": [
    "len(texts)"
   ]
  },
  {
   "cell_type": "code",
   "execution_count": null,
   "metadata": {
    "id": "fEudAkj0lD-r"
   },
   "outputs": [],
   "source": [
    "# Generate summary for each cluster (didn't work well)\n",
    "#cluster_summaries = {}\n",
    "#for cluster_id, cluster_docs in enumerate(texts):\n",
    "#    #all_text = \" \".join(cluster_docs.values)\n",
    "#    #print(cluster_docs)\n",
    "#    summary = summarize(cluster_docs, word_count=10)\n",
    "#    cluster_summaries[cluster_id] = summary"
   ]
  },
  {
   "cell_type": "code",
   "execution_count": null,
   "metadata": {
    "colab": {
     "base_uri": "https://localhost:8080/",
     "height": 139
    },
    "id": "lqt9VmvslHMr",
    "outputId": "7cb2db48-3462-4d93-9354-adeca8ec4510"
   },
   "outputs": [],
   "source": [
    "texts[0]"
   ]
  },
  {
   "cell_type": "code",
   "execution_count": null,
   "metadata": {
    "colab": {
     "base_uri": "https://localhost:8080/",
     "height": 308
    },
    "id": "NIcN3JnZMWYV",
    "outputId": "f5d8b42c-d0a4-4f40-e971-e01bb950163e"
   },
   "outputs": [],
   "source": [
    "\n",
    "#Create the wordcloud object\n",
    "wordcloud = WordCloud(collocations= COLLOCATIONS,\n",
    "                        background_color=\"white\",\n",
    "                        collocation_threshold = COLLOCATION,\n",
    "                        max_words = MAX_WORDS,\n",
    "                        relative_scaling = 1).generate(texts[0])\n",
    "#plot\n",
    "plt.figure(figsize=(7,5), dpi=100)\n",
    "plt.imshow(wordcloud, interpolation='bilInear')\n",
    "plt.axis('off')\n",
    "\n",
    "plt.show()"
   ]
  },
  {
   "cell_type": "code",
   "execution_count": null,
   "metadata": {
    "colab": {
     "base_uri": "https://localhost:8080/"
    },
    "id": "1HWWHQ3lPHgH",
    "outputId": "b0fcc678-460b-4242-dc07-b35342683b3e"
   },
   "outputs": [],
   "source": [
    "# Process text\n",
    "frequencies = wordcloud.process_text(texts[0])\n",
    "\n",
    "print(frequencies)"
   ]
  },
  {
   "cell_type": "code",
   "execution_count": null,
   "metadata": {
    "colab": {
     "base_uri": "https://localhost:8080/",
     "height": 139
    },
    "id": "UNkc4MDPrPsM",
    "outputId": "1580aee4-eeec-4d49-d4e4-8747c13d7280"
   },
   "outputs": [],
   "source": [
    "texts[1]"
   ]
  },
  {
   "cell_type": "code",
   "execution_count": null,
   "metadata": {
    "colab": {
     "base_uri": "https://localhost:8080/",
     "height": 308
    },
    "id": "s_AFPpefMk5r",
    "outputId": "8aae2b0a-7ace-467e-887e-f738e34bf093"
   },
   "outputs": [],
   "source": [
    "\n",
    "#Create the wordcloud object\n",
    "wordcloud = WordCloud(collocations= COLLOCATIONS,\n",
    "                        background_color=\"white\",\n",
    "                        collocation_threshold = COLLOCATION,\n",
    "                        max_words = MAX_WORDS,\n",
    "                        relative_scaling = 1).generate(texts[1])\n",
    "#plot\n",
    "plt.figure(figsize=(7,5), dpi=100)\n",
    "plt.imshow(wordcloud, interpolation='bilInear')\n",
    "plt.axis('off')\n",
    "\n",
    "plt.show()"
   ]
  },
  {
   "cell_type": "code",
   "execution_count": null,
   "metadata": {
    "colab": {
     "base_uri": "https://localhost:8080/"
    },
    "id": "1chhHOJsPNU_",
    "outputId": "3dcf2d7a-64f2-41e6-d2cb-3dcf01d6e67e"
   },
   "outputs": [],
   "source": [
    "# Process text\n",
    "frequencies = wordcloud.process_text(texts[1])\n",
    "\n",
    "print(frequencies)"
   ]
  },
  {
   "cell_type": "code",
   "execution_count": null,
   "metadata": {
    "colab": {
     "base_uri": "https://localhost:8080/",
     "height": 122
    },
    "id": "-YskHrv8te4L",
    "outputId": "bab40774-682d-4004-be2f-8bc282321896"
   },
   "outputs": [],
   "source": [
    "texts[2]"
   ]
  },
  {
   "cell_type": "code",
   "execution_count": null,
   "metadata": {
    "colab": {
     "base_uri": "https://localhost:8080/",
     "height": 308
    },
    "id": "3Xt0I6O9Mn6d",
    "outputId": "c2a6b9c8-1956-4951-f176-3209a69be816"
   },
   "outputs": [],
   "source": [
    "\n",
    "#Create the wordcloud object\n",
    "wordcloud = WordCloud(collocations= COLLOCATIONS,\n",
    "                        background_color=\"white\",\n",
    "                        collocation_threshold = COLLOCATION,\n",
    "                        max_words = MAX_WORDS,\n",
    "                        relative_scaling = 1).generate(texts[2])\n",
    "#plot\n",
    "plt.figure(figsize=(7,5), dpi=100)\n",
    "plt.imshow(wordcloud, interpolation='bilInear')\n",
    "plt.axis('off')\n",
    "\n",
    "plt.show()"
   ]
  },
  {
   "cell_type": "code",
   "execution_count": null,
   "metadata": {
    "colab": {
     "base_uri": "https://localhost:8080/"
    },
    "id": "RX38UIoZPP9N",
    "outputId": "aeb5c62d-c10a-49d0-ab50-1769349b9065"
   },
   "outputs": [],
   "source": [
    "# Process text\n",
    "frequencies = wordcloud.process_text(texts[2])\n",
    "\n",
    "print(frequencies)"
   ]
  },
  {
   "cell_type": "code",
   "execution_count": null,
   "metadata": {
    "colab": {
     "base_uri": "https://localhost:8080/",
     "height": 122
    },
    "id": "RJe3yeU0tgPI",
    "outputId": "745b50e9-be2c-452b-b5d6-b46f8187828e"
   },
   "outputs": [],
   "source": [
    "texts[3]"
   ]
  },
  {
   "cell_type": "code",
   "execution_count": null,
   "metadata": {
    "colab": {
     "base_uri": "https://localhost:8080/",
     "height": 308
    },
    "id": "Ry6ym6fpMtHE",
    "outputId": "c39f500b-3fc9-4ab9-ee68-b532b219442c"
   },
   "outputs": [],
   "source": [
    "\n",
    "#Create the wordcloud object\n",
    "wordcloud = WordCloud(collocations= COLLOCATIONS,\n",
    "                        background_color=\"white\",\n",
    "                        collocation_threshold = COLLOCATION,\n",
    "                        max_words = MAX_WORDS,\n",
    "                        relative_scaling = 1).generate(texts[3])\n",
    "#plot\n",
    "plt.figure(figsize=(7,5), dpi=100)\n",
    "plt.imshow(wordcloud, interpolation='bilInear')\n",
    "plt.axis('off')\n",
    "\n",
    "plt.show()"
   ]
  },
  {
   "cell_type": "code",
   "execution_count": null,
   "metadata": {
    "colab": {
     "base_uri": "https://localhost:8080/"
    },
    "id": "UStg7LEtPTqM",
    "outputId": "37ef526d-b710-4a00-8b05-c596f487b91c"
   },
   "outputs": [],
   "source": [
    "# Process text\n",
    "frequencies = wordcloud.process_text(texts[3])\n",
    "\n",
    "print(frequencies)"
   ]
  },
  {
   "cell_type": "code",
   "execution_count": null,
   "metadata": {
    "colab": {
     "base_uri": "https://localhost:8080/",
     "height": 122
    },
    "id": "wTQmS7uWthwy",
    "outputId": "eabedc22-7cca-4a35-a098-b90988335dce"
   },
   "outputs": [],
   "source": [
    "texts[4]"
   ]
  },
  {
   "cell_type": "code",
   "execution_count": null,
   "metadata": {
    "colab": {
     "base_uri": "https://localhost:8080/",
     "height": 308
    },
    "id": "gRKVKmNLMw5Z",
    "outputId": "e329542f-5b50-4a6a-fb14-b009deb79b66"
   },
   "outputs": [],
   "source": [
    "\n",
    "#Create the wordcloud object\n",
    "wordcloud = WordCloud(collocations= COLLOCATIONS,\n",
    "                        background_color=\"white\",\n",
    "                        collocation_threshold = COLLOCATION,\n",
    "                        max_words = MAX_WORDS,\n",
    "                        relative_scaling = 1).generate(texts[4])\n",
    "#plot\n",
    "plt.figure(figsize=(7,5), dpi=100)\n",
    "plt.imshow(wordcloud, interpolation='bilInear')\n",
    "plt.axis('off')\n",
    "\n",
    "plt.show()"
   ]
  },
  {
   "cell_type": "code",
   "execution_count": null,
   "metadata": {
    "colab": {
     "base_uri": "https://localhost:8080/"
    },
    "id": "P_5Hyu-ZPWq9",
    "outputId": "0585def4-6667-4f25-ffdd-214e8829e068"
   },
   "outputs": [],
   "source": [
    "# Process text\n",
    "frequencies = wordcloud.process_text(texts[4])\n",
    "\n",
    "print(frequencies)"
   ]
  },
  {
   "cell_type": "code",
   "execution_count": null,
   "metadata": {
    "colab": {
     "base_uri": "https://localhost:8080/",
     "height": 122
    },
    "id": "ZnJ2ywQbtlwB",
    "outputId": "44a1e4a4-f388-45a6-b962-aded4e94fda7"
   },
   "outputs": [],
   "source": [
    "texts[5]"
   ]
  },
  {
   "cell_type": "code",
   "execution_count": null,
   "metadata": {
    "colab": {
     "base_uri": "https://localhost:8080/",
     "height": 308
    },
    "id": "fn4EbIb3M6Bf",
    "outputId": "3ad39c40-5c56-40dc-fda7-22fc770697a5"
   },
   "outputs": [],
   "source": [
    "\n",
    "#Create the wordcloud object\n",
    "wordcloud = WordCloud(collocations= COLLOCATIONS,\n",
    "                        background_color=\"white\",\n",
    "                        collocation_threshold = COLLOCATION,\n",
    "                        max_words = MAX_WORDS,\n",
    "                        relative_scaling = 1).generate(texts[5])\n",
    "#plot\n",
    "plt.figure(figsize=(7,5), dpi=100)\n",
    "plt.imshow(wordcloud, interpolation='bilInear')\n",
    "plt.axis('off')\n",
    "\n",
    "plt.show()"
   ]
  },
  {
   "cell_type": "code",
   "execution_count": null,
   "metadata": {
    "colab": {
     "base_uri": "https://localhost:8080/"
    },
    "id": "C0-8WRrnPZYE",
    "outputId": "40fb505a-3464-4d3b-fb73-1055831b6e25"
   },
   "outputs": [],
   "source": [
    "# Process text\n",
    "frequencies = wordcloud.process_text(texts[5])\n",
    "\n",
    "print(frequencies)"
   ]
  },
  {
   "cell_type": "code",
   "execution_count": null,
   "metadata": {
    "colab": {
     "base_uri": "https://localhost:8080/",
     "height": 122
    },
    "id": "_MMAa9sJpNJ8",
    "outputId": "65a1c81b-b5ea-458a-99a7-e77af7b72f34"
   },
   "outputs": [],
   "source": [
    "texts[6]"
   ]
  },
  {
   "cell_type": "code",
   "execution_count": null,
   "metadata": {
    "colab": {
     "base_uri": "https://localhost:8080/",
     "height": 308
    },
    "id": "n2_RrAv8M-gQ",
    "outputId": "3be34c44-0ce6-4450-e993-ac3237123df0"
   },
   "outputs": [],
   "source": [
    "\n",
    "#Create the wordcloud object\n",
    "wordcloud = WordCloud(collocations= COLLOCATIONS,\n",
    "                        background_color=\"white\",\n",
    "                        collocation_threshold = COLLOCATION,\n",
    "                        max_words = MAX_WORDS,\n",
    "                        relative_scaling = 1).generate(texts[6])\n",
    "#plot\n",
    "plt.figure(figsize=(7,5), dpi=100)\n",
    "plt.imshow(wordcloud, interpolation='bilInear')\n",
    "plt.axis('off')\n",
    "\n",
    "plt.show()"
   ]
  },
  {
   "cell_type": "code",
   "execution_count": null,
   "metadata": {
    "colab": {
     "base_uri": "https://localhost:8080/"
    },
    "id": "7RkWhALyPczF",
    "outputId": "7cc290f9-94de-4090-d39b-3976a09ce616"
   },
   "outputs": [],
   "source": [
    " # Process text\n",
    "frequencies = wordcloud.process_text(texts[6])\n",
    "\n",
    "print(frequencies)"
   ]
  }
 ],
 "metadata": {
  "accelerator": "GPU",
  "colab": {
   "gpuType": "T4",
   "provenance": []
  },
  "kernelspec": {
   "display_name": "Python 3 (ipykernel)",
   "language": "python",
   "name": "python3"
  },
  "language_info": {
   "codemirror_mode": {
    "name": "ipython",
    "version": 3
   },
   "file_extension": ".py",
   "mimetype": "text/x-python",
   "name": "python",
   "nbconvert_exporter": "python",
   "pygments_lexer": "ipython3",
   "version": "3.10.12"
  }
 },
 "nbformat": 4,
 "nbformat_minor": 4
}
